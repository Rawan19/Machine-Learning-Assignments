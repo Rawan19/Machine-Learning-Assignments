{
  "nbformat": 4,
  "nbformat_minor": 0,
  "metadata": {
    "kernelspec": {
      "name": "python3",
      "display_name": "Python 3",
      "language": "python"
    },
    "colab": {
      "name": "Assignment2_rawan.ipynb",
      "provenance": []
    }
  },
  "cells": [
    {
      "cell_type": "markdown",
      "metadata": {
        "id": "1oqKTF85vKza"
      },
      "source": [
        "# Summary"
      ]
    },
    {
      "cell_type": "markdown",
      "metadata": {
        "id": "-4te0y9VvKzk"
      },
      "source": [
        "Performed EDA, data preprocessing, feature transformation.\\\n",
        "Applied 6 models:\n",
        "* OLS\n",
        "- SGD regressor\n",
        "* Elastic Net\n",
        "* Ridge \n",
        "* Lasso\n",
        "* SVR\n"
      ]
    },
    {
      "cell_type": "markdown",
      "metadata": {
        "id": "koku_1PKvKzm"
      },
      "source": [
        "# 1. Import Packages, data, and view summary statistics."
      ]
    },
    {
      "cell_type": "code",
      "metadata": {
        "trusted": true,
        "id": "M1Iw3WuZvKzn",
        "outputId": "14138b67-f17d-4457-e296-538c2fae2609"
      },
      "source": [
        "# Import Packages. \n",
        "\n",
        "import numpy as np\n",
        "import pandas as pd\n",
        "import scipy as sp\n",
        "import os\n",
        "import seaborn as sns\n",
        "import matplotlib.pyplot as plt\n",
        "import statsmodels.api as sm\n",
        "import category_encoders as ce\n",
        "from sklearn import preprocessing\n",
        "from sklearn.model_selection import train_test_split, cross_val_score\n",
        "from sklearn.feature_selection import RFE\n",
        "from sklearn.linear_model import LogisticRegression\n",
        "from sklearn.linear_model import LinearRegression\n",
        "from sklearn.linear_model import ElasticNet\n",
        "from sklearn.linear_model import Ridge\n",
        "from sklearn import metrics\n",
        "from sklearn.feature_selection import RFE\n",
        "from sklearn.feature_selection import RFECV\n",
        "from sklearn.datasets import make_regression\n",
        "from sklearn.tree import DecisionTreeRegressor\n",
        "from sklearn.datasets import make_regression\n",
        "from sklearn.metrics import mean_absolute_error, mean_squared_error,r2_score\n",
        "from matplotlib import pyplot\n",
        "from xgboost import XGBRegressor\n",
        "from sklearn.model_selection import GridSearchCV\n",
        "from sklearn.ensemble import RandomForestRegressor\n",
        "\n",
        "\n",
        "for dirname, _, filenames in os.walk('/kaggle/input'):\n",
        "    for filename in filenames:\n",
        "        print(os.path.join(dirname, filename))\n"
      ],
      "execution_count": null,
      "outputs": [
        {
          "output_type": "stream",
          "text": [
            "/kaggle/input/house-prices-advanced-regression-techniques/sample_submission.csv\n",
            "/kaggle/input/house-prices-advanced-regression-techniques/data_description.txt\n",
            "/kaggle/input/house-prices-advanced-regression-techniques/train.csv\n",
            "/kaggle/input/house-prices-advanced-regression-techniques/test.csv\n"
          ],
          "name": "stdout"
        }
      ]
    },
    {
      "cell_type": "code",
      "metadata": {
        "trusted": true,
        "id": "xg4wdDKdvKzp"
      },
      "source": [
        "# Import test and training datasets.\n",
        "train = pd.read_csv(\"/kaggle/input/house-prices-advanced-regression-techniques/train.csv\", encoding='latin-1') #the given training dataset from Kaggle\n",
        "test = pd.read_csv(\"/kaggle/input/house-prices-advanced-regression-techniques/test.csv\", encoding='latin-1') #the true testing dataset using for submission score"
      ],
      "execution_count": null,
      "outputs": []
    },
    {
      "cell_type": "code",
      "metadata": {
        "trusted": true,
        "id": "4339OT9KvKzp",
        "outputId": "f92344c5-c511-4a07-97f6-46ba109e30da"
      },
      "source": [
        "# Use head to return first five rows and ensure that importing was done correctly. \n",
        "train.head()"
      ],
      "execution_count": null,
      "outputs": [
        {
          "output_type": "execute_result",
          "data": {
            "text/plain": [
              "   Id  MSSubClass MSZoning  LotFrontage  LotArea Street Alley LotShape  \\\n",
              "0   1          60       RL         65.0     8450   Pave   NaN      Reg   \n",
              "1   2          20       RL         80.0     9600   Pave   NaN      Reg   \n",
              "2   3          60       RL         68.0    11250   Pave   NaN      IR1   \n",
              "3   4          70       RL         60.0     9550   Pave   NaN      IR1   \n",
              "4   5          60       RL         84.0    14260   Pave   NaN      IR1   \n",
              "\n",
              "  LandContour Utilities  ... PoolArea PoolQC Fence MiscFeature MiscVal MoSold  \\\n",
              "0         Lvl    AllPub  ...        0    NaN   NaN         NaN       0      2   \n",
              "1         Lvl    AllPub  ...        0    NaN   NaN         NaN       0      5   \n",
              "2         Lvl    AllPub  ...        0    NaN   NaN         NaN       0      9   \n",
              "3         Lvl    AllPub  ...        0    NaN   NaN         NaN       0      2   \n",
              "4         Lvl    AllPub  ...        0    NaN   NaN         NaN       0     12   \n",
              "\n",
              "  YrSold  SaleType  SaleCondition  SalePrice  \n",
              "0   2008        WD         Normal     208500  \n",
              "1   2007        WD         Normal     181500  \n",
              "2   2008        WD         Normal     223500  \n",
              "3   2006        WD        Abnorml     140000  \n",
              "4   2008        WD         Normal     250000  \n",
              "\n",
              "[5 rows x 81 columns]"
            ],
            "text/html": [
              "<div>\n",
              "<style scoped>\n",
              "    .dataframe tbody tr th:only-of-type {\n",
              "        vertical-align: middle;\n",
              "    }\n",
              "\n",
              "    .dataframe tbody tr th {\n",
              "        vertical-align: top;\n",
              "    }\n",
              "\n",
              "    .dataframe thead th {\n",
              "        text-align: right;\n",
              "    }\n",
              "</style>\n",
              "<table border=\"1\" class=\"dataframe\">\n",
              "  <thead>\n",
              "    <tr style=\"text-align: right;\">\n",
              "      <th></th>\n",
              "      <th>Id</th>\n",
              "      <th>MSSubClass</th>\n",
              "      <th>MSZoning</th>\n",
              "      <th>LotFrontage</th>\n",
              "      <th>LotArea</th>\n",
              "      <th>Street</th>\n",
              "      <th>Alley</th>\n",
              "      <th>LotShape</th>\n",
              "      <th>LandContour</th>\n",
              "      <th>Utilities</th>\n",
              "      <th>...</th>\n",
              "      <th>PoolArea</th>\n",
              "      <th>PoolQC</th>\n",
              "      <th>Fence</th>\n",
              "      <th>MiscFeature</th>\n",
              "      <th>MiscVal</th>\n",
              "      <th>MoSold</th>\n",
              "      <th>YrSold</th>\n",
              "      <th>SaleType</th>\n",
              "      <th>SaleCondition</th>\n",
              "      <th>SalePrice</th>\n",
              "    </tr>\n",
              "  </thead>\n",
              "  <tbody>\n",
              "    <tr>\n",
              "      <th>0</th>\n",
              "      <td>1</td>\n",
              "      <td>60</td>\n",
              "      <td>RL</td>\n",
              "      <td>65.0</td>\n",
              "      <td>8450</td>\n",
              "      <td>Pave</td>\n",
              "      <td>NaN</td>\n",
              "      <td>Reg</td>\n",
              "      <td>Lvl</td>\n",
              "      <td>AllPub</td>\n",
              "      <td>...</td>\n",
              "      <td>0</td>\n",
              "      <td>NaN</td>\n",
              "      <td>NaN</td>\n",
              "      <td>NaN</td>\n",
              "      <td>0</td>\n",
              "      <td>2</td>\n",
              "      <td>2008</td>\n",
              "      <td>WD</td>\n",
              "      <td>Normal</td>\n",
              "      <td>208500</td>\n",
              "    </tr>\n",
              "    <tr>\n",
              "      <th>1</th>\n",
              "      <td>2</td>\n",
              "      <td>20</td>\n",
              "      <td>RL</td>\n",
              "      <td>80.0</td>\n",
              "      <td>9600</td>\n",
              "      <td>Pave</td>\n",
              "      <td>NaN</td>\n",
              "      <td>Reg</td>\n",
              "      <td>Lvl</td>\n",
              "      <td>AllPub</td>\n",
              "      <td>...</td>\n",
              "      <td>0</td>\n",
              "      <td>NaN</td>\n",
              "      <td>NaN</td>\n",
              "      <td>NaN</td>\n",
              "      <td>0</td>\n",
              "      <td>5</td>\n",
              "      <td>2007</td>\n",
              "      <td>WD</td>\n",
              "      <td>Normal</td>\n",
              "      <td>181500</td>\n",
              "    </tr>\n",
              "    <tr>\n",
              "      <th>2</th>\n",
              "      <td>3</td>\n",
              "      <td>60</td>\n",
              "      <td>RL</td>\n",
              "      <td>68.0</td>\n",
              "      <td>11250</td>\n",
              "      <td>Pave</td>\n",
              "      <td>NaN</td>\n",
              "      <td>IR1</td>\n",
              "      <td>Lvl</td>\n",
              "      <td>AllPub</td>\n",
              "      <td>...</td>\n",
              "      <td>0</td>\n",
              "      <td>NaN</td>\n",
              "      <td>NaN</td>\n",
              "      <td>NaN</td>\n",
              "      <td>0</td>\n",
              "      <td>9</td>\n",
              "      <td>2008</td>\n",
              "      <td>WD</td>\n",
              "      <td>Normal</td>\n",
              "      <td>223500</td>\n",
              "    </tr>\n",
              "    <tr>\n",
              "      <th>3</th>\n",
              "      <td>4</td>\n",
              "      <td>70</td>\n",
              "      <td>RL</td>\n",
              "      <td>60.0</td>\n",
              "      <td>9550</td>\n",
              "      <td>Pave</td>\n",
              "      <td>NaN</td>\n",
              "      <td>IR1</td>\n",
              "      <td>Lvl</td>\n",
              "      <td>AllPub</td>\n",
              "      <td>...</td>\n",
              "      <td>0</td>\n",
              "      <td>NaN</td>\n",
              "      <td>NaN</td>\n",
              "      <td>NaN</td>\n",
              "      <td>0</td>\n",
              "      <td>2</td>\n",
              "      <td>2006</td>\n",
              "      <td>WD</td>\n",
              "      <td>Abnorml</td>\n",
              "      <td>140000</td>\n",
              "    </tr>\n",
              "    <tr>\n",
              "      <th>4</th>\n",
              "      <td>5</td>\n",
              "      <td>60</td>\n",
              "      <td>RL</td>\n",
              "      <td>84.0</td>\n",
              "      <td>14260</td>\n",
              "      <td>Pave</td>\n",
              "      <td>NaN</td>\n",
              "      <td>IR1</td>\n",
              "      <td>Lvl</td>\n",
              "      <td>AllPub</td>\n",
              "      <td>...</td>\n",
              "      <td>0</td>\n",
              "      <td>NaN</td>\n",
              "      <td>NaN</td>\n",
              "      <td>NaN</td>\n",
              "      <td>0</td>\n",
              "      <td>12</td>\n",
              "      <td>2008</td>\n",
              "      <td>WD</td>\n",
              "      <td>Normal</td>\n",
              "      <td>250000</td>\n",
              "    </tr>\n",
              "  </tbody>\n",
              "</table>\n",
              "<p>5 rows × 81 columns</p>\n",
              "</div>"
            ]
          },
          "metadata": {
            "tags": []
          },
          "execution_count": 319
        }
      ]
    },
    {
      "cell_type": "code",
      "metadata": {
        "trusted": true,
        "id": "GC4rc34OvKzt",
        "outputId": "9459bea6-ee36-46d1-d86c-150c2904cbbe"
      },
      "source": [
        "# Use head to return first five rows and ensure that importing was done correctly. \n",
        "test.head() #Note that the test dataset is used for submission score. The column SalePrice is excluded. "
      ],
      "execution_count": null,
      "outputs": [
        {
          "output_type": "execute_result",
          "data": {
            "text/plain": [
              "     Id  MSSubClass MSZoning  LotFrontage  LotArea Street Alley LotShape  \\\n",
              "0  1461          20       RH         80.0    11622   Pave   NaN      Reg   \n",
              "1  1462          20       RL         81.0    14267   Pave   NaN      IR1   \n",
              "2  1463          60       RL         74.0    13830   Pave   NaN      IR1   \n",
              "3  1464          60       RL         78.0     9978   Pave   NaN      IR1   \n",
              "4  1465         120       RL         43.0     5005   Pave   NaN      IR1   \n",
              "\n",
              "  LandContour Utilities  ... ScreenPorch PoolArea PoolQC  Fence MiscFeature  \\\n",
              "0         Lvl    AllPub  ...         120        0    NaN  MnPrv         NaN   \n",
              "1         Lvl    AllPub  ...           0        0    NaN    NaN        Gar2   \n",
              "2         Lvl    AllPub  ...           0        0    NaN  MnPrv         NaN   \n",
              "3         Lvl    AllPub  ...           0        0    NaN    NaN         NaN   \n",
              "4         HLS    AllPub  ...         144        0    NaN    NaN         NaN   \n",
              "\n",
              "  MiscVal MoSold  YrSold  SaleType  SaleCondition  \n",
              "0       0      6    2010        WD         Normal  \n",
              "1   12500      6    2010        WD         Normal  \n",
              "2       0      3    2010        WD         Normal  \n",
              "3       0      6    2010        WD         Normal  \n",
              "4       0      1    2010        WD         Normal  \n",
              "\n",
              "[5 rows x 80 columns]"
            ],
            "text/html": [
              "<div>\n",
              "<style scoped>\n",
              "    .dataframe tbody tr th:only-of-type {\n",
              "        vertical-align: middle;\n",
              "    }\n",
              "\n",
              "    .dataframe tbody tr th {\n",
              "        vertical-align: top;\n",
              "    }\n",
              "\n",
              "    .dataframe thead th {\n",
              "        text-align: right;\n",
              "    }\n",
              "</style>\n",
              "<table border=\"1\" class=\"dataframe\">\n",
              "  <thead>\n",
              "    <tr style=\"text-align: right;\">\n",
              "      <th></th>\n",
              "      <th>Id</th>\n",
              "      <th>MSSubClass</th>\n",
              "      <th>MSZoning</th>\n",
              "      <th>LotFrontage</th>\n",
              "      <th>LotArea</th>\n",
              "      <th>Street</th>\n",
              "      <th>Alley</th>\n",
              "      <th>LotShape</th>\n",
              "      <th>LandContour</th>\n",
              "      <th>Utilities</th>\n",
              "      <th>...</th>\n",
              "      <th>ScreenPorch</th>\n",
              "      <th>PoolArea</th>\n",
              "      <th>PoolQC</th>\n",
              "      <th>Fence</th>\n",
              "      <th>MiscFeature</th>\n",
              "      <th>MiscVal</th>\n",
              "      <th>MoSold</th>\n",
              "      <th>YrSold</th>\n",
              "      <th>SaleType</th>\n",
              "      <th>SaleCondition</th>\n",
              "    </tr>\n",
              "  </thead>\n",
              "  <tbody>\n",
              "    <tr>\n",
              "      <th>0</th>\n",
              "      <td>1461</td>\n",
              "      <td>20</td>\n",
              "      <td>RH</td>\n",
              "      <td>80.0</td>\n",
              "      <td>11622</td>\n",
              "      <td>Pave</td>\n",
              "      <td>NaN</td>\n",
              "      <td>Reg</td>\n",
              "      <td>Lvl</td>\n",
              "      <td>AllPub</td>\n",
              "      <td>...</td>\n",
              "      <td>120</td>\n",
              "      <td>0</td>\n",
              "      <td>NaN</td>\n",
              "      <td>MnPrv</td>\n",
              "      <td>NaN</td>\n",
              "      <td>0</td>\n",
              "      <td>6</td>\n",
              "      <td>2010</td>\n",
              "      <td>WD</td>\n",
              "      <td>Normal</td>\n",
              "    </tr>\n",
              "    <tr>\n",
              "      <th>1</th>\n",
              "      <td>1462</td>\n",
              "      <td>20</td>\n",
              "      <td>RL</td>\n",
              "      <td>81.0</td>\n",
              "      <td>14267</td>\n",
              "      <td>Pave</td>\n",
              "      <td>NaN</td>\n",
              "      <td>IR1</td>\n",
              "      <td>Lvl</td>\n",
              "      <td>AllPub</td>\n",
              "      <td>...</td>\n",
              "      <td>0</td>\n",
              "      <td>0</td>\n",
              "      <td>NaN</td>\n",
              "      <td>NaN</td>\n",
              "      <td>Gar2</td>\n",
              "      <td>12500</td>\n",
              "      <td>6</td>\n",
              "      <td>2010</td>\n",
              "      <td>WD</td>\n",
              "      <td>Normal</td>\n",
              "    </tr>\n",
              "    <tr>\n",
              "      <th>2</th>\n",
              "      <td>1463</td>\n",
              "      <td>60</td>\n",
              "      <td>RL</td>\n",
              "      <td>74.0</td>\n",
              "      <td>13830</td>\n",
              "      <td>Pave</td>\n",
              "      <td>NaN</td>\n",
              "      <td>IR1</td>\n",
              "      <td>Lvl</td>\n",
              "      <td>AllPub</td>\n",
              "      <td>...</td>\n",
              "      <td>0</td>\n",
              "      <td>0</td>\n",
              "      <td>NaN</td>\n",
              "      <td>MnPrv</td>\n",
              "      <td>NaN</td>\n",
              "      <td>0</td>\n",
              "      <td>3</td>\n",
              "      <td>2010</td>\n",
              "      <td>WD</td>\n",
              "      <td>Normal</td>\n",
              "    </tr>\n",
              "    <tr>\n",
              "      <th>3</th>\n",
              "      <td>1464</td>\n",
              "      <td>60</td>\n",
              "      <td>RL</td>\n",
              "      <td>78.0</td>\n",
              "      <td>9978</td>\n",
              "      <td>Pave</td>\n",
              "      <td>NaN</td>\n",
              "      <td>IR1</td>\n",
              "      <td>Lvl</td>\n",
              "      <td>AllPub</td>\n",
              "      <td>...</td>\n",
              "      <td>0</td>\n",
              "      <td>0</td>\n",
              "      <td>NaN</td>\n",
              "      <td>NaN</td>\n",
              "      <td>NaN</td>\n",
              "      <td>0</td>\n",
              "      <td>6</td>\n",
              "      <td>2010</td>\n",
              "      <td>WD</td>\n",
              "      <td>Normal</td>\n",
              "    </tr>\n",
              "    <tr>\n",
              "      <th>4</th>\n",
              "      <td>1465</td>\n",
              "      <td>120</td>\n",
              "      <td>RL</td>\n",
              "      <td>43.0</td>\n",
              "      <td>5005</td>\n",
              "      <td>Pave</td>\n",
              "      <td>NaN</td>\n",
              "      <td>IR1</td>\n",
              "      <td>HLS</td>\n",
              "      <td>AllPub</td>\n",
              "      <td>...</td>\n",
              "      <td>144</td>\n",
              "      <td>0</td>\n",
              "      <td>NaN</td>\n",
              "      <td>NaN</td>\n",
              "      <td>NaN</td>\n",
              "      <td>0</td>\n",
              "      <td>1</td>\n",
              "      <td>2010</td>\n",
              "      <td>WD</td>\n",
              "      <td>Normal</td>\n",
              "    </tr>\n",
              "  </tbody>\n",
              "</table>\n",
              "<p>5 rows × 80 columns</p>\n",
              "</div>"
            ]
          },
          "metadata": {
            "tags": []
          },
          "execution_count": 320
        }
      ]
    },
    {
      "cell_type": "code",
      "metadata": {
        "trusted": true,
        "id": "32t0VTd6vKzt",
        "outputId": "861ee0c9-582b-484a-a613-73580755727e"
      },
      "source": [
        "# Get info on our training dataset.\n",
        "train.info()"
      ],
      "execution_count": null,
      "outputs": [
        {
          "output_type": "stream",
          "text": [
            "<class 'pandas.core.frame.DataFrame'>\n",
            "RangeIndex: 1460 entries, 0 to 1459\n",
            "Data columns (total 81 columns):\n",
            " #   Column         Non-Null Count  Dtype  \n",
            "---  ------         --------------  -----  \n",
            " 0   Id             1460 non-null   int64  \n",
            " 1   MSSubClass     1460 non-null   int64  \n",
            " 2   MSZoning       1460 non-null   object \n",
            " 3   LotFrontage    1201 non-null   float64\n",
            " 4   LotArea        1460 non-null   int64  \n",
            " 5   Street         1460 non-null   object \n",
            " 6   Alley          91 non-null     object \n",
            " 7   LotShape       1460 non-null   object \n",
            " 8   LandContour    1460 non-null   object \n",
            " 9   Utilities      1460 non-null   object \n",
            " 10  LotConfig      1460 non-null   object \n",
            " 11  LandSlope      1460 non-null   object \n",
            " 12  Neighborhood   1460 non-null   object \n",
            " 13  Condition1     1460 non-null   object \n",
            " 14  Condition2     1460 non-null   object \n",
            " 15  BldgType       1460 non-null   object \n",
            " 16  HouseStyle     1460 non-null   object \n",
            " 17  OverallQual    1460 non-null   int64  \n",
            " 18  OverallCond    1460 non-null   int64  \n",
            " 19  YearBuilt      1460 non-null   int64  \n",
            " 20  YearRemodAdd   1460 non-null   int64  \n",
            " 21  RoofStyle      1460 non-null   object \n",
            " 22  RoofMatl       1460 non-null   object \n",
            " 23  Exterior1st    1460 non-null   object \n",
            " 24  Exterior2nd    1460 non-null   object \n",
            " 25  MasVnrType     1452 non-null   object \n",
            " 26  MasVnrArea     1452 non-null   float64\n",
            " 27  ExterQual      1460 non-null   object \n",
            " 28  ExterCond      1460 non-null   object \n",
            " 29  Foundation     1460 non-null   object \n",
            " 30  BsmtQual       1423 non-null   object \n",
            " 31  BsmtCond       1423 non-null   object \n",
            " 32  BsmtExposure   1422 non-null   object \n",
            " 33  BsmtFinType1   1423 non-null   object \n",
            " 34  BsmtFinSF1     1460 non-null   int64  \n",
            " 35  BsmtFinType2   1422 non-null   object \n",
            " 36  BsmtFinSF2     1460 non-null   int64  \n",
            " 37  BsmtUnfSF      1460 non-null   int64  \n",
            " 38  TotalBsmtSF    1460 non-null   int64  \n",
            " 39  Heating        1460 non-null   object \n",
            " 40  HeatingQC      1460 non-null   object \n",
            " 41  CentralAir     1460 non-null   object \n",
            " 42  Electrical     1459 non-null   object \n",
            " 43  1stFlrSF       1460 non-null   int64  \n",
            " 44  2ndFlrSF       1460 non-null   int64  \n",
            " 45  LowQualFinSF   1460 non-null   int64  \n",
            " 46  GrLivArea      1460 non-null   int64  \n",
            " 47  BsmtFullBath   1460 non-null   int64  \n",
            " 48  BsmtHalfBath   1460 non-null   int64  \n",
            " 49  FullBath       1460 non-null   int64  \n",
            " 50  HalfBath       1460 non-null   int64  \n",
            " 51  BedroomAbvGr   1460 non-null   int64  \n",
            " 52  KitchenAbvGr   1460 non-null   int64  \n",
            " 53  KitchenQual    1460 non-null   object \n",
            " 54  TotRmsAbvGrd   1460 non-null   int64  \n",
            " 55  Functional     1460 non-null   object \n",
            " 56  Fireplaces     1460 non-null   int64  \n",
            " 57  FireplaceQu    770 non-null    object \n",
            " 58  GarageType     1379 non-null   object \n",
            " 59  GarageYrBlt    1379 non-null   float64\n",
            " 60  GarageFinish   1379 non-null   object \n",
            " 61  GarageCars     1460 non-null   int64  \n",
            " 62  GarageArea     1460 non-null   int64  \n",
            " 63  GarageQual     1379 non-null   object \n",
            " 64  GarageCond     1379 non-null   object \n",
            " 65  PavedDrive     1460 non-null   object \n",
            " 66  WoodDeckSF     1460 non-null   int64  \n",
            " 67  OpenPorchSF    1460 non-null   int64  \n",
            " 68  EnclosedPorch  1460 non-null   int64  \n",
            " 69  3SsnPorch      1460 non-null   int64  \n",
            " 70  ScreenPorch    1460 non-null   int64  \n",
            " 71  PoolArea       1460 non-null   int64  \n",
            " 72  PoolQC         7 non-null      object \n",
            " 73  Fence          281 non-null    object \n",
            " 74  MiscFeature    54 non-null     object \n",
            " 75  MiscVal        1460 non-null   int64  \n",
            " 76  MoSold         1460 non-null   int64  \n",
            " 77  YrSold         1460 non-null   int64  \n",
            " 78  SaleType       1460 non-null   object \n",
            " 79  SaleCondition  1460 non-null   object \n",
            " 80  SalePrice      1460 non-null   int64  \n",
            "dtypes: float64(3), int64(35), object(43)\n",
            "memory usage: 924.0+ KB\n"
          ],
          "name": "stdout"
        }
      ]
    },
    {
      "cell_type": "code",
      "metadata": {
        "trusted": true,
        "id": "wCwcq0XivKzu",
        "outputId": "e9509337-df82-4bc3-ef67-44fe61fce5f2"
      },
      "source": [
        "train.shape #1460 rows, 81 columns"
      ],
      "execution_count": null,
      "outputs": [
        {
          "output_type": "execute_result",
          "data": {
            "text/plain": [
              "(1460, 81)"
            ]
          },
          "metadata": {
            "tags": []
          },
          "execution_count": 322
        }
      ]
    },
    {
      "cell_type": "markdown",
      "metadata": {
        "id": "fwxchCWjvKzv"
      },
      "source": [
        "# 2. Data exploration and EDA"
      ]
    },
    {
      "cell_type": "markdown",
      "metadata": {
        "id": "4wj6of99vKzv"
      },
      "source": [
        "# Check forduplicates"
      ]
    },
    {
      "cell_type": "code",
      "metadata": {
        "trusted": true,
        "id": "dZtkOrgfvKzx",
        "outputId": "1798eafe-b348-4d24-fe04-5d2f9aae4db7"
      },
      "source": [
        "train[train.duplicated()]"
      ],
      "execution_count": null,
      "outputs": [
        {
          "output_type": "execute_result",
          "data": {
            "text/plain": [
              "Empty DataFrame\n",
              "Columns: [Id, MSSubClass, MSZoning, LotFrontage, LotArea, Street, Alley, LotShape, LandContour, Utilities, LotConfig, LandSlope, Neighborhood, Condition1, Condition2, BldgType, HouseStyle, OverallQual, OverallCond, YearBuilt, YearRemodAdd, RoofStyle, RoofMatl, Exterior1st, Exterior2nd, MasVnrType, MasVnrArea, ExterQual, ExterCond, Foundation, BsmtQual, BsmtCond, BsmtExposure, BsmtFinType1, BsmtFinSF1, BsmtFinType2, BsmtFinSF2, BsmtUnfSF, TotalBsmtSF, Heating, HeatingQC, CentralAir, Electrical, 1stFlrSF, 2ndFlrSF, LowQualFinSF, GrLivArea, BsmtFullBath, BsmtHalfBath, FullBath, HalfBath, BedroomAbvGr, KitchenAbvGr, KitchenQual, TotRmsAbvGrd, Functional, Fireplaces, FireplaceQu, GarageType, GarageYrBlt, GarageFinish, GarageCars, GarageArea, GarageQual, GarageCond, PavedDrive, WoodDeckSF, OpenPorchSF, EnclosedPorch, 3SsnPorch, ScreenPorch, PoolArea, PoolQC, Fence, MiscFeature, MiscVal, MoSold, YrSold, SaleType, SaleCondition, SalePrice]\n",
              "Index: []\n",
              "\n",
              "[0 rows x 81 columns]"
            ],
            "text/html": [
              "<div>\n",
              "<style scoped>\n",
              "    .dataframe tbody tr th:only-of-type {\n",
              "        vertical-align: middle;\n",
              "    }\n",
              "\n",
              "    .dataframe tbody tr th {\n",
              "        vertical-align: top;\n",
              "    }\n",
              "\n",
              "    .dataframe thead th {\n",
              "        text-align: right;\n",
              "    }\n",
              "</style>\n",
              "<table border=\"1\" class=\"dataframe\">\n",
              "  <thead>\n",
              "    <tr style=\"text-align: right;\">\n",
              "      <th></th>\n",
              "      <th>Id</th>\n",
              "      <th>MSSubClass</th>\n",
              "      <th>MSZoning</th>\n",
              "      <th>LotFrontage</th>\n",
              "      <th>LotArea</th>\n",
              "      <th>Street</th>\n",
              "      <th>Alley</th>\n",
              "      <th>LotShape</th>\n",
              "      <th>LandContour</th>\n",
              "      <th>Utilities</th>\n",
              "      <th>...</th>\n",
              "      <th>PoolArea</th>\n",
              "      <th>PoolQC</th>\n",
              "      <th>Fence</th>\n",
              "      <th>MiscFeature</th>\n",
              "      <th>MiscVal</th>\n",
              "      <th>MoSold</th>\n",
              "      <th>YrSold</th>\n",
              "      <th>SaleType</th>\n",
              "      <th>SaleCondition</th>\n",
              "      <th>SalePrice</th>\n",
              "    </tr>\n",
              "  </thead>\n",
              "  <tbody>\n",
              "  </tbody>\n",
              "</table>\n",
              "<p>0 rows × 81 columns</p>\n",
              "</div>"
            ]
          },
          "metadata": {
            "tags": []
          },
          "execution_count": 323
        }
      ]
    },
    {
      "cell_type": "markdown",
      "metadata": {
        "id": "JWO42J0EvKzx"
      },
      "source": [
        "No duplicates!"
      ]
    },
    {
      "cell_type": "markdown",
      "metadata": {
        "id": "__kfPxkgvKzy"
      },
      "source": [
        "## Visualizign distributions"
      ]
    },
    {
      "cell_type": "markdown",
      "metadata": {
        "id": "nrGl_jjkvKzy"
      },
      "source": [
        "look for outliers"
      ]
    },
    {
      "cell_type": "code",
      "metadata": {
        "trusted": true,
        "id": "lTtHxvpHvKzy"
      },
      "source": [
        "#%matplotlib inline#\n",
        "#import   matplotlib.pyplot as plt\n",
        "#train.select_dtypes(include = [\"int64\", \"float64\"]).hist(bins  = 50,figsize   = (40,35))\n",
        "#plt.show()"
      ],
      "execution_count": null,
      "outputs": []
    },
    {
      "cell_type": "markdown",
      "metadata": {
        "id": "Smd08xo8vKzy"
      },
      "source": [
        "It can be seen that some variables are skewed. However, *Skewness in explanatory  variables is irrelevant in linear regression, what we  should  be   looking at  is the skewness in: 1.The output  variable. 2. The  relationship between x and y."
      ]
    },
    {
      "cell_type": "markdown",
      "metadata": {
        "id": "9OmMRwE8vKzy"
      },
      "source": [
        "As it's observed, some features contain outliers, this is wht I'll use Standard scaler , later on, instead of MinMax scaler"
      ]
    },
    {
      "cell_type": "markdown",
      "metadata": {
        "id": "gRzCPmZdvKzy"
      },
      "source": [
        "1.  Categorical, not ordinal: MSZoning, Street, Alley(HAS NA), LotShape, LandContour, Utilities, LotConfig, Neighborhood, Condition1, Condition2, BldgType, HouseStyle, RoofStyle, RoofMatl, Exterior1st,Exterior2nd, MasVnrType(has  None), Foundation, Heating, CentralAir, Electrical, Functional, GarageType, GarageFinish, PavedDrive, MiscFeature, SaleType, SaleCondition\n",
        "\n",
        "2.  Categorical, ordinal: LandSlope, ExterQual, ExterCond, BsmtQual, BsmtCond,BsmtExposure, BsmtFinType1, BsmtFinType2, KitchenQual, HeatingQC,FireplaceQu, GarageQual, GarageCond, PoolQC, Fence(NA), \n",
        "\n",
        "3. numerical, ordinal: OverallQual, OverallCond: 1-10, Mssubclass\n",
        "                    \n",
        "     YearBuilt(label then OHE), YearRemodAdd, GarageYrBlt\n"
      ]
    },
    {
      "cell_type": "markdown",
      "metadata": {
        "id": "xsoHN4IyvKzz"
      },
      "source": [
        "# Visualize the output variable"
      ]
    },
    {
      "cell_type": "code",
      "metadata": {
        "trusted": true,
        "id": "aZ8oEt3NvKzz",
        "outputId": "7e2f10ed-aa03-43b5-b128-318ca2ddfd79"
      },
      "source": [
        "import matplotlib.pyplot as plt\n",
        "n, bins, batches  = plt.hist(x= train[\"SalePrice\"], bins=\"auto\", color = '#0504aa')\n",
        "plt.grid(axis =\"y\")\n",
        "plt.xlabel(\"Sale Price\")\n",
        "plt.ylabel(\"count\")\n",
        "plt.title(\"Sale Price distribution\")"
      ],
      "execution_count": null,
      "outputs": [
        {
          "output_type": "execute_result",
          "data": {
            "text/plain": [
              "Text(0.5, 1.0, 'Sale Price distribution')"
            ]
          },
          "metadata": {
            "tags": []
          },
          "execution_count": 325
        },
        {
          "output_type": "display_data",
          "data": {
            "text/plain": [
              "<Figure size 432x288 with 1 Axes>"
            ],
            "image/png": "[encoded data removed]"
          },
          "metadata": {
            "tags": [],
            "needs_background": "light"
          }
        }
      ]
    },
    {
      "cell_type": "markdown",
      "metadata": {
        "id": "gk5mbFtwvKz0"
      },
      "source": [
        "SalePrice is right skewed, therefore, we need to take the log of the sales. A log transformation would reduce the effect of the outliers and result in a (almost) normaly distributed sales"
      ]
    },
    {
      "cell_type": "code",
      "metadata": {
        "trusted": true,
        "id": "9ElZtna5vKz0",
        "outputId": "1f7db098-2919-4f9b-9327-1896792fa280"
      },
      "source": [
        "import matplotlib.pyplot as plt\n",
        "n, bins, batches  = plt.hist(x= np.log(train[\"SalePrice\"]), bins=\"auto\", color = '#0504aa')\n",
        "plt.grid(axis =\"y\")\n",
        "plt.xlabel(\"Sale Price\")\n",
        "plt.ylabel(\"count\")\n",
        "plt.title(\"Sale Price distribution\")\n"
      ],
      "execution_count": null,
      "outputs": [
        {
          "output_type": "execute_result",
          "data": {
            "text/plain": [
              "Text(0.5, 1.0, 'Sale Price distribution')"
            ]
          },
          "metadata": {
            "tags": []
          },
          "execution_count": 326
        },
        {
          "output_type": "display_data",
          "data": {
            "text/plain": [
              "<Figure size 432x288 with 1 Axes>"
            ],
            "image/png": "[encoded data removed]"
          },
          "metadata": {
            "tags": [],
            "needs_background": "light"
          }
        }
      ]
    },
    {
      "cell_type": "code",
      "metadata": {
        "trusted": true,
        "id": "-jyGXT8CvKz0"
      },
      "source": [
        "# y_train = np.log1p(train[\"SalePrice\"] )\n"
      ],
      "execution_count": null,
      "outputs": []
    },
    {
      "cell_type": "markdown",
      "metadata": {
        "id": "jsshvF09vKz1"
      },
      "source": [
        "### Check for null values"
      ]
    },
    {
      "cell_type": "code",
      "metadata": {
        "trusted": true,
        "id": "Y6pPVujCvKz1"
      },
      "source": [
        "df_train_num = train.select_dtypes(include = [\"int64\", \"float64\"])\n",
        "df_train_cat = train.select_dtypes(include = \"object\")\n",
        "df_test_num = test.select_dtypes(include = [\"int64\", \"float64\"])\n",
        "df_test_cat = test.select_dtypes(include = \"object\")\n"
      ],
      "execution_count": null,
      "outputs": []
    },
    {
      "cell_type": "code",
      "metadata": {
        "trusted": true,
        "id": "F6skWAIxvKz2",
        "outputId": "fc3f2216-5e91-4b5f-85b7-9db2a1c17cde"
      },
      "source": [
        "df_train_cat.isnull().sum() /  1460  \n"
      ],
      "execution_count": null,
      "outputs": [
        {
          "output_type": "execute_result",
          "data": {
            "text/plain": [
              "MSZoning         0.000000\n",
              "Street           0.000000\n",
              "Alley            0.937671\n",
              "LotShape         0.000000\n",
              "LandContour      0.000000\n",
              "Utilities        0.000000\n",
              "LotConfig        0.000000\n",
              "LandSlope        0.000000\n",
              "Neighborhood     0.000000\n",
              "Condition1       0.000000\n",
              "Condition2       0.000000\n",
              "BldgType         0.000000\n",
              "HouseStyle       0.000000\n",
              "RoofStyle        0.000000\n",
              "RoofMatl         0.000000\n",
              "Exterior1st      0.000000\n",
              "Exterior2nd      0.000000\n",
              "MasVnrType       0.005479\n",
              "ExterQual        0.000000\n",
              "ExterCond        0.000000\n",
              "Foundation       0.000000\n",
              "BsmtQual         0.025342\n",
              "BsmtCond         0.025342\n",
              "BsmtExposure     0.026027\n",
              "BsmtFinType1     0.025342\n",
              "BsmtFinType2     0.026027\n",
              "Heating          0.000000\n",
              "HeatingQC        0.000000\n",
              "CentralAir       0.000000\n",
              "Electrical       0.000685\n",
              "KitchenQual      0.000000\n",
              "Functional       0.000000\n",
              "FireplaceQu      0.472603\n",
              "GarageType       0.055479\n",
              "GarageFinish     0.055479\n",
              "GarageQual       0.055479\n",
              "GarageCond       0.055479\n",
              "PavedDrive       0.000000\n",
              "PoolQC           0.995205\n",
              "Fence            0.807534\n",
              "MiscFeature      0.963014\n",
              "SaleType         0.000000\n",
              "SaleCondition    0.000000\n",
              "dtype: float64"
            ]
          },
          "metadata": {
            "tags": []
          },
          "execution_count": 329
        }
      ]
    },
    {
      "cell_type": "code",
      "metadata": {
        "trusted": true,
        "id": "-a93fDtPvKz2",
        "outputId": "2aee3249-b9f5-46e5-da2a-5d083bcd0b24"
      },
      "source": [
        "df_train_num.isnull().sum() /  1460  "
      ],
      "execution_count": null,
      "outputs": [
        {
          "output_type": "execute_result",
          "data": {
            "text/plain": [
              "Id               0.000000\n",
              "MSSubClass       0.000000\n",
              "LotFrontage      0.177397\n",
              "LotArea          0.000000\n",
              "OverallQual      0.000000\n",
              "OverallCond      0.000000\n",
              "YearBuilt        0.000000\n",
              "YearRemodAdd     0.000000\n",
              "MasVnrArea       0.005479\n",
              "BsmtFinSF1       0.000000\n",
              "BsmtFinSF2       0.000000\n",
              "BsmtUnfSF        0.000000\n",
              "TotalBsmtSF      0.000000\n",
              "1stFlrSF         0.000000\n",
              "2ndFlrSF         0.000000\n",
              "LowQualFinSF     0.000000\n",
              "GrLivArea        0.000000\n",
              "BsmtFullBath     0.000000\n",
              "BsmtHalfBath     0.000000\n",
              "FullBath         0.000000\n",
              "HalfBath         0.000000\n",
              "BedroomAbvGr     0.000000\n",
              "KitchenAbvGr     0.000000\n",
              "TotRmsAbvGrd     0.000000\n",
              "Fireplaces       0.000000\n",
              "GarageYrBlt      0.055479\n",
              "GarageCars       0.000000\n",
              "GarageArea       0.000000\n",
              "WoodDeckSF       0.000000\n",
              "OpenPorchSF      0.000000\n",
              "EnclosedPorch    0.000000\n",
              "3SsnPorch        0.000000\n",
              "ScreenPorch      0.000000\n",
              "PoolArea         0.000000\n",
              "MiscVal          0.000000\n",
              "MoSold           0.000000\n",
              "YrSold           0.000000\n",
              "SalePrice        0.000000\n",
              "dtype: float64"
            ]
          },
          "metadata": {
            "tags": []
          },
          "execution_count": 330
        }
      ]
    },
    {
      "cell_type": "code",
      "metadata": {
        "trusted": true,
        "id": "XkLm7ozYvKz2"
      },
      "source": [
        "merged_data = train.append(test)"
      ],
      "execution_count": null,
      "outputs": []
    },
    {
      "cell_type": "code",
      "metadata": {
        "trusted": true,
        "id": "mh45eNp9vKz2"
      },
      "source": [
        "merged_data = merged_data.drop(['Id'], axis=1)"
      ],
      "execution_count": null,
      "outputs": []
    },
    {
      "cell_type": "markdown",
      "metadata": {
        "id": "Aq30A07vvKz2"
      },
      "source": [
        "# Filling null values"
      ]
    },
    {
      "cell_type": "markdown",
      "metadata": {
        "id": "zViahfUrvKz3"
      },
      "source": [
        "### Categorical"
      ]
    },
    {
      "cell_type": "markdown",
      "metadata": {
        "id": "6ZlvHIlMvKz3"
      },
      "source": [
        "\n",
        "\n",
        "GarageType 0.055479\n",
        "\n",
        "GarageFinish 0.055479\n",
        "\n",
        "GarageQual 0.055479\n",
        "\n",
        "GarageCond 0.055479\n",
        "\n",
        "BsmtQual 0.025342\n",
        "\n",
        "BsmtCond 0.025342\n",
        "\n",
        "BsmtExposure 0.026027\n",
        "\n",
        "BsmtFinType1 0.025342\n",
        "\n",
        "BsmtFinType2 0.026027\n",
        "\n",
        "MasVnrType ,\n",
        "\n",
        "clearly, garage data isn't an error, the house simply doesn't have a garage. same applies to the Basement and the MasVnrType"
      ]
    },
    {
      "cell_type": "code",
      "metadata": {
        "trusted": true,
        "id": "m5aljjqgvKz3"
      },
      "source": [
        "none_col = ['BsmtQual','BsmtCond','BsmtExposure','BsmtFinType1','BsmtFinType2','GarageType','GarageFinish','GarageQual','FireplaceQu','GarageCond', 'MasVnrType']\n",
        "\n",
        "merged_data[none_col] = merged_data[none_col].fillna(\"None\")\n",
        "merged_data[none_col] = merged_data[none_col].fillna(\"None\")"
      ],
      "execution_count": null,
      "outputs": []
    },
    {
      "cell_type": "markdown",
      "metadata": {
        "id": "cJgzxb3lvKz3"
      },
      "source": [
        "we still have the Electrical column to fill. Intuitively, every house must have an electrical system. So we'll fill it with the mode"
      ]
    },
    {
      "cell_type": "code",
      "metadata": {
        "trusted": true,
        "id": "8NufP8bGvKz3"
      },
      "source": [
        "merged_data[\"Electrical\"].fillna(merged_data[\"Electrical\"].mode()[0], inplace= True)"
      ],
      "execution_count": null,
      "outputs": []
    },
    {
      "cell_type": "markdown",
      "metadata": {
        "id": "r69Kb1ZWvKz4"
      },
      "source": [
        "### numerical:\n",
        "\n",
        "MasVnrArea 0.005479 \n",
        "\n",
        "Lotfrontage .17\n",
        "\n",
        "Garageyrblt"
      ]
    },
    {
      "cell_type": "markdown",
      "metadata": {
        "id": "uEc-Zs8YvKz4"
      },
      "source": [
        "If GarageYrBlt was chronologically ordered in the data, we would fill it with the previous value, but since this isn't the case, I chose to fill it with the mode"
      ]
    },
    {
      "cell_type": "code",
      "metadata": {
        "trusted": true,
        "id": "TU9ISU56vKz4"
      },
      "source": [
        "\n",
        "merged_data[\"GarageYrBlt\"].fillna(merged_data[\"GarageYrBlt\"].mode()[0], inplace = True)\n"
      ],
      "execution_count": null,
      "outputs": []
    },
    {
      "cell_type": "code",
      "metadata": {
        "trusted": true,
        "id": "gSF0VomsvKz4"
      },
      "source": [
        "\n",
        "merged_data[\"MasVnrArea\"].fillna(merged_data[\"MasVnrArea\"].mode()[0], inplace = True)\n",
        "\n",
        "# filling with median because it has outliers"
      ],
      "execution_count": null,
      "outputs": []
    },
    {
      "cell_type": "markdown",
      "metadata": {
        "id": "CHCGYVtBvKz5"
      },
      "source": [
        "Note that each feature has 1460 entries. We observe that 'Alley', 'PoolQC', and 'MiscFeature' are missing >90% of cases in both datasets. We can proceed by dropping these columns.\n",
        "We can also drop the ID column, which doesn't provide any value other than identifying a unique row."
      ]
    },
    {
      "cell_type": "code",
      "metadata": {
        "trusted": true,
        "id": "KNkYGOVwvKz5"
      },
      "source": [
        "merged_data.drop(columns = [\"Alley\", \"FireplaceQu\", \"PoolQC\" , \"Fence\", \"MiscFeature\",\"LotFrontage\"], inplace = True)\n"
      ],
      "execution_count": null,
      "outputs": []
    },
    {
      "cell_type": "code",
      "metadata": {
        "trusted": true,
        "id": "IdRkMFAJvKz5"
      },
      "source": [
        "# train"
      ],
      "execution_count": null,
      "outputs": []
    },
    {
      "cell_type": "markdown",
      "metadata": {
        "id": "VWNPu2cFvKz5"
      },
      "source": [
        "Next, for ordinal columns and numeric columns, we repalce NA with 0."
      ]
    },
    {
      "cell_type": "markdown",
      "metadata": {
        "id": "n1bIVXKXvKz6"
      },
      "source": [
        "# Next, for ordinal columns that are not stored in a numeric format, such as ExterCond and BsmtQual, we use OrdinalEncoder to encode them instead of just dummies. "
      ]
    },
    {
      "cell_type": "code",
      "metadata": {
        "trusted": true,
        "id": "D4kIgiwMvKz6",
        "outputId": "509a8150-31d5-4921-f03d-c451886dd91f"
      },
      "source": [
        "from sklearn.preprocessing import OrdinalEncoder\n",
        "encoder = ce.OrdinalEncoder(cols =[\"LandSlope\"] )\n",
        "a = encoder.fit(train)\n",
        "a"
      ],
      "execution_count": null,
      "outputs": [
        {
          "output_type": "stream",
          "text": [
            "/opt/conda/lib/python3.7/site-packages/category_encoders/utils.py:21: FutureWarning: is_categorical is deprecated and will be removed in a future version.  Use is_categorical_dtype instead\n",
            "  elif pd.api.types.is_categorical(cols):\n"
          ],
          "name": "stderr"
        },
        {
          "output_type": "execute_result",
          "data": {
            "text/plain": [
              "OrdinalEncoder(cols=['LandSlope'],\n",
              "               mapping=[{'col': 'LandSlope', 'data_type': dtype('O'),\n",
              "                         'mapping': Gtl    1\n",
              "Mod    2\n",
              "Sev    3\n",
              "NaN   -2\n",
              "dtype: int64}])"
            ]
          },
          "metadata": {
            "tags": []
          },
          "execution_count": 339
        }
      ]
    },
    {
      "cell_type": "code",
      "metadata": {
        "trusted": true,
        "id": "P00-BRZevKz6"
      },
      "source": [
        "ordinal_cols = [\"LandSlope\", \"ExterQual\", \"ExterCond\", \"BsmtQual\", \"BsmtCond\", \"BsmtExposure\", \"BsmtFinType1\", \"BsmtFinType2\", \"KitchenQual\", \"HeatingQC\", \"GarageQual\", \"GarageCond\"]\n",
        "\n",
        "\n",
        "encoder = ce.OrdinalEncoder(cols=ordinal_cols)\n",
        "merged_data = encoder.fit_transform(merged_data)"
      ],
      "execution_count": null,
      "outputs": []
    },
    {
      "cell_type": "code",
      "metadata": {
        "trusted": true,
        "id": "zlaaIBQBvKz6",
        "outputId": "e3c66afa-ac4b-4eb5-e536-b5c4dc02e099"
      },
      "source": [
        "train[\"LandSlope\"].isnull().sum()"
      ],
      "execution_count": null,
      "outputs": [
        {
          "output_type": "execute_result",
          "data": {
            "text/plain": [
              "0"
            ]
          },
          "metadata": {
            "tags": []
          },
          "execution_count": 341
        }
      ]
    },
    {
      "cell_type": "markdown",
      "metadata": {
        "id": "Z_WCtghIvKz7"
      },
      "source": [
        "# Future work: encoding the data by providng a dictionary.\n",
        "Ordinal encoding uses a single column of integers to represent the classes. An optional mapping dict can be passed in; in this case, we use the knowledge that there is some true order to the classes themselves. Otherwise, the classes are assumed to have no true order and integers are selected at random.\n"
      ]
    },
    {
      "cell_type": "code",
      "metadata": {
        "trusted": true,
        "id": "VfJjn1J1vKz7",
        "colab": {
          "base_uri": "https://localhost:8080/",
          "height": 270
        },
        "outputId": "0430fab3-e79b-49d9-f948-18bdcc186d85"
      },
      "source": [
        "merged_data.head()"
      ],
      "execution_count": null,
      "outputs": [
        {
          "output_type": "error",
          "ename": "NameError",
          "evalue": "ignored",
          "traceback": [
            "\u001b[0;31m---------------------------------------------------------------------------\u001b[0m",
            "\u001b[0;31mNameError\u001b[0m                                 Traceback (most recent call last)",
            "\u001b[0;32m<ipython-input-1-97a027fe26d2>\u001b[0m in \u001b[0;36m<module>\u001b[0;34m()\u001b[0m\n\u001b[0;32m----> 1\u001b[0;31m \u001b[0mmerged_data\u001b[0m\u001b[0;34m.\u001b[0m\u001b[0mhead\u001b[0m\u001b[0;34m(\u001b[0m\u001b[0;34m)\u001b[0m\u001b[0;34m\u001b[0m\u001b[0;34m\u001b[0m\u001b[0m\n\u001b[0m",
            "\u001b[0;31mNameError\u001b[0m: name 'merged_data' is not defined"
          ]
        }
      ]
    },
    {
      "cell_type": "markdown",
      "metadata": {
        "id": "hi_xT-9WvKz8"
      },
      "source": [
        "# Preparing the data for linear regression"
      ]
    },
    {
      "cell_type": "markdown",
      "metadata": {
        "id": "2LbRHyIivKz8"
      },
      "source": [
        "## Feature selection"
      ]
    },
    {
      "cell_type": "markdown",
      "metadata": {
        "id": "3T8qIplwvKz8"
      },
      "source": [
        "### Multicollinearity"
      ]
    },
    {
      "cell_type": "markdown",
      "metadata": {
        "id": "Br_MCl9UvKz8"
      },
      "source": [
        "one of the linear regression's assumptions: there isn't colinearity between input features"
      ]
    },
    {
      "cell_type": "code",
      "metadata": {
        "trusted": true,
        "id": "nRtDMl4nvKz9"
      },
      "source": [
        "# Next, we can create a correlation matriz for our quantitative variables and determine if any variables are highly correlated.\n",
        "\n",
        "train =  merged_data.iloc[:len(train)]\n",
        "train_quant=train.select_dtypes(exclude  = [\"object\"])\n"
      ],
      "execution_count": null,
      "outputs": []
    },
    {
      "cell_type": "code",
      "metadata": {
        "trusted": true,
        "id": "BkiOxUuavKz9",
        "outputId": "52f0fbdc-85fd-4d84-b5c7-2f69b258aff2"
      },
      "source": [
        "# Determine strong pairs:\n",
        "\n",
        "cor_pairs = train_quant.corr().unstack()\n",
        "strong_pairs = cor_pairs[((cor_pairs) > 0.8) & ((cor_pairs) < 1.0)]\n",
        "strong_pairs\n",
        "# Here are variables that are contenders to be cut due to being close to perfectly correlated:"
      ],
      "execution_count": null,
      "outputs": [
        {
          "output_type": "execute_result",
          "data": {
            "text/plain": [
              "TotalBsmtSF   1stFlrSF        0.819530\n",
              "1stFlrSF      TotalBsmtSF     0.819530\n",
              "GrLivArea     TotRmsAbvGrd    0.825489\n",
              "TotRmsAbvGrd  GrLivArea       0.825489\n",
              "GarageCars    GarageArea      0.882475\n",
              "GarageArea    GarageCars      0.882475\n",
              "GarageQual    GarageCond      0.838396\n",
              "GarageCond    GarageQual      0.838396\n",
              "dtype: float64"
            ]
          },
          "metadata": {
            "tags": []
          },
          "execution_count": 344
        }
      ]
    },
    {
      "cell_type": "code",
      "metadata": {
        "trusted": true,
        "id": "K99tM7JovKz9"
      },
      "source": [
        "# For these variables, the best alternative would be to drop one of the highly correlated variables.\n",
        "# Dropping '1stFlrSF', 'GarageArea', 'TotRmsAbvGrd', 'GarageCars', 'GarageCond'\n",
        "\n",
        "\n",
        "\n",
        "merged_data = merged_data.drop([\"1stFlrSF\", \"TotRmsAbvGrd\", \"GarageArea\"], axis = 1)"
      ],
      "execution_count": null,
      "outputs": []
    },
    {
      "cell_type": "markdown",
      "metadata": {
        "id": "rKMoWrvsvKz-"
      },
      "source": [
        "Let's also take a look at what variables are most correlated with our dependent variable 'SalesPrice'. \n"
      ]
    },
    {
      "cell_type": "code",
      "metadata": {
        "trusted": true,
        "id": "NKQEGrzyvKz-",
        "outputId": "c9fe1d7f-6e5b-447a-9e90-1215094b335a"
      },
      "source": [
        "corr_matrix = merged_data.corr()\n",
        "corr_matrix[\"SalePrice\"].sort_values(ascending = False)"
      ],
      "execution_count": null,
      "outputs": [
        {
          "output_type": "execute_result",
          "data": {
            "text/plain": [
              "SalePrice        1.000000\n",
              "OverallQual      0.790982\n",
              "GrLivArea        0.708624\n",
              "GarageCars       0.640409\n",
              "TotalBsmtSF      0.613581\n",
              "FullBath         0.560664\n",
              "YearBuilt        0.522897\n",
              "YearRemodAdd     0.507101\n",
              "MasVnrArea       0.472614\n",
              "Fireplaces       0.466929\n",
              "GarageYrBlt      0.397778\n",
              "BsmtFinSF1       0.386420\n",
              "WoodDeckSF       0.324413\n",
              "2ndFlrSF         0.319334\n",
              "OpenPorchSF      0.315856\n",
              "HalfBath         0.284108\n",
              "LotArea          0.263843\n",
              "BsmtFullBath     0.227122\n",
              "BsmtUnfSF        0.214479\n",
              "BedroomAbvGr     0.168213\n",
              "BsmtExposure     0.132027\n",
              "ScreenPorch      0.111447\n",
              "PoolArea         0.092404\n",
              "LandSlope        0.051152\n",
              "MoSold           0.046432\n",
              "3SsnPorch        0.044584\n",
              "BsmtFinSF2      -0.011378\n",
              "BsmtHalfBath    -0.016844\n",
              "MiscVal         -0.021190\n",
              "LowQualFinSF    -0.025606\n",
              "YrSold          -0.028923\n",
              "OverallCond     -0.077856\n",
              "BsmtFinType2    -0.078128\n",
              "BsmtQual        -0.080199\n",
              "MSSubClass      -0.084284\n",
              "KitchenQual     -0.114746\n",
              "ExterCond       -0.121706\n",
              "EnclosedPorch   -0.128578\n",
              "KitchenAbvGr    -0.135907\n",
              "BsmtCond        -0.166927\n",
              "GarageQual      -0.235455\n",
              "GarageCond      -0.245013\n",
              "ExterQual       -0.265015\n",
              "BsmtFinType1    -0.370971\n",
              "HeatingQC       -0.427649\n",
              "Name: SalePrice, dtype: float64"
            ]
          },
          "metadata": {
            "tags": []
          },
          "execution_count": 346
        }
      ]
    },
    {
      "cell_type": "code",
      "metadata": {
        "trusted": true,
        "id": "EAZStxbAvKz_"
      },
      "source": [
        "# # Let's also take a look at what variables are most correlated with our dependent variable 'SalesPrice'. \n",
        "\n",
        "# sales_cor = train.corr('pearson').abs()['SalePrice']\n",
        "\n",
        "# # Sort by strongest correlations. \n",
        "# sorted_cor_target = sales_cor.sort_values(kind = 'Quicksort', ascending=False)\n",
        "# sorted_cor_target"
      ],
      "execution_count": null,
      "outputs": []
    },
    {
      "cell_type": "markdown",
      "metadata": {
        "id": "WLNrNMJ_vKz_"
      },
      "source": [
        "the multicollinearity still exists in various features. However, we will keep them for now for the sake of learning and let the models(e.x. Regularization models such as Lasso, Ridge)"
      ]
    },
    {
      "cell_type": "markdown",
      "metadata": {
        "id": "cJxTHPA1vKz_"
      },
      "source": [
        "# 1. Linear regression"
      ]
    },
    {
      "cell_type": "markdown",
      "metadata": {
        "id": "ScFpe_NIvK0A"
      },
      "source": [
        "## Let's   talk about linear regression:"
      ]
    },
    {
      "cell_type": "markdown",
      "metadata": {
        "id": "BjmspGqCvK0A"
      },
      "source": [
        "Regression has the following assumptions:\n",
        "\n",
        "  Linear relationship\n",
        "  \n",
        "  reasonable  variations in the values of the explanatory variable\n",
        "  \n",
        "  No or little multicollinearity\n",
        "  \n",
        "  No auto-correlation\n",
        "  \n",
        "  Homoscedasticity (all variables have same variance)\n",
        "\n"
      ]
    },
    {
      "cell_type": "markdown",
      "metadata": {
        "id": "8Wd1oAdkvK0A"
      },
      "source": [
        "# Transformations"
      ]
    },
    {
      "cell_type": "markdown",
      "metadata": {
        "id": "uz2nkUxVvK0A"
      },
      "source": [
        "### Categorical Variables: Transforming to Dummy Variables "
      ]
    },
    {
      "cell_type": "markdown",
      "metadata": {
        "id": "C90HLsC7vK0B"
      },
      "source": [
        "For categorical, ordinal features, I'll use label encoding, then OHE\n",
        "\n",
        "For categorical nominal >> OHE\n",
        "\n",
        "for numerical >> OHE"
      ]
    },
    {
      "cell_type": "markdown",
      "metadata": {
        "id": "gepv5KVyvK0B"
      },
      "source": [
        "### In previous steps, we have transformed ordinal data by OrdinalEncoding\n",
        "### For the rest categorical features, we one-hot encode them"
      ]
    },
    {
      "cell_type": "code",
      "metadata": {
        "trusted": true,
        "id": "MADe4eojvK0B"
      },
      "source": [
        "cat_cols = merged_data.select_dtypes(include = [\"object\"]).columns\n",
        "dummy_cols = []\n",
        "for col in cat_cols:\n",
        "    if col not in ordinal_cols:\n",
        "        dummy_cols.append(col)\n",
        "merged_data = pd.get_dummies(merged_data, columns = dummy_cols)\n",
        "    \n",
        "Train = merged_data.iloc[:len(train)]\n",
        "Test  = merged_data.iloc[:len(test)].drop(\"SalePrice\", axis=1)"
      ],
      "execution_count": null,
      "outputs": []
    },
    {
      "cell_type": "code",
      "metadata": {
        "trusted": true,
        "id": "SkYekOOivK0C"
      },
      "source": [
        "# # In previous steps, we have transformed ordinal data by OrdinalEncoding\n",
        "# # For the rest categorical features, we create one-hot encode them\n",
        "# object_cols = merged_data.select_dtypes(include=['object']).columns\n",
        "# dummy_cols = []\n",
        "# for col in object_cols:\n",
        "#     if col not in ordinal_cols:\n",
        "#         dummy_cols.append(col)\n",
        "# merged_data = pd.get_dummies(merged_data, columns = dummy_cols) \n",
        "\n",
        "# Train = merged_data.iloc[:len(train)]\n",
        "# Test = merged_data.iloc[len(train):].drop(\"SalePrice\", axis = 1)"
      ],
      "execution_count": null,
      "outputs": []
    },
    {
      "cell_type": "markdown",
      "metadata": {
        "id": "4adOl2skvK0C"
      },
      "source": [
        "### Examine the preprocessed dataset"
      ]
    },
    {
      "cell_type": "code",
      "metadata": {
        "trusted": true,
        "id": "3B4z9KjbvK0C",
        "outputId": "f3aeaae5-226c-4c00-ddf1-b59138f2db6e"
      },
      "source": [
        "Train.head()"
      ],
      "execution_count": null,
      "outputs": [
        {
          "output_type": "execute_result",
          "data": {
            "text/plain": [
              "   MSSubClass  LotArea  LandSlope  OverallQual  OverallCond  YearBuilt  \\\n",
              "0          60     8450          1            7            5       2003   \n",
              "1          20     9600          1            6            8       1976   \n",
              "2          60    11250          1            7            5       2001   \n",
              "3          70     9550          1            7            5       1915   \n",
              "4          60    14260          1            8            5       2000   \n",
              "\n",
              "   YearRemodAdd  MasVnrArea  ExterQual  ExterCond  ...  SaleType_ConLw  \\\n",
              "0          2003       196.0          1          1  ...               0   \n",
              "1          1976         0.0          2          1  ...               0   \n",
              "2          2002       162.0          1          1  ...               0   \n",
              "3          1970         0.0          2          1  ...               0   \n",
              "4          2000       350.0          1          1  ...               0   \n",
              "\n",
              "   SaleType_New  SaleType_Oth  SaleType_WD  SaleCondition_Abnorml  \\\n",
              "0             0             0            1                      0   \n",
              "1             0             0            1                      0   \n",
              "2             0             0            1                      0   \n",
              "3             0             0            1                      1   \n",
              "4             0             0            1                      0   \n",
              "\n",
              "   SaleCondition_AdjLand  SaleCondition_Alloca  SaleCondition_Family  \\\n",
              "0                      0                     0                     0   \n",
              "1                      0                     0                     0   \n",
              "2                      0                     0                     0   \n",
              "3                      0                     0                     0   \n",
              "4                      0                     0                     0   \n",
              "\n",
              "   SaleCondition_Normal  SaleCondition_Partial  \n",
              "0                     1                      0  \n",
              "1                     1                      0  \n",
              "2                     1                      0  \n",
              "3                     0                      0  \n",
              "4                     1                      0  \n",
              "\n",
              "[5 rows x 226 columns]"
            ],
            "text/html": [
              "<div>\n",
              "<style scoped>\n",
              "    .dataframe tbody tr th:only-of-type {\n",
              "        vertical-align: middle;\n",
              "    }\n",
              "\n",
              "    .dataframe tbody tr th {\n",
              "        vertical-align: top;\n",
              "    }\n",
              "\n",
              "    .dataframe thead th {\n",
              "        text-align: right;\n",
              "    }\n",
              "</style>\n",
              "<table border=\"1\" class=\"dataframe\">\n",
              "  <thead>\n",
              "    <tr style=\"text-align: right;\">\n",
              "      <th></th>\n",
              "      <th>MSSubClass</th>\n",
              "      <th>LotArea</th>\n",
              "      <th>LandSlope</th>\n",
              "      <th>OverallQual</th>\n",
              "      <th>OverallCond</th>\n",
              "      <th>YearBuilt</th>\n",
              "      <th>YearRemodAdd</th>\n",
              "      <th>MasVnrArea</th>\n",
              "      <th>ExterQual</th>\n",
              "      <th>ExterCond</th>\n",
              "      <th>...</th>\n",
              "      <th>SaleType_ConLw</th>\n",
              "      <th>SaleType_New</th>\n",
              "      <th>SaleType_Oth</th>\n",
              "      <th>SaleType_WD</th>\n",
              "      <th>SaleCondition_Abnorml</th>\n",
              "      <th>SaleCondition_AdjLand</th>\n",
              "      <th>SaleCondition_Alloca</th>\n",
              "      <th>SaleCondition_Family</th>\n",
              "      <th>SaleCondition_Normal</th>\n",
              "      <th>SaleCondition_Partial</th>\n",
              "    </tr>\n",
              "  </thead>\n",
              "  <tbody>\n",
              "    <tr>\n",
              "      <th>0</th>\n",
              "      <td>60</td>\n",
              "      <td>8450</td>\n",
              "      <td>1</td>\n",
              "      <td>7</td>\n",
              "      <td>5</td>\n",
              "      <td>2003</td>\n",
              "      <td>2003</td>\n",
              "      <td>196.0</td>\n",
              "      <td>1</td>\n",
              "      <td>1</td>\n",
              "      <td>...</td>\n",
              "      <td>0</td>\n",
              "      <td>0</td>\n",
              "      <td>0</td>\n",
              "      <td>1</td>\n",
              "      <td>0</td>\n",
              "      <td>0</td>\n",
              "      <td>0</td>\n",
              "      <td>0</td>\n",
              "      <td>1</td>\n",
              "      <td>0</td>\n",
              "    </tr>\n",
              "    <tr>\n",
              "      <th>1</th>\n",
              "      <td>20</td>\n",
              "      <td>9600</td>\n",
              "      <td>1</td>\n",
              "      <td>6</td>\n",
              "      <td>8</td>\n",
              "      <td>1976</td>\n",
              "      <td>1976</td>\n",
              "      <td>0.0</td>\n",
              "      <td>2</td>\n",
              "      <td>1</td>\n",
              "      <td>...</td>\n",
              "      <td>0</td>\n",
              "      <td>0</td>\n",
              "      <td>0</td>\n",
              "      <td>1</td>\n",
              "      <td>0</td>\n",
              "      <td>0</td>\n",
              "      <td>0</td>\n",
              "      <td>0</td>\n",
              "      <td>1</td>\n",
              "      <td>0</td>\n",
              "    </tr>\n",
              "    <tr>\n",
              "      <th>2</th>\n",
              "      <td>60</td>\n",
              "      <td>11250</td>\n",
              "      <td>1</td>\n",
              "      <td>7</td>\n",
              "      <td>5</td>\n",
              "      <td>2001</td>\n",
              "      <td>2002</td>\n",
              "      <td>162.0</td>\n",
              "      <td>1</td>\n",
              "      <td>1</td>\n",
              "      <td>...</td>\n",
              "      <td>0</td>\n",
              "      <td>0</td>\n",
              "      <td>0</td>\n",
              "      <td>1</td>\n",
              "      <td>0</td>\n",
              "      <td>0</td>\n",
              "      <td>0</td>\n",
              "      <td>0</td>\n",
              "      <td>1</td>\n",
              "      <td>0</td>\n",
              "    </tr>\n",
              "    <tr>\n",
              "      <th>3</th>\n",
              "      <td>70</td>\n",
              "      <td>9550</td>\n",
              "      <td>1</td>\n",
              "      <td>7</td>\n",
              "      <td>5</td>\n",
              "      <td>1915</td>\n",
              "      <td>1970</td>\n",
              "      <td>0.0</td>\n",
              "      <td>2</td>\n",
              "      <td>1</td>\n",
              "      <td>...</td>\n",
              "      <td>0</td>\n",
              "      <td>0</td>\n",
              "      <td>0</td>\n",
              "      <td>1</td>\n",
              "      <td>1</td>\n",
              "      <td>0</td>\n",
              "      <td>0</td>\n",
              "      <td>0</td>\n",
              "      <td>0</td>\n",
              "      <td>0</td>\n",
              "    </tr>\n",
              "    <tr>\n",
              "      <th>4</th>\n",
              "      <td>60</td>\n",
              "      <td>14260</td>\n",
              "      <td>1</td>\n",
              "      <td>8</td>\n",
              "      <td>5</td>\n",
              "      <td>2000</td>\n",
              "      <td>2000</td>\n",
              "      <td>350.0</td>\n",
              "      <td>1</td>\n",
              "      <td>1</td>\n",
              "      <td>...</td>\n",
              "      <td>0</td>\n",
              "      <td>0</td>\n",
              "      <td>0</td>\n",
              "      <td>1</td>\n",
              "      <td>0</td>\n",
              "      <td>0</td>\n",
              "      <td>0</td>\n",
              "      <td>0</td>\n",
              "      <td>1</td>\n",
              "      <td>0</td>\n",
              "    </tr>\n",
              "  </tbody>\n",
              "</table>\n",
              "<p>5 rows × 226 columns</p>\n",
              "</div>"
            ]
          },
          "metadata": {
            "tags": []
          },
          "execution_count": 350
        }
      ]
    },
    {
      "cell_type": "code",
      "metadata": {
        "trusted": true,
        "id": "T_RLw48HvK0C"
      },
      "source": [
        "# Train[\"MSZoning\"]"
      ],
      "execution_count": null,
      "outputs": []
    },
    {
      "cell_type": "code",
      "metadata": {
        "trusted": true,
        "id": "tRQ8VuKvvK0C",
        "outputId": "b6636d12-d353-48d2-fc6c-61e842c9578f"
      },
      "source": [
        "Test.head()"
      ],
      "execution_count": null,
      "outputs": [
        {
          "output_type": "execute_result",
          "data": {
            "text/plain": [
              "   MSSubClass  LotArea  LandSlope  OverallQual  OverallCond  YearBuilt  \\\n",
              "0          60     8450          1            7            5       2003   \n",
              "1          20     9600          1            6            8       1976   \n",
              "2          60    11250          1            7            5       2001   \n",
              "3          70     9550          1            7            5       1915   \n",
              "4          60    14260          1            8            5       2000   \n",
              "\n",
              "   YearRemodAdd  MasVnrArea  ExterQual  ExterCond  ...  SaleType_ConLw  \\\n",
              "0          2003       196.0          1          1  ...               0   \n",
              "1          1976         0.0          2          1  ...               0   \n",
              "2          2002       162.0          1          1  ...               0   \n",
              "3          1970         0.0          2          1  ...               0   \n",
              "4          2000       350.0          1          1  ...               0   \n",
              "\n",
              "   SaleType_New  SaleType_Oth  SaleType_WD  SaleCondition_Abnorml  \\\n",
              "0             0             0            1                      0   \n",
              "1             0             0            1                      0   \n",
              "2             0             0            1                      0   \n",
              "3             0             0            1                      1   \n",
              "4             0             0            1                      0   \n",
              "\n",
              "   SaleCondition_AdjLand  SaleCondition_Alloca  SaleCondition_Family  \\\n",
              "0                      0                     0                     0   \n",
              "1                      0                     0                     0   \n",
              "2                      0                     0                     0   \n",
              "3                      0                     0                     0   \n",
              "4                      0                     0                     0   \n",
              "\n",
              "   SaleCondition_Normal  SaleCondition_Partial  \n",
              "0                     1                      0  \n",
              "1                     1                      0  \n",
              "2                     1                      0  \n",
              "3                     0                      0  \n",
              "4                     1                      0  \n",
              "\n",
              "[5 rows x 225 columns]"
            ],
            "text/html": [
              "<div>\n",
              "<style scoped>\n",
              "    .dataframe tbody tr th:only-of-type {\n",
              "        vertical-align: middle;\n",
              "    }\n",
              "\n",
              "    .dataframe tbody tr th {\n",
              "        vertical-align: top;\n",
              "    }\n",
              "\n",
              "    .dataframe thead th {\n",
              "        text-align: right;\n",
              "    }\n",
              "</style>\n",
              "<table border=\"1\" class=\"dataframe\">\n",
              "  <thead>\n",
              "    <tr style=\"text-align: right;\">\n",
              "      <th></th>\n",
              "      <th>MSSubClass</th>\n",
              "      <th>LotArea</th>\n",
              "      <th>LandSlope</th>\n",
              "      <th>OverallQual</th>\n",
              "      <th>OverallCond</th>\n",
              "      <th>YearBuilt</th>\n",
              "      <th>YearRemodAdd</th>\n",
              "      <th>MasVnrArea</th>\n",
              "      <th>ExterQual</th>\n",
              "      <th>ExterCond</th>\n",
              "      <th>...</th>\n",
              "      <th>SaleType_ConLw</th>\n",
              "      <th>SaleType_New</th>\n",
              "      <th>SaleType_Oth</th>\n",
              "      <th>SaleType_WD</th>\n",
              "      <th>SaleCondition_Abnorml</th>\n",
              "      <th>SaleCondition_AdjLand</th>\n",
              "      <th>SaleCondition_Alloca</th>\n",
              "      <th>SaleCondition_Family</th>\n",
              "      <th>SaleCondition_Normal</th>\n",
              "      <th>SaleCondition_Partial</th>\n",
              "    </tr>\n",
              "  </thead>\n",
              "  <tbody>\n",
              "    <tr>\n",
              "      <th>0</th>\n",
              "      <td>60</td>\n",
              "      <td>8450</td>\n",
              "      <td>1</td>\n",
              "      <td>7</td>\n",
              "      <td>5</td>\n",
              "      <td>2003</td>\n",
              "      <td>2003</td>\n",
              "      <td>196.0</td>\n",
              "      <td>1</td>\n",
              "      <td>1</td>\n",
              "      <td>...</td>\n",
              "      <td>0</td>\n",
              "      <td>0</td>\n",
              "      <td>0</td>\n",
              "      <td>1</td>\n",
              "      <td>0</td>\n",
              "      <td>0</td>\n",
              "      <td>0</td>\n",
              "      <td>0</td>\n",
              "      <td>1</td>\n",
              "      <td>0</td>\n",
              "    </tr>\n",
              "    <tr>\n",
              "      <th>1</th>\n",
              "      <td>20</td>\n",
              "      <td>9600</td>\n",
              "      <td>1</td>\n",
              "      <td>6</td>\n",
              "      <td>8</td>\n",
              "      <td>1976</td>\n",
              "      <td>1976</td>\n",
              "      <td>0.0</td>\n",
              "      <td>2</td>\n",
              "      <td>1</td>\n",
              "      <td>...</td>\n",
              "      <td>0</td>\n",
              "      <td>0</td>\n",
              "      <td>0</td>\n",
              "      <td>1</td>\n",
              "      <td>0</td>\n",
              "      <td>0</td>\n",
              "      <td>0</td>\n",
              "      <td>0</td>\n",
              "      <td>1</td>\n",
              "      <td>0</td>\n",
              "    </tr>\n",
              "    <tr>\n",
              "      <th>2</th>\n",
              "      <td>60</td>\n",
              "      <td>11250</td>\n",
              "      <td>1</td>\n",
              "      <td>7</td>\n",
              "      <td>5</td>\n",
              "      <td>2001</td>\n",
              "      <td>2002</td>\n",
              "      <td>162.0</td>\n",
              "      <td>1</td>\n",
              "      <td>1</td>\n",
              "      <td>...</td>\n",
              "      <td>0</td>\n",
              "      <td>0</td>\n",
              "      <td>0</td>\n",
              "      <td>1</td>\n",
              "      <td>0</td>\n",
              "      <td>0</td>\n",
              "      <td>0</td>\n",
              "      <td>0</td>\n",
              "      <td>1</td>\n",
              "      <td>0</td>\n",
              "    </tr>\n",
              "    <tr>\n",
              "      <th>3</th>\n",
              "      <td>70</td>\n",
              "      <td>9550</td>\n",
              "      <td>1</td>\n",
              "      <td>7</td>\n",
              "      <td>5</td>\n",
              "      <td>1915</td>\n",
              "      <td>1970</td>\n",
              "      <td>0.0</td>\n",
              "      <td>2</td>\n",
              "      <td>1</td>\n",
              "      <td>...</td>\n",
              "      <td>0</td>\n",
              "      <td>0</td>\n",
              "      <td>0</td>\n",
              "      <td>1</td>\n",
              "      <td>1</td>\n",
              "      <td>0</td>\n",
              "      <td>0</td>\n",
              "      <td>0</td>\n",
              "      <td>0</td>\n",
              "      <td>0</td>\n",
              "    </tr>\n",
              "    <tr>\n",
              "      <th>4</th>\n",
              "      <td>60</td>\n",
              "      <td>14260</td>\n",
              "      <td>1</td>\n",
              "      <td>8</td>\n",
              "      <td>5</td>\n",
              "      <td>2000</td>\n",
              "      <td>2000</td>\n",
              "      <td>350.0</td>\n",
              "      <td>1</td>\n",
              "      <td>1</td>\n",
              "      <td>...</td>\n",
              "      <td>0</td>\n",
              "      <td>0</td>\n",
              "      <td>0</td>\n",
              "      <td>1</td>\n",
              "      <td>0</td>\n",
              "      <td>0</td>\n",
              "      <td>0</td>\n",
              "      <td>0</td>\n",
              "      <td>1</td>\n",
              "      <td>0</td>\n",
              "    </tr>\n",
              "  </tbody>\n",
              "</table>\n",
              "<p>5 rows × 225 columns</p>\n",
              "</div>"
            ]
          },
          "metadata": {
            "tags": []
          },
          "execution_count": 352
        }
      ]
    },
    {
      "cell_type": "markdown",
      "metadata": {
        "id": "pKIXGxiwvK0C"
      },
      "source": [
        "# 3. Model building and feature selection"
      ]
    },
    {
      "cell_type": "markdown",
      "metadata": {
        "id": "XoJtdxE7vK0C"
      },
      "source": [
        "## Model 1 - Linear Regression"
      ]
    },
    {
      "cell_type": "markdown",
      "metadata": {
        "id": "O6yLUzRgvK0C"
      },
      "source": [
        "First, drop features with very low correlation with SalePrice (<0.020)"
      ]
    },
    {
      "cell_type": "code",
      "metadata": {
        "trusted": true,
        "id": "t-vvBkK4vK0C",
        "outputId": "291c2999-9c01-413b-91a2-509e06750e1a"
      },
      "source": [
        "quant_features = list((Train.dtypes != 'object')[Train.dtypes != 'object'].index)\n",
        "low_cor_features = set()\n",
        "for i in quant_features:\n",
        "    if abs(Train[i].corr(Train[\"SalePrice\"])) < 0.02:\n",
        "        low_cor_features.add(i)\n",
        "low_cor_features"
      ],
      "execution_count": null,
      "outputs": [
        {
          "output_type": "execute_result",
          "data": {
            "text/plain": [
              "{'BldgType_TwnhsE',\n",
              " 'BsmtFinSF2',\n",
              " 'BsmtHalfBath',\n",
              " 'Condition1_RRAn',\n",
              " 'Condition1_RRNe',\n",
              " 'Condition2_RRAe',\n",
              " 'Condition2_RRAn',\n",
              " 'Exterior1st_Plywood',\n",
              " 'Exterior2nd_Stone',\n",
              " 'Foundation_Stone',\n",
              " 'Foundation_Wood',\n",
              " 'Functional_Mod',\n",
              " 'Functional_Sev',\n",
              " 'LotConfig_Corner',\n",
              " 'LotConfig_FR2',\n",
              " 'LotConfig_FR3',\n",
              " 'Neighborhood_Blmngtn',\n",
              " 'Neighborhood_SawyerW',\n",
              " 'RoofMatl_ClyTile',\n",
              " 'RoofMatl_Membran',\n",
              " 'RoofMatl_Metal',\n",
              " 'RoofMatl_Roll',\n",
              " 'RoofMatl_Tar&Grv',\n",
              " 'RoofStyle_Flat',\n",
              " 'RoofStyle_Mansard',\n",
              " 'SaleCondition_Alloca',\n",
              " 'SaleType_CWD',\n",
              " 'SaleType_ConLI',\n",
              " 'Utilities_AllPub',\n",
              " 'Utilities_NoSeWa'}"
            ]
          },
          "metadata": {
            "tags": []
          },
          "execution_count": 353
        }
      ]
    },
    {
      "cell_type": "code",
      "metadata": {
        "trusted": true,
        "id": "kXxxWxYtvK0E"
      },
      "source": [
        "# Create data copies for model 1, and drop the low correlation features\n",
        "train1 = Train.copy()\n",
        "test1 = Test.copy()\n",
        "train1 = train1.drop(columns = low_cor_features)\n",
        "test1 = test1.drop(columns = low_cor_features)"
      ],
      "execution_count": null,
      "outputs": []
    },
    {
      "cell_type": "code",
      "metadata": {
        "trusted": true,
        "id": "Y7QoWyuWvK0F",
        "outputId": "908bfa5d-b11c-4ee9-9f1e-53222dd91a06"
      },
      "source": [
        "train1"
      ],
      "execution_count": null,
      "outputs": [
        {
          "output_type": "execute_result",
          "data": {
            "text/plain": [
              "      MSSubClass  LotArea  LandSlope  OverallQual  OverallCond  YearBuilt  \\\n",
              "0             60     8450          1            7            5       2003   \n",
              "1             20     9600          1            6            8       1976   \n",
              "2             60    11250          1            7            5       2001   \n",
              "3             70     9550          1            7            5       1915   \n",
              "4             60    14260          1            8            5       2000   \n",
              "...          ...      ...        ...          ...          ...        ...   \n",
              "1455          60     7917          1            6            5       1999   \n",
              "1456          20    13175          1            6            6       1978   \n",
              "1457          70     9042          1            7            9       1941   \n",
              "1458          20     9717          1            5            6       1950   \n",
              "1459          20     9937          1            5            6       1965   \n",
              "\n",
              "      YearRemodAdd  MasVnrArea  ExterQual  ExterCond  ...  SaleType_ConLD  \\\n",
              "0             2003       196.0          1          1  ...               0   \n",
              "1             1976         0.0          2          1  ...               0   \n",
              "2             2002       162.0          1          1  ...               0   \n",
              "3             1970         0.0          2          1  ...               0   \n",
              "4             2000       350.0          1          1  ...               0   \n",
              "...            ...         ...        ...        ...  ...             ...   \n",
              "1455          2000         0.0          2          1  ...               0   \n",
              "1456          1988       119.0          2          1  ...               0   \n",
              "1457          2006         0.0          3          2  ...               0   \n",
              "1458          1996         0.0          2          1  ...               0   \n",
              "1459          1965         0.0          1          1  ...               0   \n",
              "\n",
              "      SaleType_ConLw  SaleType_New  SaleType_Oth  SaleType_WD  \\\n",
              "0                  0             0             0            1   \n",
              "1                  0             0             0            1   \n",
              "2                  0             0             0            1   \n",
              "3                  0             0             0            1   \n",
              "4                  0             0             0            1   \n",
              "...              ...           ...           ...          ...   \n",
              "1455               0             0             0            1   \n",
              "1456               0             0             0            1   \n",
              "1457               0             0             0            1   \n",
              "1458               0             0             0            1   \n",
              "1459               0             0             0            1   \n",
              "\n",
              "      SaleCondition_Abnorml  SaleCondition_AdjLand  SaleCondition_Family  \\\n",
              "0                         0                      0                     0   \n",
              "1                         0                      0                     0   \n",
              "2                         0                      0                     0   \n",
              "3                         1                      0                     0   \n",
              "4                         0                      0                     0   \n",
              "...                     ...                    ...                   ...   \n",
              "1455                      0                      0                     0   \n",
              "1456                      0                      0                     0   \n",
              "1457                      0                      0                     0   \n",
              "1458                      0                      0                     0   \n",
              "1459                      0                      0                     0   \n",
              "\n",
              "      SaleCondition_Normal  SaleCondition_Partial  \n",
              "0                        1                      0  \n",
              "1                        1                      0  \n",
              "2                        1                      0  \n",
              "3                        0                      0  \n",
              "4                        1                      0  \n",
              "...                    ...                    ...  \n",
              "1455                     1                      0  \n",
              "1456                     1                      0  \n",
              "1457                     1                      0  \n",
              "1458                     1                      0  \n",
              "1459                     1                      0  \n",
              "\n",
              "[1460 rows x 196 columns]"
            ],
            "text/html": [
              "<div>\n",
              "<style scoped>\n",
              "    .dataframe tbody tr th:only-of-type {\n",
              "        vertical-align: middle;\n",
              "    }\n",
              "\n",
              "    .dataframe tbody tr th {\n",
              "        vertical-align: top;\n",
              "    }\n",
              "\n",
              "    .dataframe thead th {\n",
              "        text-align: right;\n",
              "    }\n",
              "</style>\n",
              "<table border=\"1\" class=\"dataframe\">\n",
              "  <thead>\n",
              "    <tr style=\"text-align: right;\">\n",
              "      <th></th>\n",
              "      <th>MSSubClass</th>\n",
              "      <th>LotArea</th>\n",
              "      <th>LandSlope</th>\n",
              "      <th>OverallQual</th>\n",
              "      <th>OverallCond</th>\n",
              "      <th>YearBuilt</th>\n",
              "      <th>YearRemodAdd</th>\n",
              "      <th>MasVnrArea</th>\n",
              "      <th>ExterQual</th>\n",
              "      <th>ExterCond</th>\n",
              "      <th>...</th>\n",
              "      <th>SaleType_ConLD</th>\n",
              "      <th>SaleType_ConLw</th>\n",
              "      <th>SaleType_New</th>\n",
              "      <th>SaleType_Oth</th>\n",
              "      <th>SaleType_WD</th>\n",
              "      <th>SaleCondition_Abnorml</th>\n",
              "      <th>SaleCondition_AdjLand</th>\n",
              "      <th>SaleCondition_Family</th>\n",
              "      <th>SaleCondition_Normal</th>\n",
              "      <th>SaleCondition_Partial</th>\n",
              "    </tr>\n",
              "  </thead>\n",
              "  <tbody>\n",
              "    <tr>\n",
              "      <th>0</th>\n",
              "      <td>60</td>\n",
              "      <td>8450</td>\n",
              "      <td>1</td>\n",
              "      <td>7</td>\n",
              "      <td>5</td>\n",
              "      <td>2003</td>\n",
              "      <td>2003</td>\n",
              "      <td>196.0</td>\n",
              "      <td>1</td>\n",
              "      <td>1</td>\n",
              "      <td>...</td>\n",
              "      <td>0</td>\n",
              "      <td>0</td>\n",
              "      <td>0</td>\n",
              "      <td>0</td>\n",
              "      <td>1</td>\n",
              "      <td>0</td>\n",
              "      <td>0</td>\n",
              "      <td>0</td>\n",
              "      <td>1</td>\n",
              "      <td>0</td>\n",
              "    </tr>\n",
              "    <tr>\n",
              "      <th>1</th>\n",
              "      <td>20</td>\n",
              "      <td>9600</td>\n",
              "      <td>1</td>\n",
              "      <td>6</td>\n",
              "      <td>8</td>\n",
              "      <td>1976</td>\n",
              "      <td>1976</td>\n",
              "      <td>0.0</td>\n",
              "      <td>2</td>\n",
              "      <td>1</td>\n",
              "      <td>...</td>\n",
              "      <td>0</td>\n",
              "      <td>0</td>\n",
              "      <td>0</td>\n",
              "      <td>0</td>\n",
              "      <td>1</td>\n",
              "      <td>0</td>\n",
              "      <td>0</td>\n",
              "      <td>0</td>\n",
              "      <td>1</td>\n",
              "      <td>0</td>\n",
              "    </tr>\n",
              "    <tr>\n",
              "      <th>2</th>\n",
              "      <td>60</td>\n",
              "      <td>11250</td>\n",
              "      <td>1</td>\n",
              "      <td>7</td>\n",
              "      <td>5</td>\n",
              "      <td>2001</td>\n",
              "      <td>2002</td>\n",
              "      <td>162.0</td>\n",
              "      <td>1</td>\n",
              "      <td>1</td>\n",
              "      <td>...</td>\n",
              "      <td>0</td>\n",
              "      <td>0</td>\n",
              "      <td>0</td>\n",
              "      <td>0</td>\n",
              "      <td>1</td>\n",
              "      <td>0</td>\n",
              "      <td>0</td>\n",
              "      <td>0</td>\n",
              "      <td>1</td>\n",
              "      <td>0</td>\n",
              "    </tr>\n",
              "    <tr>\n",
              "      <th>3</th>\n",
              "      <td>70</td>\n",
              "      <td>9550</td>\n",
              "      <td>1</td>\n",
              "      <td>7</td>\n",
              "      <td>5</td>\n",
              "      <td>1915</td>\n",
              "      <td>1970</td>\n",
              "      <td>0.0</td>\n",
              "      <td>2</td>\n",
              "      <td>1</td>\n",
              "      <td>...</td>\n",
              "      <td>0</td>\n",
              "      <td>0</td>\n",
              "      <td>0</td>\n",
              "      <td>0</td>\n",
              "      <td>1</td>\n",
              "      <td>1</td>\n",
              "      <td>0</td>\n",
              "      <td>0</td>\n",
              "      <td>0</td>\n",
              "      <td>0</td>\n",
              "    </tr>\n",
              "    <tr>\n",
              "      <th>4</th>\n",
              "      <td>60</td>\n",
              "      <td>14260</td>\n",
              "      <td>1</td>\n",
              "      <td>8</td>\n",
              "      <td>5</td>\n",
              "      <td>2000</td>\n",
              "      <td>2000</td>\n",
              "      <td>350.0</td>\n",
              "      <td>1</td>\n",
              "      <td>1</td>\n",
              "      <td>...</td>\n",
              "      <td>0</td>\n",
              "      <td>0</td>\n",
              "      <td>0</td>\n",
              "      <td>0</td>\n",
              "      <td>1</td>\n",
              "      <td>0</td>\n",
              "      <td>0</td>\n",
              "      <td>0</td>\n",
              "      <td>1</td>\n",
              "      <td>0</td>\n",
              "    </tr>\n",
              "    <tr>\n",
              "      <th>...</th>\n",
              "      <td>...</td>\n",
              "      <td>...</td>\n",
              "      <td>...</td>\n",
              "      <td>...</td>\n",
              "      <td>...</td>\n",
              "      <td>...</td>\n",
              "      <td>...</td>\n",
              "      <td>...</td>\n",
              "      <td>...</td>\n",
              "      <td>...</td>\n",
              "      <td>...</td>\n",
              "      <td>...</td>\n",
              "      <td>...</td>\n",
              "      <td>...</td>\n",
              "      <td>...</td>\n",
              "      <td>...</td>\n",
              "      <td>...</td>\n",
              "      <td>...</td>\n",
              "      <td>...</td>\n",
              "      <td>...</td>\n",
              "      <td>...</td>\n",
              "    </tr>\n",
              "    <tr>\n",
              "      <th>1455</th>\n",
              "      <td>60</td>\n",
              "      <td>7917</td>\n",
              "      <td>1</td>\n",
              "      <td>6</td>\n",
              "      <td>5</td>\n",
              "      <td>1999</td>\n",
              "      <td>2000</td>\n",
              "      <td>0.0</td>\n",
              "      <td>2</td>\n",
              "      <td>1</td>\n",
              "      <td>...</td>\n",
              "      <td>0</td>\n",
              "      <td>0</td>\n",
              "      <td>0</td>\n",
              "      <td>0</td>\n",
              "      <td>1</td>\n",
              "      <td>0</td>\n",
              "      <td>0</td>\n",
              "      <td>0</td>\n",
              "      <td>1</td>\n",
              "      <td>0</td>\n",
              "    </tr>\n",
              "    <tr>\n",
              "      <th>1456</th>\n",
              "      <td>20</td>\n",
              "      <td>13175</td>\n",
              "      <td>1</td>\n",
              "      <td>6</td>\n",
              "      <td>6</td>\n",
              "      <td>1978</td>\n",
              "      <td>1988</td>\n",
              "      <td>119.0</td>\n",
              "      <td>2</td>\n",
              "      <td>1</td>\n",
              "      <td>...</td>\n",
              "      <td>0</td>\n",
              "      <td>0</td>\n",
              "      <td>0</td>\n",
              "      <td>0</td>\n",
              "      <td>1</td>\n",
              "      <td>0</td>\n",
              "      <td>0</td>\n",
              "      <td>0</td>\n",
              "      <td>1</td>\n",
              "      <td>0</td>\n",
              "    </tr>\n",
              "    <tr>\n",
              "      <th>1457</th>\n",
              "      <td>70</td>\n",
              "      <td>9042</td>\n",
              "      <td>1</td>\n",
              "      <td>7</td>\n",
              "      <td>9</td>\n",
              "      <td>1941</td>\n",
              "      <td>2006</td>\n",
              "      <td>0.0</td>\n",
              "      <td>3</td>\n",
              "      <td>2</td>\n",
              "      <td>...</td>\n",
              "      <td>0</td>\n",
              "      <td>0</td>\n",
              "      <td>0</td>\n",
              "      <td>0</td>\n",
              "      <td>1</td>\n",
              "      <td>0</td>\n",
              "      <td>0</td>\n",
              "      <td>0</td>\n",
              "      <td>1</td>\n",
              "      <td>0</td>\n",
              "    </tr>\n",
              "    <tr>\n",
              "      <th>1458</th>\n",
              "      <td>20</td>\n",
              "      <td>9717</td>\n",
              "      <td>1</td>\n",
              "      <td>5</td>\n",
              "      <td>6</td>\n",
              "      <td>1950</td>\n",
              "      <td>1996</td>\n",
              "      <td>0.0</td>\n",
              "      <td>2</td>\n",
              "      <td>1</td>\n",
              "      <td>...</td>\n",
              "      <td>0</td>\n",
              "      <td>0</td>\n",
              "      <td>0</td>\n",
              "      <td>0</td>\n",
              "      <td>1</td>\n",
              "      <td>0</td>\n",
              "      <td>0</td>\n",
              "      <td>0</td>\n",
              "      <td>1</td>\n",
              "      <td>0</td>\n",
              "    </tr>\n",
              "    <tr>\n",
              "      <th>1459</th>\n",
              "      <td>20</td>\n",
              "      <td>9937</td>\n",
              "      <td>1</td>\n",
              "      <td>5</td>\n",
              "      <td>6</td>\n",
              "      <td>1965</td>\n",
              "      <td>1965</td>\n",
              "      <td>0.0</td>\n",
              "      <td>1</td>\n",
              "      <td>1</td>\n",
              "      <td>...</td>\n",
              "      <td>0</td>\n",
              "      <td>0</td>\n",
              "      <td>0</td>\n",
              "      <td>0</td>\n",
              "      <td>1</td>\n",
              "      <td>0</td>\n",
              "      <td>0</td>\n",
              "      <td>0</td>\n",
              "      <td>1</td>\n",
              "      <td>0</td>\n",
              "    </tr>\n",
              "  </tbody>\n",
              "</table>\n",
              "<p>1460 rows × 196 columns</p>\n",
              "</div>"
            ]
          },
          "metadata": {
            "tags": []
          },
          "execution_count": 355
        }
      ]
    },
    {
      "cell_type": "markdown",
      "metadata": {
        "id": "XMN8g5obvK0F"
      },
      "source": [
        "Do a train/validation split for the training data"
      ]
    },
    {
      "cell_type": "code",
      "metadata": {
        "trusted": true,
        "id": "VaWJEE8bvK0F"
      },
      "source": [
        "X_train = train1.drop(\"SalePrice\", axis = 1)\n",
        "Y_train = np.log1p(train[\"SalePrice\"] )\n",
        "x_train, x_valid, y_train, y_valid = train_test_split(X_train, Y_train, test_size = 0.2,random_state=42)"
      ],
      "execution_count": null,
      "outputs": []
    },
    {
      "cell_type": "code",
      "metadata": {
        "trusted": true,
        "id": "v0wg_PMGvK0G",
        "outputId": "9bd3fc28-02af-43e8-b04c-9fcbf61c155b"
      },
      "source": [
        "type(x_train)"
      ],
      "execution_count": null,
      "outputs": [
        {
          "output_type": "execute_result",
          "data": {
            "text/plain": [
              "pandas.core.frame.DataFrame"
            ]
          },
          "metadata": {
            "tags": []
          },
          "execution_count": 357
        }
      ]
    },
    {
      "cell_type": "code",
      "metadata": {
        "trusted": true,
        "id": "9DWLuvFevK0G",
        "outputId": "ffbc0524-7ca8-4523-ba10-021ef5747a4d"
      },
      "source": [
        "x_train.shape"
      ],
      "execution_count": null,
      "outputs": [
        {
          "output_type": "execute_result",
          "data": {
            "text/plain": [
              "(1168, 195)"
            ]
          },
          "metadata": {
            "tags": []
          },
          "execution_count": 358
        }
      ]
    },
    {
      "cell_type": "markdown",
      "metadata": {
        "id": "OlJsU4iHvK0G"
      },
      "source": [
        "For this feature selection method, we retained 193 features."
      ]
    },
    {
      "cell_type": "code",
      "metadata": {
        "trusted": true,
        "id": "6R_C1xKsvK0G",
        "outputId": "1d38a178-bbb5-44d9-f09a-f8e94f8f7a4d"
      },
      "source": [
        "len(x_train.columns)"
      ],
      "execution_count": null,
      "outputs": [
        {
          "output_type": "execute_result",
          "data": {
            "text/plain": [
              "195"
            ]
          },
          "metadata": {
            "tags": []
          },
          "execution_count": 359
        }
      ]
    },
    {
      "cell_type": "markdown",
      "metadata": {
        "id": "qy32D2pXvK0G"
      },
      "source": [
        "# Model1: Linear regression"
      ]
    },
    {
      "cell_type": "markdown",
      "metadata": {
        "id": "EBFctDtCvK0G"
      },
      "source": [
        "Fit linear regression "
      ]
    },
    {
      "cell_type": "code",
      "metadata": {
        "trusted": true,
        "id": "SfKbyJQJvK0H",
        "outputId": "6902e7b0-36fe-4ce9-dda6-bd6f4fb01c8d"
      },
      "source": [
        "linreg = LinearRegression()\n",
        "linreg.fit(x_train, y_train)\n",
        "\n",
        "linear_pred = linreg.predict(x_valid)\n",
        "\n",
        "r2 = linreg.score(x_valid, y_valid)\n",
        "print(\"coefficient of determination: %.2f\" % r2)\n",
        "print(\"adjusted R-square: %.2f\" % (1 - (1-r2)*(len(y_valid)-1)/(len(y_valid)-x_valid.shape[1]-1)))\n",
        "print('Mean Squared Error:', metrics.mean_squared_error(y_valid,linear_pred))\n",
        "print('Root Mean Squared Error:', np.sqrt(metrics.mean_squared_error(y_valid,linear_pred)))"
      ],
      "execution_count": null,
      "outputs": [
        {
          "output_type": "stream",
          "text": [
            "coefficient of determination: 0.90\n",
            "adjusted R-square: 0.69\n",
            "Mean Squared Error: 0.018949508459128035\n",
            "Root Mean Squared Error: 0.13765721361094024\n"
          ],
          "name": "stdout"
        }
      ]
    },
    {
      "cell_type": "markdown",
      "metadata": {
        "id": "1f-yAa7UvK0I"
      },
      "source": [
        "Plot predicted value vs. actual value"
      ]
    },
    {
      "cell_type": "code",
      "metadata": {
        "trusted": true,
        "id": "zBYdQhgmvK0I",
        "outputId": "5bde22e3-208f-47c4-c325-c4cc3a4efafb"
      },
      "source": [
        "plt.figure(figsize=(10, 5))\n",
        "plt.scatter(y_valid, linear_pred, s=30)\n",
        "plt.title('Predicted vs. Actual Sale Price')\n",
        "plt.xlabel('Actual Sale Price')\n",
        "plt.ylabel('Predicted Sale Price')\n",
        "\n",
        "#plt.plot([min(y_valid), max(y_valid)], [min(y_valid), max(y_valid)])\n",
        "#plt.tight_layout()"
      ],
      "execution_count": null,
      "outputs": [
        {
          "output_type": "execute_result",
          "data": {
            "text/plain": [
              "Text(0, 0.5, 'Predicted Sale Price')"
            ]
          },
          "metadata": {
            "tags": []
          },
          "execution_count": 361
        },
        {
          "output_type": "display_data",
          "data": {
            "text/plain": [
              "<Figure size 720x360 with 1 Axes>"
            ],
            "image/png": "[encoded data removed]"
          },
          "metadata": {
            "tags": [],
            "needs_background": "light"
          }
        }
      ]
    },
    {
      "cell_type": "markdown",
      "metadata": {
        "id": "A9Q70xGBvK0I"
      },
      "source": [
        "Create Submission File for Model 1 - Linear Regression"
      ]
    },
    {
      "cell_type": "code",
      "metadata": {
        "trusted": true,
        "id": "6n9SQnEivK0J"
      },
      "source": [
        "y_pred = linreg.predict(test1)\n",
        "y_pred = np.exp(1)**y_pred\n",
        "\n",
        "y_test = pd.DataFrame(y_pred, columns=['SalePrice'])\n",
        "\n",
        "test_results = pd.concat([test['Id'],y_test['SalePrice']], axis = 1)\n",
        "\n",
        "test_results.to_csv('rf_output_model1.csv', index=False)"
      ],
      "execution_count": null,
      "outputs": []
    },
    {
      "cell_type": "markdown",
      "metadata": {
        "id": "4Gc1pc5_vK0J"
      },
      "source": [
        "# Model 2 - SGDRegressor"
      ]
    },
    {
      "cell_type": "markdown",
      "metadata": {
        "id": "05_vJbYBvK0J"
      },
      "source": [
        "SGDRegressor is  a  Linear model fitted by minimizing a regularized empirical loss with SGD"
      ]
    },
    {
      "cell_type": "markdown",
      "metadata": {
        "id": "orobvYz-vK0K"
      },
      "source": [
        "Some  of  the   mainn  differennces   :\n",
        "1. SGD Regressor uses GD to find the parameters\n",
        "2. SGD regressor doesn't use MSE, because it needs to know the direction of the error in order to adjust the line properly."
      ]
    },
    {
      "cell_type": "code",
      "metadata": {
        "trusted": true,
        "id": "VOUlBGLtvK0K",
        "outputId": "a4a6eff7-2358-4b5f-f120-7d6cc8dbbe5c"
      },
      "source": [
        "type(y_train)"
      ],
      "execution_count": null,
      "outputs": [
        {
          "output_type": "execute_result",
          "data": {
            "text/plain": [
              "pandas.core.series.Series"
            ]
          },
          "metadata": {
            "tags": []
          },
          "execution_count": 363
        }
      ]
    },
    {
      "cell_type": "markdown",
      "metadata": {
        "id": "X0PLUAlJvK0K"
      },
      "source": [
        "# SGD preparation"
      ]
    },
    {
      "cell_type": "markdown",
      "metadata": {
        "id": "xkE5f8JOvK0K"
      },
      "source": [
        "Since the algorithm depends on Gradient descent, numerical features must be scaled."
      ]
    },
    {
      "cell_type": "code",
      "metadata": {
        "trusted": true,
        "id": "PXAWW_ClvK0K"
      },
      "source": [
        "from sklearn.preprocessing import StandardScaler\n",
        "scaler = StandardScaler().fit(x_train.select_dtypes(include =  [\"int64\", \"float64\"])) #.select_dtypes(include =  [\"int64\", \"float64\"])\n",
        "x_train_scaled = scaler.transform(x_train.select_dtypes(include =  [\"int64\", \"float64\"]))\n",
        "scaler = StandardScaler().fit(x_valid.select_dtypes(include =  [\"int64\", \"float64\"]))\n",
        "x_valid_scaled = scaler.transform(x_valid.select_dtypes(include =  [\"int64\", \"float64\"]))"
      ],
      "execution_count": null,
      "outputs": []
    },
    {
      "cell_type": "code",
      "metadata": {
        "trusted": true,
        "id": "fF-lxG2dvK0M",
        "outputId": "03cd9e85-ca5f-4fda-e0f0-7cc93bfae0a0"
      },
      "source": [
        "x_train_scaled"
      ],
      "execution_count": null,
      "outputs": [
        {
          "output_type": "execute_result",
          "data": {
            "text/plain": [
              "array([[-0.8667643 , -0.21289571, -0.22171142, ..., -0.09274033,\n",
              "        -0.13341669,  1.65006527],\n",
              "       [ 0.07410996, -0.26524463, -0.22171142, ..., -0.09274033,\n",
              "        -0.5080097 ,  0.89367742],\n",
              "       [-0.63154574, -0.17784146, -0.22171142, ..., -0.09274033,\n",
              "        -0.5080097 ,  0.13728958],\n",
              "       ...,\n",
              "       [-0.8667643 , -0.23409563, -0.22171142, ..., -0.09274033,\n",
              "        -0.88260272, -1.37548612],\n",
              "       [-0.16110861, -0.28337613, -0.22171142, ..., -0.09274033,\n",
              "        -0.13341669, -0.61909827],\n",
              "       [ 1.48542135, -0.65139925, -0.22171142, ..., -0.09274033,\n",
              "        -0.13341669,  0.89367742]])"
            ]
          },
          "metadata": {
            "tags": []
          },
          "execution_count": 365
        }
      ]
    },
    {
      "cell_type": "code",
      "metadata": {
        "trusted": true,
        "id": "zPS4xydmvK0M",
        "outputId": "adb1dc42-58d4-4252-801e-58467bea7fe7"
      },
      "source": [
        "from sklearn.linear_model  import SGDRegressor\n",
        "from sklearn.metrics import  mean_absolute_error\n",
        "# The default loss funnction is ‘squared_loss’, which refers to the ordinary least squares fit in Model 1. \n",
        "SGDreg   =  SGDRegressor(random_state = 42)\n",
        "SGDreg.fit(x_train_scaled, y_train.ravel())\n",
        "y_pred=SGDreg.predict(x_valid_scaled)\n",
        "\n",
        "print(' Mean Squared Error:', np.sqrt(metrics.mean_squared_error(y_valid, (y_pred))))\n",
        "print(' Mean absolute Error:', np.sqrt(metrics.mean_squared_error(y_valid, (y_pred))))\n"
      ],
      "execution_count": null,
      "outputs": [
        {
          "output_type": "stream",
          "text": [
            " Mean Squared Error: 0.16116794278371105\n",
            " Mean absolute Error: 0.16116794278371105\n"
          ],
          "name": "stdout"
        }
      ]
    },
    {
      "cell_type": "markdown",
      "metadata": {
        "id": "K4OiF61wvK0N"
      },
      "source": [
        "### Q: The default loss funnction is ‘squared_loss’, which refers to the ordinary least squares fit in Model 1. Shouldn't the loss from both models be the same??"
      ]
    },
    {
      "cell_type": "code",
      "metadata": {
        "trusted": true,
        "id": "tJkaALCDvK0N",
        "outputId": "826b5179-9896-47f1-f598-d6e5ad82b17d"
      },
      "source": [
        "plt.figure(figsize=(10, 5))\n",
        "plt.scatter(y_valid, y_pred, s=30)\n",
        "plt.title('SGDRegressor>>Predicted vs. Actual Sale Price')\n",
        "plt.xlabel('Actual Sale Price')\n",
        "plt.ylabel('Predicted Sale Price')\n",
        "\n",
        "#plt.plot([min(y_valid), max(y_valid)], [min(y_valid), max(y_valid)])\n",
        "#plt.tight_layout()"
      ],
      "execution_count": null,
      "outputs": [
        {
          "output_type": "execute_result",
          "data": {
            "text/plain": [
              "Text(0, 0.5, 'Predicted Sale Price')"
            ]
          },
          "metadata": {
            "tags": []
          },
          "execution_count": 367
        },
        {
          "output_type": "display_data",
          "data": {
            "text/plain": [
              "<Figure size 720x360 with 1 Axes>"
            ],
            "image/png": "[encoded data removed]"
          },
          "metadata": {
            "tags": [],
            "needs_background": "light"
          }
        }
      ]
    },
    {
      "cell_type": "markdown",
      "metadata": {
        "id": "PT8onCMovK0O"
      },
      "source": [
        "It's clear that the results   of both SGD and OLS are very close.  This is because The default loss funnction is ‘squared_loss’, which refers to the ordinary least squares fit in Model 1. "
      ]
    },
    {
      "cell_type": "markdown",
      "metadata": {
        "id": "wMk-S3KtvK0O"
      },
      "source": [
        "## Trying different learning rates\n",
        "\n",
        "learning_rate string, default=’invscaling’\n",
        "\n",
        "The learning rate schedule:\n",
        "\n",
        "‘constant’: eta = eta0\n",
        "\n",
        "‘optimal’: eta = 1.0 / (alpha * (t + t0)) where t0 is chosen by a heuristic proposed by Leon Bottou.\n",
        "\n",
        "‘invscaling’: eta = eta0 / pow(t, power_t)\n",
        "\n",
        "‘adaptive’: eta = eta0, as long as the training keeps decreasing. Each time n_iter_no_change consecutive epochs fail to decrease the training loss by tol or fail to increase validation score by tol if early_stopping is True, the current learning rate is divided by 5.\n"
      ]
    },
    {
      "cell_type": "code",
      "metadata": {
        "trusted": true,
        "id": "gMdU8cXJvK0O",
        "outputId": "ccacac3a-31a4-4975-ffb3-2a2bad89ab17"
      },
      "source": [
        "from sklearn.linear_model  import SGDRegressor\n",
        "from sklearn.metrics import  mean_absolute_error\n",
        "# The default loss funnction is ‘squared_loss’, which refers to the ordinary least squares fit in Model 1. \n",
        "SGDreg   =  SGDRegressor(learning_rate = \"constant\", eta0 = 0.1, random_state = 42)\n",
        "SGDreg.fit(x_train_scaled, y_train)\n",
        "y_pred=SGDreg.predict(x_valid_scaled)\n",
        "\n",
        "print(' Mean Squared Error:', np.sqrt(metrics.mean_squared_error(y_valid, y_pred)))\n",
        "\n",
        "\n",
        "print(' Mean absolute Error:', np.sqrt(metrics.mean_squared_error(y_valid, y_pred)))\n"
      ],
      "execution_count": null,
      "outputs": [
        {
          "output_type": "stream",
          "text": [
            " Mean Squared Error: 2513421699689.6484\n",
            " Mean absolute Error: 2513421699689.6484\n"
          ],
          "name": "stdout"
        }
      ]
    },
    {
      "cell_type": "markdown",
      "metadata": {
        "id": "hoVjOZYavK0P"
      },
      "source": [
        "Woah! that's a huge error! looks like a 0.1 learning rate along with a large number of features makes the model take steps further away from the true y values. Let's try a smaller learning rate."
      ]
    },
    {
      "cell_type": "code",
      "metadata": {
        "trusted": true,
        "id": "bmB38lZLvK0P",
        "outputId": "308686d5-371a-4f06-cd51-e74e09280581"
      },
      "source": [
        "plt.figure(figsize=(10, 5))\n",
        "plt.scatter(y_valid, y_pred, s=30)\n",
        "plt.title('SGDRegressor>>Predicted vs. Actual Sale Price')\n",
        "plt.xlabel('Actual Sale Price')\n",
        "plt.ylabel('Predicted Sale Price')\n",
        "\n",
        "#plt.plot([min(y_valid), max(y_valid)], [min(y_valid), max(y_valid)])\n",
        "#plt.tight_layout()"
      ],
      "execution_count": null,
      "outputs": [
        {
          "output_type": "execute_result",
          "data": {
            "text/plain": [
              "Text(0, 0.5, 'Predicted Sale Price')"
            ]
          },
          "metadata": {
            "tags": []
          },
          "execution_count": 369
        },
        {
          "output_type": "display_data",
          "data": {
            "text/plain": [
              "<Figure size 720x360 with 1 Axes>"
            ],
            "image/png": "[encoded data removed]"
          },
          "metadata": {
            "tags": [],
            "needs_background": "light"
          }
        }
      ]
    },
    {
      "cell_type": "code",
      "metadata": {
        "trusted": true,
        "id": "4LpSrIY9vK0P",
        "outputId": "80399d32-550c-4374-e442-1f19054c7d4b"
      },
      "source": [
        "from sklearn.linear_model  import SGDRegressor\n",
        "from sklearn.metrics import  mean_absolute_error\n",
        "# The default loss funnction is ‘squared_loss’, which refers to the ordinary least squares fit in Model 1. \n",
        "SGDreg   =  SGDRegressor(learning_rate = \"constant\", eta0 = 0.001, random_state = 42)\n",
        "SGDreg.fit(x_train_scaled, y_train)\n",
        "y_pred=SGDreg.predict(x_valid_scaled)\n",
        "\n",
        "print(' Mean Squared Error:', np.sqrt(metrics.mean_squared_error(y_valid, y_pred)))\n",
        "\n",
        "\n",
        "print(' Mean absolute Error:', np.sqrt(metrics.mean_squared_error(y_valid, y_pred)))\n"
      ],
      "execution_count": null,
      "outputs": [
        {
          "output_type": "stream",
          "text": [
            " Mean Squared Error: 0.157609485717415\n",
            " Mean absolute Error: 0.157609485717415\n"
          ],
          "name": "stdout"
        }
      ]
    },
    {
      "cell_type": "markdown",
      "metadata": {
        "id": "Wmexi_TBvK0P"
      },
      "source": [
        "#### Trying the ADAPTIVE learning rate\n",
        "‘adaptive’: eta = eta0, as long as the training keeps decreasing. Each time n_iter_no_change consecutive epochs fail to decrease the training loss by tol or fail to increase validation score by tol if early_stopping is True, the current learning rate is divided by 5."
      ]
    },
    {
      "cell_type": "code",
      "metadata": {
        "trusted": true,
        "id": "bduS6-HEvK0P",
        "outputId": "dc22ad29-ff54-483a-df84-3900b4cbeb24"
      },
      "source": [
        "from sklearn.linear_model  import SGDRegressor\n",
        "from sklearn.metrics import  mean_absolute_error\n",
        "# The default loss funnction is ‘squared_loss’, which refers to the ordinary least squares fit in Model 1. \n",
        "SGDreg   =  SGDRegressor(learning_rate = \"adaptive\", eta0 = 0.001, random_state = 42)\n",
        "SGDreg.fit(x_train_scaled, y_train)\n",
        "y_pred=SGDreg.predict(x_valid_scaled)\n",
        "\n",
        "print(' Mean Squared Error:', np.sqrt(metrics.mean_squared_error(y_valid, y_pred)))\n",
        "\n",
        "\n",
        "print(' Mean absolute Error:', np.sqrt(metrics.mean_squared_error(y_valid, y_pred)))\n"
      ],
      "execution_count": null,
      "outputs": [
        {
          "output_type": "stream",
          "text": [
            " Mean Squared Error: 0.15812079099559612\n",
            " Mean absolute Error: 0.15812079099559612\n"
          ],
          "name": "stdout"
        }
      ]
    },
    {
      "cell_type": "markdown",
      "metadata": {
        "id": "23l_pp9HvK0Q"
      },
      "source": [
        "There isn't a clear difference between adaptive and constant learning rate at eta0=.001, This could mean that the model didn't reach 5 epochs without learning, so both methods ended up being equivalent."
      ]
    },
    {
      "cell_type": "code",
      "metadata": {
        "trusted": true,
        "id": "gm49ShZdvK0Q",
        "outputId": "942c10ec-c7e7-45e6-bd9b-060ddef20f18"
      },
      "source": [
        "plt.figure(figsize=(10, 5))\n",
        "plt.scatter(y_valid, y_pred, s=30)\n",
        "plt.title('SGDRegressor>>Predicted vs. Actual Sale Price, adaptive lr')\n",
        "plt.xlabel('Actual Sale Price')\n",
        "plt.ylabel('Predicted Sale Price')\n",
        "\n",
        "#plt.plot([min(y_valid), max(y_valid)], [min(y_valid), max(y_valid)])\n",
        "#plt.tight_layout()"
      ],
      "execution_count": null,
      "outputs": [
        {
          "output_type": "execute_result",
          "data": {
            "text/plain": [
              "Text(0, 0.5, 'Predicted Sale Price')"
            ]
          },
          "metadata": {
            "tags": []
          },
          "execution_count": 372
        },
        {
          "output_type": "display_data",
          "data": {
            "text/plain": [
              "<Figure size 720x360 with 1 Axes>"
            ],
            "image/png": "[encoded data removed]"
          },
          "metadata": {
            "tags": [],
            "needs_background": "light"
          }
        }
      ]
    },
    {
      "cell_type": "markdown",
      "metadata": {
        "id": "5Z-ktdekvK0Q"
      },
      "source": [
        "# loss function??"
      ]
    },
    {
      "cell_type": "markdown",
      "metadata": {
        "id": "UosPwmGcvK0Q"
      },
      "source": [
        "HowtokowifSGDisoverfittig"
      ]
    },
    {
      "cell_type": "markdown",
      "metadata": {
        "id": "fFNzaVMyvK0Q"
      },
      "source": [
        "# 3. Ridge regression"
      ]
    },
    {
      "cell_type": "markdown",
      "metadata": {
        "id": "Op7LQMeKvK0R"
      },
      "source": [
        "Ridge regression addresses some of the problems of Ordinary Least Squares by imposing a penalty on the size of the coefficients. The ridge coefficients minimize a penalized residual sum of squares:\n",
        "\n",
        "The complexity parameter controls the amount of shrinkage: the larger the value of , the greater the amount of shrinkage .\n",
        "\n"
      ]
    },
    {
      "cell_type": "code",
      "metadata": {
        "trusted": true,
        "id": "RIqKCO3BvK0R",
        "outputId": "6e15be20-9927-4a46-cb56-7d3c7ec36728"
      },
      "source": [
        "from sklearn.linear_model import Ridge, Lasso\n",
        "\n",
        "\n",
        "parameters = {'alpha': [1e-5, 1e-4, 1e-3, 1e-2, 1e-1, 0.0, 1.0, 10.0, 100.0]}\n",
        "\n",
        "ridge = GridSearchCV(Ridge(), parameters, cv = 10, n_jobs=-1, verbose=1)\n",
        "\n",
        "ridge.fit(x_train, y_train)\n",
        "\n",
        "print('Best Model Parameters:', ridge.best_params_)\n",
        "print('R2 score:', ridge.best_score_)\n",
        "\n",
        "\n"
      ],
      "execution_count": null,
      "outputs": [
        {
          "output_type": "stream",
          "text": [
            "Fitting 10 folds for each of 9 candidates, totalling 90 fits\n",
            "Best Model Parameters: {'alpha': 10.0}\n",
            "R2 score: 0.8530570278924514\n"
          ],
          "name": "stdout"
        }
      ]
    },
    {
      "cell_type": "code",
      "metadata": {
        "trusted": true,
        "id": "M8Z008P4vK0R",
        "outputId": "50a4fb09-e980-4c24-bebe-36a19c2f2104"
      },
      "source": [
        "\n",
        "ridge=Ridge(alpha= 10,random_state=42)\n",
        "\n",
        "ridge.fit(x_train,y_train)"
      ],
      "execution_count": null,
      "outputs": [
        {
          "output_type": "execute_result",
          "data": {
            "text/plain": [
              "Ridge(alpha=10, random_state=42)"
            ]
          },
          "metadata": {
            "tags": []
          },
          "execution_count": 374
        }
      ]
    },
    {
      "cell_type": "code",
      "metadata": {
        "trusted": true,
        "id": "I4_KUwCavK0R"
      },
      "source": [
        "y_pred_ridge=ridge.predict(x_valid)"
      ],
      "execution_count": null,
      "outputs": []
    },
    {
      "cell_type": "code",
      "metadata": {
        "trusted": true,
        "id": "cvvy3MZpvK0S",
        "outputId": "13285261-c151-4b5a-d66a-41750037b419"
      },
      "source": [
        "print(\"R2score:   \",ridge.score(x_valid,    y_valid))\n",
        "print('Mean Squared Error:', metrics.mean_squared_error(y_valid, y_pred_ridge))\n",
        "print('Root Mean Squared Error:', np.sqrt(metrics.mean_squared_error(y_valid, y_pred_ridge)))"
      ],
      "execution_count": null,
      "outputs": [
        {
          "output_type": "stream",
          "text": [
            "R2score:    0.8993406968863343\n",
            "Mean Squared Error: 0.018784132064724103\n",
            "Root Mean Squared Error: 0.13705521538680715\n"
          ],
          "name": "stdout"
        }
      ]
    },
    {
      "cell_type": "code",
      "metadata": {
        "trusted": true,
        "id": "kCbT1hyGvK0S",
        "outputId": "53c5d231-d831-46ff-90ce-5d8879bf7d4f"
      },
      "source": [
        "plt.figure(figsize=(10, 5))\n",
        "plt.scatter(y_valid, y_pred_ridge, s=30)\n",
        "plt.title('ridge Regressor>>Predicted vs. Actual Sale Price')\n",
        "plt.xlabel('Actual Sale Price')\n",
        "plt.ylabel('Predicted Sale Price')\n",
        "\n",
        "#plt.plot([min(y_valid), max(y_valid)], [min(y_valid), max(y_valid)])\n",
        "#plt.tight_layout()"
      ],
      "execution_count": null,
      "outputs": [
        {
          "output_type": "execute_result",
          "data": {
            "text/plain": [
              "Text(0, 0.5, 'Predicted Sale Price')"
            ]
          },
          "metadata": {
            "tags": []
          },
          "execution_count": 377
        },
        {
          "output_type": "display_data",
          "data": {
            "text/plain": [
              "<Figure size 720x360 with 1 Axes>"
            ],
            "image/png": "[encoded data removed]"
          },
          "metadata": {
            "tags": [],
            "needs_background": "light"
          }
        }
      ]
    },
    {
      "cell_type": "markdown",
      "metadata": {
        "id": "2j2kUdxcvK0S"
      },
      "source": [
        "It's clear that the first 3 left points are better approximated using ridge, this could be explained by the penalty that the ridge introduced which \"loosened\" the linear model and resulted in better generalization"
      ]
    },
    {
      "cell_type": "markdown",
      "metadata": {
        "id": "rsSM8D2vvK0S"
      },
      "source": [
        "# 4. Lasso regression"
      ]
    },
    {
      "cell_type": "code",
      "metadata": {
        "trusted": true,
        "id": "Abn7aTg8vK0T",
        "outputId": "25633a13-80f4-47e2-cc16-6f860596c6c8"
      },
      "source": [
        "from sklearn.linear_model import Ridge, Lasso, ElasticNet\n",
        "\n",
        "\n",
        "parameters = {'alpha': [1e-5, 1e-4, 1e-3, 1e-2, 1e-1, 0.0, 1.0, 10.0, 100.0]}\n",
        "\n",
        "lasso = GridSearchCV(Lasso(), parameters, cv = 10, n_jobs=-1, verbose=1)\n",
        "\n",
        "lasso.fit(x_train, y_train)\n",
        "\n",
        "print('Best Model Parameters:', lasso.best_params_)\n",
        "print('R2 score:', lasso.best_score_)\n",
        "\n",
        "\n"
      ],
      "execution_count": null,
      "outputs": [
        {
          "output_type": "stream",
          "text": [
            "Fitting 10 folds for each of 9 candidates, totalling 90 fits\n",
            "Best Model Parameters: {'alpha': 0.001}\n",
            "R2 score: 0.8497315303294155\n"
          ],
          "name": "stdout"
        }
      ]
    },
    {
      "cell_type": "code",
      "metadata": {
        "trusted": true,
        "id": "Fe3R-UzQvK0T"
      },
      "source": [
        "lasso=Lasso(alpha = .001)\n",
        "lasso.fit(x_train, y_train)\n",
        "y_pred_lasso=lasso.predict(x_valid)"
      ],
      "execution_count": null,
      "outputs": []
    },
    {
      "cell_type": "code",
      "metadata": {
        "trusted": true,
        "id": "F4PAI4l3vK0T",
        "outputId": "64928ad9-3871-4c8a-d7bd-c63a9e67a65c"
      },
      "source": [
        "print(\"R2score:   \",lasso.score(x_valid,    y_valid))\n",
        "print('Mean Squared Error:', metrics.mean_squared_error(y_valid, y_pred_lasso))\n",
        "print('Root Mean Squared Error:', np.sqrt(metrics.mean_squared_error(y_valid, y_pred_lasso)))"
      ],
      "execution_count": null,
      "outputs": [
        {
          "output_type": "stream",
          "text": [
            "R2score:    0.8910617255087339\n",
            "Mean Squared Error: 0.02032907909799842\n",
            "Root Mean Squared Error: 0.14258007959739122\n"
          ],
          "name": "stdout"
        }
      ]
    },
    {
      "cell_type": "markdown",
      "metadata": {
        "id": "7xY2yiqvvK0U"
      },
      "source": [
        "The error in Lasso is slightly larger than Ridge, perhabs this is because Lasso uses the L1 norm, while Ridge uses a more aggressive regularization methid: L2 norm. With the large number of features, aggressive reg. is expected to perform better and decrease overfitting"
      ]
    },
    {
      "cell_type": "markdown",
      "metadata": {
        "id": "t1MW91d8vK0U"
      },
      "source": [
        "# Q: why does the error increase when I increase alpha??"
      ]
    },
    {
      "cell_type": "markdown",
      "metadata": {
        "id": "dkCPgr0svK0U"
      },
      "source": [
        "# 5. ElasticNet"
      ]
    },
    {
      "cell_type": "markdown",
      "metadata": {
        "id": "UvgxiCw7vK0U"
      },
      "source": [
        "Linear regression with combined L1 and L2 priors as regularizer."
      ]
    },
    {
      "cell_type": "code",
      "metadata": {
        "trusted": true,
        "id": "t1hg9DadvK0U"
      },
      "source": [
        "elastic =  ElasticNet(alpha = .001)\n",
        "elastic.fit(x_train, y_train)\n",
        "y_pred_el= elastic.predict(x_valid)"
      ],
      "execution_count": null,
      "outputs": []
    },
    {
      "cell_type": "code",
      "metadata": {
        "trusted": true,
        "id": "5CLATJxavK0V",
        "outputId": "064a216b-a638-4258-dd95-8f2e34ee3ede"
      },
      "source": [
        "print(\"R2score:   \",elastic.score(x_valid,    y_valid))\n",
        "print('Mean Squared Error:', metrics.mean_squared_error(y_valid, y_pred_el))\n",
        "print('Root Mean Squared Error:', np.sqrt(metrics.mean_squared_error(y_valid, y_pred_el)))"
      ],
      "execution_count": null,
      "outputs": [
        {
          "output_type": "stream",
          "text": [
            "R2score:    0.8982862479831502\n",
            "Mean Squared Error: 0.018980903816963917\n",
            "Root Mean Squared Error: 0.13777120097089926\n"
          ],
          "name": "stdout"
        }
      ]
    },
    {
      "cell_type": "markdown",
      "metadata": {
        "id": "S7-frMiivK0V"
      },
      "source": [
        "# 6. SVR"
      ]
    },
    {
      "cell_type": "markdown",
      "metadata": {
        "id": "Mxt0eWmVvK0V"
      },
      "source": [
        "SVR is a distance-based algorithm, so we must use scaled features.(if we do not scale all features to comparable ranges, the features with the alrgest range will completely dominate in the computation of the kernel matrix)"
      ]
    },
    {
      "cell_type": "code",
      "metadata": {
        "trusted": true,
        "id": "UgHKQG5_vK0W"
      },
      "source": [
        " from sklearn.svm import SVR"
      ],
      "execution_count": null,
      "outputs": []
    },
    {
      "cell_type": "code",
      "metadata": {
        "trusted": true,
        "id": "761mFtMVvK0W"
      },
      "source": [
        "svr = SVR(kernel = \"linear\")\n",
        "svr.fit(x_train_scaled, y_train)\n",
        "y_pred_svr = svr.predict(x_valid_scaled)"
      ],
      "execution_count": null,
      "outputs": []
    },
    {
      "cell_type": "code",
      "metadata": {
        "trusted": true,
        "id": "waeJI4QQvK0X",
        "outputId": "588e5f2d-5e72-4238-9d7d-84c25870cbb1"
      },
      "source": [
        "\n",
        "print('Mean Squared Error:', metrics.mean_squared_error(y_valid, y_pred_svr))\n",
        "print('Root Mean Squared Error:', np.sqrt(metrics.mean_squared_error(y_valid, y_pred_svr)))"
      ],
      "execution_count": null,
      "outputs": [
        {
          "output_type": "stream",
          "text": [
            "Mean Squared Error: 0.021427036030402025\n",
            "Root Mean Squared Error: 0.14637976646518475\n"
          ],
          "name": "stdout"
        }
      ]
    },
    {
      "cell_type": "markdown",
      "metadata": {
        "id": "wKwkNvgmvK0X"
      },
      "source": [
        "### rbf kernel"
      ]
    },
    {
      "cell_type": "code",
      "metadata": {
        "trusted": true,
        "id": "8AGeapqBvK0X"
      },
      "source": [
        "svr = SVR(kernel = \"rbf\")\n",
        "svr.fit(x_train_scaled, y_train)\n",
        "y_pred_svr = svr.predict(x_valid_scaled)"
      ],
      "execution_count": null,
      "outputs": []
    },
    {
      "cell_type": "code",
      "metadata": {
        "trusted": true,
        "id": "CYyAjw6RvK0X",
        "outputId": "e7d19d0e-9554-45ea-a8d5-a63e47180a1a"
      },
      "source": [
        "\n",
        "print('Mean Squared Error:', metrics.mean_squared_error(y_valid, y_pred_svr))\n",
        "print('Root Mean Squared Error:', np.sqrt(metrics.mean_squared_error(y_valid, y_pred_svr)))"
      ],
      "execution_count": null,
      "outputs": [
        {
          "output_type": "stream",
          "text": [
            "Mean Squared Error: 0.03581058859413011\n",
            "Root Mean Squared Error: 0.18923685844499244\n"
          ],
          "name": "stdout"
        }
      ]
    },
    {
      "cell_type": "code",
      "metadata": {
        "trusted": true,
        "id": "UzwTIigFvK0Y"
      },
      "source": [
        "svr = SVR(kernel = \"poly\")\n",
        "svr.fit(x_train_scaled, y_train)\n",
        "y_pred_svr = svr.predict(x_valid_scaled)"
      ],
      "execution_count": null,
      "outputs": []
    },
    {
      "cell_type": "code",
      "metadata": {
        "trusted": true,
        "id": "KIToxzRwvK0Y",
        "outputId": "7c890933-3de2-4ab0-cc4e-bfa81a6aad80"
      },
      "source": [
        "\n",
        "print('Mean Squared Error:', metrics.mean_squared_error(y_valid, y_pred_svr))\n",
        "print('Root Mean Squared Error:', np.sqrt(metrics.mean_squared_error(y_valid, y_pred_svr)))"
      ],
      "execution_count": null,
      "outputs": [
        {
          "output_type": "stream",
          "text": [
            "Mean Squared Error: 0.029932444272610107\n",
            "Root Mean Squared Error: 0.17300995425873653\n"
          ],
          "name": "stdout"
        }
      ]
    },
    {
      "cell_type": "markdown",
      "metadata": {
        "id": "2CPj9EAjvK0Y"
      },
      "source": [
        "linear kernel resulted in the lowes error. maybe this indicats that the relationship between y and X's is linear and there isn't a need for a non-linear kernel"
      ]
    },
    {
      "cell_type": "markdown",
      "metadata": {
        "id": "x9uTPeEFvK0Y"
      },
      "source": [
        "# < The end >"
      ]
    }
  ]
}