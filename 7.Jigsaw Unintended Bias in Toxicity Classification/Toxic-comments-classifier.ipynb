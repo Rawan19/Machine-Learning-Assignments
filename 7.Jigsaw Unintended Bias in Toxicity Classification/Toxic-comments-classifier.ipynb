{
  "nbformat": 4,
  "nbformat_minor": 0,
  "metadata": {
    "accelerator": "GPU",
    "colab": {
      "name": "7_Ass7_Rawa.ipynb",
      "provenance": [],
      "collapsed_sections": [],
      "toc_visible": true
    },
    "kernelspec": {
      "display_name": "Python 3",
      "name": "python3"
    },
    "language_info": {
      "name": "python"
    }
  },
  "cells": [
    {
      "cell_type": "markdown",
      "metadata": {
        "id": "-C-wz6ka8dre"
      },
      "source": [
        "#Jigsaw Unintended Bias in Toxicity Classification\n",
        "\n",
        "Detect toxicity across a diverse range of conversations.\n",
        "\n",
        "https://www.kaggle.com/c/jigsaw-unintended-bias-in-toxicity-classification/data"
      ]
    },
    {
      "cell_type": "code",
      "metadata": {
        "colab": {
          "base_uri": "https://localhost:8080/"
        },
        "id": "ffD1Irxq8Rxg",
        "outputId": "63493b7b-66c7-4f81-fd9b-850c06938c31"
      },
      "source": [
        "from google.colab import drive\n",
        "import keras\n",
        "\n",
        "from keras.preprocessing.text import text_to_word_sequence\n",
        "from keras.preprocessing.text import Tokenizer  \n",
        "from keras.preprocessing.sequence import pad_sequences\n",
        "from keras import models\n",
        "from keras import layers\n",
        "from keras import optimizers\n",
        "import pandas as pd\n",
        "import numpy as np\n",
        "import matplotlib.pyplot as plt\n",
        "import re\n",
        "import string\n",
        "import nltk\n",
        "nltk.download('punkt')\n",
        "from nltk.tokenize import word_tokenize\n",
        "from nltk.corpus import stopwords\n",
        "nltk.download('stopwords')\n",
        "from nltk.stem.porter import PorterStemmer\n",
        "from nltk.stem import WordNetLemmatizer\n",
        "nltk.download('wordnet')\n",
        "from nltk.corpus import wordnet\n",
        "import unicodedata\n",
        "import html\n",
        "from sklearn.model_selection import train_test_split\n",
        "from tensorflow.keras.layers import Embedding\n"
      ],
      "execution_count": null,
      "outputs": [
        {
          "output_type": "stream",
          "text": [
            "[nltk_data] Downloading package punkt to /root/nltk_data...\n",
            "[nltk_data]   Package punkt is already up-to-date!\n",
            "[nltk_data] Downloading package stopwords to /root/nltk_data...\n",
            "[nltk_data]   Package stopwords is already up-to-date!\n",
            "[nltk_data] Downloading package wordnet to /root/nltk_data...\n",
            "[nltk_data]   Package wordnet is already up-to-date!\n"
          ],
          "name": "stdout"
        }
      ]
    },
    {
      "cell_type": "code",
      "metadata": {
        "colab": {
          "base_uri": "https://localhost:8080/"
        },
        "id": "MthaizOq82bZ",
        "outputId": "85af4c37-ce58-4493-8175-5e51b9128a4b"
      },
      "source": [
        "\n",
        "drive.mount(\"/content/colab/\")"
      ],
      "execution_count": null,
      "outputs": [
        {
          "output_type": "stream",
          "text": [
            "Drive already mounted at /content/colab/; to attempt to forcibly remount, call drive.mount(\"/content/colab/\", force_remount=True).\n"
          ],
          "name": "stdout"
        }
      ]
    },
    {
      "cell_type": "code",
      "metadata": {
        "colab": {
          "base_uri": "https://localhost:8080/"
        },
        "id": "9edp_ZT184RM",
        "outputId": "1fe7185b-c777-41fc-ae0f-d433b438ceef"
      },
      "source": [
        "%cd \"colab/MyDrive/Assignment7\""
      ],
      "execution_count": null,
      "outputs": [
        {
          "output_type": "stream",
          "text": [
            "/content/colab/MyDrive/Assignment7\n"
          ],
          "name": "stdout"
        }
      ]
    },
    {
      "cell_type": "code",
      "metadata": {
        "id": "qFtYdpA6BOXC"
      },
      "source": [
        "# # Install Kaggle API\n",
        "# !pip install --quiet kaggle\n",
        "\n",
        "# import os\n",
        "# if '.kaggle' not in os.listdir('/root'):\n",
        "#     !mkdir ~/.kaggle\n",
        "\n",
        "# # !mkdir -p ~/.kaggle\n",
        "# !cp /content/kaggle.json ~/.kaggle/\n",
        "\n",
        "# !chmod 600 /root/.kaggle/kaggle.json\n",
        "\n",
        "# # Get the dataset\n",
        "# !kaggle competitions download -c jigsaw-unintended-bias-in-toxicity-classification"
      ],
      "execution_count": null,
      "outputs": []
    },
    {
      "cell_type": "code",
      "metadata": {
        "colab": {
          "base_uri": "https://localhost:8080/"
        },
        "id": "q_z6QwPM_aDZ",
        "outputId": "81a51921-6dd9-401f-9f5d-12e87c9f4e7a"
      },
      "source": [
        "!ls"
      ],
      "execution_count": null,
      "outputs": [
        {
          "output_type": "stream",
          "text": [
            "all_data.csv.zip\n",
            "glove.6B.100d.txt\n",
            "glove.6B.50d.txt\n",
            "identity_individual_annotations.csv.zip\n",
            "sample_submission.csv.zip\n",
            "test.csv.zip\n",
            "test_private_expanded.csv.zip\n",
            "test_public_expanded.csv.zip\n",
            "toxicity_individual_annotations.csv.zip\n",
            "train_clean_.csv\n",
            "train_clean.csv\n",
            "train.csv.zip\n"
          ],
          "name": "stdout"
        }
      ]
    },
    {
      "cell_type": "code",
      "metadata": {
        "id": "Acawepmp_fPZ"
      },
      "source": [
        "\n",
        "import numpy as np # linear algebra\n",
        "import pandas as pd # data processing, CSV file I/O (e.g. pd.read_csv)\n",
        "import matplotlib.pyplot as plt\n",
        "from sklearn.feature_extraction.text import CountVectorizer, HashingVectorizer, TfidfTransformer\n",
        "from keras.preprocessing.text import Tokenizer \n",
        "from keras.preprocessing.sequence import pad_sequences\n",
        "from sklearn.model_selection import train_test_split\n",
        "from keras import models\n",
        "from keras import layers\n",
        "from keras import optimizers\n",
        "import re\n",
        "import string\n",
        "import nltk\n"
      ],
      "execution_count": null,
      "outputs": []
    },
    {
      "cell_type": "markdown",
      "metadata": {
        "id": "CVJ4qMBfApqV"
      },
      "source": [
        "# Frame the problem"
      ]
    },
    {
      "cell_type": "markdown",
      "metadata": {
        "id": "VkHwIjbX9pGC"
      },
      "source": [
        "This is a** Sequence Classification Problem**"
      ]
    },
    {
      "cell_type": "markdown",
      "metadata": {
        "id": "pT_amrONAqLL"
      },
      "source": [
        "Can you help detect toxic comments ― and minimize unintended model bias? That's your challenge in this competition.\n",
        "\n",
        "The Conversation AI team, a research initiative founded by Jigsaw and Google (both part of Alphabet), builds technology to protect voices in conversation. A main area of focus is machine learning models that can identify toxicity in online conversations, where toxicity is defined as anything rude, disrespectful or otherwise likely to make someone leave a discussion.\n",
        "\n",
        "Jigsaw sponsored this effort and extended annotation of this data by **human raters** for various toxic conversational attributes.\n",
        "\n",
        "The model I'll  be implementing is LSTM/GRU.\n",
        "\n",
        "This  implies   less work   onn  text cleaning, for  instance, there's  no need to  stem  words. However, I'll still  need  to   remove punctuation from words, and convert all characters to lowercase.\n",
        "\n",
        "- **Metric**: We combine the **overall AUC** with the generalized mean of the **Bias AUCs** to calculate the final model score:"
      ]
    },
    {
      "cell_type": "markdown",
      "metadata": {
        "id": "ojfU1vMyzNro"
      },
      "source": [
        "# Evaluation metric in brief\n",
        "## 1.AUC\n",
        "Receiver operating characteristic (ROC) graphs are useful tools to select models for \n",
        "classification based on their performance with respect to the FPR(False PositiveRate) and TPR(True  Positive  Rate), which \n",
        "are computed by shifting the ***decision threshold of the classifier***. The diagonal of \n",
        "the ROC graph can be interpreted as random guessing, and classification models that \n",
        "fall below the diagonal are considered as worse than random guessing. A perfect \n",
        "classifier would fall into the top-left corner of the graph with a TPR of 1 and an FPR \n",
        "of 0. Based on the ROC curve, we can then compute the so-called ROC area under \n",
        "the curve (ROC AUC) to characterize the performance of a classification model.\n",
        "\n",
        " A per‐\n",
        "fect classifier will have a ROC AUC equal to 1, whereas a purely random classifier will\n",
        "have a ROC AUC equal to 0.5.\n",
        "\n",
        "Reporting the performance of a classifier as the ROC AUC can yield further insights \n",
        "into a classifier's performance with respect to **imbalanced samples**,which is our case with the toxic dataset.\n",
        "\n",
        "## 2.Bias AUC\n",
        "In Conversation AI's recent paper *Nuanced Metrics for Measuring Unintended Bias with Real Data in Text Classification*:   \"Most metrics for unintended bias rely on dividing the test dataup by identity or demographic based subgroups and computing  metrics for each group. For our metrics, we also divide data bysubgroup. However, instead of calculating metrics on the subgroupdata exclusively, **our metrics compare the subgroup to the rest ofthe data, which we call the “background” data\"**:\n",
        "\n",
        "a.Subgroup AUC: Here, we restrict the data set to only the examples that mention the specific identity subgroup. A low value in this metric means the model does a poor job of distinguishing between toxic and non-toxic comments that mention the identity.\n",
        "\n",
        "b.BPSN  AUC: Here, we restrict the test set to the non-toxic examples that mention the identity and the toxic examples that do not. A low value in this metric means that the model confuses non-toxic examples that mention the identity with toxic examples that do not, likely meaning that the model predicts higher toxicity scores than it should for non-toxic examples mentioning the identity.\n",
        "\n",
        "c.BNSP AUC: Here, we restrict the test set to the toxic examples that mention the identity and the non-toxic examples that do not. A low value here means that the model confuses toxic examples that mention the identity with non-toxic examples that do not, likely meaning that the model predicts lower toxicity scores than it should for toxic examples mentioning the identity."
      ]
    },
    {
      "cell_type": "markdown",
      "metadata": {
        "id": "b-U0xShTA8lB"
      },
      "source": [
        "# Get the data"
      ]
    },
    {
      "cell_type": "code",
      "metadata": {
        "id": "nkOFqvlg36EE"
      },
      "source": [
        "\n",
        "train_data =pd.read_csv(\"train.csv.zip\")"
      ],
      "execution_count": null,
      "outputs": []
    },
    {
      "cell_type": "code",
      "metadata": {
        "colab": {
          "base_uri": "https://localhost:8080/"
        },
        "id": "lC4zGp_9A1Wj",
        "outputId": "94b4c040-a77a-4243-d022-23ca8f33de32"
      },
      "source": [
        "train_data.info()"
      ],
      "execution_count": null,
      "outputs": [
        {
          "output_type": "stream",
          "text": [
            "<class 'pandas.core.frame.DataFrame'>\n",
            "RangeIndex: 1804874 entries, 0 to 1804873\n",
            "Data columns (total 45 columns):\n",
            " #   Column                               Dtype  \n",
            "---  ------                               -----  \n",
            " 0   id                                   int64  \n",
            " 1   target                               float64\n",
            " 2   comment_text                         object \n",
            " 3   severe_toxicity                      float64\n",
            " 4   obscene                              float64\n",
            " 5   identity_attack                      float64\n",
            " 6   insult                               float64\n",
            " 7   threat                               float64\n",
            " 8   asian                                float64\n",
            " 9   atheist                              float64\n",
            " 10  bisexual                             float64\n",
            " 11  black                                float64\n",
            " 12  buddhist                             float64\n",
            " 13  christian                            float64\n",
            " 14  female                               float64\n",
            " 15  heterosexual                         float64\n",
            " 16  hindu                                float64\n",
            " 17  homosexual_gay_or_lesbian            float64\n",
            " 18  intellectual_or_learning_disability  float64\n",
            " 19  jewish                               float64\n",
            " 20  latino                               float64\n",
            " 21  male                                 float64\n",
            " 22  muslim                               float64\n",
            " 23  other_disability                     float64\n",
            " 24  other_gender                         float64\n",
            " 25  other_race_or_ethnicity              float64\n",
            " 26  other_religion                       float64\n",
            " 27  other_sexual_orientation             float64\n",
            " 28  physical_disability                  float64\n",
            " 29  psychiatric_or_mental_illness        float64\n",
            " 30  transgender                          float64\n",
            " 31  white                                float64\n",
            " 32  created_date                         object \n",
            " 33  publication_id                       int64  \n",
            " 34  parent_id                            float64\n",
            " 35  article_id                           int64  \n",
            " 36  rating                               object \n",
            " 37  funny                                int64  \n",
            " 38  wow                                  int64  \n",
            " 39  sad                                  int64  \n",
            " 40  likes                                int64  \n",
            " 41  disagree                             int64  \n",
            " 42  sexual_explicit                      float64\n",
            " 43  identity_annotator_count             int64  \n",
            " 44  toxicity_annotator_count             int64  \n",
            "dtypes: float64(32), int64(10), object(3)\n",
            "memory usage: 619.7+ MB\n"
          ],
          "name": "stdout"
        }
      ]
    },
    {
      "cell_type": "code",
      "metadata": {
        "id": "X9UXNka3_3NH"
      },
      "source": [
        "test=pd.read_csv(\"test.csv.zip\")"
      ],
      "execution_count": null,
      "outputs": []
    },
    {
      "cell_type": "code",
      "metadata": {
        "colab": {
          "base_uri": "https://localhost:8080/",
          "height": 424
        },
        "id": "Y2oEOsPPAdEp",
        "outputId": "1dd4ac16-09bc-42b4-877f-cb4746d8d0c6"
      },
      "source": [
        "test"
      ],
      "execution_count": null,
      "outputs": [
        {
          "output_type": "execute_result",
          "data": {
            "text/html": [
              "<div>\n",
              "<style scoped>\n",
              "    .dataframe tbody tr th:only-of-type {\n",
              "        vertical-align: middle;\n",
              "    }\n",
              "\n",
              "    .dataframe tbody tr th {\n",
              "        vertical-align: top;\n",
              "    }\n",
              "\n",
              "    .dataframe thead th {\n",
              "        text-align: right;\n",
              "    }\n",
              "</style>\n",
              "<table border=\"1\" class=\"dataframe\">\n",
              "  <thead>\n",
              "    <tr style=\"text-align: right;\">\n",
              "      <th></th>\n",
              "      <th>id</th>\n",
              "      <th>comment_text</th>\n",
              "    </tr>\n",
              "  </thead>\n",
              "  <tbody>\n",
              "    <tr>\n",
              "      <th>0</th>\n",
              "      <td>7097320</td>\n",
              "      <td>[ Integrity means that you pay your debts.]\\n\\...</td>\n",
              "    </tr>\n",
              "    <tr>\n",
              "      <th>1</th>\n",
              "      <td>7097321</td>\n",
              "      <td>This is malfeasance by the Administrator and t...</td>\n",
              "    </tr>\n",
              "    <tr>\n",
              "      <th>2</th>\n",
              "      <td>7097322</td>\n",
              "      <td>@Rmiller101 - Spoken like a true elitist. But ...</td>\n",
              "    </tr>\n",
              "    <tr>\n",
              "      <th>3</th>\n",
              "      <td>7097323</td>\n",
              "      <td>Paul: Thank you for your kind words.  I do, in...</td>\n",
              "    </tr>\n",
              "    <tr>\n",
              "      <th>4</th>\n",
              "      <td>7097324</td>\n",
              "      <td>Sorry you missed high school. Eisenhower sent ...</td>\n",
              "    </tr>\n",
              "    <tr>\n",
              "      <th>...</th>\n",
              "      <td>...</td>\n",
              "      <td>...</td>\n",
              "    </tr>\n",
              "    <tr>\n",
              "      <th>97315</th>\n",
              "      <td>7194635</td>\n",
              "      <td>He should lose his job for promoting mis-infor...</td>\n",
              "    </tr>\n",
              "    <tr>\n",
              "      <th>97316</th>\n",
              "      <td>7194636</td>\n",
              "      <td>\"Thinning project is meant to lower fire dange...</td>\n",
              "    </tr>\n",
              "    <tr>\n",
              "      <th>97317</th>\n",
              "      <td>7194637</td>\n",
              "      <td>I hope you millennials are happy that you put ...</td>\n",
              "    </tr>\n",
              "    <tr>\n",
              "      <th>97318</th>\n",
              "      <td>7194638</td>\n",
              "      <td>I'm thinking Kellyanne Conway (a.k.a. The Trum...</td>\n",
              "    </tr>\n",
              "    <tr>\n",
              "      <th>97319</th>\n",
              "      <td>7194639</td>\n",
              "      <td>I still can't figure why a pizza in AK cost mo...</td>\n",
              "    </tr>\n",
              "  </tbody>\n",
              "</table>\n",
              "<p>97320 rows × 2 columns</p>\n",
              "</div>"
            ],
            "text/plain": [
              "            id                                       comment_text\n",
              "0      7097320  [ Integrity means that you pay your debts.]\\n\\...\n",
              "1      7097321  This is malfeasance by the Administrator and t...\n",
              "2      7097322  @Rmiller101 - Spoken like a true elitist. But ...\n",
              "3      7097323  Paul: Thank you for your kind words.  I do, in...\n",
              "4      7097324  Sorry you missed high school. Eisenhower sent ...\n",
              "...        ...                                                ...\n",
              "97315  7194635  He should lose his job for promoting mis-infor...\n",
              "97316  7194636  \"Thinning project is meant to lower fire dange...\n",
              "97317  7194637  I hope you millennials are happy that you put ...\n",
              "97318  7194638  I'm thinking Kellyanne Conway (a.k.a. The Trum...\n",
              "97319  7194639  I still can't figure why a pizza in AK cost mo...\n",
              "\n",
              "[97320 rows x 2 columns]"
            ]
          },
          "metadata": {
            "tags": []
          },
          "execution_count": 10
        }
      ]
    },
    {
      "cell_type": "markdown",
      "metadata": {
        "id": "UgemiQI9OBI2"
      },
      "source": [
        "\n",
        "**Toxicity lables:**\n",
        "    severe_toxicity\n",
        "\n",
        "    obscene\n",
        "\n",
        "    threat\n",
        "\n",
        "    insult\n",
        "\n",
        "    identity_attack\n",
        "\n",
        "    sexual_explicit\n",
        "    \n",
        "\n",
        "\n",
        "---\n",
        "\n"
      ]
    },
    {
      "cell_type": "markdown",
      "metadata": {
        "id": "QDqdh9NePfxy"
      },
      "source": [
        "In addition to the labels described above, the dataset also provides metadata from Jigsaw's annotation: **toxicity_annotator_count** and identity_annotator_count, and metadata from Civil Comments: created_date, publication_id, parent_id, article_id, rating, funny, wow, sad, likes, disagree. Civil Comments' label rating is the civility rating Civil Comments users gave the comment."
      ]
    },
    {
      "cell_type": "code",
      "metadata": {
        "colab": {
          "base_uri": "https://localhost:8080/",
          "height": 452
        },
        "id": "z5sQ4TGKOwxf",
        "outputId": "d41e54da-6c01-4530-db9e-7a5e7a572225"
      },
      "source": [
        "train_data.head()"
      ],
      "execution_count": null,
      "outputs": [
        {
          "output_type": "execute_result",
          "data": {
            "text/html": [
              "<div>\n",
              "<style scoped>\n",
              "    .dataframe tbody tr th:only-of-type {\n",
              "        vertical-align: middle;\n",
              "    }\n",
              "\n",
              "    .dataframe tbody tr th {\n",
              "        vertical-align: top;\n",
              "    }\n",
              "\n",
              "    .dataframe thead th {\n",
              "        text-align: right;\n",
              "    }\n",
              "</style>\n",
              "<table border=\"1\" class=\"dataframe\">\n",
              "  <thead>\n",
              "    <tr style=\"text-align: right;\">\n",
              "      <th></th>\n",
              "      <th>id</th>\n",
              "      <th>target</th>\n",
              "      <th>comment_text</th>\n",
              "      <th>severe_toxicity</th>\n",
              "      <th>obscene</th>\n",
              "      <th>identity_attack</th>\n",
              "      <th>insult</th>\n",
              "      <th>threat</th>\n",
              "      <th>asian</th>\n",
              "      <th>atheist</th>\n",
              "      <th>bisexual</th>\n",
              "      <th>black</th>\n",
              "      <th>buddhist</th>\n",
              "      <th>christian</th>\n",
              "      <th>female</th>\n",
              "      <th>heterosexual</th>\n",
              "      <th>hindu</th>\n",
              "      <th>homosexual_gay_or_lesbian</th>\n",
              "      <th>intellectual_or_learning_disability</th>\n",
              "      <th>jewish</th>\n",
              "      <th>latino</th>\n",
              "      <th>male</th>\n",
              "      <th>muslim</th>\n",
              "      <th>other_disability</th>\n",
              "      <th>other_gender</th>\n",
              "      <th>other_race_or_ethnicity</th>\n",
              "      <th>other_religion</th>\n",
              "      <th>other_sexual_orientation</th>\n",
              "      <th>physical_disability</th>\n",
              "      <th>psychiatric_or_mental_illness</th>\n",
              "      <th>transgender</th>\n",
              "      <th>white</th>\n",
              "      <th>created_date</th>\n",
              "      <th>publication_id</th>\n",
              "      <th>parent_id</th>\n",
              "      <th>article_id</th>\n",
              "      <th>rating</th>\n",
              "      <th>funny</th>\n",
              "      <th>wow</th>\n",
              "      <th>sad</th>\n",
              "      <th>likes</th>\n",
              "      <th>disagree</th>\n",
              "      <th>sexual_explicit</th>\n",
              "      <th>identity_annotator_count</th>\n",
              "      <th>toxicity_annotator_count</th>\n",
              "    </tr>\n",
              "  </thead>\n",
              "  <tbody>\n",
              "    <tr>\n",
              "      <th>0</th>\n",
              "      <td>59848</td>\n",
              "      <td>0.000000</td>\n",
              "      <td>This is so cool. It's like, 'would you want yo...</td>\n",
              "      <td>0.000000</td>\n",
              "      <td>0.0</td>\n",
              "      <td>0.000000</td>\n",
              "      <td>0.00000</td>\n",
              "      <td>0.0</td>\n",
              "      <td>NaN</td>\n",
              "      <td>NaN</td>\n",
              "      <td>NaN</td>\n",
              "      <td>NaN</td>\n",
              "      <td>NaN</td>\n",
              "      <td>NaN</td>\n",
              "      <td>NaN</td>\n",
              "      <td>NaN</td>\n",
              "      <td>NaN</td>\n",
              "      <td>NaN</td>\n",
              "      <td>NaN</td>\n",
              "      <td>NaN</td>\n",
              "      <td>NaN</td>\n",
              "      <td>NaN</td>\n",
              "      <td>NaN</td>\n",
              "      <td>NaN</td>\n",
              "      <td>NaN</td>\n",
              "      <td>NaN</td>\n",
              "      <td>NaN</td>\n",
              "      <td>NaN</td>\n",
              "      <td>NaN</td>\n",
              "      <td>NaN</td>\n",
              "      <td>NaN</td>\n",
              "      <td>NaN</td>\n",
              "      <td>2015-09-29 10:50:41.987077+00</td>\n",
              "      <td>2</td>\n",
              "      <td>NaN</td>\n",
              "      <td>2006</td>\n",
              "      <td>rejected</td>\n",
              "      <td>0</td>\n",
              "      <td>0</td>\n",
              "      <td>0</td>\n",
              "      <td>0</td>\n",
              "      <td>0</td>\n",
              "      <td>0.0</td>\n",
              "      <td>0</td>\n",
              "      <td>4</td>\n",
              "    </tr>\n",
              "    <tr>\n",
              "      <th>1</th>\n",
              "      <td>59849</td>\n",
              "      <td>0.000000</td>\n",
              "      <td>Thank you!! This would make my life a lot less...</td>\n",
              "      <td>0.000000</td>\n",
              "      <td>0.0</td>\n",
              "      <td>0.000000</td>\n",
              "      <td>0.00000</td>\n",
              "      <td>0.0</td>\n",
              "      <td>NaN</td>\n",
              "      <td>NaN</td>\n",
              "      <td>NaN</td>\n",
              "      <td>NaN</td>\n",
              "      <td>NaN</td>\n",
              "      <td>NaN</td>\n",
              "      <td>NaN</td>\n",
              "      <td>NaN</td>\n",
              "      <td>NaN</td>\n",
              "      <td>NaN</td>\n",
              "      <td>NaN</td>\n",
              "      <td>NaN</td>\n",
              "      <td>NaN</td>\n",
              "      <td>NaN</td>\n",
              "      <td>NaN</td>\n",
              "      <td>NaN</td>\n",
              "      <td>NaN</td>\n",
              "      <td>NaN</td>\n",
              "      <td>NaN</td>\n",
              "      <td>NaN</td>\n",
              "      <td>NaN</td>\n",
              "      <td>NaN</td>\n",
              "      <td>NaN</td>\n",
              "      <td>NaN</td>\n",
              "      <td>2015-09-29 10:50:42.870083+00</td>\n",
              "      <td>2</td>\n",
              "      <td>NaN</td>\n",
              "      <td>2006</td>\n",
              "      <td>rejected</td>\n",
              "      <td>0</td>\n",
              "      <td>0</td>\n",
              "      <td>0</td>\n",
              "      <td>0</td>\n",
              "      <td>0</td>\n",
              "      <td>0.0</td>\n",
              "      <td>0</td>\n",
              "      <td>4</td>\n",
              "    </tr>\n",
              "    <tr>\n",
              "      <th>2</th>\n",
              "      <td>59852</td>\n",
              "      <td>0.000000</td>\n",
              "      <td>This is such an urgent design problem; kudos t...</td>\n",
              "      <td>0.000000</td>\n",
              "      <td>0.0</td>\n",
              "      <td>0.000000</td>\n",
              "      <td>0.00000</td>\n",
              "      <td>0.0</td>\n",
              "      <td>NaN</td>\n",
              "      <td>NaN</td>\n",
              "      <td>NaN</td>\n",
              "      <td>NaN</td>\n",
              "      <td>NaN</td>\n",
              "      <td>NaN</td>\n",
              "      <td>NaN</td>\n",
              "      <td>NaN</td>\n",
              "      <td>NaN</td>\n",
              "      <td>NaN</td>\n",
              "      <td>NaN</td>\n",
              "      <td>NaN</td>\n",
              "      <td>NaN</td>\n",
              "      <td>NaN</td>\n",
              "      <td>NaN</td>\n",
              "      <td>NaN</td>\n",
              "      <td>NaN</td>\n",
              "      <td>NaN</td>\n",
              "      <td>NaN</td>\n",
              "      <td>NaN</td>\n",
              "      <td>NaN</td>\n",
              "      <td>NaN</td>\n",
              "      <td>NaN</td>\n",
              "      <td>NaN</td>\n",
              "      <td>2015-09-29 10:50:45.222647+00</td>\n",
              "      <td>2</td>\n",
              "      <td>NaN</td>\n",
              "      <td>2006</td>\n",
              "      <td>rejected</td>\n",
              "      <td>0</td>\n",
              "      <td>0</td>\n",
              "      <td>0</td>\n",
              "      <td>0</td>\n",
              "      <td>0</td>\n",
              "      <td>0.0</td>\n",
              "      <td>0</td>\n",
              "      <td>4</td>\n",
              "    </tr>\n",
              "    <tr>\n",
              "      <th>3</th>\n",
              "      <td>59855</td>\n",
              "      <td>0.000000</td>\n",
              "      <td>Is this something I'll be able to install on m...</td>\n",
              "      <td>0.000000</td>\n",
              "      <td>0.0</td>\n",
              "      <td>0.000000</td>\n",
              "      <td>0.00000</td>\n",
              "      <td>0.0</td>\n",
              "      <td>NaN</td>\n",
              "      <td>NaN</td>\n",
              "      <td>NaN</td>\n",
              "      <td>NaN</td>\n",
              "      <td>NaN</td>\n",
              "      <td>NaN</td>\n",
              "      <td>NaN</td>\n",
              "      <td>NaN</td>\n",
              "      <td>NaN</td>\n",
              "      <td>NaN</td>\n",
              "      <td>NaN</td>\n",
              "      <td>NaN</td>\n",
              "      <td>NaN</td>\n",
              "      <td>NaN</td>\n",
              "      <td>NaN</td>\n",
              "      <td>NaN</td>\n",
              "      <td>NaN</td>\n",
              "      <td>NaN</td>\n",
              "      <td>NaN</td>\n",
              "      <td>NaN</td>\n",
              "      <td>NaN</td>\n",
              "      <td>NaN</td>\n",
              "      <td>NaN</td>\n",
              "      <td>NaN</td>\n",
              "      <td>2015-09-29 10:50:47.601894+00</td>\n",
              "      <td>2</td>\n",
              "      <td>NaN</td>\n",
              "      <td>2006</td>\n",
              "      <td>rejected</td>\n",
              "      <td>0</td>\n",
              "      <td>0</td>\n",
              "      <td>0</td>\n",
              "      <td>0</td>\n",
              "      <td>0</td>\n",
              "      <td>0.0</td>\n",
              "      <td>0</td>\n",
              "      <td>4</td>\n",
              "    </tr>\n",
              "    <tr>\n",
              "      <th>4</th>\n",
              "      <td>59856</td>\n",
              "      <td>0.893617</td>\n",
              "      <td>haha you guys are a bunch of losers.</td>\n",
              "      <td>0.021277</td>\n",
              "      <td>0.0</td>\n",
              "      <td>0.021277</td>\n",
              "      <td>0.87234</td>\n",
              "      <td>0.0</td>\n",
              "      <td>0.0</td>\n",
              "      <td>0.0</td>\n",
              "      <td>0.0</td>\n",
              "      <td>0.0</td>\n",
              "      <td>0.0</td>\n",
              "      <td>0.0</td>\n",
              "      <td>0.0</td>\n",
              "      <td>0.0</td>\n",
              "      <td>0.0</td>\n",
              "      <td>0.0</td>\n",
              "      <td>0.25</td>\n",
              "      <td>0.0</td>\n",
              "      <td>0.0</td>\n",
              "      <td>0.0</td>\n",
              "      <td>0.0</td>\n",
              "      <td>0.0</td>\n",
              "      <td>0.0</td>\n",
              "      <td>0.0</td>\n",
              "      <td>0.0</td>\n",
              "      <td>0.0</td>\n",
              "      <td>0.0</td>\n",
              "      <td>0.0</td>\n",
              "      <td>0.0</td>\n",
              "      <td>0.0</td>\n",
              "      <td>2015-09-29 10:50:48.488476+00</td>\n",
              "      <td>2</td>\n",
              "      <td>NaN</td>\n",
              "      <td>2006</td>\n",
              "      <td>rejected</td>\n",
              "      <td>0</td>\n",
              "      <td>0</td>\n",
              "      <td>0</td>\n",
              "      <td>1</td>\n",
              "      <td>0</td>\n",
              "      <td>0.0</td>\n",
              "      <td>4</td>\n",
              "      <td>47</td>\n",
              "    </tr>\n",
              "  </tbody>\n",
              "</table>\n",
              "</div>"
            ],
            "text/plain": [
              "      id    target  ... identity_annotator_count  toxicity_annotator_count\n",
              "0  59848  0.000000  ...                        0                         4\n",
              "1  59849  0.000000  ...                        0                         4\n",
              "2  59852  0.000000  ...                        0                         4\n",
              "3  59855  0.000000  ...                        0                         4\n",
              "4  59856  0.893617  ...                        4                        47\n",
              "\n",
              "[5 rows x 45 columns]"
            ]
          },
          "metadata": {
            "tags": []
          },
          "execution_count": 11
        }
      ]
    },
    {
      "cell_type": "code",
      "metadata": {
        "colab": {
          "base_uri": "https://localhost:8080/"
        },
        "id": "gHeq65wMPq4g",
        "outputId": "7bf08dc3-f1c7-4b95-e5e6-159c9536240f"
      },
      "source": [
        "train_data[\"toxicity_annotator_count\"].value_counts()"
      ],
      "execution_count": null,
      "outputs": [
        {
          "output_type": "execute_result",
          "data": {
            "text/plain": [
              "4       1185412\n",
              "10       262216\n",
              "6        195839\n",
              "5         76341\n",
              "80         8537\n",
              "         ...   \n",
              "2283          1\n",
              "1259          1\n",
              "1261          1\n",
              "242           1\n",
              "3071          1\n",
              "Name: toxicity_annotator_count, Length: 775, dtype: int64"
            ]
          },
          "metadata": {
            "tags": []
          },
          "execution_count": 12
        }
      ]
    },
    {
      "cell_type": "code",
      "metadata": {
        "colab": {
          "base_uri": "https://localhost:8080/"
        },
        "id": "3bigNQ8fQAvt",
        "outputId": "3fb4014d-9272-4a52-ee0f-833e12972a04"
      },
      "source": [
        "train_data[\"rating\"].value_counts()"
      ],
      "execution_count": null,
      "outputs": [
        {
          "output_type": "execute_result",
          "data": {
            "text/plain": [
              "approved    1684758\n",
              "rejected     120116\n",
              "Name: rating, dtype: int64"
            ]
          },
          "metadata": {
            "tags": []
          },
          "execution_count": 13
        }
      ]
    },
    {
      "cell_type": "code",
      "metadata": {
        "colab": {
          "base_uri": "https://localhost:8080/"
        },
        "id": "25dy9fzrQfer",
        "outputId": "03a90401-ac5d-4873-9813-91ff78bde19c"
      },
      "source": [
        "train_data[train_data[\"rating\"] == \"approved\"][\"comment_text\"]"
      ],
      "execution_count": null,
      "outputs": [
        {
          "output_type": "execute_result",
          "data": {
            "text/plain": [
              "8          The ranchers seem motivated by mostly by greed...\n",
              "9          It was a great show. Not a combo I'd of expect...\n",
              "10                                   Wow, that sounds great.\n",
              "11         This is a great story. Man. I wonder if the pe...\n",
              "12            This seems like a step in the right direction.\n",
              "                                 ...                        \n",
              "1804869    Maybe the tax on \"things\" would be collected w...\n",
              "1804870    What do you call people who STILL think the di...\n",
              "1804871    thank you ,,,right or wrong,,, i am following ...\n",
              "1804872    Anyone who is quoted as having the following e...\n",
              "1804873    Students defined as EBD are legally just as di...\n",
              "Name: comment_text, Length: 1684758, dtype: object"
            ]
          },
          "metadata": {
            "tags": []
          },
          "execution_count": 14
        }
      ]
    },
    {
      "cell_type": "code",
      "metadata": {
        "colab": {
          "base_uri": "https://localhost:8080/",
          "height": 36
        },
        "id": "sqxwdaWEQO93",
        "outputId": "75bea700-8fd8-4725-ea7e-ec3df1231e69"
      },
      "source": [
        "train_data[train_data[\"rating\"] == \"approved\"][\"comment_text\"][11]"
      ],
      "execution_count": null,
      "outputs": [
        {
          "output_type": "execute_result",
          "data": {
            "application/vnd.google.colaboratory.intrinsic+json": {
              "type": "string"
            },
            "text/plain": [
              "'This is a great story. Man. I wonder if the person who yelled \"shut the fuck up!\" at him ever heard it.'"
            ]
          },
          "metadata": {
            "tags": []
          },
          "execution_count": 15
        }
      ]
    },
    {
      "cell_type": "markdown",
      "metadata": {
        "id": "oyhEwGrjRXdS"
      },
      "source": [
        "# EDA\n",
        "Understand each column, visualize distributions"
      ]
    },
    {
      "cell_type": "markdown",
      "metadata": {
        "id": "xwyh1xIhRoyD"
      },
      "source": [
        "visualize target variable"
      ]
    },
    {
      "cell_type": "code",
      "metadata": {
        "id": "M25k-YOwRu3h"
      },
      "source": [
        "train_data[\"target_label\"]=train_data[\"target\"].apply(lambda x: 1 if x >0.5 else 0)"
      ],
      "execution_count": null,
      "outputs": []
    },
    {
      "cell_type": "code",
      "metadata": {
        "colab": {
          "base_uri": "https://localhost:8080/",
          "height": 557
        },
        "id": "-vNa1jUgSOaf",
        "outputId": "847de267-4f82-4dc5-a0d2-8455dc9547c4"
      },
      "source": [
        "train_data.head(10)"
      ],
      "execution_count": null,
      "outputs": [
        {
          "output_type": "execute_result",
          "data": {
            "text/html": [
              "<div>\n",
              "<style scoped>\n",
              "    .dataframe tbody tr th:only-of-type {\n",
              "        vertical-align: middle;\n",
              "    }\n",
              "\n",
              "    .dataframe tbody tr th {\n",
              "        vertical-align: top;\n",
              "    }\n",
              "\n",
              "    .dataframe thead th {\n",
              "        text-align: right;\n",
              "    }\n",
              "</style>\n",
              "<table border=\"1\" class=\"dataframe\">\n",
              "  <thead>\n",
              "    <tr style=\"text-align: right;\">\n",
              "      <th></th>\n",
              "      <th>id</th>\n",
              "      <th>target</th>\n",
              "      <th>comment_text</th>\n",
              "      <th>severe_toxicity</th>\n",
              "      <th>obscene</th>\n",
              "      <th>identity_attack</th>\n",
              "      <th>insult</th>\n",
              "      <th>threat</th>\n",
              "      <th>asian</th>\n",
              "      <th>atheist</th>\n",
              "      <th>bisexual</th>\n",
              "      <th>black</th>\n",
              "      <th>buddhist</th>\n",
              "      <th>christian</th>\n",
              "      <th>female</th>\n",
              "      <th>heterosexual</th>\n",
              "      <th>hindu</th>\n",
              "      <th>homosexual_gay_or_lesbian</th>\n",
              "      <th>intellectual_or_learning_disability</th>\n",
              "      <th>jewish</th>\n",
              "      <th>latino</th>\n",
              "      <th>male</th>\n",
              "      <th>muslim</th>\n",
              "      <th>other_disability</th>\n",
              "      <th>other_gender</th>\n",
              "      <th>other_race_or_ethnicity</th>\n",
              "      <th>other_religion</th>\n",
              "      <th>other_sexual_orientation</th>\n",
              "      <th>physical_disability</th>\n",
              "      <th>psychiatric_or_mental_illness</th>\n",
              "      <th>transgender</th>\n",
              "      <th>white</th>\n",
              "      <th>created_date</th>\n",
              "      <th>publication_id</th>\n",
              "      <th>parent_id</th>\n",
              "      <th>article_id</th>\n",
              "      <th>rating</th>\n",
              "      <th>funny</th>\n",
              "      <th>wow</th>\n",
              "      <th>sad</th>\n",
              "      <th>likes</th>\n",
              "      <th>disagree</th>\n",
              "      <th>sexual_explicit</th>\n",
              "      <th>identity_annotator_count</th>\n",
              "      <th>toxicity_annotator_count</th>\n",
              "      <th>target_label</th>\n",
              "    </tr>\n",
              "  </thead>\n",
              "  <tbody>\n",
              "    <tr>\n",
              "      <th>0</th>\n",
              "      <td>59848</td>\n",
              "      <td>0.000000</td>\n",
              "      <td>This is so cool. It's like, 'would you want yo...</td>\n",
              "      <td>0.000000</td>\n",
              "      <td>0.000000</td>\n",
              "      <td>0.000000</td>\n",
              "      <td>0.000000</td>\n",
              "      <td>0.0</td>\n",
              "      <td>NaN</td>\n",
              "      <td>NaN</td>\n",
              "      <td>NaN</td>\n",
              "      <td>NaN</td>\n",
              "      <td>NaN</td>\n",
              "      <td>NaN</td>\n",
              "      <td>NaN</td>\n",
              "      <td>NaN</td>\n",
              "      <td>NaN</td>\n",
              "      <td>NaN</td>\n",
              "      <td>NaN</td>\n",
              "      <td>NaN</td>\n",
              "      <td>NaN</td>\n",
              "      <td>NaN</td>\n",
              "      <td>NaN</td>\n",
              "      <td>NaN</td>\n",
              "      <td>NaN</td>\n",
              "      <td>NaN</td>\n",
              "      <td>NaN</td>\n",
              "      <td>NaN</td>\n",
              "      <td>NaN</td>\n",
              "      <td>NaN</td>\n",
              "      <td>NaN</td>\n",
              "      <td>NaN</td>\n",
              "      <td>2015-09-29 10:50:41.987077+00</td>\n",
              "      <td>2</td>\n",
              "      <td>NaN</td>\n",
              "      <td>2006</td>\n",
              "      <td>rejected</td>\n",
              "      <td>0</td>\n",
              "      <td>0</td>\n",
              "      <td>0</td>\n",
              "      <td>0</td>\n",
              "      <td>0</td>\n",
              "      <td>0.000000</td>\n",
              "      <td>0</td>\n",
              "      <td>4</td>\n",
              "      <td>0</td>\n",
              "    </tr>\n",
              "    <tr>\n",
              "      <th>1</th>\n",
              "      <td>59849</td>\n",
              "      <td>0.000000</td>\n",
              "      <td>Thank you!! This would make my life a lot less...</td>\n",
              "      <td>0.000000</td>\n",
              "      <td>0.000000</td>\n",
              "      <td>0.000000</td>\n",
              "      <td>0.000000</td>\n",
              "      <td>0.0</td>\n",
              "      <td>NaN</td>\n",
              "      <td>NaN</td>\n",
              "      <td>NaN</td>\n",
              "      <td>NaN</td>\n",
              "      <td>NaN</td>\n",
              "      <td>NaN</td>\n",
              "      <td>NaN</td>\n",
              "      <td>NaN</td>\n",
              "      <td>NaN</td>\n",
              "      <td>NaN</td>\n",
              "      <td>NaN</td>\n",
              "      <td>NaN</td>\n",
              "      <td>NaN</td>\n",
              "      <td>NaN</td>\n",
              "      <td>NaN</td>\n",
              "      <td>NaN</td>\n",
              "      <td>NaN</td>\n",
              "      <td>NaN</td>\n",
              "      <td>NaN</td>\n",
              "      <td>NaN</td>\n",
              "      <td>NaN</td>\n",
              "      <td>NaN</td>\n",
              "      <td>NaN</td>\n",
              "      <td>NaN</td>\n",
              "      <td>2015-09-29 10:50:42.870083+00</td>\n",
              "      <td>2</td>\n",
              "      <td>NaN</td>\n",
              "      <td>2006</td>\n",
              "      <td>rejected</td>\n",
              "      <td>0</td>\n",
              "      <td>0</td>\n",
              "      <td>0</td>\n",
              "      <td>0</td>\n",
              "      <td>0</td>\n",
              "      <td>0.000000</td>\n",
              "      <td>0</td>\n",
              "      <td>4</td>\n",
              "      <td>0</td>\n",
              "    </tr>\n",
              "    <tr>\n",
              "      <th>2</th>\n",
              "      <td>59852</td>\n",
              "      <td>0.000000</td>\n",
              "      <td>This is such an urgent design problem; kudos t...</td>\n",
              "      <td>0.000000</td>\n",
              "      <td>0.000000</td>\n",
              "      <td>0.000000</td>\n",
              "      <td>0.000000</td>\n",
              "      <td>0.0</td>\n",
              "      <td>NaN</td>\n",
              "      <td>NaN</td>\n",
              "      <td>NaN</td>\n",
              "      <td>NaN</td>\n",
              "      <td>NaN</td>\n",
              "      <td>NaN</td>\n",
              "      <td>NaN</td>\n",
              "      <td>NaN</td>\n",
              "      <td>NaN</td>\n",
              "      <td>NaN</td>\n",
              "      <td>NaN</td>\n",
              "      <td>NaN</td>\n",
              "      <td>NaN</td>\n",
              "      <td>NaN</td>\n",
              "      <td>NaN</td>\n",
              "      <td>NaN</td>\n",
              "      <td>NaN</td>\n",
              "      <td>NaN</td>\n",
              "      <td>NaN</td>\n",
              "      <td>NaN</td>\n",
              "      <td>NaN</td>\n",
              "      <td>NaN</td>\n",
              "      <td>NaN</td>\n",
              "      <td>NaN</td>\n",
              "      <td>2015-09-29 10:50:45.222647+00</td>\n",
              "      <td>2</td>\n",
              "      <td>NaN</td>\n",
              "      <td>2006</td>\n",
              "      <td>rejected</td>\n",
              "      <td>0</td>\n",
              "      <td>0</td>\n",
              "      <td>0</td>\n",
              "      <td>0</td>\n",
              "      <td>0</td>\n",
              "      <td>0.000000</td>\n",
              "      <td>0</td>\n",
              "      <td>4</td>\n",
              "      <td>0</td>\n",
              "    </tr>\n",
              "    <tr>\n",
              "      <th>3</th>\n",
              "      <td>59855</td>\n",
              "      <td>0.000000</td>\n",
              "      <td>Is this something I'll be able to install on m...</td>\n",
              "      <td>0.000000</td>\n",
              "      <td>0.000000</td>\n",
              "      <td>0.000000</td>\n",
              "      <td>0.000000</td>\n",
              "      <td>0.0</td>\n",
              "      <td>NaN</td>\n",
              "      <td>NaN</td>\n",
              "      <td>NaN</td>\n",
              "      <td>NaN</td>\n",
              "      <td>NaN</td>\n",
              "      <td>NaN</td>\n",
              "      <td>NaN</td>\n",
              "      <td>NaN</td>\n",
              "      <td>NaN</td>\n",
              "      <td>NaN</td>\n",
              "      <td>NaN</td>\n",
              "      <td>NaN</td>\n",
              "      <td>NaN</td>\n",
              "      <td>NaN</td>\n",
              "      <td>NaN</td>\n",
              "      <td>NaN</td>\n",
              "      <td>NaN</td>\n",
              "      <td>NaN</td>\n",
              "      <td>NaN</td>\n",
              "      <td>NaN</td>\n",
              "      <td>NaN</td>\n",
              "      <td>NaN</td>\n",
              "      <td>NaN</td>\n",
              "      <td>NaN</td>\n",
              "      <td>2015-09-29 10:50:47.601894+00</td>\n",
              "      <td>2</td>\n",
              "      <td>NaN</td>\n",
              "      <td>2006</td>\n",
              "      <td>rejected</td>\n",
              "      <td>0</td>\n",
              "      <td>0</td>\n",
              "      <td>0</td>\n",
              "      <td>0</td>\n",
              "      <td>0</td>\n",
              "      <td>0.000000</td>\n",
              "      <td>0</td>\n",
              "      <td>4</td>\n",
              "      <td>0</td>\n",
              "    </tr>\n",
              "    <tr>\n",
              "      <th>4</th>\n",
              "      <td>59856</td>\n",
              "      <td>0.893617</td>\n",
              "      <td>haha you guys are a bunch of losers.</td>\n",
              "      <td>0.021277</td>\n",
              "      <td>0.000000</td>\n",
              "      <td>0.021277</td>\n",
              "      <td>0.872340</td>\n",
              "      <td>0.0</td>\n",
              "      <td>0.0</td>\n",
              "      <td>0.0</td>\n",
              "      <td>0.0</td>\n",
              "      <td>0.0</td>\n",
              "      <td>0.0</td>\n",
              "      <td>0.0</td>\n",
              "      <td>0.0</td>\n",
              "      <td>0.0</td>\n",
              "      <td>0.0</td>\n",
              "      <td>0.0</td>\n",
              "      <td>0.25</td>\n",
              "      <td>0.0</td>\n",
              "      <td>0.0</td>\n",
              "      <td>0.0</td>\n",
              "      <td>0.0</td>\n",
              "      <td>0.0</td>\n",
              "      <td>0.0</td>\n",
              "      <td>0.0</td>\n",
              "      <td>0.0</td>\n",
              "      <td>0.0</td>\n",
              "      <td>0.0</td>\n",
              "      <td>0.0</td>\n",
              "      <td>0.0</td>\n",
              "      <td>0.0</td>\n",
              "      <td>2015-09-29 10:50:48.488476+00</td>\n",
              "      <td>2</td>\n",
              "      <td>NaN</td>\n",
              "      <td>2006</td>\n",
              "      <td>rejected</td>\n",
              "      <td>0</td>\n",
              "      <td>0</td>\n",
              "      <td>0</td>\n",
              "      <td>1</td>\n",
              "      <td>0</td>\n",
              "      <td>0.000000</td>\n",
              "      <td>4</td>\n",
              "      <td>47</td>\n",
              "      <td>1</td>\n",
              "    </tr>\n",
              "    <tr>\n",
              "      <th>5</th>\n",
              "      <td>59859</td>\n",
              "      <td>0.666667</td>\n",
              "      <td>ur a sh*tty comment.</td>\n",
              "      <td>0.047619</td>\n",
              "      <td>0.638095</td>\n",
              "      <td>0.000000</td>\n",
              "      <td>0.333333</td>\n",
              "      <td>0.0</td>\n",
              "      <td>NaN</td>\n",
              "      <td>NaN</td>\n",
              "      <td>NaN</td>\n",
              "      <td>NaN</td>\n",
              "      <td>NaN</td>\n",
              "      <td>NaN</td>\n",
              "      <td>NaN</td>\n",
              "      <td>NaN</td>\n",
              "      <td>NaN</td>\n",
              "      <td>NaN</td>\n",
              "      <td>NaN</td>\n",
              "      <td>NaN</td>\n",
              "      <td>NaN</td>\n",
              "      <td>NaN</td>\n",
              "      <td>NaN</td>\n",
              "      <td>NaN</td>\n",
              "      <td>NaN</td>\n",
              "      <td>NaN</td>\n",
              "      <td>NaN</td>\n",
              "      <td>NaN</td>\n",
              "      <td>NaN</td>\n",
              "      <td>NaN</td>\n",
              "      <td>NaN</td>\n",
              "      <td>NaN</td>\n",
              "      <td>2015-09-29 10:50:50.865549+00</td>\n",
              "      <td>2</td>\n",
              "      <td>NaN</td>\n",
              "      <td>2006</td>\n",
              "      <td>rejected</td>\n",
              "      <td>0</td>\n",
              "      <td>0</td>\n",
              "      <td>0</td>\n",
              "      <td>0</td>\n",
              "      <td>0</td>\n",
              "      <td>0.009524</td>\n",
              "      <td>0</td>\n",
              "      <td>105</td>\n",
              "      <td>1</td>\n",
              "    </tr>\n",
              "    <tr>\n",
              "      <th>6</th>\n",
              "      <td>59861</td>\n",
              "      <td>0.457627</td>\n",
              "      <td>hahahahahahahahhha suck it.</td>\n",
              "      <td>0.050847</td>\n",
              "      <td>0.305085</td>\n",
              "      <td>0.000000</td>\n",
              "      <td>0.254237</td>\n",
              "      <td>0.0</td>\n",
              "      <td>NaN</td>\n",
              "      <td>NaN</td>\n",
              "      <td>NaN</td>\n",
              "      <td>NaN</td>\n",
              "      <td>NaN</td>\n",
              "      <td>NaN</td>\n",
              "      <td>NaN</td>\n",
              "      <td>NaN</td>\n",
              "      <td>NaN</td>\n",
              "      <td>NaN</td>\n",
              "      <td>NaN</td>\n",
              "      <td>NaN</td>\n",
              "      <td>NaN</td>\n",
              "      <td>NaN</td>\n",
              "      <td>NaN</td>\n",
              "      <td>NaN</td>\n",
              "      <td>NaN</td>\n",
              "      <td>NaN</td>\n",
              "      <td>NaN</td>\n",
              "      <td>NaN</td>\n",
              "      <td>NaN</td>\n",
              "      <td>NaN</td>\n",
              "      <td>NaN</td>\n",
              "      <td>NaN</td>\n",
              "      <td>2015-09-29 10:50:52.451277+00</td>\n",
              "      <td>2</td>\n",
              "      <td>NaN</td>\n",
              "      <td>2006</td>\n",
              "      <td>rejected</td>\n",
              "      <td>0</td>\n",
              "      <td>0</td>\n",
              "      <td>0</td>\n",
              "      <td>0</td>\n",
              "      <td>0</td>\n",
              "      <td>0.220339</td>\n",
              "      <td>0</td>\n",
              "      <td>59</td>\n",
              "      <td>0</td>\n",
              "    </tr>\n",
              "    <tr>\n",
              "      <th>7</th>\n",
              "      <td>59863</td>\n",
              "      <td>0.000000</td>\n",
              "      <td>FFFFUUUUUUUUUUUUUUU</td>\n",
              "      <td>0.000000</td>\n",
              "      <td>0.000000</td>\n",
              "      <td>0.000000</td>\n",
              "      <td>0.000000</td>\n",
              "      <td>0.0</td>\n",
              "      <td>NaN</td>\n",
              "      <td>NaN</td>\n",
              "      <td>NaN</td>\n",
              "      <td>NaN</td>\n",
              "      <td>NaN</td>\n",
              "      <td>NaN</td>\n",
              "      <td>NaN</td>\n",
              "      <td>NaN</td>\n",
              "      <td>NaN</td>\n",
              "      <td>NaN</td>\n",
              "      <td>NaN</td>\n",
              "      <td>NaN</td>\n",
              "      <td>NaN</td>\n",
              "      <td>NaN</td>\n",
              "      <td>NaN</td>\n",
              "      <td>NaN</td>\n",
              "      <td>NaN</td>\n",
              "      <td>NaN</td>\n",
              "      <td>NaN</td>\n",
              "      <td>NaN</td>\n",
              "      <td>NaN</td>\n",
              "      <td>NaN</td>\n",
              "      <td>NaN</td>\n",
              "      <td>NaN</td>\n",
              "      <td>2015-09-29 10:50:54.055221+00</td>\n",
              "      <td>2</td>\n",
              "      <td>NaN</td>\n",
              "      <td>2006</td>\n",
              "      <td>rejected</td>\n",
              "      <td>0</td>\n",
              "      <td>0</td>\n",
              "      <td>0</td>\n",
              "      <td>0</td>\n",
              "      <td>0</td>\n",
              "      <td>0.000000</td>\n",
              "      <td>0</td>\n",
              "      <td>4</td>\n",
              "      <td>0</td>\n",
              "    </tr>\n",
              "    <tr>\n",
              "      <th>8</th>\n",
              "      <td>239575</td>\n",
              "      <td>0.000000</td>\n",
              "      <td>The ranchers seem motivated by mostly by greed...</td>\n",
              "      <td>0.000000</td>\n",
              "      <td>0.000000</td>\n",
              "      <td>0.000000</td>\n",
              "      <td>0.000000</td>\n",
              "      <td>0.0</td>\n",
              "      <td>NaN</td>\n",
              "      <td>NaN</td>\n",
              "      <td>NaN</td>\n",
              "      <td>NaN</td>\n",
              "      <td>NaN</td>\n",
              "      <td>NaN</td>\n",
              "      <td>NaN</td>\n",
              "      <td>NaN</td>\n",
              "      <td>NaN</td>\n",
              "      <td>NaN</td>\n",
              "      <td>NaN</td>\n",
              "      <td>NaN</td>\n",
              "      <td>NaN</td>\n",
              "      <td>NaN</td>\n",
              "      <td>NaN</td>\n",
              "      <td>NaN</td>\n",
              "      <td>NaN</td>\n",
              "      <td>NaN</td>\n",
              "      <td>NaN</td>\n",
              "      <td>NaN</td>\n",
              "      <td>NaN</td>\n",
              "      <td>NaN</td>\n",
              "      <td>NaN</td>\n",
              "      <td>NaN</td>\n",
              "      <td>2016-01-13 18:01:05.156229+00</td>\n",
              "      <td>6</td>\n",
              "      <td>NaN</td>\n",
              "      <td>26662</td>\n",
              "      <td>approved</td>\n",
              "      <td>0</td>\n",
              "      <td>0</td>\n",
              "      <td>0</td>\n",
              "      <td>0</td>\n",
              "      <td>0</td>\n",
              "      <td>0.000000</td>\n",
              "      <td>0</td>\n",
              "      <td>4</td>\n",
              "      <td>0</td>\n",
              "    </tr>\n",
              "    <tr>\n",
              "      <th>9</th>\n",
              "      <td>239576</td>\n",
              "      <td>0.000000</td>\n",
              "      <td>It was a great show. Not a combo I'd of expect...</td>\n",
              "      <td>0.000000</td>\n",
              "      <td>0.000000</td>\n",
              "      <td>0.000000</td>\n",
              "      <td>0.000000</td>\n",
              "      <td>0.0</td>\n",
              "      <td>NaN</td>\n",
              "      <td>NaN</td>\n",
              "      <td>NaN</td>\n",
              "      <td>NaN</td>\n",
              "      <td>NaN</td>\n",
              "      <td>NaN</td>\n",
              "      <td>NaN</td>\n",
              "      <td>NaN</td>\n",
              "      <td>NaN</td>\n",
              "      <td>NaN</td>\n",
              "      <td>NaN</td>\n",
              "      <td>NaN</td>\n",
              "      <td>NaN</td>\n",
              "      <td>NaN</td>\n",
              "      <td>NaN</td>\n",
              "      <td>NaN</td>\n",
              "      <td>NaN</td>\n",
              "      <td>NaN</td>\n",
              "      <td>NaN</td>\n",
              "      <td>NaN</td>\n",
              "      <td>NaN</td>\n",
              "      <td>NaN</td>\n",
              "      <td>NaN</td>\n",
              "      <td>NaN</td>\n",
              "      <td>2016-01-13 18:11:21.570460+00</td>\n",
              "      <td>6</td>\n",
              "      <td>239522.0</td>\n",
              "      <td>26650</td>\n",
              "      <td>approved</td>\n",
              "      <td>0</td>\n",
              "      <td>0</td>\n",
              "      <td>0</td>\n",
              "      <td>1</td>\n",
              "      <td>0</td>\n",
              "      <td>0.000000</td>\n",
              "      <td>0</td>\n",
              "      <td>4</td>\n",
              "      <td>0</td>\n",
              "    </tr>\n",
              "  </tbody>\n",
              "</table>\n",
              "</div>"
            ],
            "text/plain": [
              "       id    target  ... toxicity_annotator_count  target_label\n",
              "0   59848  0.000000  ...                        4             0\n",
              "1   59849  0.000000  ...                        4             0\n",
              "2   59852  0.000000  ...                        4             0\n",
              "3   59855  0.000000  ...                        4             0\n",
              "4   59856  0.893617  ...                       47             1\n",
              "5   59859  0.666667  ...                      105             1\n",
              "6   59861  0.457627  ...                       59             0\n",
              "7   59863  0.000000  ...                        4             0\n",
              "8  239575  0.000000  ...                        4             0\n",
              "9  239576  0.000000  ...                        4             0\n",
              "\n",
              "[10 rows x 46 columns]"
            ]
          },
          "metadata": {
            "tags": []
          },
          "execution_count": 17
        }
      ]
    },
    {
      "cell_type": "code",
      "metadata": {
        "colab": {
          "base_uri": "https://localhost:8080/"
        },
        "id": "Vaz7pUPASoTF",
        "outputId": "ecc75fe2-5e57-44d2-ff1a-d7fb22947c49"
      },
      "source": [
        "train_data.target_label.value_counts()/train_data.shape[0]*100"
      ],
      "execution_count": null,
      "outputs": [
        {
          "output_type": "execute_result",
          "data": {
            "text/plain": [
              "0    94.102746\n",
              "1     5.897254\n",
              "Name: target_label, dtype: float64"
            ]
          },
          "metadata": {
            "tags": []
          },
          "execution_count": 18
        }
      ]
    },
    {
      "cell_type": "code",
      "metadata": {
        "colab": {
          "base_uri": "https://localhost:8080/",
          "height": 332
        },
        "id": "fh9qXcC3Rsf1",
        "outputId": "03ac3b9d-6969-4093-e532-b149e37dcc2d"
      },
      "source": [
        "import  seaborn  as sns\n",
        "\n",
        "x = train_data.target_label.value_counts()\n",
        "sns.barplot(x.index, x)\n",
        "plt.gca().set_label(\"samples\")"
      ],
      "execution_count": null,
      "outputs": [
        {
          "output_type": "stream",
          "text": [
            "/usr/local/lib/python3.7/dist-packages/seaborn/_decorators.py:43: FutureWarning: Pass the following variables as keyword args: x, y. From version 0.12, the only valid positional argument will be `data`, and passing other arguments without an explicit keyword will result in an error or misinterpretation.\n",
            "  FutureWarning\n"
          ],
          "name": "stderr"
        },
        {
          "output_type": "display_data",
          "data": {
            "image/png": "[encoded data removed]",
            "text/plain": [
              "<Figure size 432x288 with 1 Axes>"
            ]
          },
          "metadata": {
            "tags": [],
            "needs_background": "light"
          }
        }
      ]
    },
    {
      "cell_type": "markdown",
      "metadata": {
        "id": "_JCbcQpbSaF5"
      },
      "source": [
        "Obviously,94.10% are non-toxic,   this creates a challenge in developing a non-biased algorithm"
      ]
    },
    {
      "cell_type": "code",
      "metadata": {
        "colab": {
          "base_uri": "https://localhost:8080/",
          "height": 72
        },
        "id": "sTY-hzVH3Kmv",
        "outputId": "a0fb5549-72bf-49c0-ea84-72dae1319ef8"
      },
      "source": [
        "train_data[\"comment_text\"][14]"
      ],
      "execution_count": null,
      "outputs": [
        {
          "output_type": "execute_result",
          "data": {
            "application/vnd.google.colaboratory.intrinsic+json": {
              "type": "string"
            },
            "text/plain": [
              "\"This story gets more ridiculous by the hour! And, I love that people are sending these guys dildos in the mail now. But… if they really think there's a happy ending in this for any of them, I think they're even more deluded than all of the jokes about them assume.\""
            ]
          },
          "metadata": {
            "tags": []
          },
          "execution_count": 20
        }
      ]
    },
    {
      "cell_type": "code",
      "metadata": {
        "colab": {
          "base_uri": "https://localhost:8080/",
          "height": 206
        },
        "id": "PMpFzC0J0veM",
        "outputId": "2256fb68-0ea0-43c5-b6e5-12ba51b98ff3"
      },
      "source": [
        "train_data[[\"comment_text\", \"target\"]].head()"
      ],
      "execution_count": null,
      "outputs": [
        {
          "output_type": "execute_result",
          "data": {
            "text/html": [
              "<div>\n",
              "<style scoped>\n",
              "    .dataframe tbody tr th:only-of-type {\n",
              "        vertical-align: middle;\n",
              "    }\n",
              "\n",
              "    .dataframe tbody tr th {\n",
              "        vertical-align: top;\n",
              "    }\n",
              "\n",
              "    .dataframe thead th {\n",
              "        text-align: right;\n",
              "    }\n",
              "</style>\n",
              "<table border=\"1\" class=\"dataframe\">\n",
              "  <thead>\n",
              "    <tr style=\"text-align: right;\">\n",
              "      <th></th>\n",
              "      <th>comment_text</th>\n",
              "      <th>target</th>\n",
              "    </tr>\n",
              "  </thead>\n",
              "  <tbody>\n",
              "    <tr>\n",
              "      <th>0</th>\n",
              "      <td>This is so cool. It's like, 'would you want yo...</td>\n",
              "      <td>0.000000</td>\n",
              "    </tr>\n",
              "    <tr>\n",
              "      <th>1</th>\n",
              "      <td>Thank you!! This would make my life a lot less...</td>\n",
              "      <td>0.000000</td>\n",
              "    </tr>\n",
              "    <tr>\n",
              "      <th>2</th>\n",
              "      <td>This is such an urgent design problem; kudos t...</td>\n",
              "      <td>0.000000</td>\n",
              "    </tr>\n",
              "    <tr>\n",
              "      <th>3</th>\n",
              "      <td>Is this something I'll be able to install on m...</td>\n",
              "      <td>0.000000</td>\n",
              "    </tr>\n",
              "    <tr>\n",
              "      <th>4</th>\n",
              "      <td>haha you guys are a bunch of losers.</td>\n",
              "      <td>0.893617</td>\n",
              "    </tr>\n",
              "  </tbody>\n",
              "</table>\n",
              "</div>"
            ],
            "text/plain": [
              "                                        comment_text    target\n",
              "0  This is so cool. It's like, 'would you want yo...  0.000000\n",
              "1  Thank you!! This would make my life a lot less...  0.000000\n",
              "2  This is such an urgent design problem; kudos t...  0.000000\n",
              "3  Is this something I'll be able to install on m...  0.000000\n",
              "4               haha you guys are a bunch of losers.  0.893617"
            ]
          },
          "metadata": {
            "tags": []
          },
          "execution_count": 21
        }
      ]
    },
    {
      "cell_type": "code",
      "metadata": {
        "colab": {
          "base_uri": "https://localhost:8080/"
        },
        "id": "eWES1ugi3qTj",
        "outputId": "bc0daf5f-9be8-432c-9558-e9129e7348f0"
      },
      "source": [
        "train_data.info()"
      ],
      "execution_count": null,
      "outputs": [
        {
          "output_type": "stream",
          "text": [
            "<class 'pandas.core.frame.DataFrame'>\n",
            "RangeIndex: 1804874 entries, 0 to 1804873\n",
            "Data columns (total 46 columns):\n",
            " #   Column                               Dtype  \n",
            "---  ------                               -----  \n",
            " 0   id                                   int64  \n",
            " 1   target                               float64\n",
            " 2   comment_text                         object \n",
            " 3   severe_toxicity                      float64\n",
            " 4   obscene                              float64\n",
            " 5   identity_attack                      float64\n",
            " 6   insult                               float64\n",
            " 7   threat                               float64\n",
            " 8   asian                                float64\n",
            " 9   atheist                              float64\n",
            " 10  bisexual                             float64\n",
            " 11  black                                float64\n",
            " 12  buddhist                             float64\n",
            " 13  christian                            float64\n",
            " 14  female                               float64\n",
            " 15  heterosexual                         float64\n",
            " 16  hindu                                float64\n",
            " 17  homosexual_gay_or_lesbian            float64\n",
            " 18  intellectual_or_learning_disability  float64\n",
            " 19  jewish                               float64\n",
            " 20  latino                               float64\n",
            " 21  male                                 float64\n",
            " 22  muslim                               float64\n",
            " 23  other_disability                     float64\n",
            " 24  other_gender                         float64\n",
            " 25  other_race_or_ethnicity              float64\n",
            " 26  other_religion                       float64\n",
            " 27  other_sexual_orientation             float64\n",
            " 28  physical_disability                  float64\n",
            " 29  psychiatric_or_mental_illness        float64\n",
            " 30  transgender                          float64\n",
            " 31  white                                float64\n",
            " 32  created_date                         object \n",
            " 33  publication_id                       int64  \n",
            " 34  parent_id                            float64\n",
            " 35  article_id                           int64  \n",
            " 36  rating                               object \n",
            " 37  funny                                int64  \n",
            " 38  wow                                  int64  \n",
            " 39  sad                                  int64  \n",
            " 40  likes                                int64  \n",
            " 41  disagree                             int64  \n",
            " 42  sexual_explicit                      float64\n",
            " 43  identity_annotator_count             int64  \n",
            " 44  toxicity_annotator_count             int64  \n",
            " 45  target_label                         int64  \n",
            "dtypes: float64(32), int64(11), object(3)\n",
            "memory usage: 633.4+ MB\n"
          ],
          "name": "stdout"
        }
      ]
    },
    {
      "cell_type": "code",
      "metadata": {
        "id": "NVW3I4xk4Xj-"
      },
      "source": [
        "# train_data[train_data[\"target_label\"]==1][\"severe_toxicity\"].describe()"
      ],
      "execution_count": null,
      "outputs": []
    },
    {
      "cell_type": "code",
      "metadata": {
        "colab": {
          "base_uri": "https://localhost:8080/"
        },
        "id": "nuQtXgEl6xEs",
        "outputId": "594fa307-d1cd-49b0-c2cd-cc3af3c326b8"
      },
      "source": [
        "train_data[\"jewish\"].value_counts()"
      ],
      "execution_count": null,
      "outputs": [
        {
          "output_type": "execute_result",
          "data": {
            "text/plain": [
              "0.000000    394225\n",
              "1.000000      3974\n",
              "0.100000      1603\n",
              "0.800000       856\n",
              "0.833333       800\n",
              "             ...  \n",
              "0.001935         1\n",
              "0.000783         1\n",
              "0.006156         1\n",
              "0.003271         1\n",
              "0.968730         1\n",
              "Name: jewish, Length: 120, dtype: int64"
            ]
          },
          "metadata": {
            "tags": []
          },
          "execution_count": 24
        }
      ]
    },
    {
      "cell_type": "code",
      "metadata": {
        "colab": {
          "base_uri": "https://localhost:8080/",
          "height": 72
        },
        "id": "IxZveq9L70n6",
        "outputId": "ea2c2af4-c3aa-4f84-9550-c471fc509578"
      },
      "source": [
        "train_data[\"comment_text\"][197]"
      ],
      "execution_count": null,
      "outputs": [
        {
          "output_type": "execute_result",
          "data": {
            "application/vnd.google.colaboratory.intrinsic+json": {
              "type": "string"
            },
            "text/plain": [
              "'Read the whole article.... nowhere does it mention Vera Katz...... woman mayor of portland.....\\n\\nThis article says this sarah lady would be first\\n\\nVera used to sign up with me when i was a kid doing run for the arts program and my grandma worked at city hall.'"
            ]
          },
          "metadata": {
            "tags": []
          },
          "execution_count": 25
        }
      ]
    },
    {
      "cell_type": "code",
      "metadata": {
        "colab": {
          "base_uri": "https://localhost:8080/",
          "height": 947
        },
        "id": "qaP86B-r7pgY",
        "outputId": "14a7bf32-ead1-4fa4-c0a4-d9312d9f4459"
      },
      "source": [
        "train_data[train_data[\"female\"]>0]"
      ],
      "execution_count": null,
      "outputs": [
        {
          "output_type": "execute_result",
          "data": {
            "text/html": [
              "<div>\n",
              "<style scoped>\n",
              "    .dataframe tbody tr th:only-of-type {\n",
              "        vertical-align: middle;\n",
              "    }\n",
              "\n",
              "    .dataframe tbody tr th {\n",
              "        vertical-align: top;\n",
              "    }\n",
              "\n",
              "    .dataframe thead th {\n",
              "        text-align: right;\n",
              "    }\n",
              "</style>\n",
              "<table border=\"1\" class=\"dataframe\">\n",
              "  <thead>\n",
              "    <tr style=\"text-align: right;\">\n",
              "      <th></th>\n",
              "      <th>id</th>\n",
              "      <th>target</th>\n",
              "      <th>comment_text</th>\n",
              "      <th>severe_toxicity</th>\n",
              "      <th>obscene</th>\n",
              "      <th>identity_attack</th>\n",
              "      <th>insult</th>\n",
              "      <th>threat</th>\n",
              "      <th>asian</th>\n",
              "      <th>atheist</th>\n",
              "      <th>bisexual</th>\n",
              "      <th>black</th>\n",
              "      <th>buddhist</th>\n",
              "      <th>christian</th>\n",
              "      <th>female</th>\n",
              "      <th>heterosexual</th>\n",
              "      <th>hindu</th>\n",
              "      <th>homosexual_gay_or_lesbian</th>\n",
              "      <th>intellectual_or_learning_disability</th>\n",
              "      <th>jewish</th>\n",
              "      <th>latino</th>\n",
              "      <th>male</th>\n",
              "      <th>muslim</th>\n",
              "      <th>other_disability</th>\n",
              "      <th>other_gender</th>\n",
              "      <th>other_race_or_ethnicity</th>\n",
              "      <th>other_religion</th>\n",
              "      <th>other_sexual_orientation</th>\n",
              "      <th>physical_disability</th>\n",
              "      <th>psychiatric_or_mental_illness</th>\n",
              "      <th>transgender</th>\n",
              "      <th>white</th>\n",
              "      <th>created_date</th>\n",
              "      <th>publication_id</th>\n",
              "      <th>parent_id</th>\n",
              "      <th>article_id</th>\n",
              "      <th>rating</th>\n",
              "      <th>funny</th>\n",
              "      <th>wow</th>\n",
              "      <th>sad</th>\n",
              "      <th>likes</th>\n",
              "      <th>disagree</th>\n",
              "      <th>sexual_explicit</th>\n",
              "      <th>identity_annotator_count</th>\n",
              "      <th>toxicity_annotator_count</th>\n",
              "      <th>target_label</th>\n",
              "    </tr>\n",
              "  </thead>\n",
              "  <tbody>\n",
              "    <tr>\n",
              "      <th>34</th>\n",
              "      <td>239612</td>\n",
              "      <td>0.830769</td>\n",
              "      <td>This bitch is nuts. Who would read a book by a...</td>\n",
              "      <td>0.107692</td>\n",
              "      <td>0.661538</td>\n",
              "      <td>0.338462</td>\n",
              "      <td>0.830769</td>\n",
              "      <td>0.0</td>\n",
              "      <td>0.0</td>\n",
              "      <td>0.0</td>\n",
              "      <td>0.0</td>\n",
              "      <td>0.0</td>\n",
              "      <td>0.0</td>\n",
              "      <td>0.0</td>\n",
              "      <td>1.000000</td>\n",
              "      <td>0.0</td>\n",
              "      <td>0.0</td>\n",
              "      <td>0.0</td>\n",
              "      <td>0.0</td>\n",
              "      <td>0.0</td>\n",
              "      <td>0.0</td>\n",
              "      <td>0.000000</td>\n",
              "      <td>0.0</td>\n",
              "      <td>0.0</td>\n",
              "      <td>0.0</td>\n",
              "      <td>0.0</td>\n",
              "      <td>0.0</td>\n",
              "      <td>0.0</td>\n",
              "      <td>0.0</td>\n",
              "      <td>0.000000</td>\n",
              "      <td>0.0</td>\n",
              "      <td>0.0</td>\n",
              "      <td>2016-01-13 21:08:08.861688+00</td>\n",
              "      <td>6</td>\n",
              "      <td>NaN</td>\n",
              "      <td>26674</td>\n",
              "      <td>rejected</td>\n",
              "      <td>0</td>\n",
              "      <td>0</td>\n",
              "      <td>0</td>\n",
              "      <td>0</td>\n",
              "      <td>0</td>\n",
              "      <td>0.061538</td>\n",
              "      <td>4</td>\n",
              "      <td>65</td>\n",
              "      <td>1</td>\n",
              "    </tr>\n",
              "    <tr>\n",
              "      <th>191</th>\n",
              "      <td>239907</td>\n",
              "      <td>0.300000</td>\n",
              "      <td>Thank you for this article, all I need to know...</td>\n",
              "      <td>0.000000</td>\n",
              "      <td>0.000000</td>\n",
              "      <td>0.300000</td>\n",
              "      <td>0.200000</td>\n",
              "      <td>0.1</td>\n",
              "      <td>0.0</td>\n",
              "      <td>0.0</td>\n",
              "      <td>0.0</td>\n",
              "      <td>0.0</td>\n",
              "      <td>0.0</td>\n",
              "      <td>0.0</td>\n",
              "      <td>1.000000</td>\n",
              "      <td>0.0</td>\n",
              "      <td>0.0</td>\n",
              "      <td>0.0</td>\n",
              "      <td>0.0</td>\n",
              "      <td>0.0</td>\n",
              "      <td>0.0</td>\n",
              "      <td>1.000000</td>\n",
              "      <td>0.0</td>\n",
              "      <td>0.0</td>\n",
              "      <td>0.0</td>\n",
              "      <td>0.0</td>\n",
              "      <td>0.0</td>\n",
              "      <td>0.0</td>\n",
              "      <td>0.0</td>\n",
              "      <td>0.000000</td>\n",
              "      <td>0.0</td>\n",
              "      <td>1.0</td>\n",
              "      <td>2016-01-19 23:58:10.704243+00</td>\n",
              "      <td>6</td>\n",
              "      <td>NaN</td>\n",
              "      <td>32123</td>\n",
              "      <td>approved</td>\n",
              "      <td>0</td>\n",
              "      <td>0</td>\n",
              "      <td>0</td>\n",
              "      <td>2</td>\n",
              "      <td>0</td>\n",
              "      <td>0.000000</td>\n",
              "      <td>4</td>\n",
              "      <td>10</td>\n",
              "      <td>0</td>\n",
              "    </tr>\n",
              "    <tr>\n",
              "      <th>197</th>\n",
              "      <td>239917</td>\n",
              "      <td>0.000000</td>\n",
              "      <td>Read the whole article.... nowhere does it men...</td>\n",
              "      <td>0.000000</td>\n",
              "      <td>0.000000</td>\n",
              "      <td>0.000000</td>\n",
              "      <td>0.000000</td>\n",
              "      <td>0.0</td>\n",
              "      <td>0.0</td>\n",
              "      <td>0.0</td>\n",
              "      <td>0.0</td>\n",
              "      <td>0.0</td>\n",
              "      <td>0.0</td>\n",
              "      <td>0.0</td>\n",
              "      <td>0.833333</td>\n",
              "      <td>0.0</td>\n",
              "      <td>0.0</td>\n",
              "      <td>0.0</td>\n",
              "      <td>0.0</td>\n",
              "      <td>0.0</td>\n",
              "      <td>0.0</td>\n",
              "      <td>0.000000</td>\n",
              "      <td>0.0</td>\n",
              "      <td>0.0</td>\n",
              "      <td>0.0</td>\n",
              "      <td>0.0</td>\n",
              "      <td>0.0</td>\n",
              "      <td>0.0</td>\n",
              "      <td>0.0</td>\n",
              "      <td>0.000000</td>\n",
              "      <td>0.0</td>\n",
              "      <td>0.0</td>\n",
              "      <td>2016-01-20 04:13:35.371491+00</td>\n",
              "      <td>6</td>\n",
              "      <td>NaN</td>\n",
              "      <td>32123</td>\n",
              "      <td>approved</td>\n",
              "      <td>0</td>\n",
              "      <td>0</td>\n",
              "      <td>0</td>\n",
              "      <td>0</td>\n",
              "      <td>0</td>\n",
              "      <td>0.000000</td>\n",
              "      <td>6</td>\n",
              "      <td>4</td>\n",
              "      <td>0</td>\n",
              "    </tr>\n",
              "    <tr>\n",
              "      <th>200</th>\n",
              "      <td>239921</td>\n",
              "      <td>0.200000</td>\n",
              "      <td>To meet these people with threats of violence ...</td>\n",
              "      <td>0.000000</td>\n",
              "      <td>0.000000</td>\n",
              "      <td>0.000000</td>\n",
              "      <td>0.000000</td>\n",
              "      <td>0.0</td>\n",
              "      <td>0.0</td>\n",
              "      <td>0.0</td>\n",
              "      <td>0.0</td>\n",
              "      <td>0.0</td>\n",
              "      <td>0.0</td>\n",
              "      <td>0.0</td>\n",
              "      <td>0.600000</td>\n",
              "      <td>0.0</td>\n",
              "      <td>0.0</td>\n",
              "      <td>0.0</td>\n",
              "      <td>0.0</td>\n",
              "      <td>0.0</td>\n",
              "      <td>0.0</td>\n",
              "      <td>0.000000</td>\n",
              "      <td>0.0</td>\n",
              "      <td>0.0</td>\n",
              "      <td>0.0</td>\n",
              "      <td>0.0</td>\n",
              "      <td>0.0</td>\n",
              "      <td>0.0</td>\n",
              "      <td>0.0</td>\n",
              "      <td>0.000000</td>\n",
              "      <td>0.0</td>\n",
              "      <td>0.0</td>\n",
              "      <td>2016-01-20 06:09:42.501972+00</td>\n",
              "      <td>6</td>\n",
              "      <td>NaN</td>\n",
              "      <td>26645</td>\n",
              "      <td>approved</td>\n",
              "      <td>0</td>\n",
              "      <td>0</td>\n",
              "      <td>0</td>\n",
              "      <td>0</td>\n",
              "      <td>0</td>\n",
              "      <td>0.000000</td>\n",
              "      <td>10</td>\n",
              "      <td>10</td>\n",
              "      <td>0</td>\n",
              "    </tr>\n",
              "    <tr>\n",
              "      <th>221</th>\n",
              "      <td>239980</td>\n",
              "      <td>0.000000</td>\n",
              "      <td>The article says Sarah would be the first fema...</td>\n",
              "      <td>0.000000</td>\n",
              "      <td>0.000000</td>\n",
              "      <td>0.000000</td>\n",
              "      <td>0.000000</td>\n",
              "      <td>0.0</td>\n",
              "      <td>0.0</td>\n",
              "      <td>0.0</td>\n",
              "      <td>0.0</td>\n",
              "      <td>0.0</td>\n",
              "      <td>0.0</td>\n",
              "      <td>0.0</td>\n",
              "      <td>0.800000</td>\n",
              "      <td>0.0</td>\n",
              "      <td>0.0</td>\n",
              "      <td>0.0</td>\n",
              "      <td>0.0</td>\n",
              "      <td>0.0</td>\n",
              "      <td>0.0</td>\n",
              "      <td>0.000000</td>\n",
              "      <td>0.0</td>\n",
              "      <td>0.0</td>\n",
              "      <td>0.0</td>\n",
              "      <td>0.1</td>\n",
              "      <td>0.0</td>\n",
              "      <td>0.0</td>\n",
              "      <td>0.0</td>\n",
              "      <td>0.000000</td>\n",
              "      <td>0.0</td>\n",
              "      <td>0.0</td>\n",
              "      <td>2016-01-20 22:06:01.282648+00</td>\n",
              "      <td>6</td>\n",
              "      <td>239917.0</td>\n",
              "      <td>32123</td>\n",
              "      <td>approved</td>\n",
              "      <td>0</td>\n",
              "      <td>0</td>\n",
              "      <td>0</td>\n",
              "      <td>1</td>\n",
              "      <td>0</td>\n",
              "      <td>0.000000</td>\n",
              "      <td>10</td>\n",
              "      <td>4</td>\n",
              "      <td>0</td>\n",
              "    </tr>\n",
              "    <tr>\n",
              "      <th>...</th>\n",
              "      <td>...</td>\n",
              "      <td>...</td>\n",
              "      <td>...</td>\n",
              "      <td>...</td>\n",
              "      <td>...</td>\n",
              "      <td>...</td>\n",
              "      <td>...</td>\n",
              "      <td>...</td>\n",
              "      <td>...</td>\n",
              "      <td>...</td>\n",
              "      <td>...</td>\n",
              "      <td>...</td>\n",
              "      <td>...</td>\n",
              "      <td>...</td>\n",
              "      <td>...</td>\n",
              "      <td>...</td>\n",
              "      <td>...</td>\n",
              "      <td>...</td>\n",
              "      <td>...</td>\n",
              "      <td>...</td>\n",
              "      <td>...</td>\n",
              "      <td>...</td>\n",
              "      <td>...</td>\n",
              "      <td>...</td>\n",
              "      <td>...</td>\n",
              "      <td>...</td>\n",
              "      <td>...</td>\n",
              "      <td>...</td>\n",
              "      <td>...</td>\n",
              "      <td>...</td>\n",
              "      <td>...</td>\n",
              "      <td>...</td>\n",
              "      <td>...</td>\n",
              "      <td>...</td>\n",
              "      <td>...</td>\n",
              "      <td>...</td>\n",
              "      <td>...</td>\n",
              "      <td>...</td>\n",
              "      <td>...</td>\n",
              "      <td>...</td>\n",
              "      <td>...</td>\n",
              "      <td>...</td>\n",
              "      <td>...</td>\n",
              "      <td>...</td>\n",
              "      <td>...</td>\n",
              "      <td>...</td>\n",
              "    </tr>\n",
              "    <tr>\n",
              "      <th>1804815</th>\n",
              "      <td>6333827</td>\n",
              "      <td>0.000000</td>\n",
              "      <td>Judging by the hostility toward Trudeau's care...</td>\n",
              "      <td>0.000000</td>\n",
              "      <td>0.000000</td>\n",
              "      <td>0.000000</td>\n",
              "      <td>0.000000</td>\n",
              "      <td>0.0</td>\n",
              "      <td>0.0</td>\n",
              "      <td>0.0</td>\n",
              "      <td>0.0</td>\n",
              "      <td>0.0</td>\n",
              "      <td>0.0</td>\n",
              "      <td>0.0</td>\n",
              "      <td>0.300000</td>\n",
              "      <td>0.0</td>\n",
              "      <td>0.0</td>\n",
              "      <td>0.0</td>\n",
              "      <td>0.0</td>\n",
              "      <td>0.0</td>\n",
              "      <td>0.0</td>\n",
              "      <td>0.300000</td>\n",
              "      <td>0.0</td>\n",
              "      <td>0.0</td>\n",
              "      <td>0.0</td>\n",
              "      <td>0.0</td>\n",
              "      <td>0.0</td>\n",
              "      <td>0.0</td>\n",
              "      <td>0.0</td>\n",
              "      <td>0.000000</td>\n",
              "      <td>0.0</td>\n",
              "      <td>0.0</td>\n",
              "      <td>2017-11-11 00:31:52.776412+00</td>\n",
              "      <td>54</td>\n",
              "      <td>NaN</td>\n",
              "      <td>399437</td>\n",
              "      <td>approved</td>\n",
              "      <td>0</td>\n",
              "      <td>0</td>\n",
              "      <td>0</td>\n",
              "      <td>0</td>\n",
              "      <td>0</td>\n",
              "      <td>0.000000</td>\n",
              "      <td>10</td>\n",
              "      <td>4</td>\n",
              "      <td>0</td>\n",
              "    </tr>\n",
              "    <tr>\n",
              "      <th>1804839</th>\n",
              "      <td>6333872</td>\n",
              "      <td>0.200000</td>\n",
              "      <td>I don't know that abortion played much of a pa...</td>\n",
              "      <td>0.000000</td>\n",
              "      <td>0.000000</td>\n",
              "      <td>0.000000</td>\n",
              "      <td>0.000000</td>\n",
              "      <td>0.0</td>\n",
              "      <td>0.0</td>\n",
              "      <td>0.0</td>\n",
              "      <td>0.0</td>\n",
              "      <td>0.0</td>\n",
              "      <td>0.0</td>\n",
              "      <td>0.0</td>\n",
              "      <td>1.000000</td>\n",
              "      <td>0.0</td>\n",
              "      <td>0.0</td>\n",
              "      <td>0.0</td>\n",
              "      <td>0.0</td>\n",
              "      <td>0.0</td>\n",
              "      <td>0.0</td>\n",
              "      <td>0.000000</td>\n",
              "      <td>0.0</td>\n",
              "      <td>0.0</td>\n",
              "      <td>0.0</td>\n",
              "      <td>0.0</td>\n",
              "      <td>0.0</td>\n",
              "      <td>0.0</td>\n",
              "      <td>0.0</td>\n",
              "      <td>0.000000</td>\n",
              "      <td>0.0</td>\n",
              "      <td>0.0</td>\n",
              "      <td>2017-11-11 00:41:07.880299+00</td>\n",
              "      <td>53</td>\n",
              "      <td>6332177.0</td>\n",
              "      <td>399276</td>\n",
              "      <td>approved</td>\n",
              "      <td>0</td>\n",
              "      <td>0</td>\n",
              "      <td>0</td>\n",
              "      <td>0</td>\n",
              "      <td>0</td>\n",
              "      <td>0.000000</td>\n",
              "      <td>4</td>\n",
              "      <td>5</td>\n",
              "      <td>0</td>\n",
              "    </tr>\n",
              "    <tr>\n",
              "      <th>1804841</th>\n",
              "      <td>6333875</td>\n",
              "      <td>0.166667</td>\n",
              "      <td>\"It doesn't matter when it's erected and for w...</td>\n",
              "      <td>0.000000</td>\n",
              "      <td>0.000000</td>\n",
              "      <td>0.000000</td>\n",
              "      <td>0.166667</td>\n",
              "      <td>0.0</td>\n",
              "      <td>0.0</td>\n",
              "      <td>0.0</td>\n",
              "      <td>0.0</td>\n",
              "      <td>0.0</td>\n",
              "      <td>0.0</td>\n",
              "      <td>0.0</td>\n",
              "      <td>0.833333</td>\n",
              "      <td>0.0</td>\n",
              "      <td>0.0</td>\n",
              "      <td>0.0</td>\n",
              "      <td>0.0</td>\n",
              "      <td>0.0</td>\n",
              "      <td>0.0</td>\n",
              "      <td>0.833333</td>\n",
              "      <td>0.0</td>\n",
              "      <td>0.0</td>\n",
              "      <td>0.0</td>\n",
              "      <td>0.0</td>\n",
              "      <td>0.0</td>\n",
              "      <td>0.0</td>\n",
              "      <td>0.0</td>\n",
              "      <td>0.166667</td>\n",
              "      <td>0.0</td>\n",
              "      <td>0.0</td>\n",
              "      <td>2017-11-11 00:40:49.412201+00</td>\n",
              "      <td>13</td>\n",
              "      <td>6333686.0</td>\n",
              "      <td>398655</td>\n",
              "      <td>approved</td>\n",
              "      <td>0</td>\n",
              "      <td>0</td>\n",
              "      <td>0</td>\n",
              "      <td>0</td>\n",
              "      <td>0</td>\n",
              "      <td>0.000000</td>\n",
              "      <td>6</td>\n",
              "      <td>6</td>\n",
              "      <td>0</td>\n",
              "    </tr>\n",
              "    <tr>\n",
              "      <th>1804848</th>\n",
              "      <td>6333897</td>\n",
              "      <td>0.000000</td>\n",
              "      <td>Women's rights?  Last I checked women were jus...</td>\n",
              "      <td>0.000000</td>\n",
              "      <td>0.000000</td>\n",
              "      <td>0.000000</td>\n",
              "      <td>0.000000</td>\n",
              "      <td>0.0</td>\n",
              "      <td>0.0</td>\n",
              "      <td>0.0</td>\n",
              "      <td>0.0</td>\n",
              "      <td>0.0</td>\n",
              "      <td>0.0</td>\n",
              "      <td>0.0</td>\n",
              "      <td>1.000000</td>\n",
              "      <td>0.0</td>\n",
              "      <td>0.0</td>\n",
              "      <td>0.0</td>\n",
              "      <td>0.0</td>\n",
              "      <td>0.0</td>\n",
              "      <td>0.0</td>\n",
              "      <td>0.000000</td>\n",
              "      <td>0.0</td>\n",
              "      <td>0.0</td>\n",
              "      <td>0.0</td>\n",
              "      <td>0.0</td>\n",
              "      <td>0.0</td>\n",
              "      <td>0.0</td>\n",
              "      <td>0.0</td>\n",
              "      <td>0.000000</td>\n",
              "      <td>0.0</td>\n",
              "      <td>0.0</td>\n",
              "      <td>2017-11-11 00:45:11.003701+00</td>\n",
              "      <td>53</td>\n",
              "      <td>6329946.0</td>\n",
              "      <td>399276</td>\n",
              "      <td>approved</td>\n",
              "      <td>0</td>\n",
              "      <td>0</td>\n",
              "      <td>0</td>\n",
              "      <td>0</td>\n",
              "      <td>0</td>\n",
              "      <td>0.000000</td>\n",
              "      <td>4</td>\n",
              "      <td>4</td>\n",
              "      <td>0</td>\n",
              "    </tr>\n",
              "    <tr>\n",
              "      <th>1804855</th>\n",
              "      <td>6333920</td>\n",
              "      <td>0.166667</td>\n",
              "      <td>It is of course normal and natural for Eugene ...</td>\n",
              "      <td>0.000000</td>\n",
              "      <td>0.000000</td>\n",
              "      <td>0.166667</td>\n",
              "      <td>0.166667</td>\n",
              "      <td>0.0</td>\n",
              "      <td>0.0</td>\n",
              "      <td>0.0</td>\n",
              "      <td>0.0</td>\n",
              "      <td>0.0</td>\n",
              "      <td>0.0</td>\n",
              "      <td>0.0</td>\n",
              "      <td>0.100000</td>\n",
              "      <td>0.0</td>\n",
              "      <td>0.0</td>\n",
              "      <td>0.0</td>\n",
              "      <td>0.0</td>\n",
              "      <td>0.0</td>\n",
              "      <td>0.0</td>\n",
              "      <td>0.400000</td>\n",
              "      <td>0.0</td>\n",
              "      <td>0.0</td>\n",
              "      <td>0.0</td>\n",
              "      <td>0.0</td>\n",
              "      <td>0.0</td>\n",
              "      <td>0.0</td>\n",
              "      <td>0.0</td>\n",
              "      <td>0.000000</td>\n",
              "      <td>0.0</td>\n",
              "      <td>0.7</td>\n",
              "      <td>2017-11-11 00:47:17.904504+00</td>\n",
              "      <td>13</td>\n",
              "      <td>NaN</td>\n",
              "      <td>399541</td>\n",
              "      <td>approved</td>\n",
              "      <td>0</td>\n",
              "      <td>0</td>\n",
              "      <td>0</td>\n",
              "      <td>0</td>\n",
              "      <td>0</td>\n",
              "      <td>0.000000</td>\n",
              "      <td>10</td>\n",
              "      <td>6</td>\n",
              "      <td>0</td>\n",
              "    </tr>\n",
              "  </tbody>\n",
              "</table>\n",
              "<p>73690 rows × 46 columns</p>\n",
              "</div>"
            ],
            "text/plain": [
              "              id    target  ... toxicity_annotator_count  target_label\n",
              "34        239612  0.830769  ...                       65             1\n",
              "191       239907  0.300000  ...                       10             0\n",
              "197       239917  0.000000  ...                        4             0\n",
              "200       239921  0.200000  ...                       10             0\n",
              "221       239980  0.000000  ...                        4             0\n",
              "...          ...       ...  ...                      ...           ...\n",
              "1804815  6333827  0.000000  ...                        4             0\n",
              "1804839  6333872  0.200000  ...                        5             0\n",
              "1804841  6333875  0.166667  ...                        6             0\n",
              "1804848  6333897  0.000000  ...                        4             0\n",
              "1804855  6333920  0.166667  ...                        6             0\n",
              "\n",
              "[73690 rows x 46 columns]"
            ]
          },
          "metadata": {
            "tags": []
          },
          "execution_count": 26
        }
      ]
    },
    {
      "cell_type": "markdown",
      "metadata": {
        "id": "W1cWz9vHWwTz"
      },
      "source": [
        " Civil Comments' label rating is the civility rating Civil Comments users gave the comment. rejected means the comment is not civilaized(26674),while approved means it's   civilized(a comment could  be both toxic and civilized)"
      ]
    },
    {
      "cell_type": "code",
      "metadata": {
        "colab": {
          "base_uri": "https://localhost:8080/"
        },
        "id": "vVd7hxLndX6O",
        "outputId": "09116c05-5276-4852-d4b9-fa604e8c6bee"
      },
      "source": [
        "train_data[train_data[\"rating\"]==\"approved\"][\"target_label\"].value_counts()"
      ],
      "execution_count": null,
      "outputs": [
        {
          "output_type": "execute_result",
          "data": {
            "text/plain": [
              "0    1604366\n",
              "1      80392\n",
              "Name: target_label, dtype: int64"
            ]
          },
          "metadata": {
            "tags": []
          },
          "execution_count": 27
        }
      ]
    },
    {
      "cell_type": "code",
      "metadata": {
        "colab": {
          "base_uri": "https://localhost:8080/"
        },
        "id": "OAo7u_hDdlKV",
        "outputId": "6d43a458-88b1-475b-8086-6cabe1e488f3"
      },
      "source": [
        "train_data[train_data[\"rating\"]==\"rejected\"][\"target_label\"].value_counts()"
      ],
      "execution_count": null,
      "outputs": [
        {
          "output_type": "execute_result",
          "data": {
            "text/plain": [
              "0    94070\n",
              "1    26046\n",
              "Name: target_label, dtype: int64"
            ]
          },
          "metadata": {
            "tags": []
          },
          "execution_count": 28
        }
      ]
    },
    {
      "cell_type": "code",
      "metadata": {
        "id": "fZmlJ_nLZfhG"
      },
      "source": [
        "# import  seaborn  as sns\n",
        "\n",
        "# x = train_data.target_label\n",
        "# sns.barplot(x,train_data[\"rating\"])\n",
        "# plt.gca().set_label(\"samples\")"
      ],
      "execution_count": null,
      "outputs": []
    },
    {
      "cell_type": "code",
      "metadata": {
        "colab": {
          "base_uri": "https://localhost:8080/"
        },
        "id": "OAbZ0--73ttT",
        "outputId": "4a685638-c101-4bb8-d788-ff4b09b01e49"
      },
      "source": [
        "train_data[\"obscene\"].describe()"
      ],
      "execution_count": null,
      "outputs": [
        {
          "output_type": "execute_result",
          "data": {
            "text/plain": [
              "count    1.804874e+06\n",
              "mean     1.387721e-02\n",
              "std      6.460419e-02\n",
              "min      0.000000e+00\n",
              "25%      0.000000e+00\n",
              "50%      0.000000e+00\n",
              "75%      0.000000e+00\n",
              "max      1.000000e+00\n",
              "Name: obscene, dtype: float64"
            ]
          },
          "metadata": {
            "tags": []
          },
          "execution_count": 30
        }
      ]
    },
    {
      "cell_type": "markdown",
      "metadata": {
        "id": "Sezk2QmK6Eq2"
      },
      "source": [
        "Plot histogram of sever_toxicity"
      ]
    },
    {
      "cell_type": "markdown",
      "metadata": {
        "id": "igNvAWCN39iC"
      },
      "source": [
        "severe_toxicity; from 0 to 1"
      ]
    },
    {
      "cell_type": "markdown",
      "metadata": {
        "id": "41H4rYZf8aAr"
      },
      "source": [
        "Plot disitribution of continous variables in both toxic and non-toxic comments"
      ]
    },
    {
      "cell_type": "code",
      "metadata": {
        "id": "F8i7KykP6c_6"
      },
      "source": [
        "# FEATURES = ['severe_toxicity', 'obscene', 'identity_attack', 'insult', 'threat',\n",
        "#                 'black', 'female', 'homosexual_gay_or_lesbian', 'jewish']\n",
        "# toxic_comments = train_data['target_label'] == 1\n",
        "\n",
        "# fig, axes = plt.subplots(ncols=2, nrows=len(FEATURES), figsize=(20, 50), dpi=100)\n",
        "\n",
        "# for i, feature in enumerate(FEATURES):\n",
        "#     sns.distplot(train_data.loc[~toxic_comments][feature], label='Not toxic', ax=axes[i][0], color='green')\n",
        "#     sns.distplot(train_data.loc[toxic_comments][feature], label='toxic', ax=axes[i][0], color='red')\n",
        "\n",
        "#    # sns.distplot(train_data[feature], label='Training', ax=axes[i][1])\n",
        "#    # sns.distplot(train_data[feature], label='Test', ax=axes[i][1])\n",
        "    \n",
        "#     for j in range(1):\n",
        "#         axes[i][j].set_xlabel('')\n",
        "#         axes[i][j].tick_params(axis='x', labelsize=12)\n",
        "#         axes[i][j].tick_params(axis='y', labelsize=12)\n",
        "#         axes[i][j].legend()\n",
        "    \n",
        "#     axes[i][0].set_title(f'{feature} Target Distribution in Training Set', fontsize=13)\n",
        "#   #  axes[i][1].set_title(f'{feature} Training & Test Set Distribution', fontsize=13)\n",
        "\n",
        "# plt.show()"
      ],
      "execution_count": null,
      "outputs": []
    },
    {
      "cell_type": "markdown",
      "metadata": {
        "id": "yvx7rVL4UKOE"
      },
      "source": [
        "It's clear that the \"insult\" column is a significant feature in classifying the target, sinnce the distribution center for the  toxic comments is centered aroun 0.6, while for non-toxic comments, it's around 0"
      ]
    },
    {
      "cell_type": "markdown",
      "metadata": {
        "id": "R67KtpOmU3l2"
      },
      "source": [
        "We  can limit the y scale  to visualize small numbers."
      ]
    },
    {
      "cell_type": "code",
      "metadata": {
        "colab": {
          "base_uri": "https://localhost:8080/"
        },
        "id": "LtnAV4JR0FFs",
        "outputId": "5256c183-f92b-4f1f-f7ae-774e867f568c"
      },
      "source": [
        "train_data.info()"
      ],
      "execution_count": null,
      "outputs": [
        {
          "output_type": "stream",
          "text": [
            "<class 'pandas.core.frame.DataFrame'>\n",
            "RangeIndex: 1804874 entries, 0 to 1804873\n",
            "Data columns (total 46 columns):\n",
            " #   Column                               Dtype  \n",
            "---  ------                               -----  \n",
            " 0   id                                   int64  \n",
            " 1   target                               float64\n",
            " 2   comment_text                         object \n",
            " 3   severe_toxicity                      float64\n",
            " 4   obscene                              float64\n",
            " 5   identity_attack                      float64\n",
            " 6   insult                               float64\n",
            " 7   threat                               float64\n",
            " 8   asian                                float64\n",
            " 9   atheist                              float64\n",
            " 10  bisexual                             float64\n",
            " 11  black                                float64\n",
            " 12  buddhist                             float64\n",
            " 13  christian                            float64\n",
            " 14  female                               float64\n",
            " 15  heterosexual                         float64\n",
            " 16  hindu                                float64\n",
            " 17  homosexual_gay_or_lesbian            float64\n",
            " 18  intellectual_or_learning_disability  float64\n",
            " 19  jewish                               float64\n",
            " 20  latino                               float64\n",
            " 21  male                                 float64\n",
            " 22  muslim                               float64\n",
            " 23  other_disability                     float64\n",
            " 24  other_gender                         float64\n",
            " 25  other_race_or_ethnicity              float64\n",
            " 26  other_religion                       float64\n",
            " 27  other_sexual_orientation             float64\n",
            " 28  physical_disability                  float64\n",
            " 29  psychiatric_or_mental_illness        float64\n",
            " 30  transgender                          float64\n",
            " 31  white                                float64\n",
            " 32  created_date                         object \n",
            " 33  publication_id                       int64  \n",
            " 34  parent_id                            float64\n",
            " 35  article_id                           int64  \n",
            " 36  rating                               object \n",
            " 37  funny                                int64  \n",
            " 38  wow                                  int64  \n",
            " 39  sad                                  int64  \n",
            " 40  likes                                int64  \n",
            " 41  disagree                             int64  \n",
            " 42  sexual_explicit                      float64\n",
            " 43  identity_annotator_count             int64  \n",
            " 44  toxicity_annotator_count             int64  \n",
            " 45  target_label                         int64  \n",
            "dtypes: float64(32), int64(11), object(3)\n",
            "memory usage: 633.4+ MB\n"
          ],
          "name": "stdout"
        }
      ]
    },
    {
      "cell_type": "code",
      "metadata": {
        "colab": {
          "base_uri": "https://localhost:8080/"
        },
        "id": "uf7PaiMfWAQM",
        "outputId": "4a1ef4ac-0bbc-414a-f381-77387747779c"
      },
      "source": [
        "train_data[\"obscene\"].describe()"
      ],
      "execution_count": null,
      "outputs": [
        {
          "output_type": "execute_result",
          "data": {
            "text/plain": [
              "count    1.804874e+06\n",
              "mean     1.387721e-02\n",
              "std      6.460419e-02\n",
              "min      0.000000e+00\n",
              "25%      0.000000e+00\n",
              "50%      0.000000e+00\n",
              "75%      0.000000e+00\n",
              "max      1.000000e+00\n",
              "Name: obscene, dtype: float64"
            ]
          },
          "metadata": {
            "tags": []
          },
          "execution_count": 33
        }
      ]
    },
    {
      "cell_type": "markdown",
      "metadata": {
        "id": "aSRVTdYVAEsG"
      },
      "source": [
        "# Selecting  variabbles"
      ]
    },
    {
      "cell_type": "markdown",
      "metadata": {
        "id": "DzdYzNnfL6yq"
      },
      "source": [
        "Since I'll be using deep learning (LSTM and GRU), I don't need all of these hand-crafted features: the model learns them by itself.\n",
        "Hence, the following analysis will be focused on the  comment_text only."
      ]
    },
    {
      "cell_type": "code",
      "metadata": {
        "id": "vEkCAQUVAne0"
      },
      "source": [
        "train_comments = train_data[[\"comment_text\", \"target\", \"target_label\"]]"
      ],
      "execution_count": null,
      "outputs": []
    },
    {
      "cell_type": "code",
      "metadata": {
        "id": "zImuwLiwMldD"
      },
      "source": [
        "test_data=test[[\"comment_text\"]]"
      ],
      "execution_count": null,
      "outputs": []
    },
    {
      "cell_type": "markdown",
      "metadata": {
        "id": "wisMeDJgB9bA"
      },
      "source": [
        "# EDA>>   comments"
      ]
    },
    {
      "cell_type": "markdown",
      "metadata": {
        "id": "6vaIiiHvB7PZ"
      },
      "source": [
        "A good practice is to **visualize train and test set to know if they come from the same distribution.**"
      ]
    },
    {
      "cell_type": "markdown",
      "metadata": {
        "id": "fUZD_YNKFjdf"
      },
      "source": [
        "# Data Cleaning"
      ]
    },
    {
      "cell_type": "markdown",
      "metadata": {
        "id": "btlaCpAqFjlY"
      },
      "source": [
        "## Duplicates\n",
        "### dataset level"
      ]
    },
    {
      "cell_type": "code",
      "metadata": {
        "id": "ncgywskJF1l6"
      },
      "source": [
        "pd.set_option('display.max_rows', 5)"
      ],
      "execution_count": null,
      "outputs": []
    },
    {
      "cell_type": "code",
      "metadata": {
        "colab": {
          "base_uri": "https://localhost:8080/",
          "height": 36
        },
        "id": "K4u8UZkkIkSh",
        "outputId": "499f6be2-2aaa-4aaa-dd72-ed867272bb93"
      },
      "source": [
        "train_comments[\"comment_text\"][288570]"
      ],
      "execution_count": null,
      "outputs": [
        {
          "output_type": "execute_result",
          "data": {
            "application/vnd.google.colaboratory.intrinsic+json": {
              "type": "string"
            },
            "text/plain": [
              "'http://www.catholicleague.org/when-the-pope-tried-to-kill-hitler/'"
            ]
          },
          "metadata": {
            "tags": []
          },
          "execution_count": 37
        }
      ]
    },
    {
      "cell_type": "code",
      "metadata": {
        "colab": {
          "base_uri": "https://localhost:8080/",
          "height": 235
        },
        "id": "hrdB6nUuFolh",
        "outputId": "8e43ca3c-6a37-489e-e2a0-3411d4118d64"
      },
      "source": [
        "train_comments[train_comments.duplicated(keep=False)].reset_index()"
      ],
      "execution_count": null,
      "outputs": [
        {
          "output_type": "execute_result",
          "data": {
            "text/html": [
              "<div>\n",
              "<style scoped>\n",
              "    .dataframe tbody tr th:only-of-type {\n",
              "        vertical-align: middle;\n",
              "    }\n",
              "\n",
              "    .dataframe tbody tr th {\n",
              "        vertical-align: top;\n",
              "    }\n",
              "\n",
              "    .dataframe thead th {\n",
              "        text-align: right;\n",
              "    }\n",
              "</style>\n",
              "<table border=\"1\" class=\"dataframe\">\n",
              "  <thead>\n",
              "    <tr style=\"text-align: right;\">\n",
              "      <th></th>\n",
              "      <th>index</th>\n",
              "      <th>comment_text</th>\n",
              "      <th>target</th>\n",
              "      <th>target_label</th>\n",
              "    </tr>\n",
              "  </thead>\n",
              "  <tbody>\n",
              "    <tr>\n",
              "      <th>0</th>\n",
              "      <td>35</td>\n",
              "      <td>Awesome!</td>\n",
              "      <td>0.0</td>\n",
              "      <td>0</td>\n",
              "    </tr>\n",
              "    <tr>\n",
              "      <th>1</th>\n",
              "      <td>140</td>\n",
              "      <td>Me too!</td>\n",
              "      <td>0.0</td>\n",
              "      <td>0</td>\n",
              "    </tr>\n",
              "    <tr>\n",
              "      <th>...</th>\n",
              "      <td>...</td>\n",
              "      <td>...</td>\n",
              "      <td>...</td>\n",
              "      <td>...</td>\n",
              "    </tr>\n",
              "    <tr>\n",
              "      <th>26355</th>\n",
              "      <td>1804654</td>\n",
              "      <td>Exactly.</td>\n",
              "      <td>0.0</td>\n",
              "      <td>0</td>\n",
              "    </tr>\n",
              "    <tr>\n",
              "      <th>26356</th>\n",
              "      <td>1804833</td>\n",
              "      <td>Yawn 😴</td>\n",
              "      <td>0.0</td>\n",
              "      <td>0</td>\n",
              "    </tr>\n",
              "  </tbody>\n",
              "</table>\n",
              "<p>26357 rows × 4 columns</p>\n",
              "</div>"
            ],
            "text/plain": [
              "         index comment_text  target  target_label\n",
              "0           35     Awesome!     0.0             0\n",
              "1          140      Me too!     0.0             0\n",
              "...        ...          ...     ...           ...\n",
              "26355  1804654     Exactly.     0.0             0\n",
              "26356  1804833       Yawn 😴     0.0             0\n",
              "\n",
              "[26357 rows x 4 columns]"
            ]
          },
          "metadata": {
            "tags": []
          },
          "execution_count": 38
        }
      ]
    },
    {
      "cell_type": "markdown",
      "metadata": {
        "id": "__m3gkxOF90w"
      },
      "source": [
        "Ex. 1804833 contains emojis>> remove them"
      ]
    },
    {
      "cell_type": "code",
      "metadata": {
        "colab": {
          "base_uri": "https://localhost:8080/",
          "height": 36
        },
        "id": "FsclXjYjGCbT",
        "outputId": "4e5d20b7-a67f-4e13-b41d-98fe671c1897"
      },
      "source": [
        "train_comments[\"comment_text\"][453124]"
      ],
      "execution_count": null,
      "outputs": [
        {
          "output_type": "execute_result",
          "data": {
            "application/vnd.google.colaboratory.intrinsic+json": {
              "type": "string"
            },
            "text/plain": [
              "'Yawn ...'"
            ]
          },
          "metadata": {
            "tags": []
          },
          "execution_count": 39
        }
      ]
    },
    {
      "cell_type": "code",
      "metadata": {
        "colab": {
          "base_uri": "https://localhost:8080/"
        },
        "id": "FM3Vfv9dGsYj",
        "outputId": "b4d67847-b563-4491-a7ce-cafa73ab989e"
      },
      "source": [
        "train_comments.drop_duplicates(keep = \"first\", inplace=True)"
      ],
      "execution_count": null,
      "outputs": [
        {
          "output_type": "stream",
          "text": [
            "/usr/local/lib/python3.7/dist-packages/ipykernel_launcher.py:1: SettingWithCopyWarning: \n",
            "A value is trying to be set on a copy of a slice from a DataFrame\n",
            "\n",
            "See the caveats in the documentation: https://pandas.pydata.org/pandas-docs/stable/user_guide/indexing.html#returning-a-view-versus-a-copy\n",
            "  \"\"\"Entry point for launching an IPython kernel.\n"
          ],
          "name": "stderr"
        }
      ]
    },
    {
      "cell_type": "code",
      "metadata": {
        "colab": {
          "base_uri": "https://localhost:8080/",
          "height": 49
        },
        "id": "dHJGiRSzHQ1b",
        "outputId": "acb459db-26c6-4542-cbfa-c27942539352"
      },
      "source": [
        "train_comments[train_comments.duplicated(keep=False)].reset_index()"
      ],
      "execution_count": null,
      "outputs": [
        {
          "output_type": "execute_result",
          "data": {
            "text/html": [
              "<div>\n",
              "<style scoped>\n",
              "    .dataframe tbody tr th:only-of-type {\n",
              "        vertical-align: middle;\n",
              "    }\n",
              "\n",
              "    .dataframe tbody tr th {\n",
              "        vertical-align: top;\n",
              "    }\n",
              "\n",
              "    .dataframe thead th {\n",
              "        text-align: right;\n",
              "    }\n",
              "</style>\n",
              "<table border=\"1\" class=\"dataframe\">\n",
              "  <thead>\n",
              "    <tr style=\"text-align: right;\">\n",
              "      <th></th>\n",
              "      <th>index</th>\n",
              "      <th>comment_text</th>\n",
              "      <th>target</th>\n",
              "      <th>target_label</th>\n",
              "    </tr>\n",
              "  </thead>\n",
              "  <tbody>\n",
              "  </tbody>\n",
              "</table>\n",
              "</div>"
            ],
            "text/plain": [
              "Empty DataFrame\n",
              "Columns: [index, comment_text, target, target_label]\n",
              "Index: []"
            ]
          },
          "metadata": {
            "tags": []
          },
          "execution_count": 41
        }
      ]
    },
    {
      "cell_type": "code",
      "metadata": {
        "colab": {
          "base_uri": "https://localhost:8080/",
          "height": 446
        },
        "id": "1-RRnpIuJM7s",
        "outputId": "0d173c65-5b59-4d7e-8396-dec4cd07fd49"
      },
      "source": [
        "train_data"
      ],
      "execution_count": null,
      "outputs": [
        {
          "output_type": "execute_result",
          "data": {
            "text/html": [
              "<div>\n",
              "<style scoped>\n",
              "    .dataframe tbody tr th:only-of-type {\n",
              "        vertical-align: middle;\n",
              "    }\n",
              "\n",
              "    .dataframe tbody tr th {\n",
              "        vertical-align: top;\n",
              "    }\n",
              "\n",
              "    .dataframe thead th {\n",
              "        text-align: right;\n",
              "    }\n",
              "</style>\n",
              "<table border=\"1\" class=\"dataframe\">\n",
              "  <thead>\n",
              "    <tr style=\"text-align: right;\">\n",
              "      <th></th>\n",
              "      <th>id</th>\n",
              "      <th>target</th>\n",
              "      <th>comment_text</th>\n",
              "      <th>severe_toxicity</th>\n",
              "      <th>obscene</th>\n",
              "      <th>identity_attack</th>\n",
              "      <th>insult</th>\n",
              "      <th>threat</th>\n",
              "      <th>asian</th>\n",
              "      <th>atheist</th>\n",
              "      <th>bisexual</th>\n",
              "      <th>black</th>\n",
              "      <th>buddhist</th>\n",
              "      <th>christian</th>\n",
              "      <th>female</th>\n",
              "      <th>heterosexual</th>\n",
              "      <th>hindu</th>\n",
              "      <th>homosexual_gay_or_lesbian</th>\n",
              "      <th>intellectual_or_learning_disability</th>\n",
              "      <th>jewish</th>\n",
              "      <th>latino</th>\n",
              "      <th>male</th>\n",
              "      <th>muslim</th>\n",
              "      <th>other_disability</th>\n",
              "      <th>other_gender</th>\n",
              "      <th>other_race_or_ethnicity</th>\n",
              "      <th>other_religion</th>\n",
              "      <th>other_sexual_orientation</th>\n",
              "      <th>physical_disability</th>\n",
              "      <th>psychiatric_or_mental_illness</th>\n",
              "      <th>transgender</th>\n",
              "      <th>white</th>\n",
              "      <th>created_date</th>\n",
              "      <th>publication_id</th>\n",
              "      <th>parent_id</th>\n",
              "      <th>article_id</th>\n",
              "      <th>rating</th>\n",
              "      <th>funny</th>\n",
              "      <th>wow</th>\n",
              "      <th>sad</th>\n",
              "      <th>likes</th>\n",
              "      <th>disagree</th>\n",
              "      <th>sexual_explicit</th>\n",
              "      <th>identity_annotator_count</th>\n",
              "      <th>toxicity_annotator_count</th>\n",
              "      <th>target_label</th>\n",
              "    </tr>\n",
              "  </thead>\n",
              "  <tbody>\n",
              "    <tr>\n",
              "      <th>0</th>\n",
              "      <td>59848</td>\n",
              "      <td>0.000000</td>\n",
              "      <td>This is so cool. It's like, 'would you want yo...</td>\n",
              "      <td>0.000000</td>\n",
              "      <td>0.000000</td>\n",
              "      <td>0.000000</td>\n",
              "      <td>0.000000</td>\n",
              "      <td>0.0</td>\n",
              "      <td>NaN</td>\n",
              "      <td>NaN</td>\n",
              "      <td>NaN</td>\n",
              "      <td>NaN</td>\n",
              "      <td>NaN</td>\n",
              "      <td>NaN</td>\n",
              "      <td>NaN</td>\n",
              "      <td>NaN</td>\n",
              "      <td>NaN</td>\n",
              "      <td>NaN</td>\n",
              "      <td>NaN</td>\n",
              "      <td>NaN</td>\n",
              "      <td>NaN</td>\n",
              "      <td>NaN</td>\n",
              "      <td>NaN</td>\n",
              "      <td>NaN</td>\n",
              "      <td>NaN</td>\n",
              "      <td>NaN</td>\n",
              "      <td>NaN</td>\n",
              "      <td>NaN</td>\n",
              "      <td>NaN</td>\n",
              "      <td>NaN</td>\n",
              "      <td>NaN</td>\n",
              "      <td>NaN</td>\n",
              "      <td>2015-09-29 10:50:41.987077+00</td>\n",
              "      <td>2</td>\n",
              "      <td>NaN</td>\n",
              "      <td>2006</td>\n",
              "      <td>rejected</td>\n",
              "      <td>0</td>\n",
              "      <td>0</td>\n",
              "      <td>0</td>\n",
              "      <td>0</td>\n",
              "      <td>0</td>\n",
              "      <td>0.0</td>\n",
              "      <td>0</td>\n",
              "      <td>4</td>\n",
              "      <td>0</td>\n",
              "    </tr>\n",
              "    <tr>\n",
              "      <th>1</th>\n",
              "      <td>59849</td>\n",
              "      <td>0.000000</td>\n",
              "      <td>Thank you!! This would make my life a lot less...</td>\n",
              "      <td>0.000000</td>\n",
              "      <td>0.000000</td>\n",
              "      <td>0.000000</td>\n",
              "      <td>0.000000</td>\n",
              "      <td>0.0</td>\n",
              "      <td>NaN</td>\n",
              "      <td>NaN</td>\n",
              "      <td>NaN</td>\n",
              "      <td>NaN</td>\n",
              "      <td>NaN</td>\n",
              "      <td>NaN</td>\n",
              "      <td>NaN</td>\n",
              "      <td>NaN</td>\n",
              "      <td>NaN</td>\n",
              "      <td>NaN</td>\n",
              "      <td>NaN</td>\n",
              "      <td>NaN</td>\n",
              "      <td>NaN</td>\n",
              "      <td>NaN</td>\n",
              "      <td>NaN</td>\n",
              "      <td>NaN</td>\n",
              "      <td>NaN</td>\n",
              "      <td>NaN</td>\n",
              "      <td>NaN</td>\n",
              "      <td>NaN</td>\n",
              "      <td>NaN</td>\n",
              "      <td>NaN</td>\n",
              "      <td>NaN</td>\n",
              "      <td>NaN</td>\n",
              "      <td>2015-09-29 10:50:42.870083+00</td>\n",
              "      <td>2</td>\n",
              "      <td>NaN</td>\n",
              "      <td>2006</td>\n",
              "      <td>rejected</td>\n",
              "      <td>0</td>\n",
              "      <td>0</td>\n",
              "      <td>0</td>\n",
              "      <td>0</td>\n",
              "      <td>0</td>\n",
              "      <td>0.0</td>\n",
              "      <td>0</td>\n",
              "      <td>4</td>\n",
              "      <td>0</td>\n",
              "    </tr>\n",
              "    <tr>\n",
              "      <th>...</th>\n",
              "      <td>...</td>\n",
              "      <td>...</td>\n",
              "      <td>...</td>\n",
              "      <td>...</td>\n",
              "      <td>...</td>\n",
              "      <td>...</td>\n",
              "      <td>...</td>\n",
              "      <td>...</td>\n",
              "      <td>...</td>\n",
              "      <td>...</td>\n",
              "      <td>...</td>\n",
              "      <td>...</td>\n",
              "      <td>...</td>\n",
              "      <td>...</td>\n",
              "      <td>...</td>\n",
              "      <td>...</td>\n",
              "      <td>...</td>\n",
              "      <td>...</td>\n",
              "      <td>...</td>\n",
              "      <td>...</td>\n",
              "      <td>...</td>\n",
              "      <td>...</td>\n",
              "      <td>...</td>\n",
              "      <td>...</td>\n",
              "      <td>...</td>\n",
              "      <td>...</td>\n",
              "      <td>...</td>\n",
              "      <td>...</td>\n",
              "      <td>...</td>\n",
              "      <td>...</td>\n",
              "      <td>...</td>\n",
              "      <td>...</td>\n",
              "      <td>...</td>\n",
              "      <td>...</td>\n",
              "      <td>...</td>\n",
              "      <td>...</td>\n",
              "      <td>...</td>\n",
              "      <td>...</td>\n",
              "      <td>...</td>\n",
              "      <td>...</td>\n",
              "      <td>...</td>\n",
              "      <td>...</td>\n",
              "      <td>...</td>\n",
              "      <td>...</td>\n",
              "      <td>...</td>\n",
              "      <td>...</td>\n",
              "    </tr>\n",
              "    <tr>\n",
              "      <th>1804872</th>\n",
              "      <td>6334009</td>\n",
              "      <td>0.621212</td>\n",
              "      <td>Anyone who is quoted as having the following e...</td>\n",
              "      <td>0.030303</td>\n",
              "      <td>0.030303</td>\n",
              "      <td>0.045455</td>\n",
              "      <td>0.621212</td>\n",
              "      <td>0.0</td>\n",
              "      <td>NaN</td>\n",
              "      <td>NaN</td>\n",
              "      <td>NaN</td>\n",
              "      <td>NaN</td>\n",
              "      <td>NaN</td>\n",
              "      <td>NaN</td>\n",
              "      <td>NaN</td>\n",
              "      <td>NaN</td>\n",
              "      <td>NaN</td>\n",
              "      <td>NaN</td>\n",
              "      <td>NaN</td>\n",
              "      <td>NaN</td>\n",
              "      <td>NaN</td>\n",
              "      <td>NaN</td>\n",
              "      <td>NaN</td>\n",
              "      <td>NaN</td>\n",
              "      <td>NaN</td>\n",
              "      <td>NaN</td>\n",
              "      <td>NaN</td>\n",
              "      <td>NaN</td>\n",
              "      <td>NaN</td>\n",
              "      <td>NaN</td>\n",
              "      <td>NaN</td>\n",
              "      <td>NaN</td>\n",
              "      <td>2017-11-11 01:01:10.153692+00</td>\n",
              "      <td>13</td>\n",
              "      <td>6333833.0</td>\n",
              "      <td>399519</td>\n",
              "      <td>approved</td>\n",
              "      <td>0</td>\n",
              "      <td>0</td>\n",
              "      <td>0</td>\n",
              "      <td>0</td>\n",
              "      <td>0</td>\n",
              "      <td>0.0</td>\n",
              "      <td>0</td>\n",
              "      <td>66</td>\n",
              "      <td>1</td>\n",
              "    </tr>\n",
              "    <tr>\n",
              "      <th>1804873</th>\n",
              "      <td>6334010</td>\n",
              "      <td>0.000000</td>\n",
              "      <td>Students defined as EBD are legally just as di...</td>\n",
              "      <td>0.000000</td>\n",
              "      <td>0.000000</td>\n",
              "      <td>0.000000</td>\n",
              "      <td>0.000000</td>\n",
              "      <td>0.0</td>\n",
              "      <td>NaN</td>\n",
              "      <td>NaN</td>\n",
              "      <td>NaN</td>\n",
              "      <td>NaN</td>\n",
              "      <td>NaN</td>\n",
              "      <td>NaN</td>\n",
              "      <td>NaN</td>\n",
              "      <td>NaN</td>\n",
              "      <td>NaN</td>\n",
              "      <td>NaN</td>\n",
              "      <td>NaN</td>\n",
              "      <td>NaN</td>\n",
              "      <td>NaN</td>\n",
              "      <td>NaN</td>\n",
              "      <td>NaN</td>\n",
              "      <td>NaN</td>\n",
              "      <td>NaN</td>\n",
              "      <td>NaN</td>\n",
              "      <td>NaN</td>\n",
              "      <td>NaN</td>\n",
              "      <td>NaN</td>\n",
              "      <td>NaN</td>\n",
              "      <td>NaN</td>\n",
              "      <td>NaN</td>\n",
              "      <td>2017-11-11 01:01:10.822969+00</td>\n",
              "      <td>13</td>\n",
              "      <td>6333965.0</td>\n",
              "      <td>399318</td>\n",
              "      <td>approved</td>\n",
              "      <td>0</td>\n",
              "      <td>0</td>\n",
              "      <td>0</td>\n",
              "      <td>0</td>\n",
              "      <td>0</td>\n",
              "      <td>0.0</td>\n",
              "      <td>0</td>\n",
              "      <td>4</td>\n",
              "      <td>0</td>\n",
              "    </tr>\n",
              "  </tbody>\n",
              "</table>\n",
              "<p>1804874 rows × 46 columns</p>\n",
              "</div>"
            ],
            "text/plain": [
              "              id    target  ... toxicity_annotator_count  target_label\n",
              "0          59848  0.000000  ...                        4             0\n",
              "1          59849  0.000000  ...                        4             0\n",
              "...          ...       ...  ...                      ...           ...\n",
              "1804872  6334009  0.621212  ...                       66             1\n",
              "1804873  6334010  0.000000  ...                        4             0\n",
              "\n",
              "[1804874 rows x 46 columns]"
            ]
          },
          "metadata": {
            "tags": []
          },
          "execution_count": 42
        }
      ]
    },
    {
      "cell_type": "code",
      "metadata": {
        "colab": {
          "base_uri": "https://localhost:8080/",
          "height": 235
        },
        "id": "w-PSYrWqJQre",
        "outputId": "2dbd0f5e-6203-4f18-f7b7-1012ba00b771"
      },
      "source": [
        "train_comments"
      ],
      "execution_count": null,
      "outputs": [
        {
          "output_type": "execute_result",
          "data": {
            "text/html": [
              "<div>\n",
              "<style scoped>\n",
              "    .dataframe tbody tr th:only-of-type {\n",
              "        vertical-align: middle;\n",
              "    }\n",
              "\n",
              "    .dataframe tbody tr th {\n",
              "        vertical-align: top;\n",
              "    }\n",
              "\n",
              "    .dataframe thead th {\n",
              "        text-align: right;\n",
              "    }\n",
              "</style>\n",
              "<table border=\"1\" class=\"dataframe\">\n",
              "  <thead>\n",
              "    <tr style=\"text-align: right;\">\n",
              "      <th></th>\n",
              "      <th>comment_text</th>\n",
              "      <th>target</th>\n",
              "      <th>target_label</th>\n",
              "    </tr>\n",
              "  </thead>\n",
              "  <tbody>\n",
              "    <tr>\n",
              "      <th>0</th>\n",
              "      <td>This is so cool. It's like, 'would you want yo...</td>\n",
              "      <td>0.000000</td>\n",
              "      <td>0</td>\n",
              "    </tr>\n",
              "    <tr>\n",
              "      <th>1</th>\n",
              "      <td>Thank you!! This would make my life a lot less...</td>\n",
              "      <td>0.000000</td>\n",
              "      <td>0</td>\n",
              "    </tr>\n",
              "    <tr>\n",
              "      <th>...</th>\n",
              "      <td>...</td>\n",
              "      <td>...</td>\n",
              "      <td>...</td>\n",
              "    </tr>\n",
              "    <tr>\n",
              "      <th>1804872</th>\n",
              "      <td>Anyone who is quoted as having the following e...</td>\n",
              "      <td>0.621212</td>\n",
              "      <td>1</td>\n",
              "    </tr>\n",
              "    <tr>\n",
              "      <th>1804873</th>\n",
              "      <td>Students defined as EBD are legally just as di...</td>\n",
              "      <td>0.000000</td>\n",
              "      <td>0</td>\n",
              "    </tr>\n",
              "  </tbody>\n",
              "</table>\n",
              "<p>1786021 rows × 3 columns</p>\n",
              "</div>"
            ],
            "text/plain": [
              "                                              comment_text  ...  target_label\n",
              "0        This is so cool. It's like, 'would you want yo...  ...             0\n",
              "1        Thank you!! This would make my life a lot less...  ...             0\n",
              "...                                                    ...  ...           ...\n",
              "1804872  Anyone who is quoted as having the following e...  ...             1\n",
              "1804873  Students defined as EBD are legally just as di...  ...             0\n",
              "\n",
              "[1786021 rows x 3 columns]"
            ]
          },
          "metadata": {
            "tags": []
          },
          "execution_count": 43
        }
      ]
    },
    {
      "cell_type": "markdown",
      "metadata": {
        "id": "DPahcIqKHe0g"
      },
      "source": [
        "### dataset  without target;   __duplicated   ratings__"
      ]
    },
    {
      "cell_type": "code",
      "metadata": {
        "colab": {
          "base_uri": "https://localhost:8080/",
          "height": 235
        },
        "id": "VIdlBRHJIIUk",
        "outputId": "41a056d5-a871-469c-dbfc-0f542bb8132b"
      },
      "source": [
        "train_comments[train_comments[[\"comment_text\",\"target_label\"]].duplicated()]"
      ],
      "execution_count": null,
      "outputs": [
        {
          "output_type": "execute_result",
          "data": {
            "text/html": [
              "<div>\n",
              "<style scoped>\n",
              "    .dataframe tbody tr th:only-of-type {\n",
              "        vertical-align: middle;\n",
              "    }\n",
              "\n",
              "    .dataframe tbody tr th {\n",
              "        vertical-align: top;\n",
              "    }\n",
              "\n",
              "    .dataframe thead th {\n",
              "        text-align: right;\n",
              "    }\n",
              "</style>\n",
              "<table border=\"1\" class=\"dataframe\">\n",
              "  <thead>\n",
              "    <tr style=\"text-align: right;\">\n",
              "      <th></th>\n",
              "      <th>comment_text</th>\n",
              "      <th>target</th>\n",
              "      <th>target_label</th>\n",
              "    </tr>\n",
              "  </thead>\n",
              "  <tbody>\n",
              "    <tr>\n",
              "      <th>84</th>\n",
              "      <td>Tuesday Jan. 13, members of \\nthis socalled 'm...</td>\n",
              "      <td>0.500000</td>\n",
              "      <td>0</td>\n",
              "    </tr>\n",
              "    <tr>\n",
              "      <th>6955</th>\n",
              "      <td>Wait, fer real? That went to court?! And he WO...</td>\n",
              "      <td>0.614286</td>\n",
              "      <td>1</td>\n",
              "    </tr>\n",
              "    <tr>\n",
              "      <th>...</th>\n",
              "      <td>...</td>\n",
              "      <td>...</td>\n",
              "      <td>...</td>\n",
              "    </tr>\n",
              "    <tr>\n",
              "      <th>1804323</th>\n",
              "      <td>Congrats on being a criminal-cop enabler. You'...</td>\n",
              "      <td>0.578125</td>\n",
              "      <td>1</td>\n",
              "    </tr>\n",
              "    <tr>\n",
              "      <th>1804371</th>\n",
              "      <td>Congrats on being a criminal-cop enabler. You'...</td>\n",
              "      <td>0.593750</td>\n",
              "      <td>1</td>\n",
              "    </tr>\n",
              "  </tbody>\n",
              "</table>\n",
              "<p>4732 rows × 3 columns</p>\n",
              "</div>"
            ],
            "text/plain": [
              "                                              comment_text  ...  target_label\n",
              "84       Tuesday Jan. 13, members of \\nthis socalled 'm...  ...             0\n",
              "6955     Wait, fer real? That went to court?! And he WO...  ...             1\n",
              "...                                                    ...  ...           ...\n",
              "1804323  Congrats on being a criminal-cop enabler. You'...  ...             1\n",
              "1804371  Congrats on being a criminal-cop enabler. You'...  ...             1\n",
              "\n",
              "[4732 rows x 3 columns]"
            ]
          },
          "metadata": {
            "tags": []
          },
          "execution_count": 44
        }
      ]
    },
    {
      "cell_type": "code",
      "metadata": {
        "colab": {
          "base_uri": "https://localhost:8080/"
        },
        "id": "xl7Ik3H8Nayk",
        "outputId": "b502f231-0f05-484d-d232-3a72a060091a"
      },
      "source": [
        "train_comments.drop_duplicates(subset=[\"comment_text\",\"target_label\"],keep=\"first\",inplace=True)"
      ],
      "execution_count": null,
      "outputs": [
        {
          "output_type": "stream",
          "text": [
            "/usr/local/lib/python3.7/dist-packages/ipykernel_launcher.py:1: SettingWithCopyWarning: \n",
            "A value is trying to be set on a copy of a slice from a DataFrame\n",
            "\n",
            "See the caveats in the documentation: https://pandas.pydata.org/pandas-docs/stable/user_guide/indexing.html#returning-a-view-versus-a-copy\n",
            "  \"\"\"Entry point for launching an IPython kernel.\n"
          ],
          "name": "stderr"
        }
      ]
    },
    {
      "cell_type": "markdown",
      "metadata": {
        "id": "VriY7Q4AJuRR"
      },
      "source": [
        "Clearly,  some comments are rated with different percentages by different users. This   is useless since eventually, we'll predict either 1 or 0."
      ]
    },
    {
      "cell_type": "markdown",
      "metadata": {
        "id": "6rndXWsfLeCH"
      },
      "source": [
        "Also,  we  shouldnnn't remove links since 288570 only contains a link, but we can remove the  \"html\" word from the  dictionary"
      ]
    },
    {
      "cell_type": "code",
      "metadata": {
        "colab": {
          "base_uri": "https://localhost:8080/",
          "height": 235
        },
        "id": "cMp_gvEJMO_4",
        "outputId": "096cc20f-5e84-4ca3-d2df-6d62d8fbfaf6"
      },
      "source": [
        "train_comments"
      ],
      "execution_count": null,
      "outputs": [
        {
          "output_type": "execute_result",
          "data": {
            "text/html": [
              "<div>\n",
              "<style scoped>\n",
              "    .dataframe tbody tr th:only-of-type {\n",
              "        vertical-align: middle;\n",
              "    }\n",
              "\n",
              "    .dataframe tbody tr th {\n",
              "        vertical-align: top;\n",
              "    }\n",
              "\n",
              "    .dataframe thead th {\n",
              "        text-align: right;\n",
              "    }\n",
              "</style>\n",
              "<table border=\"1\" class=\"dataframe\">\n",
              "  <thead>\n",
              "    <tr style=\"text-align: right;\">\n",
              "      <th></th>\n",
              "      <th>comment_text</th>\n",
              "      <th>target</th>\n",
              "      <th>target_label</th>\n",
              "    </tr>\n",
              "  </thead>\n",
              "  <tbody>\n",
              "    <tr>\n",
              "      <th>0</th>\n",
              "      <td>This is so cool. It's like, 'would you want yo...</td>\n",
              "      <td>0.000000</td>\n",
              "      <td>0</td>\n",
              "    </tr>\n",
              "    <tr>\n",
              "      <th>1</th>\n",
              "      <td>Thank you!! This would make my life a lot less...</td>\n",
              "      <td>0.000000</td>\n",
              "      <td>0</td>\n",
              "    </tr>\n",
              "    <tr>\n",
              "      <th>...</th>\n",
              "      <td>...</td>\n",
              "      <td>...</td>\n",
              "      <td>...</td>\n",
              "    </tr>\n",
              "    <tr>\n",
              "      <th>1804872</th>\n",
              "      <td>Anyone who is quoted as having the following e...</td>\n",
              "      <td>0.621212</td>\n",
              "      <td>1</td>\n",
              "    </tr>\n",
              "    <tr>\n",
              "      <th>1804873</th>\n",
              "      <td>Students defined as EBD are legally just as di...</td>\n",
              "      <td>0.000000</td>\n",
              "      <td>0</td>\n",
              "    </tr>\n",
              "  </tbody>\n",
              "</table>\n",
              "<p>1781289 rows × 3 columns</p>\n",
              "</div>"
            ],
            "text/plain": [
              "                                              comment_text  ...  target_label\n",
              "0        This is so cool. It's like, 'would you want yo...  ...             0\n",
              "1        Thank you!! This would make my life a lot less...  ...             0\n",
              "...                                                    ...  ...           ...\n",
              "1804872  Anyone who is quoted as having the following e...  ...             1\n",
              "1804873  Students defined as EBD are legally just as di...  ...             0\n",
              "\n",
              "[1781289 rows x 3 columns]"
            ]
          },
          "metadata": {
            "tags": []
          },
          "execution_count": 46
        }
      ]
    },
    {
      "cell_type": "markdown",
      "metadata": {
        "id": "MkAHdFjNOaas"
      },
      "source": [
        " #### __ Mislabeled/confusing Samples?__"
      ]
    },
    {
      "cell_type": "markdown",
      "metadata": {
        "id": "hVGJi_ngGYb3"
      },
      "source": [
        "are there any examples that are labeled differently(both 0 and 1) by different users?"
      ]
    },
    {
      "cell_type": "code",
      "metadata": {
        "colab": {
          "base_uri": "https://localhost:8080/"
        },
        "id": "jBSntNZAN8lm",
        "outputId": "63ec171e-808f-4619-fdae-da4bb4813aba"
      },
      "source": [
        "#df_mislabeled = df_train.groupby(['text']).nunique().sort_values(by='target', ascending=False)\n",
        "train_grouped_by_text=train_comments.groupby([\"comment_text\"]).nunique().sort_values(by=\"target_label\",ascending =False)\n",
        "##for  each  unnnique  commennt,  sort target_label \n",
        "train_mislabeled = train_grouped_by_text[train_grouped_by_text[\"target_label\"]>1][\"target_label\"]\n",
        "len(train_mislabeled.index.tolist())"
      ],
      "execution_count": null,
      "outputs": [
        {
          "output_type": "execute_result",
          "data": {
            "text/plain": [
              "466"
            ]
          },
          "metadata": {
            "tags": []
          },
          "execution_count": 47
        }
      ]
    },
    {
      "cell_type": "code",
      "metadata": {
        "colab": {
          "base_uri": "https://localhost:8080/"
        },
        "id": "VSG-KGUcuxrh",
        "outputId": "b90f16ea-e928-4a8c-c6d6-e6c13b1d0490"
      },
      "source": [
        "type(train_mislabeled.index.tolist())"
      ],
      "execution_count": null,
      "outputs": [
        {
          "output_type": "execute_result",
          "data": {
            "text/plain": [
              "list"
            ]
          },
          "metadata": {
            "tags": []
          },
          "execution_count": 48
        }
      ]
    },
    {
      "cell_type": "code",
      "metadata": {
        "colab": {
          "base_uri": "https://localhost:8080/"
        },
        "id": "kuqI1xUNwkgB",
        "outputId": "fb1588f8-6ed3-44e7-df79-8cf1a2436acf"
      },
      "source": [
        "\n",
        "train_comments[train_comments[\"comment_text\"]==train_mislabeled.index.tolist()[0]][\"comment_text\"]"
      ],
      "execution_count": null,
      "outputs": [
        {
          "output_type": "execute_result",
          "data": {
            "text/plain": [
              "968978    Are you saying that everyone who voted for Tru...\n",
              "970177    Are you saying that everyone who voted for Tru...\n",
              "Name: comment_text, dtype: object"
            ]
          },
          "metadata": {
            "tags": []
          },
          "execution_count": 49
        }
      ]
    },
    {
      "cell_type": "code",
      "metadata": {
        "colab": {
          "base_uri": "https://localhost:8080/"
        },
        "id": "VbrEn40kxGBQ",
        "outputId": "d8b66146-f7cb-444d-99c6-3f2824a6506c"
      },
      "source": [
        "train_comments.drop(train_comments[train_comments[\"comment_text\"]==train_mislabeled.index.tolist()[1]].index,axis=0,inplace=True)"
      ],
      "execution_count": null,
      "outputs": [
        {
          "output_type": "stream",
          "text": [
            "/usr/local/lib/python3.7/dist-packages/pandas/core/frame.py:4174: SettingWithCopyWarning: \n",
            "A value is trying to be set on a copy of a slice from a DataFrame\n",
            "\n",
            "See the caveats in the documentation: https://pandas.pydata.org/pandas-docs/stable/user_guide/indexing.html#returning-a-view-versus-a-copy\n",
            "  errors=errors,\n"
          ],
          "name": "stderr"
        }
      ]
    },
    {
      "cell_type": "markdown",
      "metadata": {
        "id": "FlG5Gv8MTVhi"
      },
      "source": [
        "Since his portion  represents  0.026% of the data,Dropping  these columns would be much more conveniennt  than  manual  correction(which  would be a wated effort)."
      ]
    },
    {
      "cell_type": "code",
      "metadata": {
        "colab": {
          "base_uri": "https://localhost:8080/"
        },
        "id": "7dLBMqz3SqyE",
        "outputId": "25fb4fdd-5063-4129-a493-78efd89730cf"
      },
      "source": [
        "#visually inspecting#\n",
        "for i in range (0,466):\n",
        "  train_comments.drop(train_comments[train_comments[\"comment_text\"]==train_mislabeled.index.tolist()[i]].index, axis=0, inplace=True)"
      ],
      "execution_count": null,
      "outputs": [
        {
          "output_type": "stream",
          "text": [
            "/usr/local/lib/python3.7/dist-packages/pandas/core/frame.py:4174: SettingWithCopyWarning: \n",
            "A value is trying to be set on a copy of a slice from a DataFrame\n",
            "\n",
            "See the caveats in the documentation: https://pandas.pydata.org/pandas-docs/stable/user_guide/indexing.html#returning-a-view-versus-a-copy\n",
            "  errors=errors,\n"
          ],
          "name": "stderr"
        }
      ]
    },
    {
      "cell_type": "markdown",
      "metadata": {
        "id": "qNUBfkDLy_yP"
      },
      "source": [
        "validate"
      ]
    },
    {
      "cell_type": "code",
      "metadata": {
        "colab": {
          "base_uri": "https://localhost:8080/",
          "height": 235
        },
        "id": "x8o9XOtvyouP",
        "outputId": "94bf6315-90da-4fb2-fafe-846023652bfb"
      },
      "source": [
        "train_comments"
      ],
      "execution_count": null,
      "outputs": [
        {
          "output_type": "execute_result",
          "data": {
            "text/html": [
              "<div>\n",
              "<style scoped>\n",
              "    .dataframe tbody tr th:only-of-type {\n",
              "        vertical-align: middle;\n",
              "    }\n",
              "\n",
              "    .dataframe tbody tr th {\n",
              "        vertical-align: top;\n",
              "    }\n",
              "\n",
              "    .dataframe thead th {\n",
              "        text-align: right;\n",
              "    }\n",
              "</style>\n",
              "<table border=\"1\" class=\"dataframe\">\n",
              "  <thead>\n",
              "    <tr style=\"text-align: right;\">\n",
              "      <th></th>\n",
              "      <th>comment_text</th>\n",
              "      <th>target</th>\n",
              "      <th>target_label</th>\n",
              "    </tr>\n",
              "  </thead>\n",
              "  <tbody>\n",
              "    <tr>\n",
              "      <th>0</th>\n",
              "      <td>This is so cool. It's like, 'would you want yo...</td>\n",
              "      <td>0.000000</td>\n",
              "      <td>0</td>\n",
              "    </tr>\n",
              "    <tr>\n",
              "      <th>1</th>\n",
              "      <td>Thank you!! This would make my life a lot less...</td>\n",
              "      <td>0.000000</td>\n",
              "      <td>0</td>\n",
              "    </tr>\n",
              "    <tr>\n",
              "      <th>...</th>\n",
              "      <td>...</td>\n",
              "      <td>...</td>\n",
              "      <td>...</td>\n",
              "    </tr>\n",
              "    <tr>\n",
              "      <th>1804872</th>\n",
              "      <td>Anyone who is quoted as having the following e...</td>\n",
              "      <td>0.621212</td>\n",
              "      <td>1</td>\n",
              "    </tr>\n",
              "    <tr>\n",
              "      <th>1804873</th>\n",
              "      <td>Students defined as EBD are legally just as di...</td>\n",
              "      <td>0.000000</td>\n",
              "      <td>0</td>\n",
              "    </tr>\n",
              "  </tbody>\n",
              "</table>\n",
              "<p>1780357 rows × 3 columns</p>\n",
              "</div>"
            ],
            "text/plain": [
              "                                              comment_text  ...  target_label\n",
              "0        This is so cool. It's like, 'would you want yo...  ...             0\n",
              "1        Thank you!! This would make my life a lot less...  ...             0\n",
              "...                                                    ...  ...           ...\n",
              "1804872  Anyone who is quoted as having the following e...  ...             1\n",
              "1804873  Students defined as EBD are legally just as di...  ...             0\n",
              "\n",
              "[1780357 rows x 3 columns]"
            ]
          },
          "metadata": {
            "tags": []
          },
          "execution_count": 52
        }
      ]
    },
    {
      "cell_type": "markdown",
      "metadata": {
        "id": "XCuXwcwTzKIj"
      },
      "source": [
        "## Checknull values"
      ]
    },
    {
      "cell_type": "code",
      "metadata": {
        "colab": {
          "base_uri": "https://localhost:8080/"
        },
        "id": "o_eKczwJzOJC",
        "outputId": "4bb9947e-42b8-4c58-dcc6-93fd7654964b"
      },
      "source": [
        "train_comments.isnull().sum()/ train_comments.shape[0]*100"
      ],
      "execution_count": null,
      "outputs": [
        {
          "output_type": "execute_result",
          "data": {
            "text/plain": [
              "comment_text    0.0\n",
              "target          0.0\n",
              "target_label    0.0\n",
              "dtype: float64"
            ]
          },
          "metadata": {
            "tags": []
          },
          "execution_count": 53
        }
      ]
    },
    {
      "cell_type": "code",
      "metadata": {
        "colab": {
          "base_uri": "https://localhost:8080/"
        },
        "id": "tyng7CBxAnLy",
        "outputId": "d8ad8307-833c-4ebf-90cb-317999a641a7"
      },
      "source": [
        "test_data.isnull().sum()"
      ],
      "execution_count": null,
      "outputs": [
        {
          "output_type": "execute_result",
          "data": {
            "text/plain": [
              "comment_text    0\n",
              "dtype: int64"
            ]
          },
          "metadata": {
            "tags": []
          },
          "execution_count": 54
        }
      ]
    },
    {
      "cell_type": "markdown",
      "metadata": {
        "id": "XJozXzhROBb-"
      },
      "source": [
        "great!"
      ]
    },
    {
      "cell_type": "markdown",
      "metadata": {
        "id": "H-bpwBnfzOen"
      },
      "source": [
        "# Prepare the data for Machine Learning algorithms"
      ]
    },
    {
      "cell_type": "markdown",
      "metadata": {
        "id": "Vz5nOlL3zSFr"
      },
      "source": [
        "## Text Cleaning and preprocessing\n",
        "In this assignmet,I'll use pre-trained embeddings(Glove) along with an LSTM.\n",
        "\n",
        "The benefit of word embeddings is that\n",
        "they encode each word into a dense vector that captures something about its relative meaning within the training text. \n",
        "\n",
        "This means that variations of words like case, spelling, punctuation,\n",
        "and so on will automatically be learned to be similar in the embedding space. \n",
        "\n",
        "In turn, this can mean that the amount of cleaning required from your text may be less and perhaps quite diffeerent to classical text cleaning. \n",
        "\n",
        "For example, __it may no-longer make sense to stem words or\n",
        "remove punctuation for contractions.__\n",
        "\n",
        "Tomas Mikolov is one of the developers of Word2Vec, a popular word embedding method. He suggests only very minimal text cleaning is required when learning a word embedding model. Below is his response when pressed with the question about how to best prepare text data for Word2Vec.\n",
        "\n",
        "_There is no universal answer. It all depends on what you plan to use the vectors\n",
        "for. In my experience, it is usually good to disconnect (or __\n",
        "- remove) punctuation from\n",
        "words,\n",
        "-  and sometimes also convert all characters to lowercase. \n",
        "- One can also replace\n",
        "all numbers (possibly greater than some constant) with some single token such as .__\n",
        "\n",
        "All these pre-processing steps aim to reduce the vocabulary size wit hout removing\n",
        "any important content (which in some cases may not be true when you lowercase\n",
        "certain words, ie. `Bush' is di\u000berent than `bush', while `Another' has usually the\n",
        "same sense as `another'). The smaller the vocabulary is, the lower is the memory\n",
        "complexity, and the more robustly are the parameters for the words estimated. You\n",
        "also have to pre-process the test data in the same way."
      ]
    },
    {
      "cell_type": "code",
      "metadata": {
        "colab": {
          "base_uri": "https://localhost:8080/",
          "height": 49
        },
        "id": "gdCDXli9HI4o",
        "outputId": "715edac8-41bf-4911-f062-84a372c92038"
      },
      "source": [
        "train_comments[train_comments.duplicated(keep=False)].reset_index()"
      ],
      "execution_count": null,
      "outputs": [
        {
          "output_type": "execute_result",
          "data": {
            "text/html": [
              "<div>\n",
              "<style scoped>\n",
              "    .dataframe tbody tr th:only-of-type {\n",
              "        vertical-align: middle;\n",
              "    }\n",
              "\n",
              "    .dataframe tbody tr th {\n",
              "        vertical-align: top;\n",
              "    }\n",
              "\n",
              "    .dataframe thead th {\n",
              "        text-align: right;\n",
              "    }\n",
              "</style>\n",
              "<table border=\"1\" class=\"dataframe\">\n",
              "  <thead>\n",
              "    <tr style=\"text-align: right;\">\n",
              "      <th></th>\n",
              "      <th>index</th>\n",
              "      <th>comment_text</th>\n",
              "      <th>target</th>\n",
              "      <th>target_label</th>\n",
              "    </tr>\n",
              "  </thead>\n",
              "  <tbody>\n",
              "  </tbody>\n",
              "</table>\n",
              "</div>"
            ],
            "text/plain": [
              "Empty DataFrame\n",
              "Columns: [index, comment_text, target, target_label]\n",
              "Index: []"
            ]
          },
          "metadata": {
            "tags": []
          },
          "execution_count": 55
        }
      ]
    },
    {
      "cell_type": "code",
      "metadata": {
        "colab": {
          "base_uri": "https://localhost:8080/"
        },
        "id": "za_hRnPpP3jK",
        "outputId": "a9bb4a00-ccc3-4b9c-efeb-e9ad97b5db39"
      },
      "source": [
        "train_comments[\"comment_text\"].head(40)"
      ],
      "execution_count": null,
      "outputs": [
        {
          "output_type": "execute_result",
          "data": {
            "text/plain": [
              "0     This is so cool. It's like, 'would you want yo...\n",
              "1     Thank you!! This would make my life a lot less...\n",
              "                            ...                        \n",
              "38    Interesting concept.\\n\\nHow does Civil Comment...\n",
              "39    Pity the menu lost so much vegan food! The Mas...\n",
              "Name: comment_text, Length: 40, dtype: object"
            ]
          },
          "metadata": {
            "tags": []
          },
          "execution_count": 56
        }
      ]
    },
    {
      "cell_type": "code",
      "metadata": {
        "colab": {
          "base_uri": "https://localhost:8080/",
          "height": 72
        },
        "id": "nzrbESXoOwpm",
        "outputId": "c12f9978-3b57-41d8-c015-6aaaf42ba4ab"
      },
      "source": [
        "train_comments[\"comment_text\"][180]"
      ],
      "execution_count": null,
      "outputs": [
        {
          "output_type": "execute_result",
          "data": {
            "application/vnd.google.colaboratory.intrinsic+json": {
              "type": "string"
            },
            "text/plain": [
              "'defending genocide is really racist. anyway, your analogy is a poor analogy. north america is not analogous to a private residence. but, your typical of comments frequently used by the reverse racists. And, particularly people who seek to immigrant to the USA, illegally. they often know nothing of american history, except for propaganda that justifies their personal agenda'"
            ]
          },
          "metadata": {
            "tags": []
          },
          "execution_count": 57
        }
      ]
    },
    {
      "cell_type": "code",
      "metadata": {
        "id": "6m-PdkUNOsQH"
      },
      "source": [
        "\n",
        "def remove_special_chars(text):\n",
        "    re1 = re.compile(r'  +')\n",
        "    x1 = text.lower().replace('#39;', \"'\").replace('amp;', '&').replace('#146;', \"'\").replace(\n",
        "        'nbsp;', ' ').replace('#36;', '$').replace('\\\\n', \"\\n\").replace('quot;', \"'\").replace(\n",
        "        '<br />', \"\\n\").replace('\\\\\"', '\"').replace('<unk>', 'u_n').replace(' @.@ ', '.').replace(\n",
        "        ' @-@ ', '-').replace('\\\\', ' \\\\ ')\n",
        "    return re1.sub(' ', html.unescape(x1))\n",
        "\n",
        "def remove_html(text):\n",
        "    html=re.compile(r\"<.*?>\")\n",
        "    return  html.sub(r'',  text)\n",
        "   # This should happen before all other preprocessing steps,\n",
        "   # as we will see in the full pipeline, since it will help sentence and words tokenization for example, and will reduce vocab. \n",
        "   \n",
        "\n",
        "def remove_non_ascii(text):\n",
        "    \"\"\"Remove non-ASCII characters from list of tokenized words\"\"\"\n",
        "    return unicodedata.normalize('NFKD', text).encode('ascii', 'ignore').decode('utf-8', 'ignore')\n",
        "\n",
        "\n",
        "def remove_punctuation(text):\n",
        "    \"\"\"Remove punctuation from list of tokenized words\"\"\"\n",
        "    translator = str.maketrans('', '', string.punctuation)\n",
        "    return text.translate(translator)\n",
        "\n",
        "\n",
        "#7599:#Earthquake\n",
        "#other   examples: earthquake, EARTHQUAKE\n",
        "\n",
        "def to_lowercase(text):\n",
        "    return text.lower()\n",
        "\n",
        "\n",
        "def replace_numbers(text): #???\n",
        "    \"\"\"Replace all interger occurrences in list of tokenized words with textual representation\"\"\"\n",
        "    return re.sub(r'\\d+', '', text)\n",
        "\n",
        "\n",
        "def remove_whitespaces(text):\n",
        "    return text.strip\n",
        "\n",
        "def remove_emoji(text):\n",
        "    emoji_pattern = re.compile(\"[\"\n",
        "                           u\"\\U0001F600-\\U0001F64F\"  # emoticons\n",
        "                           u\"\\U0001F300-\\U0001F5FF\"  # symbols & pictographs\n",
        "                           u\"\\U0001F680-\\U0001F6FF\"  # transport & map symbols\n",
        "                           u\"\\U0001F1E0-\\U0001F1FF\"  # flags (iOS)\n",
        "                           u\"\\U00002702-\\U000027B0\"\n",
        "                           u\"\\U000024C2-\\U0001F251\"\n",
        "                           \"]+\", flags=re.UNICODE)\n",
        "    return emoji_pattern.sub(r'', text)\n",
        "\n",
        "def text2words(text):\n",
        "  return word_tokenize(text)\n",
        "\n",
        "def clean_text( text):\n",
        "    text = remove_special_chars(text)\n",
        "    text=remove_html(text)\n",
        "    ##text=remove_urls(text)\n",
        "    text = remove_non_ascii(text)\n",
        "    text = remove_punctuation(text)\n",
        "    text = to_lowercase(text)\n",
        "    \n",
        "\n",
        "   ## text = replace_numbers(text)\n",
        "    words = text2words(text)\n",
        "    #REMOVE STOPWORDS?\n",
        "  ##  words = remove_stopwords(words, stop_words)\n",
        "    ##words = stem_words(words)# Either stem ovocar lemmatize\n",
        "    ##words = lemmatize_words(words)\n",
        "    ##words = lemmatize_verbs(words)\n",
        "\n",
        "    return ' '.join(words)"
      ],
      "execution_count": null,
      "outputs": []
    },
    {
      "cell_type": "code",
      "metadata": {
        "colab": {
          "base_uri": "https://localhost:8080/",
          "height": 36
        },
        "id": "bWIfLWjwDaHt",
        "outputId": "31abc4c9-4c27-46a7-c455-e484f7c870be"
      },
      "source": [
        "clean_text(train_comments[\"comment_text\"][0])"
      ],
      "execution_count": null,
      "outputs": [
        {
          "output_type": "execute_result",
          "data": {
            "application/vnd.google.colaboratory.intrinsic+json": {
              "type": "string"
            },
            "text/plain": [
              "'this is so cool its like would you want your mother to read this really great idea well done'"
            ]
          },
          "metadata": {
            "tags": []
          },
          "execution_count": 59
        }
      ]
    },
    {
      "cell_type": "markdown",
      "metadata": {
        "id": "5eDwyz9BQ8vR"
      },
      "source": [
        "**nnnot  sure  yet if I should replace numbers??? will this affect the LSTM??** couldn't find any exampleswithumers"
      ]
    },
    {
      "cell_type": "code",
      "metadata": {
        "colab": {
          "base_uri": "https://localhost:8080/"
        },
        "id": "mwouxXjfRi0h",
        "outputId": "724d3210-8be0-4d77-ea38-8ed7804ae013"
      },
      "source": [
        "train_comments[\"comment_text\"]=train_comments[\"comment_text\"].apply(lambda x:clean_text(x))"
      ],
      "execution_count": null,
      "outputs": [
        {
          "output_type": "stream",
          "text": [
            "/usr/local/lib/python3.7/dist-packages/ipykernel_launcher.py:1: SettingWithCopyWarning: \n",
            "A value is trying to be set on a copy of a slice from a DataFrame.\n",
            "Try using .loc[row_indexer,col_indexer] = value instead\n",
            "\n",
            "See the caveats in the documentation: https://pandas.pydata.org/pandas-docs/stable/user_guide/indexing.html#returning-a-view-versus-a-copy\n",
            "  \"\"\"Entry point for launching an IPython kernel.\n"
          ],
          "name": "stderr"
        }
      ]
    },
    {
      "cell_type": "code",
      "metadata": {
        "colab": {
          "base_uri": "https://localhost:8080/"
        },
        "id": "BsgQbXPbAsPZ",
        "outputId": "f99463cf-5e51-4f5f-b1be-e8248969553a"
      },
      "source": [
        "test_data[\"comment_text\"]=test_data[\"comment_text\"].apply(lambda x:clean_text(x))"
      ],
      "execution_count": null,
      "outputs": [
        {
          "output_type": "stream",
          "text": [
            "/usr/local/lib/python3.7/dist-packages/ipykernel_launcher.py:1: SettingWithCopyWarning: \n",
            "A value is trying to be set on a copy of a slice from a DataFrame.\n",
            "Try using .loc[row_indexer,col_indexer] = value instead\n",
            "\n",
            "See the caveats in the documentation: https://pandas.pydata.org/pandas-docs/stable/user_guide/indexing.html#returning-a-view-versus-a-copy\n",
            "  \"\"\"Entry point for launching an IPython kernel.\n"
          ],
          "name": "stderr"
        }
      ]
    },
    {
      "cell_type": "code",
      "metadata": {
        "colab": {
          "base_uri": "https://localhost:8080/",
          "height": 235
        },
        "id": "P7Py0lk4A4lC",
        "outputId": "f210ea0c-1a92-4aee-d4b8-03f7c1c80d31"
      },
      "source": [
        "test_data"
      ],
      "execution_count": null,
      "outputs": [
        {
          "output_type": "execute_result",
          "data": {
            "text/html": [
              "<div>\n",
              "<style scoped>\n",
              "    .dataframe tbody tr th:only-of-type {\n",
              "        vertical-align: middle;\n",
              "    }\n",
              "\n",
              "    .dataframe tbody tr th {\n",
              "        vertical-align: top;\n",
              "    }\n",
              "\n",
              "    .dataframe thead th {\n",
              "        text-align: right;\n",
              "    }\n",
              "</style>\n",
              "<table border=\"1\" class=\"dataframe\">\n",
              "  <thead>\n",
              "    <tr style=\"text-align: right;\">\n",
              "      <th></th>\n",
              "      <th>comment_text</th>\n",
              "    </tr>\n",
              "  </thead>\n",
              "  <tbody>\n",
              "    <tr>\n",
              "      <th>0</th>\n",
              "      <td>integrity means that you pay your debts does t...</td>\n",
              "    </tr>\n",
              "    <tr>\n",
              "      <th>1</th>\n",
              "      <td>this is malfeasance by the administrator and t...</td>\n",
              "    </tr>\n",
              "    <tr>\n",
              "      <th>...</th>\n",
              "      <td>...</td>\n",
              "    </tr>\n",
              "    <tr>\n",
              "      <th>97318</th>\n",
              "      <td>im thinking kellyanne conway aka the trump whi...</td>\n",
              "    </tr>\n",
              "    <tr>\n",
              "      <th>97319</th>\n",
              "      <td>i still cant figure why a pizza in ak cost mor...</td>\n",
              "    </tr>\n",
              "  </tbody>\n",
              "</table>\n",
              "<p>97320 rows × 1 columns</p>\n",
              "</div>"
            ],
            "text/plain": [
              "                                            comment_text\n",
              "0      integrity means that you pay your debts does t...\n",
              "1      this is malfeasance by the administrator and t...\n",
              "...                                                  ...\n",
              "97318  im thinking kellyanne conway aka the trump whi...\n",
              "97319  i still cant figure why a pizza in ak cost mor...\n",
              "\n",
              "[97320 rows x 1 columns]"
            ]
          },
          "metadata": {
            "tags": []
          },
          "execution_count": 62
        }
      ]
    },
    {
      "cell_type": "code",
      "metadata": {
        "colab": {
          "base_uri": "https://localhost:8080/"
        },
        "id": "ZDcf5hgHIHVy",
        "outputId": "3f19e885-01b6-479c-a4ee-cae76176a895"
      },
      "source": [
        "!ls"
      ],
      "execution_count": null,
      "outputs": [
        {
          "output_type": "stream",
          "text": [
            "all_data.csv.zip\n",
            "glove.6B.100d.txt\n",
            "glove.6B.50d.txt\n",
            "identity_individual_annotations.csv.zip\n",
            "sample_submission.csv.zip\n",
            "test.csv.zip\n",
            "test_private_expanded.csv.zip\n",
            "test_public_expanded.csv.zip\n",
            "toxicity_individual_annotations.csv.zip\n",
            "train_clean_.csv\n",
            "train_clean.csv\n",
            "train.csv.zip\n"
          ],
          "name": "stdout"
        }
      ]
    },
    {
      "cell_type": "markdown",
      "metadata": {
        "id": "EHBjd9kM5uHI"
      },
      "source": [
        "Check nulls after text cleaning"
      ]
    },
    {
      "cell_type": "code",
      "metadata": {
        "colab": {
          "base_uri": "https://localhost:8080/",
          "height": 49
        },
        "id": "lCHoTiNV5Dgb",
        "outputId": "c8ee967f-1126-4efb-f77c-adb71b84c059"
      },
      "source": [
        "train_comments[train_comments[\"comment_text\"].isnull()]"
      ],
      "execution_count": null,
      "outputs": [
        {
          "output_type": "execute_result",
          "data": {
            "text/html": [
              "<div>\n",
              "<style scoped>\n",
              "    .dataframe tbody tr th:only-of-type {\n",
              "        vertical-align: middle;\n",
              "    }\n",
              "\n",
              "    .dataframe tbody tr th {\n",
              "        vertical-align: top;\n",
              "    }\n",
              "\n",
              "    .dataframe thead th {\n",
              "        text-align: right;\n",
              "    }\n",
              "</style>\n",
              "<table border=\"1\" class=\"dataframe\">\n",
              "  <thead>\n",
              "    <tr style=\"text-align: right;\">\n",
              "      <th></th>\n",
              "      <th>comment_text</th>\n",
              "      <th>target</th>\n",
              "      <th>target_label</th>\n",
              "    </tr>\n",
              "  </thead>\n",
              "  <tbody>\n",
              "  </tbody>\n",
              "</table>\n",
              "</div>"
            ],
            "text/plain": [
              "Empty DataFrame\n",
              "Columns: [comment_text, target, target_label]\n",
              "Index: []"
            ]
          },
          "metadata": {
            "tags": []
          },
          "execution_count": 64
        }
      ]
    },
    {
      "cell_type": "code",
      "metadata": {
        "colab": {
          "base_uri": "https://localhost:8080/",
          "height": 36
        },
        "id": "1MsmYvSG5ZkG",
        "outputId": "36f9d018-45a3-4d0d-f9c1-0e1370431b65"
      },
      "source": [
        "train_data[\"comment_text\"][316]"
      ],
      "execution_count": null,
      "outputs": [
        {
          "output_type": "execute_result",
          "data": {
            "application/vnd.google.colaboratory.intrinsic+json": {
              "type": "string"
            },
            "text/plain": [
              "';)'"
            ]
          },
          "metadata": {
            "tags": []
          },
          "execution_count": 65
        }
      ]
    },
    {
      "cell_type": "code",
      "metadata": {
        "colab": {
          "base_uri": "https://localhost:8080/"
        },
        "id": "BUNl14ab56Aq",
        "outputId": "4f63a253-e8f3-48cb-f309-2463e76f5fcb"
      },
      "source": [
        "train_comments.dropna(axis=0, inplace=True)"
      ],
      "execution_count": null,
      "outputs": [
        {
          "output_type": "stream",
          "text": [
            "/usr/local/lib/python3.7/dist-packages/ipykernel_launcher.py:1: SettingWithCopyWarning: \n",
            "A value is trying to be set on a copy of a slice from a DataFrame\n",
            "\n",
            "See the caveats in the documentation: https://pandas.pydata.org/pandas-docs/stable/user_guide/indexing.html#returning-a-view-versus-a-copy\n",
            "  \"\"\"Entry point for launching an IPython kernel.\n"
          ],
          "name": "stderr"
        }
      ]
    },
    {
      "cell_type": "code",
      "metadata": {
        "colab": {
          "base_uri": "https://localhost:8080/"
        },
        "id": "2-nmlRD56J0m",
        "outputId": "5e97f72d-3619-444b-a228-1b76f5261c1e"
      },
      "source": [
        "train_comments.isnull().sum()/ train_comments.shape[0]*100"
      ],
      "execution_count": null,
      "outputs": [
        {
          "output_type": "execute_result",
          "data": {
            "text/plain": [
              "comment_text    0.0\n",
              "target          0.0\n",
              "target_label    0.0\n",
              "dtype: float64"
            ]
          },
          "metadata": {
            "tags": []
          },
          "execution_count": 67
        }
      ]
    },
    {
      "cell_type": "code",
      "metadata": {
        "id": "ypJeTdInT29C"
      },
      "source": [
        "#train_comments.to_csv(\"train_clean_.csv\")"
      ],
      "execution_count": null,
      "outputs": []
    },
    {
      "cell_type": "code",
      "metadata": {
        "id": "a1xHhfF8YyQ7"
      },
      "source": [
        "test_data.to_csv(\"test_clean_.csv\")"
      ],
      "execution_count": null,
      "outputs": []
    },
    {
      "cell_type": "code",
      "metadata": {
        "id": "L9vIncfPjV2h"
      },
      "source": [
        "test_data=pd.read_csv(\"test_clean_.csv\")"
      ],
      "execution_count": null,
      "outputs": []
    },
    {
      "cell_type": "markdown",
      "metadata": {
        "id": "clz0pfsTGYhw"
      },
      "source": [
        "Check duplicates after text cleaning"
      ]
    },
    {
      "cell_type": "code",
      "metadata": {
        "id": "QnXtgKUS3O7E"
      },
      "source": [
        "train_comments=pd.read_csv(\"train_clean_.csv\")"
      ],
      "execution_count": null,
      "outputs": []
    },
    {
      "cell_type": "code",
      "metadata": {
        "colab": {
          "base_uri": "https://localhost:8080/",
          "height": 206
        },
        "id": "gGaT3oXb3ooo",
        "outputId": "5aca6885-8b7e-4d52-b26f-5bf99b485657"
      },
      "source": [
        "train_comments.head()"
      ],
      "execution_count": null,
      "outputs": [
        {
          "output_type": "execute_result",
          "data": {
            "text/html": [
              "<div>\n",
              "<style scoped>\n",
              "    .dataframe tbody tr th:only-of-type {\n",
              "        vertical-align: middle;\n",
              "    }\n",
              "\n",
              "    .dataframe tbody tr th {\n",
              "        vertical-align: top;\n",
              "    }\n",
              "\n",
              "    .dataframe thead th {\n",
              "        text-align: right;\n",
              "    }\n",
              "</style>\n",
              "<table border=\"1\" class=\"dataframe\">\n",
              "  <thead>\n",
              "    <tr style=\"text-align: right;\">\n",
              "      <th></th>\n",
              "      <th>Unnamed: 0</th>\n",
              "      <th>Unnamed: 0.1</th>\n",
              "      <th>comment_text</th>\n",
              "      <th>target</th>\n",
              "      <th>target_label</th>\n",
              "    </tr>\n",
              "  </thead>\n",
              "  <tbody>\n",
              "    <tr>\n",
              "      <th>0</th>\n",
              "      <td>0</td>\n",
              "      <td>0</td>\n",
              "      <td>this is so cool its like would you want your m...</td>\n",
              "      <td>0.000000</td>\n",
              "      <td>0</td>\n",
              "    </tr>\n",
              "    <tr>\n",
              "      <th>1</th>\n",
              "      <td>1</td>\n",
              "      <td>1</td>\n",
              "      <td>thank you this would make my life a lot less a...</td>\n",
              "      <td>0.000000</td>\n",
              "      <td>0</td>\n",
              "    </tr>\n",
              "    <tr>\n",
              "      <th>2</th>\n",
              "      <td>2</td>\n",
              "      <td>2</td>\n",
              "      <td>this is such an urgent design problem kudos to...</td>\n",
              "      <td>0.000000</td>\n",
              "      <td>0</td>\n",
              "    </tr>\n",
              "    <tr>\n",
              "      <th>3</th>\n",
              "      <td>3</td>\n",
              "      <td>3</td>\n",
              "      <td>is this something ill be able to install on my...</td>\n",
              "      <td>0.000000</td>\n",
              "      <td>0</td>\n",
              "    </tr>\n",
              "    <tr>\n",
              "      <th>4</th>\n",
              "      <td>4</td>\n",
              "      <td>4</td>\n",
              "      <td>haha you guys are a bunch of losers</td>\n",
              "      <td>0.893617</td>\n",
              "      <td>1</td>\n",
              "    </tr>\n",
              "  </tbody>\n",
              "</table>\n",
              "</div>"
            ],
            "text/plain": [
              "   Unnamed: 0  Unnamed: 0.1  ...    target  target_label\n",
              "0           0             0  ...  0.000000             0\n",
              "1           1             1  ...  0.000000             0\n",
              "2           2             2  ...  0.000000             0\n",
              "3           3             3  ...  0.000000             0\n",
              "4           4             4  ...  0.893617             1\n",
              "\n",
              "[5 rows x 5 columns]"
            ]
          },
          "metadata": {
            "tags": []
          },
          "execution_count": 70
        }
      ]
    },
    {
      "cell_type": "code",
      "metadata": {
        "colab": {
          "base_uri": "https://localhost:8080/",
          "height": 49
        },
        "id": "Vep6gRu8HNvZ",
        "outputId": "79d1f1bb-2170-45c2-e981-514826f3c2b7"
      },
      "source": [
        "train_comments[train_comments.duplicated(keep=False)].reset_index()"
      ],
      "execution_count": null,
      "outputs": [
        {
          "output_type": "execute_result",
          "data": {
            "text/html": [
              "<div>\n",
              "<style scoped>\n",
              "    .dataframe tbody tr th:only-of-type {\n",
              "        vertical-align: middle;\n",
              "    }\n",
              "\n",
              "    .dataframe tbody tr th {\n",
              "        vertical-align: top;\n",
              "    }\n",
              "\n",
              "    .dataframe thead th {\n",
              "        text-align: right;\n",
              "    }\n",
              "</style>\n",
              "<table border=\"1\" class=\"dataframe\">\n",
              "  <thead>\n",
              "    <tr style=\"text-align: right;\">\n",
              "      <th></th>\n",
              "      <th>index</th>\n",
              "      <th>Unnamed: 0</th>\n",
              "      <th>Unnamed: 0.1</th>\n",
              "      <th>comment_text</th>\n",
              "      <th>target</th>\n",
              "      <th>target_label</th>\n",
              "    </tr>\n",
              "  </thead>\n",
              "  <tbody>\n",
              "  </tbody>\n",
              "</table>\n",
              "</div>"
            ],
            "text/plain": [
              "Empty DataFrame\n",
              "Columns: [index, Unnamed: 0, Unnamed: 0.1, comment_text, target, target_label]\n",
              "Index: []"
            ]
          },
          "metadata": {
            "tags": []
          },
          "execution_count": 71
        }
      ]
    },
    {
      "cell_type": "code",
      "metadata": {
        "colab": {
          "base_uri": "https://localhost:8080/"
        },
        "id": "k-8Q_KpE4DLf",
        "outputId": "b680f417-b519-4221-bb94-939d8b6fe282"
      },
      "source": [
        "train_comments.info()"
      ],
      "execution_count": null,
      "outputs": [
        {
          "output_type": "stream",
          "text": [
            "<class 'pandas.core.frame.DataFrame'>\n",
            "RangeIndex: 1780269 entries, 0 to 1780268\n",
            "Data columns (total 5 columns):\n",
            " #   Column        Dtype  \n",
            "---  ------        -----  \n",
            " 0   Unnamed: 0    int64  \n",
            " 1   Unnamed: 0.1  int64  \n",
            " 2   comment_text  object \n",
            " 3   target        float64\n",
            " 4   target_label  int64  \n",
            "dtypes: float64(1), int64(3), object(1)\n",
            "memory usage: 67.9+ MB\n"
          ],
          "name": "stdout"
        }
      ]
    },
    {
      "cell_type": "markdown",
      "metadata": {
        "id": "WkRxjyBFCEqp"
      },
      "source": [
        "## Wordcloud"
      ]
    },
    {
      "cell_type": "code",
      "metadata": {
        "id": "3ws0C0zUCIRp"
      },
      "source": [
        "def create_corpus_df(tweet, target):\n",
        "    corpus=[]\n",
        "    \n",
        "    for x in train_comments[train_comments['target_label']==target]['comment_text'].str.split():\n",
        "   #     print(x)\n",
        "        for i in x:\n",
        "            corpus.append(i)\n",
        "    return corpus"
      ],
      "execution_count": null,
      "outputs": []
    },
    {
      "cell_type": "code",
      "metadata": {
        "colab": {
          "base_uri": "https://localhost:8080/"
        },
        "id": "p7HGBa7H45UB",
        "outputId": "feb77656-c959-4e54-9843-23681d624a8f"
      },
      "source": [
        "train_comments['target_label']"
      ],
      "execution_count": null,
      "outputs": [
        {
          "output_type": "execute_result",
          "data": {
            "text/plain": [
              "0          0\n",
              "1          0\n",
              "          ..\n",
              "1780267    1\n",
              "1780268    0\n",
              "Name: target_label, Length: 1780269, dtype: int64"
            ]
          },
          "metadata": {
            "tags": []
          },
          "execution_count": 74
        }
      ]
    },
    {
      "cell_type": "markdown",
      "metadata": {
        "id": "6vj_xkvACXMj"
      },
      "source": [
        "Toxic"
      ]
    },
    {
      "cell_type": "code",
      "metadata": {
        "colab": {
          "base_uri": "https://localhost:8080/"
        },
        "id": "YhOeIyuHCZ7d",
        "outputId": "0cc93b7e-d13b-4ed7-a989-31e1a997b8bd"
      },
      "source": [
        "\n",
        "\n",
        "corpus_toxic=create_corpus_df(train_comments,1)\n",
        "len(corpus_toxic)"
      ],
      "execution_count": null,
      "outputs": [
        {
          "output_type": "execute_result",
          "data": {
            "text/plain": [
              "4627535"
            ]
          },
          "metadata": {
            "tags": []
          },
          "execution_count": 75
        }
      ]
    },
    {
      "cell_type": "code",
      "metadata": {
        "colab": {
          "base_uri": "https://localhost:8080/"
        },
        "id": "ccoLiqCeCVNs",
        "outputId": "3cc8755d-9a40-4c89-8fb7-312f79d21aed"
      },
      "source": [
        "corpus_toxic[:10]"
      ],
      "execution_count": null,
      "outputs": [
        {
          "output_type": "execute_result",
          "data": {
            "text/plain": [
              "['haha', 'you', 'guys', 'are', 'a', 'bunch', 'of', 'losers', 'ur', 'a']"
            ]
          },
          "metadata": {
            "tags": []
          },
          "execution_count": 76
        }
      ]
    },
    {
      "cell_type": "markdown",
      "metadata": {
        "id": "qaac9XhfDFX_"
      },
      "source": [
        "not-toxic"
      ]
    },
    {
      "cell_type": "code",
      "metadata": {
        "id": "8Dz7PE0pDdHw"
      },
      "source": [
        "corpus_not_toxic=create_corpus_df(train_comments,0)"
      ],
      "execution_count": null,
      "outputs": []
    },
    {
      "cell_type": "code",
      "metadata": {
        "colab": {
          "base_uri": "https://localhost:8080/"
        },
        "id": "LpUwsuD0DeV5",
        "outputId": "27b575f6-50b7-4818-bcc0-300c11bd3937"
      },
      "source": [
        "len(corpus_not_toxic)"
      ],
      "execution_count": null,
      "outputs": [
        {
          "output_type": "execute_result",
          "data": {
            "text/plain": [
              "86863006"
            ]
          },
          "metadata": {
            "tags": []
          },
          "execution_count": 78
        }
      ]
    },
    {
      "cell_type": "code",
      "metadata": {
        "colab": {
          "base_uri": "https://localhost:8080/"
        },
        "id": "izfRke1XXN8I",
        "outputId": "b2001659-3709-4a0f-c223-af1ee820ad94"
      },
      "source": [
        "corpus_not_toxic[:10]"
      ],
      "execution_count": null,
      "outputs": [
        {
          "output_type": "execute_result",
          "data": {
            "text/plain": [
              "['this', 'is', 'so', 'cool', 'its', 'like', 'would', 'you', 'want', 'your']"
            ]
          },
          "metadata": {
            "tags": []
          },
          "execution_count": 79
        }
      ]
    },
    {
      "cell_type": "code",
      "metadata": {
        "colab": {
          "base_uri": "https://localhost:8080/",
          "height": 309
        },
        "id": "3saeeFgfDV-g",
        "outputId": "05b42d02-b72e-4492-dc8f-b01d4e538075"
      },
      "source": [
        "\n",
        "\n",
        "from wordcloud import WordCloud\n",
        "fig, (ax1, ax2) = plt.subplots(1, 2, figsize=[26, 8])\n",
        "wordcloud1 = WordCloud( background_color='black',\n",
        "                          max_font_size = 80\n",
        "                         ).generate(\" \".join(corpus_toxic[:50]))\n",
        "ax1.imshow(wordcloud1)\n",
        "ax1.axis('off')\n",
        "ax1.set_title('Toxic comments',fontsize=40);\n",
        "\n",
        "wordcloud2 = WordCloud(background_color='black',\n",
        "                          max_font_size = 80\n",
        "                         ).generate(\" \".join(corpus_not_toxic[:50]))\n",
        "ax2.imshow(wordcloud2)\n",
        "ax2.axis('off')\n",
        "ax2.set_title('Non Toxic comments',fontsize=40);\n",
        "\n"
      ],
      "execution_count": null,
      "outputs": [
        {
          "output_type": "display_data",
          "data": {
            "image/png": "[encoded data removed]",
            "text/plain": [
              "<Figure size 1872x576 with 2 Axes>"
            ]
          },
          "metadata": {
            "tags": [],
            "needs_background": "light"
          }
        }
      ]
    },
    {
      "cell_type": "markdown",
      "metadata": {
        "id": "fRNjSwYIz7gS"
      },
      "source": [
        "##Load pre-trained word embeddings(glove)"
      ]
    },
    {
      "cell_type": "markdown",
      "metadata": {
        "id": "hF3gDZI3dI4c"
      },
      "source": [
        "## glove embeddings brief"
      ]
    },
    {
      "cell_type": "markdown",
      "metadata": {
        "id": "JZKJPQVTfhht"
      },
      "source": [
        "In glove,a word embedding can be learned as part of a deep learning model."
      ]
    },
    {
      "cell_type": "markdown",
      "metadata": {
        "id": "dWuanjX-0LCA"
      },
      "source": [
        "https://keras.io/examples/nlp/pretrained_word_embeddings/"
      ]
    },
    {
      "cell_type": "markdown",
      "metadata": {
        "id": "CocDb59N0A-v"
      },
      "source": [
        "Let's download pre-trained GloVe embeddings (a 822M zip file).\n",
        "\n",
        "You'll need to run the following commands:"
      ]
    },
    {
      "cell_type": "code",
      "metadata": {
        "id": "04q-mBS50O8j"
      },
      "source": [
        "# !wget http://nlp.stanford.edu/data/glove.6B.zip\n",
        "# !unzip -q glove.6B.zip\n",
        "#only once"
      ],
      "execution_count": null,
      "outputs": []
    },
    {
      "cell_type": "markdown",
      "metadata": {
        "id": "VLUmLwoA0Xhg"
      },
      "source": [
        "The archive contains text-encoded vectors of various sizes: 50-dimensional, 100-dimensional, 200-dimensional, 300-dimensional. We'll use the 100D ones,since it  produced good results in other kernels on the same problem.\n",
        "\n",
        "Let's make a dict mapping words (strings) to their NumPy vector representation:"
      ]
    },
    {
      "cell_type": "code",
      "metadata": {
        "colab": {
          "base_uri": "https://localhost:8080/"
        },
        "id": "klfXaQuK1yBi",
        "outputId": "fc0e15e3-427c-4b78-f0d3-ae1624ba354d"
      },
      "source": [
        "path_to_glove_file=\"glove.6B.100d.txt\"\n",
        "embeddings_index = {}\n",
        "with open(path_to_glove_file) as f:\n",
        "    for line in f:\n",
        "        word, coefs = line.split(maxsplit=1)\n",
        "        coefs = np.fromstring(coefs, \"f\", sep=\" \")\n",
        "        #embeddings_index maps each word to its 100D embeddings\n",
        "        embeddings_index[word] = coefs\n",
        "\n",
        "print(\"Found %s word vectors.\" % len(embeddings_index))"
      ],
      "execution_count": null,
      "outputs": [
        {
          "output_type": "stream",
          "text": [
            "Found 400000 word vectors.\n"
          ],
          "name": "stdout"
        }
      ]
    },
    {
      "cell_type": "code",
      "metadata": {
        "id": "d8Nk3zb63uS4"
      },
      "source": [
        "x=train_comments[\"comment_text\"].tolist()\n",
        "y=train_comments[\"target_label\"].values"
      ],
      "execution_count": null,
      "outputs": []
    },
    {
      "cell_type": "code",
      "metadata": {
        "id": "ucTwPjuUB3gY"
      },
      "source": [
        "x_test=test_data[\"comment_text\"].tolist()"
      ],
      "execution_count": null,
      "outputs": []
    },
    {
      "cell_type": "code",
      "metadata": {
        "id": "Nl-tS5Sv7cTh"
      },
      "source": [
        "train_comments.drop([\"Unnamed: 0\",\"Unnamed: 0.1\"],axis=1,inplace=True)"
      ],
      "execution_count": null,
      "outputs": []
    },
    {
      "cell_type": "code",
      "metadata": {
        "colab": {
          "base_uri": "https://localhost:8080/",
          "height": 206
        },
        "id": "eMYpt_g25rvn",
        "outputId": "5bef6f7e-c93a-4100-fbdb-4f8abea15964"
      },
      "source": [
        "train_comments.head()"
      ],
      "execution_count": null,
      "outputs": [
        {
          "output_type": "execute_result",
          "data": {
            "text/html": [
              "<div>\n",
              "<style scoped>\n",
              "    .dataframe tbody tr th:only-of-type {\n",
              "        vertical-align: middle;\n",
              "    }\n",
              "\n",
              "    .dataframe tbody tr th {\n",
              "        vertical-align: top;\n",
              "    }\n",
              "\n",
              "    .dataframe thead th {\n",
              "        text-align: right;\n",
              "    }\n",
              "</style>\n",
              "<table border=\"1\" class=\"dataframe\">\n",
              "  <thead>\n",
              "    <tr style=\"text-align: right;\">\n",
              "      <th></th>\n",
              "      <th>comment_text</th>\n",
              "      <th>target</th>\n",
              "      <th>target_label</th>\n",
              "    </tr>\n",
              "  </thead>\n",
              "  <tbody>\n",
              "    <tr>\n",
              "      <th>0</th>\n",
              "      <td>this is so cool its like would you want your m...</td>\n",
              "      <td>0.000000</td>\n",
              "      <td>0</td>\n",
              "    </tr>\n",
              "    <tr>\n",
              "      <th>1</th>\n",
              "      <td>thank you this would make my life a lot less a...</td>\n",
              "      <td>0.000000</td>\n",
              "      <td>0</td>\n",
              "    </tr>\n",
              "    <tr>\n",
              "      <th>2</th>\n",
              "      <td>this is such an urgent design problem kudos to...</td>\n",
              "      <td>0.000000</td>\n",
              "      <td>0</td>\n",
              "    </tr>\n",
              "    <tr>\n",
              "      <th>3</th>\n",
              "      <td>is this something ill be able to install on my...</td>\n",
              "      <td>0.000000</td>\n",
              "      <td>0</td>\n",
              "    </tr>\n",
              "    <tr>\n",
              "      <th>4</th>\n",
              "      <td>haha you guys are a bunch of losers</td>\n",
              "      <td>0.893617</td>\n",
              "      <td>1</td>\n",
              "    </tr>\n",
              "  </tbody>\n",
              "</table>\n",
              "</div>"
            ],
            "text/plain": [
              "                                        comment_text    target  target_label\n",
              "0  this is so cool its like would you want your m...  0.000000             0\n",
              "1  thank you this would make my life a lot less a...  0.000000             0\n",
              "2  this is such an urgent design problem kudos to...  0.000000             0\n",
              "3  is this something ill be able to install on my...  0.000000             0\n",
              "4                haha you guys are a bunch of losers  0.893617             1"
            ]
          },
          "metadata": {
            "tags": []
          },
          "execution_count": 86
        }
      ]
    },
    {
      "cell_type": "markdown",
      "metadata": {
        "id": "sk8rRxL856Ol"
      },
      "source": [
        "## Tokenizing text"
      ]
    },
    {
      "cell_type": "code",
      "metadata": {
        "id": "JMXN6fvT5HN5"
      },
      "source": [
        "\n",
        "max_tokens=10000\n",
        "\n",
        "tok=Tokenizer(num_words=max_tokens,oov_token=\"UNK\")\n",
        "#tok.fit_on_texts(list(x) + list(x_test))\n",
        "tok.fit_on_texts(x)\n",
        "#forTrain Only"
      ],
      "execution_count": null,
      "outputs": []
    },
    {
      "cell_type": "code",
      "metadata": {
        "id": "we0Wm9PtCA3Z"
      },
      "source": [
        "# tok_test=Tokenizer(num_words=max_tokens,oov_token=\"UNK\")\n",
        "# tok_test.fit_on_texts(x_test)"
      ],
      "execution_count": null,
      "outputs": []
    },
    {
      "cell_type": "code",
      "metadata": {
        "colab": {
          "base_uri": "https://localhost:8080/"
        },
        "id": "lJhegvXA7UHn",
        "outputId": "5128025b-ef7c-4435-99db-19c34df1cfa0"
      },
      "source": [
        "tok"
      ],
      "execution_count": null,
      "outputs": [
        {
          "output_type": "execute_result",
          "data": {
            "text/plain": [
              "<keras_preprocessing.text.Tokenizer at 0x7f88f45da1d0>"
            ]
          },
          "metadata": {
            "tags": []
          },
          "execution_count": 89
        }
      ]
    },
    {
      "cell_type": "code",
      "metadata": {
        "id": "uaUK3ZQ85Gca"
      },
      "source": [
        "x=tok.texts_to_sequences(x)"
      ],
      "execution_count": null,
      "outputs": []
    },
    {
      "cell_type": "code",
      "metadata": {
        "id": "Ys7Q3LkPhDHi"
      },
      "source": [
        "x_test=tok.texts_to_sequences(x_test)"
      ],
      "execution_count": null,
      "outputs": []
    },
    {
      "cell_type": "code",
      "metadata": {
        "colab": {
          "base_uri": "https://localhost:8080/"
        },
        "id": "9uEg7ASFhXhS",
        "outputId": "0cb2066a-d244-45a0-aced-6f224b2f84f4"
      },
      "source": [
        "x_test[0]"
      ],
      "execution_count": null,
      "outputs": [
        {
          "output_type": "execute_result",
          "data": {
            "text/plain": [
              "[1977, 334, 9, 11, 133, 35, 6781, 105, 19, 1285, 3, 152, 59, 116]"
            ]
          },
          "metadata": {
            "tags": []
          },
          "execution_count": 40
        }
      ]
    },
    {
      "cell_type": "code",
      "metadata": {
        "colab": {
          "base_uri": "https://localhost:8080/"
        },
        "id": "aTaE7LWQ7XFh",
        "outputId": "9663d49b-ea20-493f-c52b-4f5af63f7953"
      },
      "source": [
        "len(x[5])"
      ],
      "execution_count": null,
      "outputs": [
        {
          "output_type": "execute_result",
          "data": {
            "text/plain": [
              "4"
            ]
          },
          "metadata": {
            "tags": []
          },
          "execution_count": 16
        }
      ]
    },
    {
      "cell_type": "code",
      "metadata": {
        "id": "qDVTWEZncAnU"
      },
      "source": [
        "del   train_comments"
      ],
      "execution_count": null,
      "outputs": []
    },
    {
      "cell_type": "code",
      "metadata": {
        "id": "ZZ9qotEIBSaE"
      },
      "source": [
        "\n",
        "del  train_data\n"
      ],
      "execution_count": null,
      "outputs": []
    },
    {
      "cell_type": "code",
      "metadata": {
        "id": "wYuawJztHhbw"
      },
      "source": [
        "del test_data"
      ],
      "execution_count": null,
      "outputs": []
    },
    {
      "cell_type": "code",
      "metadata": {
        "id": "llu3ZkhjV9Q4"
      },
      "source": [
        "a"
      ],
      "execution_count": null,
      "outputs": []
    },
    {
      "cell_type": "code",
      "metadata": {
        "id": "dwTnyAoo440M"
      },
      "source": [
        "max_len=100\n",
        "#reduced from 220 to 100 to solve the crashing RAM problem.\n",
        "# we want the length of this list is a constant -> MAX_LEN\n",
        "# if the list is longer, then we cut/trim it \n",
        "# if shorter, then we add/pad it with 0's at the beginning\n",
        "x=pad_sequences(x,maxlen=max_len)"
      ],
      "execution_count": null,
      "outputs": []
    },
    {
      "cell_type": "code",
      "metadata": {
        "id": "7Ke5QpfkiMDA"
      },
      "source": [
        "x_test=pad_sequences(x_test,maxlen=max_len)"
      ],
      "execution_count": null,
      "outputs": []
    },
    {
      "cell_type": "code",
      "metadata": {
        "id": "No0Y2tQBCReQ"
      },
      "source": [
        "#x_test=pad_sequences(x_test,maxlen=max_len)"
      ],
      "execution_count": null,
      "outputs": []
    },
    {
      "cell_type": "markdown",
      "metadata": {
        "id": "y1KZmGjO7KeI"
      },
      "source": [
        "## split data"
      ]
    },
    {
      "cell_type": "code",
      "metadata": {
        "id": "AnHxePnm6WHQ"
      },
      "source": [
        "\n",
        "x_train, x_val, y_train, y_val = train_test_split(x, y, test_size=0.3, random_state=42)"
      ],
      "execution_count": null,
      "outputs": []
    },
    {
      "cell_type": "markdown",
      "metadata": {
        "id": "xoaQawZx2p0y"
      },
      "source": [
        "Now, let's prepare a corresponding embedding matrix that we can use in a Keras Embedding layer. It's a simple NumPy matrix where entry at index i is the pre-trained vector for the word of index i in our vectorizer's vocabulary."
      ]
    },
    {
      "cell_type": "markdown",
      "metadata": {
        "id": "5cy88qhCc9h1"
      },
      "source": [
        "## Preparing the embedding matrix"
      ]
    },
    {
      "cell_type": "code",
      "metadata": {
        "colab": {
          "base_uri": "https://localhost:8080/"
        },
        "id": "9dKCDw6a6AYJ",
        "outputId": "3729a101-aa76-4b74-8dc5-c2628e861f7b"
      },
      "source": [
        "num_tokens = len(tok.word_index) + 2\n",
        "embedding_dim = 100\n",
        "hits = 0\n",
        "misses = 0\n",
        "\n",
        "# Prepare embedding matrix\n",
        "embedding_matrix = np.zeros((num_tokens, embedding_dim))\n",
        "for word, i in tok.word_index.items():\n",
        "    embedding_vector = embeddings_index.get(word)\n",
        "    if embedding_vector is not None:\n",
        "        # Words not found in embedding index will be all-zeros.\n",
        "        # This includes the representation for \"padding\" and \"OOV\"\n",
        "        embedding_matrix[i] = embedding_vector\n",
        "        hits += 1\n",
        "    else:\n",
        "        misses += 1\n",
        "print(\"Converted %d words (%d misses)\" % (hits, misses))\n"
      ],
      "execution_count": null,
      "outputs": [
        {
          "output_type": "stream",
          "text": [
            "Converted 124742 words (500318 misses)\n"
          ],
          "name": "stdout"
        }
      ]
    },
    {
      "cell_type": "markdown",
      "metadata": {
        "id": "Jpn8Kk3567DQ"
      },
      "source": [
        "Next, we load the pre-trained word embeddings matrix into an Embedding layer.\n",
        "\n",
        "Note that we set trainable=False so as to keep the embeddings fixed (we don't want to update them during training)."
      ]
    },
    {
      "cell_type": "code",
      "metadata": {
        "id": "XlE_KXzR67lP"
      },
      "source": [
        "from tensorflow.keras.layers import Embedding\n",
        "\n",
        "embedding_layer = Embedding(\n",
        "    num_tokens,\n",
        "    embedding_dim,\n",
        "    embeddings_initializer=keras.initializers.Constant(embedding_matrix),\n",
        "    trainable=False,\n",
        ")\n"
      ],
      "execution_count": null,
      "outputs": []
    },
    {
      "cell_type": "markdown",
      "metadata": {
        "id": "nLxRMwjX-_o1"
      },
      "source": [
        "# Modeling"
      ]
    },
    {
      "cell_type": "markdown",
      "metadata": {
        "id": "yvsIJY1grA9Y"
      },
      "source": [
        "## LSTM"
      ]
    },
    {
      "cell_type": "code",
      "metadata": {
        "colab": {
          "base_uri": "https://localhost:8080/"
        },
        "id": "805v8kNs8f-1",
        "outputId": "ed3e13b3-f05e-4a59-9497-1feef1736fd6"
      },
      "source": [
        "model=models.Sequential()\n",
        "model.add(embedding_layer)\n",
        "model.add(layers.LSTM(128))\n",
        "model.add(layers.Dense(1,activation=\"sigmoid\"))\n",
        "model.summary()"
      ],
      "execution_count": null,
      "outputs": [
        {
          "output_type": "stream",
          "text": [
            "Model: \"sequential\"\n",
            "_________________________________________________________________\n",
            "Layer (type)                 Output Shape              Param #   \n",
            "=================================================================\n",
            "embedding (Embedding)        (None, None, 100)         62506200  \n",
            "_________________________________________________________________\n",
            "lstm (LSTM)                  (None, 128)               117248    \n",
            "_________________________________________________________________\n",
            "dense (Dense)                (None, 1)                 129       \n",
            "=================================================================\n",
            "Total params: 62,623,577\n",
            "Trainable params: 117,377\n",
            "Non-trainable params: 62,506,200\n",
            "_________________________________________________________________\n"
          ],
          "name": "stdout"
        }
      ]
    },
    {
      "cell_type": "code",
      "metadata": {
        "id": "PinEMd2q-B0v"
      },
      "source": [
        "model.compile(loss=\"binary_crossentropy\",optimizer=optimizers.Adam())\n",
        "#we can't use accuracy here cuz  classes are imbalanced"
      ],
      "execution_count": null,
      "outputs": []
    },
    {
      "cell_type": "code",
      "metadata": {
        "id": "qAhPpkyiD5uj"
      },
      "source": [
        "x_train[0]"
      ],
      "execution_count": null,
      "outputs": []
    },
    {
      "cell_type": "code",
      "metadata": {
        "id": "MVODx73fEOzh"
      },
      "source": [
        ""
      ],
      "execution_count": null,
      "outputs": []
    },
    {
      "cell_type": "code",
      "metadata": {
        "id": "R4QELfBwEO05"
      },
      "source": [
        "# x_train=np.array(x_train)\n",
        "# x_val=np.array(x_val)\n",
        "# y_train=np.array(y_train)\n",
        "# y_val=np.array(y_val)"
      ],
      "execution_count": null,
      "outputs": []
    },
    {
      "cell_type": "code",
      "metadata": {
        "id": "2pk1ZUxAKpzI"
      },
      "source": [
        "x_val=np.array(x_val)"
      ],
      "execution_count": null,
      "outputs": []
    },
    {
      "cell_type": "code",
      "metadata": {
        "id": "73ImM9wZKgut"
      },
      "source": [
        "type(x_val)"
      ],
      "execution_count": null,
      "outputs": []
    },
    {
      "cell_type": "code",
      "metadata": {
        "colab": {
          "base_uri": "https://localhost:8080/"
        },
        "id": "hZzvRMrN-uQE",
        "outputId": "89ffcc33-223c-495d-d51a-00b87238a992"
      },
      "source": [
        "\n",
        "#we can't use accuracy here cuz  classes are imbalanced\n",
        "model.fit(x_train, y_train,validation_data=(x_val,y_val),batch_size=64, epochs=4)\n",
        "#history="
      ],
      "execution_count": null,
      "outputs": [
        {
          "output_type": "stream",
          "text": [
            "Epoch 1/4\n",
            "19472/19472 [==============================] - 230s 10ms/step - loss: 0.1379 - val_loss: 0.1112\n",
            "Epoch 2/4\n",
            "19472/19472 [==============================] - 195s 10ms/step - loss: 0.1082 - val_loss: 0.1069\n",
            "Epoch 3/4\n",
            "19472/19472 [==============================] - 191s 10ms/step - loss: 0.1033 - val_loss: 0.1063\n",
            "Epoch 4/4\n",
            "19472/19472 [==============================] - 190s 10ms/step - loss: 0.0986 - val_loss: 0.1065\n"
          ],
          "name": "stdout"
        },
        {
          "output_type": "execute_result",
          "data": {
            "text/plain": [
              "<tensorflow.python.keras.callbacks.History at 0x7f55b84129d0>"
            ]
          },
          "metadata": {
            "tags": []
          },
          "execution_count": 24
        }
      ]
    },
    {
      "cell_type": "markdown",
      "metadata": {
        "id": "BEPiJD__rgUX"
      },
      "source": [
        "### saveTheModel"
      ]
    },
    {
      "cell_type": "code",
      "metadata": {
        "id": "VpL89saXfuP5"
      },
      "source": [
        "model.save(\"lstm.h5\")"
      ],
      "execution_count": null,
      "outputs": []
    },
    {
      "cell_type": "code",
      "metadata": {
        "colab": {
          "base_uri": "https://localhost:8080/"
        },
        "id": "bM-_YQGlgETW",
        "outputId": "e0e3d0da-ff2b-4f2e-cfb3-788e652beb44"
      },
      "source": [
        "len(model.predict(x_test[2]))"
      ],
      "execution_count": null,
      "outputs": [
        {
          "output_type": "execute_result",
          "data": {
            "text/plain": [
              "100"
            ]
          },
          "metadata": {
            "tags": []
          },
          "execution_count": 52
        }
      ]
    },
    {
      "cell_type": "code",
      "metadata": {
        "colab": {
          "base_uri": "https://localhost:8080/"
        },
        "id": "HgEOcEdbh7X1",
        "outputId": "22a21944-c61e-4de9-a800-7e4279c763cd"
      },
      "source": [
        "x_test[0]"
      ],
      "execution_count": null,
      "outputs": [
        {
          "output_type": "execute_result",
          "data": {
            "text/plain": [
              "[1977, 334, 9, 11, 133, 35, 6781, 105, 19, 1285, 3, 152, 59, 116]"
            ]
          },
          "metadata": {
            "tags": []
          },
          "execution_count": 44
        }
      ]
    },
    {
      "cell_type": "markdown",
      "metadata": {
        "id": "DEHEybr8_nHT"
      },
      "source": [
        "# Model test"
      ]
    },
    {
      "cell_type": "markdown",
      "metadata": {
        "id": "30iG6ttIyUXa"
      },
      "source": [
        "### Predict onTest"
      ]
    },
    {
      "cell_type": "code",
      "metadata": {
        "id": "hMod2U9ujw5-"
      },
      "source": [
        "y_pred=model.predict(x_test)"
      ],
      "execution_count": null,
      "outputs": []
    },
    {
      "cell_type": "code",
      "metadata": {
        "colab": {
          "base_uri": "https://localhost:8080/",
          "height": 54
        },
        "id": "U52tyrx_jyc_",
        "outputId": "ad5f765f-a6d4-4428-95f2-77b831293c8e"
      },
      "source": [
        "test_data[\"comment_text\"][96015]"
      ],
      "execution_count": null,
      "outputs": [
        {
          "output_type": "execute_result",
          "data": {
            "application/vnd.google.colaboratory.intrinsic+json": {
              "type": "string"
            },
            "text/plain": [
              "'richard i called you on your hypocrisy you accused others of using phony names when youve done so yourself if you dislike being called on it stop being a hypocrite khalas'"
            ]
          },
          "metadata": {
            "tags": []
          },
          "execution_count": 79
        }
      ]
    },
    {
      "cell_type": "code",
      "metadata": {
        "colab": {
          "base_uri": "https://localhost:8080/"
        },
        "id": "hg8bO141kz9E",
        "outputId": "b69d6cb3-7f09-46ee-cf5c-fbd7607b625b"
      },
      "source": [
        "y_pred[96015]"
      ],
      "execution_count": null,
      "outputs": [
        {
          "output_type": "execute_result",
          "data": {
            "text/plain": [
              "array([0.862375], dtype=float32)"
            ]
          },
          "metadata": {
            "tags": []
          },
          "execution_count": 80
        }
      ]
    },
    {
      "cell_type": "code",
      "metadata": {
        "colab": {
          "base_uri": "https://localhost:8080/"
        },
        "id": "6ftIY_ntkSUC",
        "outputId": "12d32c70-c77e-4a48-ebe3-2e11f0e8fab1"
      },
      "source": [
        "y_pred_cat=\n"
      ],
      "execution_count": null,
      "outputs": [
        {
          "output_type": "stream",
          "text": [
            "6\n",
            "35\n",
            "82\n",
            "83\n",
            "147\n",
            "154\n",
            "200\n",
            "224\n",
            "379\n",
            "381\n",
            "409\n",
            "412\n",
            "434\n",
            "436\n",
            "442\n",
            "455\n",
            "463\n",
            "485\n",
            "500\n",
            "504\n",
            "546\n",
            "646\n",
            "709\n",
            "720\n",
            "721\n",
            "729\n",
            "754\n",
            "758\n",
            "776\n",
            "811\n",
            "879\n",
            "908\n",
            "987\n",
            "994\n",
            "1014\n",
            "1026\n",
            "1050\n",
            "1055\n",
            "1108\n",
            "1131\n",
            "1146\n",
            "1154\n",
            "1172\n",
            "1206\n",
            "1210\n",
            "1234\n",
            "1265\n",
            "1314\n",
            "1327\n",
            "1336\n",
            "1338\n",
            "1347\n",
            "1386\n",
            "1463\n",
            "1466\n",
            "1494\n",
            "1525\n",
            "1532\n",
            "1537\n",
            "1593\n",
            "1595\n",
            "1654\n",
            "1706\n",
            "1766\n",
            "1783\n",
            "1803\n",
            "1815\n",
            "1899\n",
            "1981\n",
            "2001\n",
            "2024\n",
            "2069\n",
            "2070\n",
            "2111\n",
            "2113\n",
            "2127\n",
            "2135\n",
            "2182\n",
            "2193\n",
            "2233\n",
            "2249\n",
            "2267\n",
            "2269\n",
            "2287\n",
            "2290\n",
            "2340\n",
            "2348\n",
            "2354\n",
            "2372\n",
            "2417\n",
            "2423\n",
            "2430\n",
            "2438\n",
            "2555\n",
            "2566\n",
            "2577\n",
            "2633\n",
            "2666\n",
            "2697\n",
            "2708\n",
            "2763\n",
            "2771\n",
            "2813\n",
            "2822\n",
            "2826\n",
            "2866\n",
            "2878\n",
            "2903\n",
            "2910\n",
            "2924\n",
            "2939\n",
            "2951\n",
            "2980\n",
            "2998\n",
            "3018\n",
            "3070\n",
            "3077\n",
            "3079\n",
            "3124\n",
            "3168\n",
            "3172\n",
            "3198\n",
            "3253\n",
            "3257\n",
            "3282\n",
            "3286\n",
            "3339\n",
            "3344\n",
            "3396\n",
            "3423\n",
            "3463\n",
            "3491\n",
            "3505\n",
            "3557\n",
            "3612\n",
            "3624\n",
            "3629\n",
            "3643\n",
            "3676\n",
            "3711\n",
            "3736\n",
            "3739\n",
            "3744\n",
            "3751\n",
            "3845\n",
            "3847\n",
            "3873\n",
            "3884\n",
            "4013\n",
            "4016\n",
            "4037\n",
            "4093\n",
            "4123\n",
            "4133\n",
            "4159\n",
            "4181\n",
            "4184\n",
            "4232\n",
            "4247\n",
            "4278\n",
            "4294\n",
            "4299\n",
            "4324\n",
            "4373\n",
            "4375\n",
            "4388\n",
            "4406\n",
            "4427\n",
            "4491\n",
            "4558\n",
            "4590\n",
            "4597\n",
            "4615\n",
            "4622\n",
            "4651\n",
            "4682\n",
            "4690\n",
            "4702\n",
            "4716\n",
            "4729\n",
            "4755\n",
            "4818\n",
            "4899\n",
            "4902\n",
            "4904\n",
            "4909\n",
            "4912\n",
            "4924\n",
            "5000\n",
            "5002\n",
            "5023\n",
            "5025\n",
            "5052\n",
            "5071\n",
            "5083\n",
            "5124\n",
            "5160\n",
            "5180\n",
            "5267\n",
            "5296\n",
            "5305\n",
            "5317\n",
            "5330\n",
            "5351\n",
            "5393\n",
            "5408\n",
            "5415\n",
            "5418\n",
            "5533\n",
            "5567\n",
            "5604\n",
            "5605\n",
            "5609\n",
            "5654\n",
            "5656\n",
            "5693\n",
            "5701\n",
            "5702\n",
            "5740\n",
            "5814\n",
            "5850\n",
            "5921\n",
            "5946\n",
            "5949\n",
            "5991\n",
            "6008\n",
            "6059\n",
            "6073\n",
            "6090\n",
            "6119\n",
            "6121\n",
            "6146\n",
            "6155\n",
            "6238\n",
            "6301\n",
            "6311\n",
            "6322\n",
            "6325\n",
            "6365\n",
            "6386\n",
            "6400\n",
            "6407\n",
            "6446\n",
            "6478\n",
            "6494\n",
            "6507\n",
            "6528\n",
            "6534\n",
            "6542\n",
            "6546\n",
            "6547\n",
            "6569\n",
            "6584\n",
            "6590\n",
            "6606\n",
            "6661\n",
            "6667\n",
            "6702\n",
            "6709\n",
            "6723\n",
            "6735\n",
            "6740\n",
            "6741\n",
            "6774\n",
            "6798\n",
            "6807\n",
            "6845\n",
            "6846\n",
            "6888\n",
            "6916\n",
            "6985\n",
            "7019\n",
            "7021\n",
            "7070\n",
            "7087\n",
            "7163\n",
            "7182\n",
            "7192\n",
            "7240\n",
            "7254\n",
            "7257\n",
            "7274\n",
            "7306\n",
            "7351\n",
            "7370\n",
            "7407\n",
            "7409\n",
            "7470\n",
            "7473\n",
            "7491\n",
            "7534\n",
            "7582\n",
            "7600\n",
            "7645\n",
            "7664\n",
            "7692\n",
            "7701\n",
            "7708\n",
            "7709\n",
            "7719\n",
            "7732\n",
            "7734\n",
            "7787\n",
            "7828\n",
            "7862\n",
            "7867\n",
            "7877\n",
            "7887\n",
            "7907\n",
            "7923\n",
            "7924\n",
            "7959\n",
            "7976\n",
            "7982\n",
            "7990\n",
            "8014\n",
            "8024\n",
            "8036\n",
            "8058\n",
            "8111\n",
            "8141\n",
            "8217\n",
            "8222\n",
            "8272\n",
            "8349\n",
            "8395\n",
            "8441\n",
            "8442\n",
            "8469\n",
            "8582\n",
            "8603\n",
            "8609\n",
            "8616\n",
            "8621\n",
            "8625\n",
            "8642\n",
            "8658\n",
            "8665\n",
            "8668\n",
            "8696\n",
            "8714\n",
            "8775\n",
            "8786\n",
            "8797\n",
            "8836\n",
            "8860\n",
            "8868\n",
            "8869\n",
            "8923\n",
            "8948\n",
            "9025\n",
            "9029\n",
            "9042\n",
            "9080\n",
            "9153\n",
            "9196\n",
            "9266\n",
            "9296\n",
            "9305\n",
            "9306\n",
            "9335\n",
            "9358\n",
            "9400\n",
            "9419\n",
            "9461\n",
            "9470\n",
            "9484\n",
            "9528\n",
            "9616\n",
            "9670\n",
            "9694\n",
            "9716\n",
            "9725\n",
            "9776\n",
            "9925\n",
            "9986\n",
            "9988\n",
            "10063\n",
            "10132\n",
            "10153\n",
            "10188\n",
            "10197\n",
            "10216\n",
            "10232\n",
            "10245\n",
            "10249\n",
            "10253\n",
            "10264\n",
            "10327\n",
            "10378\n",
            "10385\n",
            "10397\n",
            "10401\n",
            "10425\n",
            "10440\n",
            "10441\n",
            "10446\n",
            "10478\n",
            "10509\n",
            "10519\n",
            "10565\n",
            "10619\n",
            "10626\n",
            "10646\n",
            "10712\n",
            "10743\n",
            "10749\n",
            "10778\n",
            "10812\n",
            "10848\n",
            "10895\n",
            "10932\n",
            "10981\n",
            "11017\n",
            "11032\n",
            "11058\n",
            "11069\n",
            "11088\n",
            "11120\n",
            "11124\n",
            "11147\n",
            "11193\n",
            "11331\n",
            "11339\n",
            "11380\n",
            "11392\n",
            "11436\n",
            "11463\n",
            "11469\n",
            "11497\n",
            "11519\n",
            "11521\n",
            "11529\n",
            "11551\n",
            "11584\n",
            "11603\n",
            "11638\n",
            "11690\n",
            "11693\n",
            "11694\n",
            "11742\n",
            "11751\n",
            "11784\n",
            "11813\n",
            "11816\n",
            "11842\n",
            "11843\n",
            "11860\n",
            "11888\n",
            "11904\n",
            "11911\n",
            "11923\n",
            "11954\n",
            "11957\n",
            "12028\n",
            "12039\n",
            "12132\n",
            "12146\n",
            "12149\n",
            "12152\n",
            "12161\n",
            "12223\n",
            "12236\n",
            "12248\n",
            "12295\n",
            "12311\n",
            "12372\n",
            "12404\n",
            "12434\n",
            "12443\n",
            "12508\n",
            "12531\n",
            "12554\n",
            "12557\n",
            "12585\n",
            "12587\n",
            "12599\n",
            "12607\n",
            "12618\n",
            "12640\n",
            "12701\n",
            "12727\n",
            "12730\n",
            "12802\n",
            "12826\n",
            "12870\n",
            "12900\n",
            "12902\n",
            "12908\n",
            "12910\n",
            "12927\n",
            "12936\n",
            "12937\n",
            "12989\n",
            "13065\n",
            "13096\n",
            "13127\n",
            "13154\n",
            "13169\n",
            "13190\n",
            "13204\n",
            "13239\n",
            "13260\n",
            "13271\n",
            "13280\n",
            "13292\n",
            "13383\n",
            "13409\n",
            "13433\n",
            "13550\n",
            "13565\n",
            "13568\n",
            "13580\n",
            "13595\n",
            "13646\n",
            "13696\n",
            "13725\n",
            "13746\n",
            "13754\n",
            "13759\n",
            "13795\n",
            "13818\n",
            "13854\n",
            "13872\n",
            "13892\n",
            "13937\n",
            "13974\n",
            "13984\n",
            "13989\n",
            "13992\n",
            "14030\n",
            "14047\n",
            "14117\n",
            "14135\n",
            "14194\n",
            "14233\n",
            "14240\n",
            "14253\n",
            "14262\n",
            "14285\n",
            "14298\n",
            "14305\n",
            "14333\n",
            "14340\n",
            "14345\n",
            "14380\n",
            "14416\n",
            "14420\n",
            "14440\n",
            "14443\n",
            "14532\n",
            "14552\n",
            "14561\n",
            "14594\n",
            "14595\n",
            "14606\n",
            "14652\n",
            "14664\n",
            "14739\n",
            "14750\n",
            "14770\n",
            "14779\n",
            "14789\n",
            "14801\n",
            "14813\n",
            "14827\n",
            "14888\n",
            "14893\n",
            "14926\n",
            "14928\n",
            "14938\n",
            "14953\n",
            "14956\n",
            "14957\n",
            "14987\n",
            "15002\n",
            "15046\n",
            "15064\n",
            "15128\n",
            "15171\n",
            "15172\n",
            "15207\n",
            "15221\n",
            "15273\n",
            "15302\n",
            "15304\n",
            "15350\n",
            "15359\n",
            "15379\n",
            "15422\n",
            "15442\n",
            "15457\n",
            "15476\n",
            "15501\n",
            "15509\n",
            "15517\n",
            "15529\n",
            "15571\n",
            "15600\n",
            "15628\n",
            "15638\n",
            "15639\n",
            "15696\n",
            "15728\n",
            "15746\n",
            "15885\n",
            "15910\n",
            "15924\n",
            "15962\n",
            "15981\n",
            "16068\n",
            "16086\n",
            "16109\n",
            "16123\n",
            "16144\n",
            "16197\n",
            "16201\n",
            "16210\n",
            "16214\n",
            "16280\n",
            "16349\n",
            "16356\n",
            "16393\n",
            "16403\n",
            "16437\n",
            "16495\n",
            "16504\n",
            "16527\n",
            "16533\n",
            "16546\n",
            "16584\n",
            "16587\n",
            "16591\n",
            "16673\n",
            "16677\n",
            "16689\n",
            "16693\n",
            "16709\n",
            "16764\n",
            "16799\n",
            "16809\n",
            "16842\n",
            "16869\n",
            "16875\n",
            "16879\n",
            "17002\n",
            "17005\n",
            "17034\n",
            "17044\n",
            "17046\n",
            "17048\n",
            "17052\n",
            "17081\n",
            "17099\n",
            "17100\n",
            "17104\n",
            "17131\n",
            "17136\n",
            "17146\n",
            "17199\n",
            "17232\n",
            "17245\n",
            "17250\n",
            "17263\n",
            "17299\n",
            "17304\n",
            "17317\n",
            "17333\n",
            "17347\n",
            "17362\n",
            "17416\n",
            "17448\n",
            "17488\n",
            "17520\n",
            "17602\n",
            "17694\n",
            "17710\n",
            "17724\n",
            "17740\n",
            "17747\n",
            "17775\n",
            "17782\n",
            "17807\n",
            "17808\n",
            "17831\n",
            "17881\n",
            "17974\n",
            "17981\n",
            "17994\n",
            "18030\n",
            "18036\n",
            "18046\n",
            "18110\n",
            "18140\n",
            "18173\n",
            "18244\n",
            "18285\n",
            "18304\n",
            "18335\n",
            "18354\n",
            "18356\n",
            "18360\n",
            "18373\n",
            "18443\n",
            "18474\n",
            "18483\n",
            "18500\n",
            "18514\n",
            "18523\n",
            "18534\n",
            "18577\n",
            "18628\n",
            "18649\n",
            "18651\n",
            "18693\n",
            "18695\n",
            "18728\n",
            "18824\n",
            "18867\n",
            "18895\n",
            "18907\n",
            "19028\n",
            "19031\n",
            "19036\n",
            "19091\n",
            "19092\n",
            "19106\n",
            "19141\n",
            "19227\n",
            "19258\n",
            "19292\n",
            "19332\n",
            "19372\n",
            "19387\n",
            "19388\n",
            "19396\n",
            "19400\n",
            "19401\n",
            "19447\n",
            "19450\n",
            "19458\n",
            "19470\n",
            "19554\n",
            "19564\n",
            "19570\n",
            "19651\n",
            "19706\n",
            "19712\n",
            "19799\n",
            "19809\n",
            "19813\n",
            "19836\n",
            "19859\n",
            "19891\n",
            "19894\n",
            "19920\n",
            "19934\n",
            "19935\n",
            "19985\n",
            "19995\n",
            "20007\n",
            "20017\n",
            "20036\n",
            "20114\n",
            "20223\n",
            "20231\n",
            "20246\n",
            "20256\n",
            "20260\n",
            "20328\n",
            "20404\n",
            "20435\n",
            "20488\n",
            "20529\n",
            "20578\n",
            "20601\n",
            "20619\n",
            "20651\n",
            "20660\n",
            "20683\n",
            "20690\n",
            "20694\n",
            "20696\n",
            "20702\n",
            "20712\n",
            "20784\n",
            "20914\n",
            "20919\n",
            "20922\n",
            "20997\n",
            "21016\n",
            "21052\n",
            "21126\n",
            "21136\n",
            "21148\n",
            "21156\n",
            "21220\n",
            "21227\n",
            "21254\n",
            "21257\n",
            "21289\n",
            "21332\n",
            "21354\n",
            "21404\n",
            "21456\n",
            "21491\n",
            "21569\n",
            "21582\n",
            "21618\n",
            "21619\n",
            "21636\n",
            "21640\n",
            "21687\n",
            "21756\n",
            "21762\n",
            "21778\n",
            "21806\n",
            "21833\n",
            "21869\n",
            "21913\n",
            "21915\n",
            "21935\n",
            "21952\n",
            "21961\n",
            "21996\n",
            "22037\n",
            "22048\n",
            "22057\n",
            "22083\n",
            "22121\n",
            "22175\n",
            "22186\n",
            "22192\n",
            "22199\n",
            "22239\n",
            "22275\n",
            "22278\n",
            "22316\n",
            "22318\n",
            "22347\n",
            "22366\n",
            "22388\n",
            "22469\n",
            "22477\n",
            "22481\n",
            "22492\n",
            "22523\n",
            "22571\n",
            "22593\n",
            "22651\n",
            "22660\n",
            "22688\n",
            "22692\n",
            "22723\n",
            "22775\n",
            "22782\n",
            "22799\n",
            "22814\n",
            "22838\n",
            "22840\n",
            "22845\n",
            "22859\n",
            "22883\n",
            "22896\n",
            "22920\n",
            "22940\n",
            "22970\n",
            "22971\n",
            "22977\n",
            "22978\n",
            "23024\n",
            "23082\n",
            "23091\n",
            "23093\n",
            "23143\n",
            "23163\n",
            "23165\n",
            "23196\n",
            "23260\n",
            "23281\n",
            "23282\n",
            "23292\n",
            "23305\n",
            "23314\n",
            "23335\n",
            "23353\n",
            "23356\n",
            "23370\n",
            "23406\n",
            "23417\n",
            "23469\n",
            "23481\n",
            "23485\n",
            "23490\n",
            "23499\n",
            "23517\n",
            "23552\n",
            "23577\n",
            "23609\n",
            "23610\n",
            "23634\n",
            "23707\n",
            "23714\n",
            "23736\n",
            "23747\n",
            "23766\n",
            "23853\n",
            "23940\n",
            "24020\n",
            "24025\n",
            "24105\n",
            "24139\n",
            "24233\n",
            "24265\n",
            "24306\n",
            "24340\n",
            "24361\n",
            "24368\n",
            "24387\n",
            "24406\n",
            "24413\n",
            "24452\n",
            "24486\n",
            "24487\n",
            "24500\n",
            "24512\n",
            "24532\n",
            "24619\n",
            "24630\n",
            "24632\n",
            "24634\n",
            "24645\n",
            "24670\n",
            "24738\n",
            "24755\n",
            "24763\n",
            "24799\n",
            "24810\n",
            "24852\n",
            "24876\n",
            "24885\n",
            "24931\n",
            "24977\n",
            "24991\n",
            "25023\n",
            "25052\n",
            "25067\n",
            "25071\n",
            "25115\n",
            "25137\n",
            "25270\n",
            "25306\n",
            "25310\n",
            "25321\n",
            "25332\n",
            "25367\n",
            "25381\n",
            "25382\n",
            "25383\n",
            "25422\n",
            "25430\n",
            "25432\n",
            "25438\n",
            "25442\n",
            "25462\n",
            "25491\n",
            "25496\n",
            "25517\n",
            "25537\n",
            "25578\n",
            "25602\n",
            "25628\n",
            "25670\n",
            "25688\n",
            "25701\n",
            "25707\n",
            "25724\n",
            "25738\n",
            "25798\n",
            "25833\n",
            "25912\n",
            "25941\n",
            "25987\n",
            "25996\n",
            "26026\n",
            "26071\n",
            "26090\n",
            "26103\n",
            "26185\n",
            "26204\n",
            "26205\n",
            "26213\n",
            "26245\n",
            "26268\n",
            "26308\n",
            "26311\n",
            "26328\n",
            "26330\n",
            "26354\n",
            "26374\n",
            "26391\n",
            "26392\n",
            "26395\n",
            "26419\n",
            "26475\n",
            "26489\n",
            "26513\n",
            "26515\n",
            "26530\n",
            "26551\n",
            "26570\n",
            "26573\n",
            "26599\n",
            "26643\n",
            "26649\n",
            "26705\n",
            "26706\n",
            "26775\n",
            "26776\n",
            "26782\n",
            "26797\n",
            "26819\n",
            "26907\n",
            "26959\n",
            "26965\n",
            "27002\n",
            "27019\n",
            "27025\n",
            "27061\n",
            "27067\n",
            "27071\n",
            "27075\n",
            "27083\n",
            "27110\n",
            "27120\n",
            "27121\n",
            "27139\n",
            "27170\n",
            "27263\n",
            "27302\n",
            "27365\n",
            "27366\n",
            "27383\n",
            "27392\n",
            "27438\n",
            "27521\n",
            "27538\n",
            "27548\n",
            "27590\n",
            "27622\n",
            "27647\n",
            "27662\n",
            "27693\n",
            "27762\n",
            "27802\n",
            "27820\n",
            "27846\n",
            "27858\n",
            "27934\n",
            "27953\n",
            "27962\n",
            "27971\n",
            "27975\n",
            "28038\n",
            "28053\n",
            "28089\n",
            "28094\n",
            "28121\n",
            "28181\n",
            "28189\n",
            "28208\n",
            "28239\n",
            "28262\n",
            "28281\n",
            "28304\n",
            "28367\n",
            "28383\n",
            "28385\n",
            "28433\n",
            "28488\n",
            "28513\n",
            "28519\n",
            "28552\n",
            "28580\n",
            "28591\n",
            "28596\n",
            "28597\n",
            "28598\n",
            "28659\n",
            "28849\n",
            "28867\n",
            "28869\n",
            "28945\n",
            "29043\n",
            "29111\n",
            "29115\n",
            "29165\n",
            "29171\n",
            "29181\n",
            "29203\n",
            "29238\n",
            "29242\n",
            "29287\n",
            "29288\n",
            "29315\n",
            "29326\n",
            "29332\n",
            "29343\n",
            "29379\n",
            "29382\n",
            "29431\n",
            "29486\n",
            "29513\n",
            "29563\n",
            "29586\n",
            "29610\n",
            "29623\n",
            "29652\n",
            "29663\n",
            "29676\n",
            "29696\n",
            "29706\n",
            "29711\n",
            "29749\n",
            "29762\n",
            "29768\n",
            "29775\n",
            "29779\n",
            "29788\n",
            "29813\n",
            "29827\n",
            "29833\n",
            "29878\n",
            "29914\n",
            "29929\n",
            "29935\n",
            "29955\n",
            "29981\n",
            "30021\n",
            "30036\n",
            "30072\n",
            "30074\n",
            "30131\n",
            "30141\n",
            "30148\n",
            "30155\n",
            "30170\n",
            "30185\n",
            "30228\n",
            "30288\n",
            "30296\n",
            "30307\n",
            "30310\n",
            "30319\n",
            "30368\n",
            "30377\n",
            "30402\n",
            "30403\n",
            "30480\n",
            "30500\n",
            "30517\n",
            "30519\n",
            "30538\n",
            "30588\n",
            "30636\n",
            "30640\n",
            "30659\n",
            "30681\n",
            "30732\n",
            "30796\n",
            "30813\n",
            "30816\n",
            "30862\n",
            "30893\n",
            "30912\n",
            "30915\n",
            "30956\n",
            "31066\n",
            "31113\n",
            "31116\n",
            "31148\n",
            "31179\n",
            "31188\n",
            "31264\n",
            "31284\n",
            "31313\n",
            "31329\n",
            "31361\n",
            "31362\n",
            "31364\n",
            "31372\n",
            "31452\n",
            "31461\n",
            "31467\n",
            "31501\n",
            "31517\n",
            "31572\n",
            "31602\n",
            "31650\n",
            "31718\n",
            "31794\n",
            "31795\n",
            "31799\n",
            "31810\n",
            "31832\n",
            "31903\n",
            "31922\n",
            "31925\n",
            "31946\n",
            "31957\n",
            "31961\n",
            "31969\n",
            "31994\n",
            "32006\n",
            "32062\n",
            "32069\n",
            "32070\n",
            "32103\n",
            "32110\n",
            "32128\n",
            "32167\n",
            "32169\n",
            "32188\n",
            "32193\n",
            "32240\n",
            "32274\n",
            "32311\n",
            "32333\n",
            "32452\n",
            "32460\n",
            "32525\n",
            "32576\n",
            "32594\n",
            "32595\n",
            "32642\n",
            "32668\n",
            "32672\n",
            "32674\n",
            "32680\n",
            "32693\n",
            "32729\n",
            "32768\n",
            "32793\n",
            "32936\n",
            "32942\n",
            "32955\n",
            "32962\n",
            "33004\n",
            "33025\n",
            "33040\n",
            "33043\n",
            "33070\n",
            "33080\n",
            "33087\n",
            "33098\n",
            "33106\n",
            "33145\n",
            "33150\n",
            "33197\n",
            "33262\n",
            "33305\n",
            "33397\n",
            "33414\n",
            "33424\n",
            "33433\n",
            "33447\n",
            "33477\n",
            "33489\n",
            "33508\n",
            "33521\n",
            "33527\n",
            "33551\n",
            "33560\n",
            "33561\n",
            "33568\n",
            "33601\n",
            "33608\n",
            "33652\n",
            "33664\n",
            "33666\n",
            "33681\n",
            "33706\n",
            "33732\n",
            "33743\n",
            "33778\n",
            "33780\n",
            "33781\n",
            "33809\n",
            "33900\n",
            "33935\n",
            "33941\n",
            "33982\n",
            "34063\n",
            "34074\n",
            "34133\n",
            "34220\n",
            "34221\n",
            "34226\n",
            "34257\n",
            "34327\n",
            "34331\n",
            "34337\n",
            "34348\n",
            "34433\n",
            "34453\n",
            "34507\n",
            "34521\n",
            "34547\n",
            "34598\n",
            "34606\n",
            "34632\n",
            "34643\n",
            "34647\n",
            "34681\n",
            "34715\n",
            "34737\n",
            "34749\n",
            "34823\n",
            "34875\n",
            "34897\n",
            "34943\n",
            "34968\n",
            "34987\n",
            "35020\n",
            "35059\n",
            "35083\n",
            "35132\n",
            "35196\n",
            "35242\n",
            "35248\n",
            "35260\n",
            "35283\n",
            "35297\n",
            "35309\n",
            "35413\n",
            "35421\n",
            "35439\n",
            "35464\n",
            "35467\n",
            "35485\n",
            "35522\n",
            "35559\n",
            "35574\n",
            "35575\n",
            "35576\n",
            "35601\n",
            "35603\n",
            "35620\n",
            "35659\n",
            "35688\n",
            "35799\n",
            "35800\n",
            "35830\n",
            "35948\n",
            "35974\n",
            "35977\n",
            "36052\n",
            "36095\n",
            "36120\n",
            "36128\n",
            "36186\n",
            "36221\n",
            "36247\n",
            "36265\n",
            "36302\n",
            "36320\n",
            "36352\n",
            "36374\n",
            "36389\n",
            "36412\n",
            "36483\n",
            "36513\n",
            "36525\n",
            "36536\n",
            "36545\n",
            "36548\n",
            "36563\n",
            "36607\n",
            "36614\n",
            "36647\n",
            "36696\n",
            "36716\n",
            "36733\n",
            "36746\n",
            "36812\n",
            "36817\n",
            "36879\n",
            "36894\n",
            "36897\n",
            "36919\n",
            "36966\n",
            "36968\n",
            "37019\n",
            "37029\n",
            "37048\n",
            "37097\n",
            "37106\n",
            "37117\n",
            "37137\n",
            "37139\n",
            "37144\n",
            "37152\n",
            "37172\n",
            "37179\n",
            "37180\n",
            "37206\n",
            "37207\n",
            "37236\n",
            "37249\n",
            "37324\n",
            "37342\n",
            "37393\n",
            "37419\n",
            "37448\n",
            "37509\n",
            "37540\n",
            "37559\n",
            "37581\n",
            "37668\n",
            "37685\n",
            "37710\n",
            "37721\n",
            "37723\n",
            "37724\n",
            "37780\n",
            "37836\n",
            "37853\n",
            "37862\n",
            "37895\n",
            "37962\n",
            "37978\n",
            "38024\n",
            "38031\n",
            "38036\n",
            "38039\n",
            "38057\n",
            "38065\n",
            "38073\n",
            "38088\n",
            "38110\n",
            "38125\n",
            "38152\n",
            "38169\n",
            "38173\n",
            "38211\n",
            "38221\n",
            "38282\n",
            "38295\n",
            "38322\n",
            "38323\n",
            "38327\n",
            "38337\n",
            "38359\n",
            "38443\n",
            "38448\n",
            "38503\n",
            "38519\n",
            "38540\n",
            "38573\n",
            "38593\n",
            "38626\n",
            "38648\n",
            "38703\n",
            "38752\n",
            "38760\n",
            "38773\n",
            "38863\n",
            "38948\n",
            "38959\n",
            "38997\n",
            "39048\n",
            "39062\n",
            "39133\n",
            "39181\n",
            "39194\n",
            "39263\n",
            "39315\n",
            "39334\n",
            "39355\n",
            "39359\n",
            "39368\n",
            "39386\n",
            "39425\n",
            "39428\n",
            "39433\n",
            "39525\n",
            "39535\n",
            "39568\n",
            "39595\n",
            "39610\n",
            "39611\n",
            "39620\n",
            "39626\n",
            "39651\n",
            "39690\n",
            "39704\n",
            "39722\n",
            "39726\n",
            "39739\n",
            "39781\n",
            "39896\n",
            "39976\n",
            "40008\n",
            "40015\n",
            "40029\n",
            "40040\n",
            "40044\n",
            "40051\n",
            "40088\n",
            "40127\n",
            "40140\n",
            "40175\n",
            "40196\n",
            "40227\n",
            "40263\n",
            "40281\n",
            "40316\n",
            "40332\n",
            "40368\n",
            "40379\n",
            "40385\n",
            "40393\n",
            "40472\n",
            "40515\n",
            "40532\n",
            "40550\n",
            "40585\n",
            "40605\n",
            "40623\n",
            "40639\n",
            "40664\n",
            "40676\n",
            "40809\n",
            "40819\n",
            "40858\n",
            "40894\n",
            "40915\n",
            "40942\n",
            "40943\n",
            "40963\n",
            "40965\n",
            "41031\n",
            "41039\n",
            "41046\n",
            "41057\n",
            "41061\n",
            "41093\n",
            "41111\n",
            "41132\n",
            "41154\n",
            "41166\n",
            "41170\n",
            "41178\n",
            "41179\n",
            "41236\n",
            "41253\n",
            "41269\n",
            "41290\n",
            "41329\n",
            "41372\n",
            "41394\n",
            "41405\n",
            "41460\n",
            "41465\n",
            "41477\n",
            "41483\n",
            "41540\n",
            "41557\n",
            "41568\n",
            "41620\n",
            "41624\n",
            "41710\n",
            "41756\n",
            "41830\n",
            "41880\n",
            "41907\n",
            "41978\n",
            "42001\n",
            "42005\n",
            "42031\n",
            "42055\n",
            "42067\n",
            "42092\n",
            "42096\n",
            "42138\n",
            "42176\n",
            "42214\n",
            "42229\n",
            "42234\n",
            "42237\n",
            "42242\n",
            "42268\n",
            "42293\n",
            "42297\n",
            "42344\n",
            "42361\n",
            "42371\n",
            "42389\n",
            "42394\n",
            "42415\n",
            "42426\n",
            "42460\n",
            "42510\n",
            "42565\n",
            "42605\n",
            "42616\n",
            "42632\n",
            "42637\n",
            "42671\n",
            "42681\n",
            "42730\n",
            "42807\n",
            "42845\n",
            "42848\n",
            "42899\n",
            "42942\n",
            "42944\n",
            "42984\n",
            "43019\n",
            "43028\n",
            "43124\n",
            "43129\n",
            "43150\n",
            "43177\n",
            "43183\n",
            "43188\n",
            "43226\n",
            "43261\n",
            "43267\n",
            "43285\n",
            "43298\n",
            "43338\n",
            "43343\n",
            "43364\n",
            "43373\n",
            "43416\n",
            "43428\n",
            "43448\n",
            "43451\n",
            "43459\n",
            "43500\n",
            "43571\n",
            "43665\n",
            "43671\n",
            "43719\n",
            "43749\n",
            "43754\n",
            "43771\n",
            "43817\n",
            "43836\n",
            "43859\n",
            "43860\n",
            "43876\n",
            "43961\n",
            "43984\n",
            "44039\n",
            "44043\n",
            "44057\n",
            "44100\n",
            "44180\n",
            "44189\n",
            "44208\n",
            "44218\n",
            "44221\n",
            "44243\n",
            "44249\n",
            "44306\n",
            "44320\n",
            "44344\n",
            "44357\n",
            "44359\n",
            "44376\n",
            "44383\n",
            "44388\n",
            "44417\n",
            "44447\n",
            "44456\n",
            "44461\n",
            "44462\n",
            "44466\n",
            "44495\n",
            "44537\n",
            "44592\n",
            "44596\n",
            "44626\n",
            "44691\n",
            "44700\n",
            "44702\n",
            "44755\n",
            "44763\n",
            "44813\n",
            "44879\n",
            "44882\n",
            "44887\n",
            "44989\n",
            "44991\n",
            "45011\n",
            "45018\n",
            "45027\n",
            "45080\n",
            "45081\n",
            "45101\n",
            "45112\n",
            "45130\n",
            "45144\n",
            "45155\n",
            "45159\n",
            "45184\n",
            "45196\n",
            "45208\n",
            "45211\n",
            "45267\n",
            "45269\n",
            "45274\n",
            "45300\n",
            "45325\n",
            "45326\n",
            "45348\n",
            "45394\n",
            "45432\n",
            "45448\n",
            "45481\n",
            "45543\n",
            "45556\n",
            "45583\n",
            "45600\n",
            "45635\n",
            "45667\n",
            "45699\n",
            "45731\n",
            "45738\n",
            "45743\n",
            "45745\n",
            "45758\n",
            "45855\n",
            "45856\n",
            "45858\n",
            "45889\n",
            "45946\n",
            "45947\n",
            "45966\n",
            "45995\n",
            "46021\n",
            "46032\n",
            "46043\n",
            "46076\n",
            "46084\n",
            "46095\n",
            "46106\n",
            "46133\n",
            "46135\n",
            "46140\n",
            "46278\n",
            "46313\n",
            "46322\n",
            "46331\n",
            "46339\n",
            "46342\n",
            "46349\n",
            "46359\n",
            "46369\n",
            "46444\n",
            "46466\n",
            "46498\n",
            "46521\n",
            "46564\n",
            "46567\n",
            "46639\n",
            "46721\n",
            "46733\n",
            "46747\n",
            "46770\n",
            "46788\n",
            "46819\n",
            "46873\n",
            "46880\n",
            "46945\n",
            "46954\n",
            "47023\n",
            "47171\n",
            "47181\n",
            "47203\n",
            "47261\n",
            "47276\n",
            "47300\n",
            "47321\n",
            "47361\n",
            "47373\n",
            "47385\n",
            "47447\n",
            "47451\n",
            "47464\n",
            "47494\n",
            "47499\n",
            "47506\n",
            "47523\n",
            "47532\n",
            "47541\n",
            "47600\n",
            "47606\n",
            "47609\n",
            "47626\n",
            "47628\n",
            "47631\n",
            "47653\n",
            "47692\n",
            "47820\n",
            "47906\n",
            "47910\n",
            "47912\n",
            "47914\n",
            "47922\n",
            "47963\n",
            "47982\n",
            "48005\n",
            "48022\n",
            "48045\n",
            "48095\n",
            "48110\n",
            "48195\n",
            "48210\n",
            "48223\n",
            "48261\n",
            "48296\n",
            "48321\n",
            "48331\n",
            "48338\n",
            "48344\n",
            "48368\n",
            "48447\n",
            "48520\n",
            "48536\n",
            "48586\n",
            "48615\n",
            "48739\n",
            "48776\n",
            "48781\n",
            "48818\n",
            "48859\n",
            "48881\n",
            "48882\n",
            "48930\n",
            "48934\n",
            "48945\n",
            "48973\n",
            "49017\n",
            "49081\n",
            "49097\n",
            "49154\n",
            "49171\n",
            "49178\n",
            "49234\n",
            "49332\n",
            "49349\n",
            "49360\n",
            "49437\n",
            "49439\n",
            "49473\n",
            "49486\n",
            "49508\n",
            "49536\n",
            "49552\n",
            "49558\n",
            "49575\n",
            "49604\n",
            "49642\n",
            "49662\n",
            "49663\n",
            "49667\n",
            "49676\n",
            "49691\n",
            "49714\n",
            "49746\n",
            "49782\n",
            "49783\n",
            "49828\n",
            "49835\n",
            "49848\n",
            "49873\n",
            "49901\n",
            "49961\n",
            "49972\n",
            "49975\n",
            "50010\n",
            "50045\n",
            "50059\n",
            "50098\n",
            "50110\n",
            "50118\n",
            "50124\n",
            "50143\n",
            "50167\n",
            "50192\n",
            "50212\n",
            "50249\n",
            "50254\n",
            "50291\n",
            "50337\n",
            "50342\n",
            "50372\n",
            "50374\n",
            "50400\n",
            "50458\n",
            "50495\n",
            "50556\n",
            "50633\n",
            "50669\n",
            "50702\n",
            "50713\n",
            "50732\n",
            "50740\n",
            "50761\n",
            "50773\n",
            "50809\n",
            "50813\n",
            "50846\n",
            "50850\n",
            "50856\n",
            "50859\n",
            "50864\n",
            "50886\n",
            "50930\n",
            "50974\n",
            "50985\n",
            "51019\n",
            "51020\n",
            "51021\n",
            "51128\n",
            "51144\n",
            "51199\n",
            "51205\n",
            "51223\n",
            "51291\n",
            "51394\n",
            "51399\n",
            "51400\n",
            "51407\n",
            "51599\n",
            "51602\n",
            "51619\n",
            "51624\n",
            "51640\n",
            "51663\n",
            "51665\n",
            "51696\n",
            "51719\n",
            "51729\n",
            "51745\n",
            "51764\n",
            "51875\n",
            "51892\n",
            "51945\n",
            "51983\n",
            "52005\n",
            "52055\n",
            "52057\n",
            "52170\n",
            "52206\n",
            "52244\n",
            "52313\n",
            "52345\n",
            "52347\n",
            "52398\n",
            "52412\n",
            "52416\n",
            "52429\n",
            "52444\n",
            "52477\n",
            "52481\n",
            "52483\n",
            "52488\n",
            "52529\n",
            "52531\n",
            "52569\n",
            "52617\n",
            "52671\n",
            "52702\n",
            "52708\n",
            "52716\n",
            "52745\n",
            "52827\n",
            "52852\n",
            "52855\n",
            "52916\n",
            "52970\n",
            "52971\n",
            "52980\n",
            "53027\n",
            "53053\n",
            "53119\n",
            "53135\n",
            "53172\n",
            "53253\n",
            "53275\n",
            "53305\n",
            "53354\n",
            "53438\n",
            "53486\n",
            "53502\n",
            "53506\n",
            "53548\n",
            "53597\n",
            "53629\n",
            "53673\n",
            "53685\n",
            "53730\n",
            "53775\n",
            "53798\n",
            "53799\n",
            "53804\n",
            "53867\n",
            "53907\n",
            "53909\n",
            "53973\n",
            "54011\n",
            "54018\n",
            "54055\n",
            "54126\n",
            "54130\n",
            "54136\n",
            "54186\n",
            "54205\n",
            "54264\n",
            "54280\n",
            "54297\n",
            "54332\n",
            "54345\n",
            "54355\n",
            "54359\n",
            "54382\n",
            "54407\n",
            "54443\n",
            "54458\n",
            "54469\n",
            "54471\n",
            "54499\n",
            "54545\n",
            "54584\n",
            "54662\n",
            "54684\n",
            "54707\n",
            "54709\n",
            "54719\n",
            "54747\n",
            "54751\n",
            "54776\n",
            "54796\n",
            "54858\n",
            "54877\n",
            "54890\n",
            "54906\n",
            "54914\n",
            "55001\n",
            "55024\n",
            "55109\n",
            "55190\n",
            "55200\n",
            "55213\n",
            "55325\n",
            "55358\n",
            "55398\n",
            "55463\n",
            "55492\n",
            "55553\n",
            "55554\n",
            "55573\n",
            "55597\n",
            "55628\n",
            "55674\n",
            "55687\n",
            "55750\n",
            "55754\n",
            "55757\n",
            "55761\n",
            "55766\n",
            "55801\n",
            "55831\n",
            "55833\n",
            "55874\n",
            "55899\n",
            "55933\n",
            "55961\n",
            "55980\n",
            "56140\n",
            "56146\n",
            "56171\n",
            "56175\n",
            "56204\n",
            "56219\n",
            "56221\n",
            "56252\n",
            "56259\n",
            "56288\n",
            "56301\n",
            "56335\n",
            "56360\n",
            "56362\n",
            "56368\n",
            "56419\n",
            "56486\n",
            "56526\n",
            "56536\n",
            "56538\n",
            "56560\n",
            "56586\n",
            "56620\n",
            "56623\n",
            "56645\n",
            "56675\n",
            "56678\n",
            "56700\n",
            "56714\n",
            "56738\n",
            "56758\n",
            "56774\n",
            "56806\n",
            "56807\n",
            "56810\n",
            "56878\n",
            "56895\n",
            "56897\n",
            "56900\n",
            "56919\n",
            "57003\n",
            "57024\n",
            "57026\n",
            "57104\n",
            "57143\n",
            "57189\n",
            "57207\n",
            "57217\n",
            "57252\n",
            "57259\n",
            "57358\n",
            "57368\n",
            "57369\n",
            "57396\n",
            "57477\n",
            "57582\n",
            "57594\n",
            "57608\n",
            "57624\n",
            "57662\n",
            "57663\n",
            "57680\n",
            "57681\n",
            "57697\n",
            "57732\n",
            "57805\n",
            "57899\n",
            "57932\n",
            "57980\n",
            "57986\n",
            "58041\n",
            "58048\n",
            "58062\n",
            "58087\n",
            "58113\n",
            "58137\n",
            "58144\n",
            "58178\n",
            "58187\n",
            "58225\n",
            "58244\n",
            "58251\n",
            "58271\n",
            "58325\n",
            "58370\n",
            "58394\n",
            "58410\n",
            "58619\n",
            "58660\n",
            "58661\n",
            "58737\n",
            "58739\n",
            "58771\n",
            "58859\n",
            "58888\n",
            "58895\n",
            "58901\n",
            "58925\n",
            "58969\n",
            "58975\n",
            "58986\n",
            "59001\n",
            "59031\n",
            "59046\n",
            "59071\n",
            "59080\n",
            "59088\n",
            "59130\n",
            "59147\n",
            "59202\n",
            "59213\n",
            "59231\n",
            "59255\n",
            "59280\n",
            "59347\n",
            "59354\n",
            "59379\n",
            "59382\n",
            "59413\n",
            "59431\n",
            "59470\n",
            "59486\n",
            "59547\n",
            "59605\n",
            "59619\n",
            "59630\n",
            "59659\n",
            "59668\n",
            "59697\n",
            "59699\n",
            "59721\n",
            "59729\n",
            "59732\n",
            "59738\n",
            "59740\n",
            "59747\n",
            "59766\n",
            "59776\n",
            "59885\n",
            "59893\n",
            "59935\n",
            "59966\n",
            "60007\n",
            "60035\n",
            "60045\n",
            "60052\n",
            "60070\n",
            "60103\n",
            "60264\n",
            "60271\n",
            "60294\n",
            "60301\n",
            "60311\n",
            "60321\n",
            "60352\n",
            "60356\n",
            "60365\n",
            "60420\n",
            "60424\n",
            "60430\n",
            "60478\n",
            "60498\n",
            "60554\n",
            "60650\n",
            "60681\n",
            "60691\n",
            "60734\n",
            "60738\n",
            "60766\n",
            "60767\n",
            "60790\n",
            "60793\n",
            "60801\n",
            "60816\n",
            "60825\n",
            "60842\n",
            "60850\n",
            "60891\n",
            "60903\n",
            "60918\n",
            "60926\n",
            "60989\n",
            "61026\n",
            "61030\n",
            "61057\n",
            "61079\n",
            "61085\n",
            "61095\n",
            "61133\n",
            "61139\n",
            "61150\n",
            "61171\n",
            "61174\n",
            "61184\n",
            "61187\n",
            "61214\n",
            "61247\n",
            "61254\n",
            "61303\n",
            "61345\n",
            "61355\n",
            "61376\n",
            "61379\n",
            "61386\n",
            "61465\n",
            "61482\n",
            "61497\n",
            "61508\n",
            "61509\n",
            "61511\n",
            "61514\n",
            "61535\n",
            "61556\n",
            "61587\n",
            "61616\n",
            "61664\n",
            "61685\n",
            "61721\n",
            "61729\n",
            "61750\n",
            "61824\n",
            "61865\n",
            "61874\n",
            "61876\n",
            "61878\n",
            "61898\n",
            "61911\n",
            "61923\n",
            "61957\n",
            "62015\n",
            "62053\n",
            "62112\n",
            "62113\n",
            "62122\n",
            "62127\n",
            "62148\n",
            "62198\n",
            "62256\n",
            "62259\n",
            "62273\n",
            "62287\n",
            "62294\n",
            "62307\n",
            "62315\n",
            "62338\n",
            "62345\n",
            "62362\n",
            "62392\n",
            "62394\n",
            "62401\n",
            "62476\n",
            "62496\n",
            "62529\n",
            "62536\n",
            "62539\n",
            "62549\n",
            "62571\n",
            "62591\n",
            "62596\n",
            "62634\n",
            "62684\n",
            "62708\n",
            "62726\n",
            "62762\n",
            "62795\n",
            "62820\n",
            "62837\n",
            "62876\n",
            "62898\n",
            "62908\n",
            "62920\n",
            "62926\n",
            "62961\n",
            "63009\n",
            "63015\n",
            "63016\n",
            "63042\n",
            "63099\n",
            "63100\n",
            "63103\n",
            "63160\n",
            "63173\n",
            "63217\n",
            "63252\n",
            "63286\n",
            "63347\n",
            "63367\n",
            "63378\n",
            "63387\n",
            "63464\n",
            "63476\n",
            "63484\n",
            "63500\n",
            "63526\n",
            "63570\n",
            "63622\n",
            "63633\n",
            "63646\n",
            "63649\n",
            "63717\n",
            "63720\n",
            "63724\n",
            "63728\n",
            "63766\n",
            "63826\n",
            "63832\n",
            "63872\n",
            "63889\n",
            "63934\n",
            "63959\n",
            "63999\n",
            "64020\n",
            "64021\n",
            "64028\n",
            "64034\n",
            "64050\n",
            "64080\n",
            "64083\n",
            "64122\n",
            "64133\n",
            "64134\n",
            "64160\n",
            "64172\n",
            "64178\n",
            "64198\n",
            "64220\n",
            "64245\n",
            "64249\n",
            "64258\n",
            "64330\n",
            "64338\n",
            "64379\n",
            "64401\n",
            "64439\n",
            "64443\n",
            "64481\n",
            "64520\n",
            "64554\n",
            "64565\n",
            "64596\n",
            "64602\n",
            "64614\n",
            "64617\n",
            "64625\n",
            "64636\n",
            "64640\n",
            "64651\n",
            "64659\n",
            "64673\n",
            "64680\n",
            "64684\n",
            "64694\n",
            "64809\n",
            "64834\n",
            "64845\n",
            "64902\n",
            "64908\n",
            "64915\n",
            "64929\n",
            "64944\n",
            "64950\n",
            "64960\n",
            "64963\n",
            "65043\n",
            "65081\n",
            "65105\n",
            "65117\n",
            "65169\n",
            "65170\n",
            "65173\n",
            "65181\n",
            "65196\n",
            "65219\n",
            "65223\n",
            "65226\n",
            "65269\n",
            "65280\n",
            "65284\n",
            "65295\n",
            "65315\n",
            "65320\n",
            "65416\n",
            "65417\n",
            "65432\n",
            "65444\n",
            "65460\n",
            "65550\n",
            "65579\n",
            "65618\n",
            "65623\n",
            "65656\n",
            "65661\n",
            "65707\n",
            "65730\n",
            "65738\n",
            "65748\n",
            "65758\n",
            "65888\n",
            "65958\n",
            "65976\n",
            "65990\n",
            "66059\n",
            "66070\n",
            "66078\n",
            "66090\n",
            "66093\n",
            "66110\n",
            "66112\n",
            "66118\n",
            "66147\n",
            "66189\n",
            "66191\n",
            "66195\n",
            "66212\n",
            "66213\n",
            "66250\n",
            "66277\n",
            "66291\n",
            "66314\n",
            "66325\n",
            "66338\n",
            "66366\n",
            "66368\n",
            "66436\n",
            "66440\n",
            "66443\n",
            "66479\n",
            "66484\n",
            "66486\n",
            "66491\n",
            "66496\n",
            "66500\n",
            "66517\n",
            "66556\n",
            "66603\n",
            "66604\n",
            "66635\n",
            "66637\n",
            "66668\n",
            "66696\n",
            "66717\n",
            "66761\n",
            "66806\n",
            "66809\n",
            "66846\n",
            "66888\n",
            "66902\n",
            "66916\n",
            "66948\n",
            "66951\n",
            "66955\n",
            "67011\n",
            "67048\n",
            "67070\n",
            "67092\n",
            "67139\n",
            "67146\n",
            "67246\n",
            "67290\n",
            "67295\n",
            "67302\n",
            "67321\n",
            "67357\n",
            "67380\n",
            "67383\n",
            "67407\n",
            "67413\n",
            "67443\n",
            "67459\n",
            "67491\n",
            "67500\n",
            "67504\n",
            "67538\n",
            "67571\n",
            "67586\n",
            "67704\n",
            "67778\n",
            "67782\n",
            "67814\n",
            "67840\n",
            "67847\n",
            "67877\n",
            "67896\n",
            "67905\n",
            "67921\n",
            "67951\n",
            "67996\n",
            "68020\n",
            "68072\n",
            "68124\n",
            "68131\n",
            "68132\n",
            "68169\n",
            "68178\n",
            "68180\n",
            "68184\n",
            "68185\n",
            "68225\n",
            "68256\n",
            "68268\n",
            "68278\n",
            "68287\n",
            "68292\n",
            "68330\n",
            "68336\n",
            "68353\n",
            "68453\n",
            "68520\n",
            "68607\n",
            "68614\n",
            "68618\n",
            "68659\n",
            "68666\n",
            "68688\n",
            "68736\n",
            "68747\n",
            "68756\n",
            "68773\n",
            "68775\n",
            "68801\n",
            "68807\n",
            "68842\n",
            "68855\n",
            "68891\n",
            "68917\n",
            "68946\n",
            "68968\n",
            "69011\n",
            "69022\n",
            "69046\n",
            "69059\n",
            "69074\n",
            "69110\n",
            "69126\n",
            "69146\n",
            "69246\n",
            "69252\n",
            "69262\n",
            "69279\n",
            "69377\n",
            "69390\n",
            "69417\n",
            "69439\n",
            "69517\n",
            "69531\n",
            "69610\n",
            "69622\n",
            "69630\n",
            "69638\n",
            "69650\n",
            "69661\n",
            "69711\n",
            "69716\n",
            "69727\n",
            "69741\n",
            "69753\n",
            "69763\n",
            "69790\n",
            "69799\n",
            "69800\n",
            "69815\n",
            "69850\n",
            "69854\n",
            "69977\n",
            "69988\n",
            "69991\n",
            "70031\n",
            "70053\n",
            "70055\n",
            "70061\n",
            "70116\n",
            "70158\n",
            "70160\n",
            "70190\n",
            "70222\n",
            "70282\n",
            "70309\n",
            "70374\n",
            "70383\n",
            "70452\n",
            "70469\n",
            "70492\n",
            "70530\n",
            "70575\n",
            "70642\n",
            "70646\n",
            "70659\n",
            "70675\n",
            "70686\n",
            "70707\n",
            "70722\n",
            "70779\n",
            "70818\n",
            "70832\n",
            "70847\n",
            "70885\n",
            "70887\n",
            "70910\n",
            "70958\n",
            "70996\n",
            "71030\n",
            "71038\n",
            "71040\n",
            "71073\n",
            "71108\n",
            "71119\n",
            "71136\n",
            "71152\n",
            "71168\n",
            "71189\n",
            "71201\n",
            "71213\n",
            "71219\n",
            "71253\n",
            "71259\n",
            "71298\n",
            "71331\n",
            "71383\n",
            "71402\n",
            "71427\n",
            "71431\n",
            "71466\n",
            "71467\n",
            "71513\n",
            "71544\n",
            "71594\n",
            "71629\n",
            "71640\n",
            "71655\n",
            "71685\n",
            "71727\n",
            "71744\n",
            "71771\n",
            "71779\n",
            "71790\n",
            "71795\n",
            "71856\n",
            "71900\n",
            "71910\n",
            "71934\n",
            "71964\n",
            "72001\n",
            "72011\n",
            "72067\n",
            "72120\n",
            "72128\n",
            "72130\n",
            "72133\n",
            "72191\n",
            "72209\n",
            "72246\n",
            "72281\n",
            "72291\n",
            "72300\n",
            "72308\n",
            "72313\n",
            "72364\n",
            "72392\n",
            "72408\n",
            "72419\n",
            "72481\n",
            "72488\n",
            "72506\n",
            "72517\n",
            "72525\n",
            "72568\n",
            "72611\n",
            "72631\n",
            "72670\n",
            "72713\n",
            "72766\n",
            "72771\n",
            "72803\n",
            "72822\n",
            "72870\n",
            "72895\n",
            "72913\n",
            "72916\n",
            "72919\n",
            "72967\n",
            "72978\n",
            "73002\n",
            "73007\n",
            "73016\n",
            "73019\n",
            "73042\n",
            "73055\n",
            "73068\n",
            "73078\n",
            "73079\n",
            "73101\n",
            "73181\n",
            "73205\n",
            "73208\n",
            "73222\n",
            "73243\n",
            "73263\n",
            "73333\n",
            "73387\n",
            "73404\n",
            "73442\n",
            "73448\n",
            "73497\n",
            "73500\n",
            "73520\n",
            "73528\n",
            "73532\n",
            "73576\n",
            "73590\n",
            "73618\n",
            "73648\n",
            "73696\n",
            "73720\n",
            "73751\n",
            "73764\n",
            "73797\n",
            "73823\n",
            "73868\n",
            "73881\n",
            "73914\n",
            "73946\n",
            "73949\n",
            "73994\n",
            "74042\n",
            "74074\n",
            "74083\n",
            "74091\n",
            "74102\n",
            "74121\n",
            "74130\n",
            "74151\n",
            "74198\n",
            "74259\n",
            "74267\n",
            "74280\n",
            "74294\n",
            "74328\n",
            "74357\n",
            "74387\n",
            "74433\n",
            "74453\n",
            "74469\n",
            "74505\n",
            "74507\n",
            "74532\n",
            "74535\n",
            "74544\n",
            "74549\n",
            "74565\n",
            "74577\n",
            "74598\n",
            "74699\n",
            "74713\n",
            "74748\n",
            "74772\n",
            "74792\n",
            "74821\n",
            "74831\n",
            "74841\n",
            "74858\n",
            "74880\n",
            "74908\n",
            "74939\n",
            "74949\n",
            "74989\n",
            "75067\n",
            "75071\n",
            "75076\n",
            "75160\n",
            "75188\n",
            "75212\n",
            "75219\n",
            "75268\n",
            "75277\n",
            "75329\n",
            "75337\n",
            "75346\n",
            "75376\n",
            "75393\n",
            "75452\n",
            "75500\n",
            "75538\n",
            "75539\n",
            "75627\n",
            "75659\n",
            "75680\n",
            "75693\n",
            "75711\n",
            "75715\n",
            "75718\n",
            "75732\n",
            "75774\n",
            "75801\n",
            "75802\n",
            "75872\n",
            "75911\n",
            "75922\n",
            "75982\n",
            "76031\n",
            "76050\n",
            "76059\n",
            "76104\n",
            "76105\n",
            "76120\n",
            "76170\n",
            "76215\n",
            "76221\n",
            "76280\n",
            "76290\n",
            "76325\n",
            "76352\n",
            "76394\n",
            "76410\n",
            "76418\n",
            "76448\n",
            "76484\n",
            "76555\n",
            "76562\n",
            "76644\n",
            "76673\n",
            "76724\n",
            "76736\n",
            "76745\n",
            "76749\n",
            "76873\n",
            "76878\n",
            "76944\n",
            "76958\n",
            "77009\n",
            "77015\n",
            "77042\n",
            "77043\n",
            "77064\n",
            "77070\n",
            "77091\n",
            "77107\n",
            "77159\n",
            "77177\n",
            "77229\n",
            "77259\n",
            "77267\n",
            "77272\n",
            "77315\n",
            "77366\n",
            "77378\n",
            "77399\n",
            "77403\n",
            "77405\n",
            "77421\n",
            "77454\n",
            "77477\n",
            "77479\n",
            "77491\n",
            "77520\n",
            "77533\n",
            "77570\n",
            "77574\n",
            "77580\n",
            "77587\n",
            "77617\n",
            "77639\n",
            "77680\n",
            "77727\n",
            "77820\n",
            "77838\n",
            "77846\n",
            "77869\n",
            "77894\n",
            "77895\n",
            "77923\n",
            "77936\n",
            "77991\n",
            "78020\n",
            "78032\n",
            "78066\n",
            "78090\n",
            "78093\n",
            "78102\n",
            "78111\n",
            "78133\n",
            "78161\n",
            "78162\n",
            "78192\n",
            "78221\n",
            "78297\n",
            "78303\n",
            "78357\n",
            "78370\n",
            "78397\n",
            "78406\n",
            "78418\n",
            "78453\n",
            "78481\n",
            "78482\n",
            "78484\n",
            "78501\n",
            "78521\n",
            "78527\n",
            "78563\n",
            "78571\n",
            "78576\n",
            "78612\n",
            "78635\n",
            "78646\n",
            "78672\n",
            "78688\n",
            "78692\n",
            "78706\n",
            "78717\n",
            "78725\n",
            "78738\n",
            "78770\n",
            "78780\n",
            "78834\n",
            "78850\n",
            "78875\n",
            "78890\n",
            "78945\n",
            "78949\n",
            "78984\n",
            "79087\n",
            "79094\n",
            "79102\n",
            "79106\n",
            "79157\n",
            "79185\n",
            "79197\n",
            "79226\n",
            "79274\n",
            "79287\n",
            "79320\n",
            "79339\n",
            "79374\n",
            "79439\n",
            "79497\n",
            "79498\n",
            "79528\n",
            "79531\n",
            "79543\n",
            "79546\n",
            "79550\n",
            "79588\n",
            "79644\n",
            "79684\n",
            "79704\n",
            "79730\n",
            "79732\n",
            "79733\n",
            "79743\n",
            "79746\n",
            "79773\n",
            "79791\n",
            "79797\n",
            "79824\n",
            "79898\n",
            "79924\n",
            "79945\n",
            "79956\n",
            "79958\n",
            "79989\n",
            "80044\n",
            "80095\n",
            "80139\n",
            "80160\n",
            "80173\n",
            "80175\n",
            "80182\n",
            "80220\n",
            "80272\n",
            "80306\n",
            "80317\n",
            "80342\n",
            "80360\n",
            "80381\n",
            "80396\n",
            "80397\n",
            "80479\n",
            "80486\n",
            "80496\n",
            "80497\n",
            "80511\n",
            "80523\n",
            "80542\n",
            "80624\n",
            "80629\n",
            "80662\n",
            "80669\n",
            "80713\n",
            "80737\n",
            "80753\n",
            "80769\n",
            "80795\n",
            "80801\n",
            "80859\n",
            "80865\n",
            "80876\n",
            "80891\n",
            "80907\n",
            "80928\n",
            "80947\n",
            "80996\n",
            "81027\n",
            "81151\n",
            "81235\n",
            "81263\n",
            "81270\n",
            "81320\n",
            "81341\n",
            "81366\n",
            "81373\n",
            "81413\n",
            "81422\n",
            "81425\n",
            "81440\n",
            "81441\n",
            "81492\n",
            "81514\n",
            "81535\n",
            "81541\n",
            "81557\n",
            "81585\n",
            "81591\n",
            "81608\n",
            "81649\n",
            "81737\n",
            "81739\n",
            "81748\n",
            "81751\n",
            "81753\n",
            "81788\n",
            "81797\n",
            "81799\n",
            "81811\n",
            "81826\n",
            "81831\n",
            "81834\n",
            "81887\n",
            "81916\n",
            "81962\n",
            "82028\n",
            "82093\n",
            "82130\n",
            "82162\n",
            "82166\n",
            "82188\n",
            "82224\n",
            "82237\n",
            "82272\n",
            "82275\n",
            "82294\n",
            "82302\n",
            "82305\n",
            "82317\n",
            "82360\n",
            "82393\n",
            "82564\n",
            "82672\n",
            "82709\n",
            "82749\n",
            "82874\n",
            "82887\n",
            "82901\n",
            "82985\n",
            "82987\n",
            "83052\n",
            "83065\n",
            "83079\n",
            "83085\n",
            "83099\n",
            "83127\n",
            "83156\n",
            "83163\n",
            "83181\n",
            "83185\n",
            "83209\n",
            "83227\n",
            "83237\n",
            "83297\n",
            "83364\n",
            "83462\n",
            "83464\n",
            "83546\n",
            "83606\n",
            "83657\n",
            "83696\n",
            "83716\n",
            "83742\n",
            "83794\n",
            "83807\n",
            "83808\n",
            "83914\n",
            "83975\n",
            "83988\n",
            "83994\n",
            "84017\n",
            "84022\n",
            "84024\n",
            "84038\n",
            "84046\n",
            "84109\n",
            "84150\n",
            "84190\n",
            "84202\n",
            "84209\n",
            "84214\n",
            "84259\n",
            "84263\n",
            "84298\n",
            "84315\n",
            "84346\n",
            "84350\n",
            "84374\n",
            "84384\n",
            "84409\n",
            "84451\n",
            "84479\n",
            "84481\n",
            "84485\n",
            "84486\n",
            "84501\n",
            "84516\n",
            "84568\n",
            "84617\n",
            "84623\n",
            "84730\n",
            "84732\n",
            "84734\n",
            "84796\n",
            "84818\n",
            "84855\n",
            "84930\n",
            "84932\n",
            "85046\n",
            "85049\n",
            "85062\n",
            "85145\n",
            "85177\n",
            "85224\n",
            "85238\n",
            "85244\n",
            "85250\n",
            "85267\n",
            "85318\n",
            "85329\n",
            "85354\n",
            "85438\n",
            "85452\n",
            "85473\n",
            "85553\n",
            "85569\n",
            "85574\n",
            "85605\n",
            "85611\n",
            "85616\n",
            "85635\n",
            "85673\n",
            "85679\n",
            "85700\n",
            "85750\n",
            "85757\n",
            "85850\n",
            "85873\n",
            "86015\n",
            "86017\n",
            "86021\n",
            "86034\n",
            "86046\n",
            "86063\n",
            "86102\n",
            "86114\n",
            "86189\n",
            "86193\n",
            "86320\n",
            "86383\n",
            "86444\n",
            "86460\n",
            "86485\n",
            "86505\n",
            "86525\n",
            "86538\n",
            "86548\n",
            "86556\n",
            "86559\n",
            "86562\n",
            "86583\n",
            "86589\n",
            "86590\n",
            "86629\n",
            "86700\n",
            "86705\n",
            "86722\n",
            "86739\n",
            "86755\n",
            "86760\n",
            "86769\n",
            "86788\n",
            "86790\n",
            "86862\n",
            "86866\n",
            "86880\n",
            "86886\n",
            "86907\n",
            "86965\n",
            "86969\n",
            "87004\n",
            "87018\n",
            "87022\n",
            "87046\n",
            "87141\n",
            "87147\n",
            "87150\n",
            "87165\n",
            "87218\n",
            "87241\n",
            "87279\n",
            "87281\n",
            "87307\n",
            "87327\n",
            "87349\n",
            "87382\n",
            "87400\n",
            "87423\n",
            "87424\n",
            "87514\n",
            "87520\n",
            "87545\n",
            "87616\n",
            "87618\n",
            "87664\n",
            "87705\n",
            "87720\n",
            "87778\n",
            "87806\n",
            "87810\n",
            "87851\n",
            "87866\n",
            "87889\n",
            "87919\n",
            "87982\n",
            "88023\n",
            "88044\n",
            "88057\n",
            "88061\n",
            "88095\n",
            "88102\n",
            "88123\n",
            "88141\n",
            "88181\n",
            "88234\n",
            "88251\n",
            "88283\n",
            "88323\n",
            "88332\n",
            "88373\n",
            "88376\n",
            "88385\n",
            "88398\n",
            "88509\n",
            "88532\n",
            "88543\n",
            "88593\n",
            "88598\n",
            "88603\n",
            "88634\n",
            "88635\n",
            "88664\n",
            "88704\n",
            "88719\n",
            "88753\n",
            "88778\n",
            "88825\n",
            "88834\n",
            "88860\n",
            "88864\n",
            "88877\n",
            "88918\n",
            "88937\n",
            "89005\n",
            "89007\n",
            "89041\n",
            "89044\n",
            "89069\n",
            "89074\n",
            "89079\n",
            "89106\n",
            "89112\n",
            "89124\n",
            "89145\n",
            "89155\n",
            "89171\n",
            "89179\n",
            "89193\n",
            "89194\n",
            "89296\n",
            "89425\n",
            "89471\n",
            "89491\n",
            "89497\n",
            "89508\n",
            "89524\n",
            "89541\n",
            "89605\n",
            "89608\n",
            "89674\n",
            "89715\n",
            "89737\n",
            "89792\n",
            "89804\n",
            "89811\n",
            "89813\n",
            "89853\n",
            "89864\n",
            "89873\n",
            "89902\n",
            "89904\n",
            "89910\n",
            "89914\n",
            "89925\n",
            "89934\n",
            "90008\n",
            "90012\n",
            "90018\n",
            "90026\n",
            "90053\n",
            "90087\n",
            "90111\n",
            "90147\n",
            "90151\n",
            "90168\n",
            "90192\n",
            "90215\n",
            "90241\n",
            "90265\n",
            "90327\n",
            "90354\n",
            "90356\n",
            "90371\n",
            "90424\n",
            "90469\n",
            "90475\n",
            "90514\n",
            "90537\n",
            "90550\n",
            "90572\n",
            "90573\n",
            "90578\n",
            "90580\n",
            "90635\n",
            "90663\n",
            "90681\n",
            "90690\n",
            "90701\n",
            "90734\n",
            "90795\n",
            "90814\n",
            "90879\n",
            "90907\n",
            "90913\n",
            "90963\n",
            "90988\n",
            "91001\n",
            "91060\n",
            "91088\n",
            "91101\n",
            "91168\n",
            "91181\n",
            "91204\n",
            "91222\n",
            "91243\n",
            "91299\n",
            "91321\n",
            "91342\n",
            "91351\n",
            "91393\n",
            "91396\n",
            "91405\n",
            "91413\n",
            "91474\n",
            "91485\n",
            "91488\n",
            "91496\n",
            "91512\n",
            "91513\n",
            "91564\n",
            "91615\n",
            "91624\n",
            "91662\n",
            "91688\n",
            "91701\n",
            "91732\n",
            "91774\n",
            "91788\n",
            "91854\n",
            "91912\n",
            "91935\n",
            "91984\n",
            "92002\n",
            "92048\n",
            "92064\n",
            "92079\n",
            "92125\n",
            "92133\n",
            "92153\n",
            "92238\n",
            "92291\n",
            "92312\n",
            "92333\n",
            "92350\n",
            "92376\n",
            "92392\n",
            "92424\n",
            "92450\n",
            "92526\n",
            "92540\n",
            "92591\n",
            "92597\n",
            "92602\n",
            "92643\n",
            "92663\n",
            "92664\n",
            "92673\n",
            "92692\n",
            "92698\n",
            "92715\n",
            "92756\n",
            "92768\n",
            "92791\n",
            "92818\n",
            "92879\n",
            "92887\n",
            "92977\n",
            "93026\n",
            "93030\n",
            "93117\n",
            "93131\n",
            "93139\n",
            "93144\n",
            "93170\n",
            "93177\n",
            "93194\n",
            "93234\n",
            "93257\n",
            "93266\n",
            "93327\n",
            "93341\n",
            "93382\n",
            "93413\n",
            "93432\n",
            "93482\n",
            "93546\n",
            "93549\n",
            "93562\n",
            "93585\n",
            "93669\n",
            "93693\n",
            "93746\n",
            "93772\n",
            "93863\n",
            "93872\n",
            "94011\n",
            "94121\n",
            "94199\n",
            "94225\n",
            "94227\n",
            "94237\n",
            "94253\n",
            "94256\n",
            "94264\n",
            "94289\n",
            "94307\n",
            "94320\n",
            "94321\n",
            "94325\n",
            "94329\n",
            "94369\n",
            "94392\n",
            "94393\n",
            "94395\n",
            "94414\n",
            "94423\n",
            "94453\n",
            "94460\n",
            "94545\n",
            "94576\n",
            "94674\n",
            "94713\n",
            "94748\n",
            "94752\n",
            "94755\n",
            "94765\n",
            "94797\n",
            "94810\n",
            "94841\n",
            "94855\n",
            "94862\n",
            "94872\n",
            "94882\n",
            "94952\n",
            "95002\n",
            "95034\n",
            "95104\n",
            "95131\n",
            "95172\n",
            "95208\n",
            "95254\n",
            "95263\n",
            "95274\n",
            "95282\n",
            "95283\n",
            "95295\n",
            "95375\n",
            "95402\n",
            "95439\n",
            "95459\n",
            "95516\n",
            "95531\n",
            "95550\n",
            "95554\n",
            "95561\n",
            "95570\n",
            "95576\n",
            "95610\n",
            "95630\n",
            "95632\n",
            "95658\n",
            "95787\n",
            "95789\n",
            "95801\n",
            "95834\n",
            "95848\n",
            "95859\n",
            "95891\n",
            "95937\n",
            "95939\n",
            "95962\n",
            "95985\n",
            "96011\n",
            "96015\n",
            "96061\n",
            "96064\n",
            "96112\n",
            "96126\n",
            "96161\n",
            "96177\n",
            "96200\n",
            "96202\n",
            "96233\n",
            "96234\n",
            "96243\n",
            "96261\n",
            "96273\n",
            "96292\n",
            "96405\n",
            "96467\n",
            "96484\n",
            "96523\n",
            "96525\n",
            "96531\n",
            "96561\n",
            "96605\n",
            "96621\n",
            "96628\n",
            "96653\n",
            "96677\n",
            "96687\n",
            "96704\n",
            "96730\n",
            "96765\n",
            "96780\n",
            "96794\n",
            "96813\n",
            "96826\n",
            "96830\n",
            "96851\n",
            "96853\n",
            "96856\n",
            "96880\n",
            "96882\n",
            "96921\n",
            "96938\n",
            "96944\n",
            "96977\n",
            "97001\n",
            "97012\n",
            "97066\n",
            "97076\n",
            "97088\n",
            "97169\n",
            "97195\n",
            "97231\n",
            "97252\n",
            "97304\n",
            "97305\n"
          ],
          "name": "stdout"
        }
      ]
    },
    {
      "cell_type": "code",
      "metadata": {
        "id": "qr0o_KIZlO6e"
      },
      "source": [
        "#y_pred=model.predict(x_test)\n",
        "y_pred = np.where(y_pred>=0.5,1,0)\n",
        "#sigmoid outputs propability that the x_test[i] is toxc"
      ],
      "execution_count": null,
      "outputs": []
    },
    {
      "cell_type": "code",
      "metadata": {
        "colab": {
          "base_uri": "https://localhost:8080/",
          "height": 206
        },
        "id": "8QC5RGNK_poo",
        "outputId": "bd143f15-77da-4bb4-d403-3a3dd150b8e9"
      },
      "source": [
        "\n",
        "submissions_csv=pd.read_csv(\"sample_submission.csv.zip\")\n",
        "submissions_csv[\"prediction\"]=y_pred\n",
        "submissions_csv.head()"
      ],
      "execution_count": null,
      "outputs": [
        {
          "output_type": "execute_result",
          "data": {
            "text/html": [
              "<div>\n",
              "<style scoped>\n",
              "    .dataframe tbody tr th:only-of-type {\n",
              "        vertical-align: middle;\n",
              "    }\n",
              "\n",
              "    .dataframe tbody tr th {\n",
              "        vertical-align: top;\n",
              "    }\n",
              "\n",
              "    .dataframe thead th {\n",
              "        text-align: right;\n",
              "    }\n",
              "</style>\n",
              "<table border=\"1\" class=\"dataframe\">\n",
              "  <thead>\n",
              "    <tr style=\"text-align: right;\">\n",
              "      <th></th>\n",
              "      <th>id</th>\n",
              "      <th>prediction</th>\n",
              "    </tr>\n",
              "  </thead>\n",
              "  <tbody>\n",
              "    <tr>\n",
              "      <th>0</th>\n",
              "      <td>7097320</td>\n",
              "      <td>0</td>\n",
              "    </tr>\n",
              "    <tr>\n",
              "      <th>1</th>\n",
              "      <td>7097321</td>\n",
              "      <td>0</td>\n",
              "    </tr>\n",
              "    <tr>\n",
              "      <th>2</th>\n",
              "      <td>7097322</td>\n",
              "      <td>0</td>\n",
              "    </tr>\n",
              "    <tr>\n",
              "      <th>3</th>\n",
              "      <td>7097323</td>\n",
              "      <td>0</td>\n",
              "    </tr>\n",
              "    <tr>\n",
              "      <th>4</th>\n",
              "      <td>7097324</td>\n",
              "      <td>0</td>\n",
              "    </tr>\n",
              "  </tbody>\n",
              "</table>\n",
              "</div>"
            ],
            "text/plain": [
              "        id  prediction\n",
              "0  7097320           0\n",
              "1  7097321           0\n",
              "2  7097322           0\n",
              "3  7097323           0\n",
              "4  7097324           0"
            ]
          },
          "metadata": {
            "tags": []
          },
          "execution_count": 82
        }
      ]
    },
    {
      "cell_type": "markdown",
      "metadata": {
        "id": "GL1JkSyKnnkU"
      },
      "source": [
        "## GRU"
      ]
    },
    {
      "cell_type": "code",
      "metadata": {
        "colab": {
          "base_uri": "https://localhost:8080/"
        },
        "id": "oRdNvpLknpjB",
        "outputId": "a3c1a1bb-a44e-4542-d2f1-8ee1f0e6fe20"
      },
      "source": [
        "model_gru=models.Sequential()\n",
        "model_gru.add(embedding_layer)\n",
        "model_gru.add(layers.GRU(128))\n",
        "model_gru.add(layers.Dense(1,activation=\"sigmoid\"))\n",
        "model_gru.summary()\n"
      ],
      "execution_count": null,
      "outputs": [
        {
          "output_type": "stream",
          "text": [
            "Model: \"sequential_2\"\n",
            "_________________________________________________________________\n",
            "Layer (type)                 Output Shape              Param #   \n",
            "=================================================================\n",
            "embedding (Embedding)        (None, None, 100)         62506200  \n",
            "_________________________________________________________________\n",
            "gru_1 (GRU)                  (None, 128)               88320     \n",
            "_________________________________________________________________\n",
            "dense_2 (Dense)              (None, 1)                 129       \n",
            "=================================================================\n",
            "Total params: 62,594,649\n",
            "Trainable params: 88,449\n",
            "Non-trainable params: 62,506,200\n",
            "_________________________________________________________________\n"
          ],
          "name": "stdout"
        }
      ]
    },
    {
      "cell_type": "markdown",
      "metadata": {
        "id": "8KW9S8xooJGV"
      },
      "source": [
        "Note that Trainable params here is much less than LTSTM,(which had Trainable params: 117,377)since GRU has less gates>>less parameters"
      ]
    },
    {
      "cell_type": "code",
      "metadata": {
        "colab": {
          "base_uri": "https://localhost:8080/"
        },
        "id": "X3pOsneBogMb",
        "outputId": "04a0ff7f-1d1e-4c21-8428-136e3f891670"
      },
      "source": [
        "model_gru.compile(loss=\"binary_crossentropy\",optimizer=optimizers.Adam())\n",
        "#we can't use accuracy here cuz  classes are imbalanced\n",
        "model_gru.fit(x_train, y_train,validation_data=(x_val,y_val),batch_size=64, epochs=4)\n",
        "#history="
      ],
      "execution_count": null,
      "outputs": [
        {
          "output_type": "stream",
          "text": [
            "Epoch 1/4\n",
            "19472/19472 [==============================] - 186s 9ms/step - loss: 0.1323 - val_loss: 0.1090\n",
            "Epoch 2/4\n",
            "19472/19472 [==============================] - 181s 9ms/step - loss: 0.1068 - val_loss: 0.1072\n",
            "Epoch 3/4\n",
            "19472/19472 [==============================] - 180s 9ms/step - loss: 0.1031 - val_loss: 0.1061\n",
            "Epoch 4/4\n",
            "19472/19472 [==============================] - 181s 9ms/step - loss: 0.0986 - val_loss: 0.1093\n"
          ],
          "name": "stdout"
        },
        {
          "output_type": "execute_result",
          "data": {
            "text/plain": [
              "<tensorflow.python.keras.callbacks.History at 0x7f55e2edb3d0>"
            ]
          },
          "metadata": {
            "tags": []
          },
          "execution_count": 86
        }
      ]
    },
    {
      "cell_type": "markdown",
      "metadata": {
        "id": "uv9yYUJJpdL8"
      },
      "source": [
        "Also note that the loss is slightly higher, although it's a very small difference"
      ]
    },
    {
      "cell_type": "code",
      "metadata": {
        "id": "v8y7kLUnrlgI"
      },
      "source": [
        "model.save(\"gru.h5\")"
      ],
      "execution_count": null,
      "outputs": []
    },
    {
      "cell_type": "markdown",
      "metadata": {
        "id": "Zf2F5hU0rxAJ"
      },
      "source": [
        "### Predict onTest"
      ]
    },
    {
      "cell_type": "code",
      "metadata": {
        "id": "7oMZOtZOrwIk"
      },
      "source": [
        "y_pred_gru=model.predict(x_test)\n",
        "y_pred_gru = np.where(y_pred_gru>=0.5,1,0)\n",
        "#sigmoid outputs propability that the x_test[i] is toxc"
      ],
      "execution_count": null,
      "outputs": []
    },
    {
      "cell_type": "code",
      "metadata": {
        "id": "mZfPLjI5r96t"
      },
      "source": [
        "\n",
        "submissions_csv=pd.read_csv(\"sample_submission.csv.zip\")\n",
        "submissions_csv[\"prediction\"]=y_pred\n",
        "submissions_csv.head()\n",
        "submissions_csv.to_csv('sample_submission_gru.csv', index=False)"
      ],
      "execution_count": null,
      "outputs": []
    },
    {
      "cell_type": "markdown",
      "metadata": {
        "id": "9zCRMF9w_FPS"
      },
      "source": [
        "# Model evaluation"
      ]
    },
    {
      "cell_type": "code",
      "metadata": {
        "id": "FWV0TtG7_MGG"
      },
      "source": [
        "corss_scores = cross_val_score(lr, X, y, cv=5, scoring= 'roc_auc')\n",
        "corss_scores.mean()"
      ],
      "execution_count": null,
      "outputs": []
    },
    {
      "cell_type": "markdown",
      "metadata": {
        "id": "lZpjvjWW6oCZ"
      },
      "source": [
        "Great kernels:"
      ]
    },
    {
      "cell_type": "markdown",
      "metadata": {
        "id": "agDgb3nG9oiX"
      },
      "source": [
        "- https://www.kaggle.com/thousandvoices/simple-lstm\n",
        "(Fast LSTM implementation backed by **cuDNN**.)\n",
        "\n",
        "- https://www.kaggle.com/amrutiashivani/nlp-toxicity-classification?select=train.csv"
      ]
    },
    {
      "cell_type": "markdown",
      "metadata": {
        "id": "XWR1RgASG8-n"
      },
      "source": [
        "- https://www.kaggle.com/kagglebrun/lstm-using-glove"
      ]
    }
  ]
}