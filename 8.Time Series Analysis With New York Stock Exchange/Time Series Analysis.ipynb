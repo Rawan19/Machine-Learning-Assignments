{
  "nbformat": 4,
  "nbformat_minor": 0,
  "metadata": {
    "colab": {
      "name": "Ass8_Rawa.ipynb",
      "provenance": [],
      "collapsed_sections": [],
      "toc_visible": true
    },
    "kernelspec": {
      "name": "python3",
      "display_name": "Python 3"
    },
    "language_info": {
      "name": "python"
    }
  },
  "cells": [
    {
      "cell_type": "markdown",
      "metadata": {
        "id": "pDpz_DAp01KH"
      },
      "source": [
        "# New York Stock Exchange\n",
        "S&P 500 companies historical prices with fundamental data\n",
        "\n",
        "https://www.kaggle.com/dgawlik/nyse"
      ]
    },
    {
      "cell_type": "code",
      "metadata": {
        "colab": {
          "base_uri": "https://localhost:8080/"
        },
        "id": "F-bQaWvb0v8P",
        "outputId": "0e5c0486-87ba-4ebb-8bd9-4886afd64ac9"
      },
      "source": [
        "from google.colab import drive\n",
        "import keras\n",
        "from sklearn.preprocessing import MinMaxScaler\n",
        "\n",
        "from keras.preprocessing.text import text_to_word_sequence\n",
        "from keras.preprocessing.text import Tokenizer  \n",
        "from keras.preprocessing.sequence import pad_sequences\n",
        "from keras import models\n",
        "from keras import layers\n",
        "from keras import optimizers\n",
        "import pandas as pd\n",
        "import numpy\n",
        "import numpy as np\n",
        "import matplotlib.pyplot as plt\n",
        "import re\n",
        "import string\n",
        "import nltk\n",
        "nltk.download('punkt')\n",
        "from nltk.tokenize import word_tokenize\n",
        "from nltk.corpus import stopwords\n",
        "nltk.download('stopwords')\n",
        "from nltk.stem.porter import PorterStemmer\n",
        "from nltk.stem import WordNetLemmatizer\n",
        "nltk.download('wordnet')\n",
        "from nltk.corpus import wordnet\n",
        "import unicodedata\n",
        "import html\n",
        "from sklearn.model_selection import train_test_split\n",
        "from tensorflow.keras.layers import Embedding\n"
      ],
      "execution_count": null,
      "outputs": [
        {
          "output_type": "stream",
          "text": [
            "[nltk_data] Downloading package punkt to /root/nltk_data...\n",
            "[nltk_data]   Package punkt is already up-to-date!\n",
            "[nltk_data] Downloading package stopwords to /root/nltk_data...\n",
            "[nltk_data]   Package stopwords is already up-to-date!\n",
            "[nltk_data] Downloading package wordnet to /root/nltk_data...\n",
            "[nltk_data]   Package wordnet is already up-to-date!\n"
          ],
          "name": "stdout"
        }
      ]
    },
    {
      "cell_type": "code",
      "metadata": {
        "id": "59LzaeJ21AfK"
      },
      "source": [
        ""
      ],
      "execution_count": null,
      "outputs": []
    },
    {
      "cell_type": "code",
      "metadata": {
        "colab": {
          "base_uri": "https://localhost:8080/"
        },
        "id": "najPJ47P1DP9",
        "outputId": "adac779a-4113-4793-8c90-a225c94f5fcc"
      },
      "source": [
        "\n",
        "drive.mount(\"/content/colab/\")"
      ],
      "execution_count": null,
      "outputs": [
        {
          "output_type": "stream",
          "text": [
            "Drive already mounted at /content/colab/; to attempt to forcibly remount, call drive.mount(\"/content/colab/\", force_remount=True).\n"
          ],
          "name": "stdout"
        }
      ]
    },
    {
      "cell_type": "code",
      "metadata": {
        "colab": {
          "base_uri": "https://localhost:8080/"
        },
        "id": "JZ0IAEYB1MsK",
        "outputId": "897da77e-dbca-44f5-90ad-19e08b585690"
      },
      "source": [
        "%cd \"colab/MyDrive/Assignment8\""
      ],
      "execution_count": null,
      "outputs": [
        {
          "output_type": "stream",
          "text": [
            "[Errno 2] No such file or directory: 'colab/MyDrive/Assignment8'\n",
            "/content/colab/MyDrive/Assignment8\n"
          ],
          "name": "stdout"
        }
      ]
    },
    {
      "cell_type": "code",
      "metadata": {
        "id": "bNXWgGQl1UIn"
      },
      "source": [
        "# # Install Kaggle API\n",
        "# !pip install --quiet kaggle\n",
        "\n",
        "# import os\n",
        "# if '.kaggle' not in os.listdir('/root'):\n",
        "#     !mkdir ~/.kaggle\n",
        "\n",
        "# # !mkdir -p ~/.kaggle\n",
        "# !cp /content/kaggle.json ~/.kaggle/\n",
        "\n",
        "# !chmod 600 /root/.kaggle/kaggle.json\n",
        "\n",
        "# # Get the dataset\n",
        "# !kaggle competitions download -c jigsaw-unintended-bias-in-toxicity-classification"
      ],
      "execution_count": null,
      "outputs": []
    },
    {
      "cell_type": "code",
      "metadata": {
        "colab": {
          "base_uri": "https://localhost:8080/"
        },
        "id": "lqyNz3cc7u6x",
        "outputId": "67878afc-2eeb-4d81-aa48-a03f7d2d605e"
      },
      "source": [
        "!ls"
      ],
      "execution_count": null,
      "outputs": [
        {
          "output_type": "stream",
          "text": [
            "'archive(1).zip'    LSTM.h5\t prices-split-adjusted.csv\n",
            " fundamentals.csv   prices.csv\t securities.csv\n"
          ],
          "name": "stdout"
        }
      ]
    },
    {
      "cell_type": "markdown",
      "metadata": {
        "id": "4OzR3_ZP8Vyd"
      },
      "source": [
        "# Frame the problem"
      ]
    },
    {
      "cell_type": "markdown",
      "metadata": {
        "id": "64ZRTflpHnUF"
      },
      "source": [
        "Predicting  Apple's stock prices "
      ]
    },
    {
      "cell_type": "markdown",
      "metadata": {
        "id": "KsVeovLX8WfW"
      },
      "source": [
        "https://www.investopedia.com/articles/basics/06/invest1000.asp\n",
        "\n",
        "https://www.youtube.com/watch?v=ftMq5ps503w\n"
      ]
    },
    {
      "cell_type": "code",
      "metadata": {
        "id": "gqb0Exi97xne"
      },
      "source": [
        "prices=pd.read_csv(\"prices.csv\")\n",
        "securities=pd.read_csv(\"securities.csv\")\n",
        "fundamentals=pd.read_csv(\"fundamentals.csv\")\n",
        "prices=pd.read_csv(\"prices-split-adjusted.csv\",parse_dates=[\"date\"])"
      ],
      "execution_count": null,
      "outputs": []
    },
    {
      "cell_type": "markdown",
      "metadata": {
        "id": "UyoFYDV98cIr"
      },
      "source": [
        "# Understanding the  data"
      ]
    },
    {
      "cell_type": "markdown",
      "metadata": {
        "id": "TTH1f3_1CHPv"
      },
      "source": [
        "*In stock trading, the high and low refer to the maximum and minimum prices in a given time period. Open and close are the prices at which a stock began and ended trading in the same period. Volume is the total amount of trading activity.*\n",
        "\n",
        "Previous close by definition in stock market language refers to essentially the last trading price of the previous day, while open price refers to the first trading price of the day. Investors can change their minds based on new information about what a stock is worth while it's closed, meaning prices can shift without any trades taking place.\n",
        "\n",
        "**So, what causes a stock to rise or fall in the market? **Well, basically the supply and demand forces of the market determine how much stock is available for sale. And it all boils down to the \"buy-sell\" strategy. When a company is making money, it needs buyers to buy up its stock, so the company offers incentives to do just that.\n",
        "## How a Stock Price Works\n",
        "\n",
        "At the grocery store, prices are marked right there on the shelf. If peaches are 69 cents a can, then that's what you'll pay for them.\n",
        "\n",
        "But in the stock market, prices are fluid. The price quoted for a stock at any point is simply the price paid the last time that stock changed hands. There's no guarantee that you'll get that price if you place an order to buy or sell shares. Stock exchanges match buyers and sellers, and prices are set through the interplay of what buyers are willing to pay and what sellers are willing to accept.\n",
        "\n",
        "Technically, there are bid prices, meaning what people are offering for the stock, and ask prices, meaning what people are looking to be paid for it. When those prices converge, trades take place.\n",
        "\n",
        "## Exploring the Closing Price\n",
        "\n",
        "The listed closing price is the last price anyone paid for a share of that stock during the business hours of the exchange where the stock trades. The major U.S. exchanges are generally open from 9:30 a.m. to 4 p.m. Eastern time. The closing price is just a snapshot of the stock at 4 p.m.\n",
        "\n",
        "This price does carry a lot of psychological weight, as it's often interpreted as the market's \"final say\" on a stock for the day.\n",
        "\n",
        "## Assessing the Open Price\n",
        "\n",
        "Just as the closing price is the price paid in the last transaction of a business day, the opening price is the price from the first transaction of a business day. That price can be influenced by anything that has happened since the previous close.\n",
        "\n",
        "Imagine a company whose stock closes one day at  20 dollars a share. That night, news breaks that the company has perpetrated a massive accounting fraud and is in dire financial shape. When the market opens the next day, no one is going to pay 20 dollars a share for the stock, because it's not worth that. If the most anyone is willing to pay is 2dollar a share, then the stock will open at $2.\n",
        "\n",
        "\n",
        "## Why is a Stock’s Closing Price Significant?\n",
        "\n",
        "While much fanfare surrounds the stock market’s opening bell and opening prices, it is a stock’s closing price that **determines how a share performed during the day**.\n",
        "The close price is considered the reference point for any time frame. It’s the price traders agreed on after all the action throughout the day. When researching historical stock price data, financial institutions, regulators, and individual investors use the closing price as the standard measure of the stock’s value as of a specific date. For example, a stock’s close on December 31, 2019, was the closing price for not only that day, but also that week, month, quarter, and year.\n",
        "\n",
        "https://finance.zacks.com/open-stock-price-different-closed-stock-price-6656.html\n",
        "\n",
        "https://analyzingalpha.com/open-high-low-close-stocks"
      ]
    },
    {
      "cell_type": "code",
      "metadata": {
        "colab": {
          "base_uri": "https://localhost:8080/",
          "height": 206
        },
        "id": "pmeX1A5Q8M5J",
        "outputId": "b9d8d17a-c431-471b-a032-dc18dddbb6b9"
      },
      "source": [
        "prices.head()"
      ],
      "execution_count": null,
      "outputs": [
        {
          "output_type": "execute_result",
          "data": {
            "text/html": [
              "<div>\n",
              "<style scoped>\n",
              "    .dataframe tbody tr th:only-of-type {\n",
              "        vertical-align: middle;\n",
              "    }\n",
              "\n",
              "    .dataframe tbody tr th {\n",
              "        vertical-align: top;\n",
              "    }\n",
              "\n",
              "    .dataframe thead th {\n",
              "        text-align: right;\n",
              "    }\n",
              "</style>\n",
              "<table border=\"1\" class=\"dataframe\">\n",
              "  <thead>\n",
              "    <tr style=\"text-align: right;\">\n",
              "      <th></th>\n",
              "      <th>date</th>\n",
              "      <th>symbol</th>\n",
              "      <th>open</th>\n",
              "      <th>close</th>\n",
              "      <th>low</th>\n",
              "      <th>high</th>\n",
              "      <th>volume</th>\n",
              "    </tr>\n",
              "  </thead>\n",
              "  <tbody>\n",
              "    <tr>\n",
              "      <th>0</th>\n",
              "      <td>2016-01-05</td>\n",
              "      <td>WLTW</td>\n",
              "      <td>123.430000</td>\n",
              "      <td>125.839996</td>\n",
              "      <td>122.309998</td>\n",
              "      <td>126.250000</td>\n",
              "      <td>2163600.0</td>\n",
              "    </tr>\n",
              "    <tr>\n",
              "      <th>1</th>\n",
              "      <td>2016-01-06</td>\n",
              "      <td>WLTW</td>\n",
              "      <td>125.239998</td>\n",
              "      <td>119.980003</td>\n",
              "      <td>119.940002</td>\n",
              "      <td>125.540001</td>\n",
              "      <td>2386400.0</td>\n",
              "    </tr>\n",
              "    <tr>\n",
              "      <th>2</th>\n",
              "      <td>2016-01-07</td>\n",
              "      <td>WLTW</td>\n",
              "      <td>116.379997</td>\n",
              "      <td>114.949997</td>\n",
              "      <td>114.930000</td>\n",
              "      <td>119.739998</td>\n",
              "      <td>2489500.0</td>\n",
              "    </tr>\n",
              "    <tr>\n",
              "      <th>3</th>\n",
              "      <td>2016-01-08</td>\n",
              "      <td>WLTW</td>\n",
              "      <td>115.480003</td>\n",
              "      <td>116.620003</td>\n",
              "      <td>113.500000</td>\n",
              "      <td>117.440002</td>\n",
              "      <td>2006300.0</td>\n",
              "    </tr>\n",
              "    <tr>\n",
              "      <th>4</th>\n",
              "      <td>2016-01-11</td>\n",
              "      <td>WLTW</td>\n",
              "      <td>117.010002</td>\n",
              "      <td>114.970001</td>\n",
              "      <td>114.089996</td>\n",
              "      <td>117.330002</td>\n",
              "      <td>1408600.0</td>\n",
              "    </tr>\n",
              "  </tbody>\n",
              "</table>\n",
              "</div>"
            ],
            "text/plain": [
              "        date symbol        open       close         low        high     volume\n",
              "0 2016-01-05   WLTW  123.430000  125.839996  122.309998  126.250000  2163600.0\n",
              "1 2016-01-06   WLTW  125.239998  119.980003  119.940002  125.540001  2386400.0\n",
              "2 2016-01-07   WLTW  116.379997  114.949997  114.930000  119.739998  2489500.0\n",
              "3 2016-01-08   WLTW  115.480003  116.620003  113.500000  117.440002  2006300.0\n",
              "4 2016-01-11   WLTW  117.010002  114.970001  114.089996  117.330002  1408600.0"
            ]
          },
          "metadata": {
            "tags": []
          },
          "execution_count": 74
        }
      ]
    },
    {
      "cell_type": "code",
      "metadata": {
        "colab": {
          "base_uri": "https://localhost:8080/"
        },
        "id": "q4b4E2heHUkO",
        "outputId": "790e5fea-c670-4b6e-b197-d7285e1fe6dd"
      },
      "source": [
        "prices.info()"
      ],
      "execution_count": null,
      "outputs": [
        {
          "output_type": "stream",
          "text": [
            "<class 'pandas.core.frame.DataFrame'>\n",
            "RangeIndex: 851264 entries, 0 to 851263\n",
            "Data columns (total 7 columns):\n",
            " #   Column  Non-Null Count   Dtype         \n",
            "---  ------  --------------   -----         \n",
            " 0   date    851264 non-null  datetime64[ns]\n",
            " 1   symbol  851264 non-null  object        \n",
            " 2   open    851264 non-null  float64       \n",
            " 3   close   851264 non-null  float64       \n",
            " 4   low     851264 non-null  float64       \n",
            " 5   high    851264 non-null  float64       \n",
            " 6   volume  851264 non-null  float64       \n",
            "dtypes: datetime64[ns](1), float64(5), object(1)\n",
            "memory usage: 45.5+ MB\n"
          ],
          "name": "stdout"
        }
      ]
    },
    {
      "cell_type": "code",
      "metadata": {
        "colab": {
          "base_uri": "https://localhost:8080/",
          "height": 81
        },
        "id": "n1q2X_kC8i-w",
        "outputId": "0c88e6c0-bfef-40c5-b524-152d5824af7b"
      },
      "source": [
        "securities[securities[\"Ticker symbol\"]==\"AAPL\"]"
      ],
      "execution_count": null,
      "outputs": [
        {
          "output_type": "execute_result",
          "data": {
            "text/html": [
              "<div>\n",
              "<style scoped>\n",
              "    .dataframe tbody tr th:only-of-type {\n",
              "        vertical-align: middle;\n",
              "    }\n",
              "\n",
              "    .dataframe tbody tr th {\n",
              "        vertical-align: top;\n",
              "    }\n",
              "\n",
              "    .dataframe thead th {\n",
              "        text-align: right;\n",
              "    }\n",
              "</style>\n",
              "<table border=\"1\" class=\"dataframe\">\n",
              "  <thead>\n",
              "    <tr style=\"text-align: right;\">\n",
              "      <th></th>\n",
              "      <th>Ticker symbol</th>\n",
              "      <th>Security</th>\n",
              "      <th>SEC filings</th>\n",
              "      <th>GICS Sector</th>\n",
              "      <th>GICS Sub Industry</th>\n",
              "      <th>Address of Headquarters</th>\n",
              "      <th>Date first added</th>\n",
              "      <th>CIK</th>\n",
              "    </tr>\n",
              "  </thead>\n",
              "  <tbody>\n",
              "    <tr>\n",
              "      <th>45</th>\n",
              "      <td>AAPL</td>\n",
              "      <td>Apple Inc.</td>\n",
              "      <td>reports</td>\n",
              "      <td>Information Technology</td>\n",
              "      <td>Computer Hardware</td>\n",
              "      <td>Cupertino, California</td>\n",
              "      <td>1982-11-30</td>\n",
              "      <td>320193</td>\n",
              "    </tr>\n",
              "  </tbody>\n",
              "</table>\n",
              "</div>"
            ],
            "text/plain": [
              "   Ticker symbol    Security  ... Date first added     CIK\n",
              "45          AAPL  Apple Inc.  ...       1982-11-30  320193\n",
              "\n",
              "[1 rows x 8 columns]"
            ]
          },
          "metadata": {
            "tags": []
          },
          "execution_count": 76
        }
      ]
    },
    {
      "cell_type": "markdown",
      "metadata": {
        "id": "YnJtaeioHfMh"
      },
      "source": [
        "we'll only consider apple's stock."
      ]
    },
    {
      "cell_type": "code",
      "metadata": {
        "colab": {
          "base_uri": "https://localhost:8080/",
          "height": 237
        },
        "id": "YRiJlQzBHlY6",
        "outputId": "6fa8f7a2-2e56-4bbc-af30-d0d245ef91f7"
      },
      "source": [
        "\n",
        "\n",
        "stocks=prices[prices[\"symbol\"]==\"AAPL\"].set_index(\"date\")\n",
        "stocks.head()"
      ],
      "execution_count": null,
      "outputs": [
        {
          "output_type": "execute_result",
          "data": {
            "text/html": [
              "<div>\n",
              "<style scoped>\n",
              "    .dataframe tbody tr th:only-of-type {\n",
              "        vertical-align: middle;\n",
              "    }\n",
              "\n",
              "    .dataframe tbody tr th {\n",
              "        vertical-align: top;\n",
              "    }\n",
              "\n",
              "    .dataframe thead th {\n",
              "        text-align: right;\n",
              "    }\n",
              "</style>\n",
              "<table border=\"1\" class=\"dataframe\">\n",
              "  <thead>\n",
              "    <tr style=\"text-align: right;\">\n",
              "      <th></th>\n",
              "      <th>symbol</th>\n",
              "      <th>open</th>\n",
              "      <th>close</th>\n",
              "      <th>low</th>\n",
              "      <th>high</th>\n",
              "      <th>volume</th>\n",
              "    </tr>\n",
              "    <tr>\n",
              "      <th>date</th>\n",
              "      <th></th>\n",
              "      <th></th>\n",
              "      <th></th>\n",
              "      <th></th>\n",
              "      <th></th>\n",
              "      <th></th>\n",
              "    </tr>\n",
              "  </thead>\n",
              "  <tbody>\n",
              "    <tr>\n",
              "      <th>2010-01-04</th>\n",
              "      <td>AAPL</td>\n",
              "      <td>30.490000</td>\n",
              "      <td>30.572857</td>\n",
              "      <td>30.340000</td>\n",
              "      <td>30.642857</td>\n",
              "      <td>123432400.0</td>\n",
              "    </tr>\n",
              "    <tr>\n",
              "      <th>2010-01-05</th>\n",
              "      <td>AAPL</td>\n",
              "      <td>30.657143</td>\n",
              "      <td>30.625713</td>\n",
              "      <td>30.464285</td>\n",
              "      <td>30.798571</td>\n",
              "      <td>150476200.0</td>\n",
              "    </tr>\n",
              "    <tr>\n",
              "      <th>2010-01-06</th>\n",
              "      <td>AAPL</td>\n",
              "      <td>30.625713</td>\n",
              "      <td>30.138571</td>\n",
              "      <td>30.107143</td>\n",
              "      <td>30.747143</td>\n",
              "      <td>138040000.0</td>\n",
              "    </tr>\n",
              "    <tr>\n",
              "      <th>2010-01-07</th>\n",
              "      <td>AAPL</td>\n",
              "      <td>30.250000</td>\n",
              "      <td>30.082857</td>\n",
              "      <td>29.864286</td>\n",
              "      <td>30.285715</td>\n",
              "      <td>119282800.0</td>\n",
              "    </tr>\n",
              "    <tr>\n",
              "      <th>2010-01-08</th>\n",
              "      <td>AAPL</td>\n",
              "      <td>30.042856</td>\n",
              "      <td>30.282858</td>\n",
              "      <td>29.865715</td>\n",
              "      <td>30.285715</td>\n",
              "      <td>111902700.0</td>\n",
              "    </tr>\n",
              "  </tbody>\n",
              "</table>\n",
              "</div>"
            ],
            "text/plain": [
              "           symbol       open      close        low       high       volume\n",
              "date                                                                      \n",
              "2010-01-04   AAPL  30.490000  30.572857  30.340000  30.642857  123432400.0\n",
              "2010-01-05   AAPL  30.657143  30.625713  30.464285  30.798571  150476200.0\n",
              "2010-01-06   AAPL  30.625713  30.138571  30.107143  30.747143  138040000.0\n",
              "2010-01-07   AAPL  30.250000  30.082857  29.864286  30.285715  119282800.0\n",
              "2010-01-08   AAPL  30.042856  30.282858  29.865715  30.285715  111902700.0"
            ]
          },
          "metadata": {
            "tags": []
          },
          "execution_count": 77
        }
      ]
    },
    {
      "cell_type": "markdown",
      "metadata": {
        "id": "4x4rCBW1JgZe"
      },
      "source": [
        ""
      ]
    },
    {
      "cell_type": "code",
      "metadata": {
        "id": "lQ0qXI3HJD15"
      },
      "source": [
        ""
      ],
      "execution_count": null,
      "outputs": []
    },
    {
      "cell_type": "markdown",
      "metadata": {
        "id": "JQ-_oyjqGjWs"
      },
      "source": [
        "# |EDA"
      ]
    },
    {
      "cell_type": "markdown",
      "metadata": {
        "id": "gIxbAsCbJhqV"
      },
      "source": [
        "\n",
        "## Time-series plot types¶\n",
        "### Lag plot\n",
        "\n",
        "One of these plot types is the lag plot. A lag plot compares data points from each observation in the dataset against data points from a previous observation. So for example, data from December 21st will be compared with data from December 20th, which will in turn be compared with data from December 19th, and so on. For example, here is what we see when we apply a lag plot to the volume (number of trades conducted) in the stock data:\n"
      ]
    },
    {
      "cell_type": "code",
      "metadata": {
        "colab": {
          "base_uri": "https://localhost:8080/",
          "height": 308
        },
        "id": "s-kTf7y-GlMj",
        "outputId": "619d40ea-6d0d-4133-b451-f5633323799a"
      },
      "source": [
        "\n",
        "from pandas.plotting import lag_plot\n",
        "lag_plot(stocks[\"volume\"].tail(250))"
      ],
      "execution_count": null,
      "outputs": [
        {
          "output_type": "execute_result",
          "data": {
            "text/plain": [
              "<matplotlib.axes._subplots.AxesSubplot at 0x7f8c3672d410>"
            ]
          },
          "metadata": {
            "tags": []
          },
          "execution_count": 78
        },
        {
          "output_type": "display_data",
          "data": {
            "image/png": "[encoded data removed]",
            "text/plain": [
              "<Figure size 432x288 with 1 Axes>"
            ]
          },
          "metadata": {
            "tags": [],
            "needs_background": "light"
          }
        }
      ]
    },
    {
      "cell_type": "markdown",
      "metadata": {
        "id": "pkOzOlRrKJKx"
      },
      "source": [
        "\n",
        "\n",
        "It looks like days when volume is high are somewhat correlated with one another. A day of frantic trading does somewhat signal that the next day will also involve frantic trading."
      ]
    },
    {
      "cell_type": "markdown",
      "metadata": {
        "id": "u_J60l-lKm1e"
      },
      "source": [
        "### Autocorrelation plot\n",
        "\n",
        " These are plots that graphically summarize the **strength of a relationship with an observation in a time series with observations at prior time steps.**\n",
        " \n",
        "  It does this by computing a summary statistic—the correlation score—across every possible lag in the dataset. This is known as autocorrelation.\n",
        "\n",
        "`In an autocorrelation plot the lag is on the x-axis and the autocorrelation score is on the y-axis.` **The farther away the autocorrelation is from 0, the greater the influence that records that far away from each other exert on one another.**\n",
        "\n",
        "Here is what an autocorrelation plot looks like when applied to the stock volume data"
      ]
    },
    {
      "cell_type": "code",
      "metadata": {
        "colab": {
          "base_uri": "https://localhost:8080/",
          "height": 301
        },
        "id": "XJDCC6eGK4Vp",
        "outputId": "81a330c3-fa15-4be1-a8f0-53d3bc2389ea"
      },
      "source": [
        "\n",
        "\n",
        "from pandas.plotting import autocorrelation_plot\n",
        "autocorrelation_plot(stocks[\"volume\"])"
      ],
      "execution_count": null,
      "outputs": [
        {
          "output_type": "execute_result",
          "data": {
            "text/plain": [
              "<matplotlib.axes._subplots.AxesSubplot at 0x7f8c4c905e90>"
            ]
          },
          "metadata": {
            "tags": []
          },
          "execution_count": 79
        },
        {
          "output_type": "display_data",
          "data": {
            "image/png": "[encoded data removed]",
            "text/plain": [
              "<Figure size 432x288 with 1 Axes>"
            ]
          },
          "metadata": {
            "tags": [],
            "needs_background": "light"
          }
        }
      ]
    },
    {
      "cell_type": "markdown",
      "metadata": {
        "id": "w9DKEbmALl0u"
      },
      "source": [
        "It seems like the volume of trading activity is weakly descendingly correlated with trading volume from the year prior."
      ]
    },
    {
      "cell_type": "markdown",
      "metadata": {
        "id": "DGuhOd06QUEg"
      },
      "source": [
        "## Price vs.days"
      ]
    },
    {
      "cell_type": "code",
      "metadata": {
        "colab": {
          "base_uri": "https://localhost:8080/",
          "height": 368
        },
        "id": "87HX8G24Pplu",
        "outputId": "c7e85707-4b75-461f-88d3-02fe6d5272cd"
      },
      "source": [
        "plt.figure(figsize=(15, 5));\n",
        "plt.subplot(1,2,1);\n",
        "plt.plot(stocks.open.values, color='red', label='open')\n",
        "plt.plot(stocks.close.values, color='green', label='close')\n",
        "plt.plot(stocks.low.values, color='blue', label='low')\n",
        "plt.plot(stocks.high.values, color='black', label='high')\n",
        "plt.title('stock price')\n",
        "plt.xlabel('time [days]')\n",
        "plt.ylabel('price')\n",
        "plt.legend(loc='best')\n",
        "#plt.show()\n",
        "\n",
        "\n",
        "\n"
      ],
      "execution_count": null,
      "outputs": [
        {
          "output_type": "execute_result",
          "data": {
            "text/plain": [
              "<matplotlib.legend.Legend at 0x7f8c36588810>"
            ]
          },
          "metadata": {
            "tags": []
          },
          "execution_count": 80
        },
        {
          "output_type": "display_data",
          "data": {
            "image/png": "[encoded data removed]",
            "text/plain": [
              "<Figure size 1080x360 with 1 Axes>"
            ]
          },
          "metadata": {
            "tags": [],
            "needs_background": "light"
          }
        }
      ]
    },
    {
      "cell_type": "markdown",
      "metadata": {
        "id": "LSnJbpd3RITW"
      },
      "source": [
        "# Visualize output variable"
      ]
    },
    {
      "cell_type": "code",
      "metadata": {
        "id": "RsAg_mtimtvo"
      },
      "source": [
        "plt.figure(figsize=(12,8))\n",
        "ax = train_set['close'].plot(label='train')\n",
        "ax = validation_set['close'].plot(ax=ax, label='validation')\n",
        "test_set['close'].plot(ax=ax, label='test')\n",
        "plt.title('Apple Closing Stock Distibution Among Train, Validation And Test Set')\n",
        "plt.xlabel('Date')\n",
        "plt.ylabel('Closing Stock')\n",
        "plt.legend()\n",
        "plt.show()"
      ],
      "execution_count": null,
      "outputs": []
    },
    {
      "cell_type": "markdown",
      "metadata": {
        "id": "C7PA3ob8QZIA"
      },
      "source": [
        "slight upward linear trend"
      ]
    },
    {
      "cell_type": "markdown",
      "metadata": {
        "id": "BFUeV1sLQtKV"
      },
      "source": [
        "# Data Cleaning"
      ]
    },
    {
      "cell_type": "markdown",
      "metadata": {
        "id": "IAo1qDUnQy02"
      },
      "source": [
        "## Duplicates"
      ]
    },
    {
      "cell_type": "code",
      "metadata": {
        "colab": {
          "base_uri": "https://localhost:8080/",
          "height": 49
        },
        "id": "0LvmHn3OQ2HB",
        "outputId": "52ec4e01-a563-4a8a-9cd5-3a4cd3b9c914"
      },
      "source": [
        "stocks[stocks.duplicated(keep=False)].reset_index()"
      ],
      "execution_count": null,
      "outputs": [
        {
          "output_type": "execute_result",
          "data": {
            "text/html": [
              "<div>\n",
              "<style scoped>\n",
              "    .dataframe tbody tr th:only-of-type {\n",
              "        vertical-align: middle;\n",
              "    }\n",
              "\n",
              "    .dataframe tbody tr th {\n",
              "        vertical-align: top;\n",
              "    }\n",
              "\n",
              "    .dataframe thead th {\n",
              "        text-align: right;\n",
              "    }\n",
              "</style>\n",
              "<table border=\"1\" class=\"dataframe\">\n",
              "  <thead>\n",
              "    <tr style=\"text-align: right;\">\n",
              "      <th></th>\n",
              "      <th>date</th>\n",
              "      <th>symbol</th>\n",
              "      <th>open</th>\n",
              "      <th>close</th>\n",
              "      <th>low</th>\n",
              "      <th>high</th>\n",
              "      <th>volume</th>\n",
              "    </tr>\n",
              "  </thead>\n",
              "  <tbody>\n",
              "  </tbody>\n",
              "</table>\n",
              "</div>"
            ],
            "text/plain": [
              "Empty DataFrame\n",
              "Columns: [date, symbol, open, close, low, high, volume]\n",
              "Index: []"
            ]
          },
          "metadata": {
            "tags": []
          },
          "execution_count": 82
        }
      ]
    },
    {
      "cell_type": "markdown",
      "metadata": {
        "id": "JViAXaDyQ7VU"
      },
      "source": [
        "## Checknull values"
      ]
    },
    {
      "cell_type": "code",
      "metadata": {
        "colab": {
          "base_uri": "https://localhost:8080/"
        },
        "id": "b94bRd8kQ9pB",
        "outputId": "95c220c4-1355-4047-dfd8-588a81542fae"
      },
      "source": [
        "stocks.isnull().sum()/ stocks.shape[0]*100"
      ],
      "execution_count": null,
      "outputs": [
        {
          "output_type": "execute_result",
          "data": {
            "text/plain": [
              "symbol    0.0\n",
              "open      0.0\n",
              "close     0.0\n",
              "low       0.0\n",
              "high      0.0\n",
              "volume    0.0\n",
              "dtype: float64"
            ]
          },
          "metadata": {
            "tags": []
          },
          "execution_count": 83
        }
      ]
    },
    {
      "cell_type": "markdown",
      "metadata": {
        "id": "K1258PaQbDxH"
      },
      "source": [
        "# LSTM Network for Regression\n",
        "\n",
        "We can phrase the problem as a regression problem.\n",
        "\n",
        "That is, given the closing price (in dollars) this month, what is the closing price next day?\n",
        "\n",
        "We can write a simple function to convert our single column of data into a two-column dataset: the first column containing this month’s (t) closing price and the second column containing *next month’s (t+1) closing price, to be predicted*"
      ]
    },
    {
      "cell_type": "markdown",
      "metadata": {
        "id": "rpQRQxCHRE7z"
      },
      "source": [
        "# Prepare the data for Machine Learning algorithms"
      ]
    },
    {
      "cell_type": "markdown",
      "metadata": {
        "id": "t7a8H1_IReS5"
      },
      "source": [
        "DataTypes>>numeric>"
      ]
    },
    {
      "cell_type": "markdown",
      "metadata": {
        "id": "4lgFpIWZRkhI"
      },
      "source": [
        "## FeaturesScaling"
      ]
    },
    {
      "cell_type": "markdown",
      "metadata": {
        "id": "LmDbdTuTcPaA"
      },
      "source": [
        "LSTMs are sensitive to the scale of the input data, specifically when the sigmoid (default) or tanh activation functions are used. It can be a good practice to rescale the data to the range of 0-to-1, also called normalizing. We can easily normalize the dataset using the **MinMaxScaler** preprocessing class from the scikit-learn library."
      ]
    },
    {
      "cell_type": "code",
      "metadata": {
        "id": "RFAnVTHEUhFT"
      },
      "source": [
        "stocks.drop(\"symbol\",axis=1,inplace=True)"
      ],
      "execution_count": null,
      "outputs": []
    },
    {
      "cell_type": "code",
      "metadata": {
        "id": "xq25PF6LjhsW"
      },
      "source": [
        "stocks_close=stocks.close.values.astype(\"float64\").reshape(1762,1)"
      ],
      "execution_count": null,
      "outputs": []
    },
    {
      "cell_type": "code",
      "metadata": {
        "id": "q87COv7pRDzd"
      },
      "source": [
        "scaler = MinMaxScaler(feature_range=(0, 1))\n",
        "stocks_scaled = scaler.fit_transform(stocks_close)\n"
      ],
      "execution_count": null,
      "outputs": []
    },
    {
      "cell_type": "code",
      "metadata": {
        "colab": {
          "base_uri": "https://localhost:8080/"
        },
        "id": "5J_i6L-xVx7R",
        "outputId": "d5c40419-0528-419a-ad7e-a7591b6d31df"
      },
      "source": [
        "stocks_close[0]"
      ],
      "execution_count": null,
      "outputs": [
        {
          "output_type": "execute_result",
          "data": {
            "text/plain": [
              "array([30.57285686])"
            ]
          },
          "metadata": {
            "tags": []
          },
          "execution_count": 92
        }
      ]
    },
    {
      "cell_type": "markdown",
      "metadata": {
        "id": "f319vXt0cc5A"
      },
      "source": [
        "## train/test split"
      ]
    },
    {
      "cell_type": "markdown",
      "metadata": {
        "id": "yf0RMa36calX"
      },
      "source": [
        "With time series data, **the sequence of values is important**. A simple method that we can use is to split the ordered dataset into train and test datasets. The code below calculates the index of the split point and separates the data into the training datasets with 80% of the observations that we can use to train our model, leaving the remaining 20% for testing the model."
      ]
    },
    {
      "cell_type": "code",
      "metadata": {
        "colab": {
          "base_uri": "https://localhost:8080/"
        },
        "id": "lpLqRTVnUy7Z",
        "outputId": "c203108b-ab2a-4f87-cf5b-10e18741b08d"
      },
      "source": [
        "\n",
        "\n",
        "#\n",
        "train_size=int(len(stocks_scaled)*0.80)\n",
        "test_size=len(stocks_scaled)-train_size\n",
        "train,test=stocks_scaled[0:train_size,:],stocks_scaled[train_size:len(stocks_scaled),:]\n",
        "print(len(train), len(test))\n"
      ],
      "execution_count": null,
      "outputs": [
        {
          "output_type": "stream",
          "text": [
            "1409 353\n"
          ],
          "name": "stdout"
        }
      ]
    },
    {
      "cell_type": "code",
      "metadata": {
        "id": "cmvyX-YEV7s9"
      },
      "source": [
        "train[0]"
      ],
      "execution_count": null,
      "outputs": []
    },
    {
      "cell_type": "markdown",
      "metadata": {
        "id": "L668Pg6QdCdZ"
      },
      "source": [
        ""
      ]
    },
    {
      "cell_type": "markdown",
      "metadata": {
        "id": "vyU_gA8FdChj"
      },
      "source": [
        "## Prepare dataset "
      ]
    },
    {
      "cell_type": "markdown",
      "metadata": {
        "id": "qJ11MZ-BcwKG"
      },
      "source": [
        "Now we can define a function to create a new dataset, as described above.\n",
        "\n",
        "The function takes two arguments: \n",
        "- the dataset, which is a NumPy array that we want to convert into a dataset, \n",
        "- the look_back, which is the number of previous time steps to use as input variables to predict the next time period — in this case defaulted to 1."
      ]
    },
    {
      "cell_type": "code",
      "metadata": {
        "id": "3VZOak_feEdA"
      },
      "source": [
        "# convert an array of values into a dataset matrix\n",
        "def create_dataset(dataset,look_back=1):\n",
        "  dataX,dataY=[],[]\n",
        "  for i in range(len(dataset)-look_back-1):\n",
        "    #col. with index 1 corresponds to close_price,(predicteedVariable)\n",
        "    a=dataset[i:(i+look_back),1]\n",
        "    dataX.append(a)\n",
        "    dataY.append(dataset[i+look_back,1])\n",
        "  return np.array(dataX),np.array(dataY)"
      ],
      "execution_count": null,
      "outputs": []
    },
    {
      "cell_type": "code",
      "metadata": {
        "id": "LxqJ5LMgU0KH"
      },
      "source": [
        "\n",
        "\n",
        "# reshape into X=t and Y=t+1\n",
        "look_back = 1\n",
        "trainX, trainY = create_dataset(train, look_back)\n",
        "testX, testY = create_dataset(test, look_back)\n"
      ],
      "execution_count": null,
      "outputs": []
    },
    {
      "cell_type": "code",
      "metadata": {
        "id": "Qw4szAOZVh3j"
      },
      "source": [
        "train"
      ],
      "execution_count": null,
      "outputs": []
    },
    {
      "cell_type": "code",
      "metadata": {
        "colab": {
          "base_uri": "https://localhost:8080/"
        },
        "id": "sEPandpCVBsn",
        "outputId": "05a5cb1f-0a7e-4e96-9504-c5f43d912b6b"
      },
      "source": [
        "trainX[:10]"
      ],
      "execution_count": null,
      "outputs": [
        {
          "output_type": "execute_result",
          "data": {
            "text/plain": [
              "array([[[0.02971784]],\n",
              "\n",
              "       [[0.03021854]],\n",
              "\n",
              "       [[0.02560389]],\n",
              "\n",
              "       [[0.02507612]],\n",
              "\n",
              "       [[0.0269707 ]],\n",
              "\n",
              "       [[0.02444008]],\n",
              "\n",
              "       [[0.02120576]],\n",
              "\n",
              "       [[0.02517085]],\n",
              "\n",
              "       [[0.02351986]],\n",
              "\n",
              "       [[0.0187834 ]]])"
            ]
          },
          "metadata": {
            "tags": []
          },
          "execution_count": 95
        }
      ]
    },
    {
      "cell_type": "code",
      "metadata": {
        "colab": {
          "base_uri": "https://localhost:8080/"
        },
        "id": "lch22FSnVC9l",
        "outputId": "2be81629-4047-47fb-94dc-c6b7894f569e"
      },
      "source": [
        "trainY[:10]"
      ],
      "execution_count": null,
      "outputs": [
        {
          "output_type": "execute_result",
          "data": {
            "text/plain": [
              "array([0.03021854, 0.02560389, 0.02507612, 0.0269707 , 0.02444008,\n",
              "       0.02120576, 0.02517085, 0.02351986, 0.0187834 , 0.0311117 ])"
            ]
          },
          "metadata": {
            "tags": []
          },
          "execution_count": 96
        }
      ]
    },
    {
      "cell_type": "markdown",
      "metadata": {
        "id": "ou8n1jIydJLm"
      },
      "source": [
        "## Reshape"
      ]
    },
    {
      "cell_type": "markdown",
      "metadata": {
        "id": "lQwGYbJddLEQ"
      },
      "source": [
        "The LSTM network expects the input data (X) to be provided with a specific array structure in the form of: `[samples, time steps, features].`\n",
        "\n",
        "Currently, our data is in the form: [samples, features] and we are framing the problem as one time step for each sample. We can transform the prepared train and test input data into the expected structure using **numpy.reshape()** as follows:"
      ]
    },
    {
      "cell_type": "code",
      "metadata": {
        "id": "dtsFE7xwWvcx"
      },
      "source": [
        "\n",
        "\n",
        "trainX = np.reshape(trainX, (trainX.shape[0], 1, trainX.shape[1]))\n",
        "testX = np.reshape(testX, (testX.shape[0], 1, testX.shape[1]))\n",
        "\n"
      ],
      "execution_count": null,
      "outputs": []
    },
    {
      "cell_type": "code",
      "metadata": {
        "id": "PpB0XsG4X0Ar"
      },
      "source": [
        "import time "
      ],
      "execution_count": null,
      "outputs": []
    },
    {
      "cell_type": "code",
      "metadata": {
        "colab": {
          "base_uri": "https://localhost:8080/"
        },
        "id": "LkVU8SR6WwPQ",
        "outputId": "f48a4328-990d-4245-af24-a896d21864ff"
      },
      "source": [
        "#Step 2 Build Model\n",
        "model = models.Sequential()\n",
        "\n",
        "model.add(layers.LSTM(units=100,\n",
        "    input_dim=1,\n",
        "    return_sequences=True))\n",
        "model.add(layers.Dropout(0.2))\n",
        "\n",
        "model.add(layers.LSTM(\n",
        "    100,\n",
        "    return_sequences=False))\n",
        "model.add(layers.Dropout(0.2))\n",
        "\n",
        "model.add(layers.Dense(\n",
        "    1))\n",
        "model.add(layers.Activation('linear'))\n",
        "\n",
        "start = time.time()\n",
        "model.compile(loss='mse', optimizer='rmsprop')\n",
        "print ('compilation time : ', time.time() - start)"
      ],
      "execution_count": null,
      "outputs": [
        {
          "output_type": "stream",
          "text": [
            "compilation time :  0.007922887802124023\n"
          ],
          "name": "stdout"
        }
      ]
    },
    {
      "cell_type": "code",
      "metadata": {
        "colab": {
          "base_uri": "https://localhost:8080/"
        },
        "id": "ZupZT38fX3K1",
        "outputId": "39d29771-72f1-4d68-ac27-717f9f9baf42"
      },
      "source": [
        "history=model.fit(\n",
        "    trainX,\n",
        "    trainY,\n",
        "    batch_size=128,\n",
        "    epochs=10,\n",
        "    validation_split=0.05)"
      ],
      "execution_count": null,
      "outputs": [
        {
          "output_type": "stream",
          "text": [
            "Epoch 1/10\n",
            "11/11 [==============================] - 4s 120ms/step - loss: 0.1796 - val_loss: 0.4580\n",
            "Epoch 2/10\n",
            "11/11 [==============================] - 0s 14ms/step - loss: 0.0693 - val_loss: 0.1511\n",
            "Epoch 3/10\n",
            "11/11 [==============================] - 0s 16ms/step - loss: 0.0229 - val_loss: 0.0662\n",
            "Epoch 4/10\n",
            "11/11 [==============================] - 0s 17ms/step - loss: 0.0164 - val_loss: 0.0284\n",
            "Epoch 5/10\n",
            "11/11 [==============================] - 0s 17ms/step - loss: 0.0106 - val_loss: 0.0143\n",
            "Epoch 6/10\n",
            "11/11 [==============================] - 0s 17ms/step - loss: 0.0052 - val_loss: 7.9184e-04\n",
            "Epoch 7/10\n",
            "11/11 [==============================] - 0s 15ms/step - loss: 0.0025 - val_loss: 0.0026\n",
            "Epoch 8/10\n",
            "11/11 [==============================] - 0s 14ms/step - loss: 0.0019 - val_loss: 8.6477e-04\n",
            "Epoch 9/10\n",
            "11/11 [==============================] - 0s 14ms/step - loss: 0.0018 - val_loss: 0.0024\n",
            "Epoch 10/10\n",
            "11/11 [==============================] - 0s 16ms/step - loss: 0.0018 - val_loss: 0.0033\n"
          ],
          "name": "stdout"
        }
      ]
    },
    {
      "cell_type": "code",
      "metadata": {
        "id": "XXxYO3TYYBoz"
      },
      "source": [
        "model.save(\"LSTM.h5\")"
      ],
      "execution_count": null,
      "outputs": []
    },
    {
      "cell_type": "code",
      "metadata": {
        "id": "RUDtbegWc9vK"
      },
      "source": [
        "history"
      ],
      "execution_count": null,
      "outputs": []
    },
    {
      "cell_type": "markdown",
      "metadata": {
        "id": "Ro47Kl64dVtG"
      },
      "source": [
        "# PlotLearningCurve"
      ]
    },
    {
      "cell_type": "code",
      "metadata": {
        "colab": {
          "base_uri": "https://localhost:8080/",
          "height": 279
        },
        "id": "GF7h4gwadFeC",
        "outputId": "621bc5bf-d50f-4320-a946-c3432c72e71a"
      },
      "source": [
        "import matplotlib.pyplot  as  plt\n",
        "train_loss =     history.history[\"loss\"]\n",
        "val_loss = history.history[\"val_loss\"]\n",
        "plt.plot(  train_loss,  \"bo\", label = \"Trainninng   loss\")\n",
        "plt.plot( val_loss, \"b\", label =  \"val_loss\")\n",
        "plt.xlabel(\"Epochs\")\n",
        "plt.ylabel(\"Loss\")\n",
        "plt.legend()\n",
        "plt.show()"
      ],
      "execution_count": null,
      "outputs": [
        {
          "output_type": "display_data",
          "data": {
            "image/png": "[encoded data removed]",
            "text/plain": [
              "<Figure size 432x288 with 1 Axes>"
            ]
          },
          "metadata": {
            "tags": [],
            "needs_background": "light"
          }
        }
      ]
    },
    {
      "cell_type": "markdown",
      "metadata": {
        "id": "kfU1k8Dwdq3k"
      },
      "source": [
        ""
      ]
    },
    {
      "cell_type": "markdown",
      "metadata": {
        "id": "XuT78kgEdrnS"
      },
      "source": [
        "# Evaluate theModel>>visualize"
      ]
    },
    {
      "cell_type": "markdown",
      "metadata": {
        "id": "qyMteW6IdoES"
      },
      "source": [
        "Finally, we can generate predictions using the model for both the train and test dataset to get a visual indication of the skill of the model.\n",
        "\n",
        "Because of how the dataset was prepared, **we must shift the predictions **so that they align on the x-axis with the original dataset. Once prepared, the data is plotted, showing the original dataset in blue, the predictions for the training dataset in green, and the predictions on the unseen test dataset in red."
      ]
    },
    {
      "cell_type": "code",
      "metadata": {
        "id": "o_pwXLALiCTd"
      },
      "source": [
        "testY.shape"
      ],
      "execution_count": null,
      "outputs": []
    },
    {
      "cell_type": "code",
      "metadata": {
        "id": "24SuRGeEiAHv"
      },
      "source": [
        "test_Y_=np.array(testY)\n",
        "test_Y_ = np.reshape(test_Y_, (-1,1))"
      ],
      "execution_count": null,
      "outputs": []
    },
    {
      "cell_type": "code",
      "metadata": {
        "colab": {
          "base_uri": "https://localhost:8080/"
        },
        "id": "F8XeT1Wokjup",
        "outputId": "e1e2b391-5325-4b70-b8f3-711fba03d2c7"
      },
      "source": [
        "predicted_y.shape"
      ],
      "execution_count": null,
      "outputs": [
        {
          "output_type": "execute_result",
          "data": {
            "text/plain": [
              "(351, 1)"
            ]
          },
          "metadata": {
            "tags": []
          },
          "execution_count": 108
        }
      ]
    },
    {
      "cell_type": "code",
      "metadata": {
        "colab": {
          "base_uri": "https://localhost:8080/"
        },
        "id": "ssBwIX3PiLa9",
        "outputId": "30c0802f-f4c8-466d-ef4c-cbdd0751bcfc"
      },
      "source": [
        "test_Y_.shape"
      ],
      "execution_count": null,
      "outputs": [
        {
          "output_type": "execute_result",
          "data": {
            "text/plain": [
              "(351, 1)"
            ]
          },
          "metadata": {
            "tags": []
          },
          "execution_count": 107
        }
      ]
    },
    {
      "cell_type": "code",
      "metadata": {
        "colab": {
          "base_uri": "https://localhost:8080/"
        },
        "id": "JMyFhbNFiXi_",
        "outputId": "2e4eb2db-60d6-4639-8742-bfcc5071f0c3"
      },
      "source": [
        "predicted_y=model.predict(testX)\n",
        "predicted_y_denorm=scaler.inverse_transform(predicted_y)\n",
        "actual_y=  scaler.inverse_transform(test_Y_)\n",
        "predicted_y_denorm.shape"
      ],
      "execution_count": null,
      "outputs": [
        {
          "output_type": "execute_result",
          "data": {
            "text/plain": [
              "(351, 1)"
            ]
          },
          "metadata": {
            "tags": []
          },
          "execution_count": 116
        }
      ]
    },
    {
      "cell_type": "code",
      "metadata": {
        "colab": {
          "base_uri": "https://localhost:8080/",
          "height": 387
        },
        "id": "7UoNpFCylSnk",
        "outputId": "43490c98-ffbe-4efc-c16b-7b2c5961bbb0"
      },
      "source": [
        "plt.figure(figsize=(8,6))\n",
        "plt.subplot(1,1,1)\n",
        "plt.plot(predicted_y_denorm, linewidth=1.2, color='darkred', label='Predicted Apple Stock price')\n",
        "plt.plot(actual_y, linewidth=1.2, color='green', label='Real Apple Stock price')\n",
        "plt.xlabel('Days', fontsize=8)\n",
        "plt.ylabel('Apple Stock Price', fontsize=8)\n",
        "plt.legend(loc='best', fontsize=10)\n",
        "plt.show()"
      ],
      "execution_count": null,
      "outputs": [
        {
          "output_type": "display_data",
          "data": {
            "image/png": "[encoded data removed]",
            "text/plain": [
              "<Figure size 576x432 with 1 Axes>"
            ]
          },
          "metadata": {
            "tags": [],
            "needs_background": "light"
          }
        }
      ]
    },
    {
      "cell_type": "markdown",
      "metadata": {
        "id": "ntLkX9-Kl77z"
      },
      "source": [
        "We can see that the model did an excellent job of fitting both the training and the test datasets. "
      ]
    },
    {
      "cell_type": "markdown",
      "metadata": {
        "id": "9W73Vuf4lr4W"
      },
      "source": [
        "# Resources"
      ]
    },
    {
      "cell_type": "markdown",
      "metadata": {
        "id": "NJ9okQh3-o2h"
      },
      "source": [
        "https://www.kaggle.com/residentmario/time-series-plotting-optional\n",
        "\n",
        "https://www.kaggle.com/debu3kaggle/stock-exchange-analysis-using-lstm\n",
        "\n",
        "https://www.kaggle.com/raoulma/ny-stock-price-prediction-rnn-lstm-gru\n",
        "\n",
        "https://machinelearningmastery.com/time-series-prediction-lstm-recurrent-neural-networks-python-keras/\n",
        "\n",
        "https://www.youtube.com/watch?v=ftMq5ps503w"
      ]
    }
  ]
}