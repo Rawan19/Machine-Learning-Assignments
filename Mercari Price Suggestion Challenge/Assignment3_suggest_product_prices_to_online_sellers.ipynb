{
  "nbformat": 4,
  "nbformat_minor": 0,
  "metadata": {
    "kernelspec": {
      "language": "python",
      "display_name": "Python 3",
      "name": "python3"
    },
    "language_info": {
      "name": "python",
      "version": "3.7.9",
      "mimetype": "text/x-python",
      "codemirror_mode": {
        "name": "ipython",
        "version": 3
      },
      "pygments_lexer": "ipython3",
      "nbconvert_exporter": "python",
      "file_extension": ".py"
    },
    "colab": {
      "name": "Assignment3_suggest product prices to online sellers.ipynb",
      "provenance": [],
      "collapsed_sections": [],
      "toc_visible": true
    }
  },
  "cells": [
    {
      "cell_type": "code",
      "metadata": {
        "id": "eo9cWX2oZMvy"
      },
      "source": [
        "from google.colab import drive"
      ],
      "execution_count": null,
      "outputs": []
    },
    {
      "cell_type": "code",
      "metadata": {
        "colab": {
          "base_uri": "https://localhost:8080/"
        },
        "id": "m3h2FEjrZeeq",
        "outputId": "dd719c4f-1ed7-4c68-bd52-3329769b52e0"
      },
      "source": [
        "\n",
        "drive.mount(\"/content/colab/\")"
      ],
      "execution_count": null,
      "outputs": [
        {
          "output_type": "stream",
          "text": [
            "Drive already mounted at /content/colab/; to attempt to forcibly remount, call drive.mount(\"/content/colab/\", force_remount=True).\n"
          ],
          "name": "stdout"
        }
      ]
    },
    {
      "cell_type": "code",
      "metadata": {
        "colab": {
          "base_uri": "https://localhost:8080/"
        },
        "id": "_zhCUNuuZwuq",
        "outputId": "b8669424-f221-4dd1-9e7b-257c80bd604a"
      },
      "source": [
        "%cd \"colab/MyDrive/Assignment3\""
      ],
      "execution_count": null,
      "outputs": [
        {
          "output_type": "stream",
          "text": [
            "[Errno 2] No such file or directory: 'colab/MyDrive/Assignment3'\n",
            "/content/colab/MyDrive/Assignment3\n"
          ],
          "name": "stdout"
        }
      ]
    },
    {
      "cell_type": "code",
      "metadata": {
        "colab": {
          "base_uri": "https://localhost:8080/"
        },
        "id": "LfYUQl6319P6",
        "outputId": "0fab4ce3-d3c4-434d-d731-3d0838271a3b"
      },
      "source": [
        "!ls"
      ],
      "execution_count": null,
      "outputs": [
        {
          "output_type": "stream",
          "text": [
            "sample_submission.csv\t\ttest_stg2.tsv.zip  train.tsv\n",
            "sample_submission.csv.7z\ttest.tsv\t   train.tsv.7z\n",
            "sample_submission_stg2.csv.zip\ttest.tsv.7z\n"
          ],
          "name": "stdout"
        }
      ]
    },
    {
      "cell_type": "code",
      "metadata": {
        "id": "MHd1aXvYZ2vh"
      },
      "source": [
        "# # Install Kaggle API\n",
        "# !pip install --quiet kaggle\n",
        "\n",
        "# import os\n",
        "# if '.kaggle' not in os.listdir('/root'):\n",
        "#     !mkdir ~/.kaggle\n",
        "\n",
        "# # !mkdir -p ~/.kaggle\n",
        "# !cp /content/kaggle.json ~/.kaggle/\n",
        "\n",
        "# !chmod 600 /root/.kaggle/kaggle.json\n",
        "\n",
        "# # Get the dataset\n",
        "# !kaggle competitions download -c mercari-price-suggestion-challenge"
      ],
      "execution_count": null,
      "outputs": []
    },
    {
      "cell_type": "code",
      "metadata": {
        "colab": {
          "base_uri": "https://localhost:8080/"
        },
        "id": "iFvBULGa2Y1h",
        "outputId": "d13e6c76-fef8-4fc7-df78-cee18935cd28"
      },
      "source": [
        "!ls   "
      ],
      "execution_count": null,
      "outputs": [
        {
          "output_type": "stream",
          "text": [
            "sample_submission.csv\t\ttest_stg2.tsv.zip  train.tsv\n",
            "sample_submission.csv.7z\ttest.tsv\t   train.tsv.7z\n",
            "sample_submission_stg2.csv.zip\ttest.tsv.7z\n"
          ],
          "name": "stdout"
        }
      ]
    },
    {
      "cell_type": "code",
      "metadata": {
        "_uuid": "8f2839f25d086af736a60e9eeb907d3b93b6e0e5",
        "_cell_guid": "b1076dfc-b9ad-4769-8c92-a6c4dae69d19",
        "trusted": true,
        "id": "ks_rlGphZLBS"
      },
      "source": [
        "# This Python 3 environment comes with many helpful analytics libraries installed\n",
        "# It is defined by the kaggle/python Docker image: https://github.com/kaggle/docker-python\n",
        "# For example, here's several helpful packages to load\n",
        "\n",
        "import numpy as np # linear algebra\n",
        "import pandas as pd # data processing, CSV file I/O (e.g. pd.read_csv)\n",
        "import matplotlib.pyplot as plt\n",
        "# Input data files are available in the read-only \"../input/\" directory\n",
        "# For example, running this (by clicking run or pressing Shift+Enter) will list all files under the input directory\n",
        "\n",
        "import os\n",
        "for dirname, _, filenames in os.walk('/kaggle/input'):\n",
        "    for filename in filenames:\n",
        "        print(os.path.join(dirname, filename))\n",
        "\n",
        "# You can write up to 20GB to the current directory (/kaggle/working/) that gets preserved as output when you create a version using \"Save & Run All\" \n",
        "# You can also write temporary files to /kaggle/temp/, but they won't be saved outside of the current session"
      ],
      "execution_count": null,
      "outputs": []
    },
    {
      "cell_type": "code",
      "metadata": {
        "trusted": true,
        "id": "uUTN369qZLBn"
      },
      "source": [
        "# !apt-get install p7zip\n",
        "# !p7zip -d -f -k train.tsv.7z\n",
        "# !p7zip -d -f -k test.tsv.7z\n",
        "# !p7zip -d -f -k sample_submission.csv.7z"
      ],
      "execution_count": null,
      "outputs": []
    },
    {
      "cell_type": "markdown",
      "metadata": {
        "id": "EKqVfTi2ZLBs"
      },
      "source": [
        "# Frame the problem\n",
        "\n",
        "What are the business objectives?\n",
        "\n",
        "What is the right metric? (RMSLE -> Regression)\n",
        "\n",
        "\n",
        "## MSLE only cares about the percentual difference\n",
        "\n",
        "The introduction of the logarithm makes MSLE only care about the relative difference between the true and the predicted value, or in other words, it only cares about the percentual difference between them.\n",
        "This means that MSLE will treat small differences between small true and predicted values approximately the same as big differences between large true and predicted values.\n",
        "\n",
        "## MSLE is Robust to the effect of the outliers\n",
        "\n",
        "## MSLE penalizes underestimates more than overestimates\n",
        "This makes sense in our case, because the business wants to increase its profits after  all; an underestimate will harm the business.\n",
        "\n",
        "https://peltarion.com/knowledge-center/documentation/modeling-view/build-an-ai-model/loss-functions/mean-squared-logarithmic-error-(msle)"
      ]
    },
    {
      "cell_type": "markdown",
      "metadata": {
        "id": "URzfH_11ZLBu"
      },
      "source": [
        "# Get the data"
      ]
    },
    {
      "cell_type": "code",
      "metadata": {
        "trusted": true,
        "id": "m7_sQIREZLBw"
      },
      "source": [
        "\n",
        "train_data =pd.read_csv(\"train.tsv\",sep=\"\\t\")"
      ],
      "execution_count": null,
      "outputs": []
    },
    {
      "cell_type": "code",
      "metadata": {
        "trusted": true,
        "id": "E0n7dnT7ZLBx"
      },
      "source": [
        "test_data=pd.read_csv(\"test.tsv\",sep=\"\\t\")"
      ],
      "execution_count": null,
      "outputs": []
    },
    {
      "cell_type": "code",
      "metadata": {
        "trusted": true,
        "id": "0gDqeTsYZLBy"
      },
      "source": [
        "pd.set_option('display.max_rows', 10)"
      ],
      "execution_count": null,
      "outputs": []
    },
    {
      "cell_type": "markdown",
      "metadata": {
        "id": "yuAEI60OZLBz"
      },
      "source": [
        "The  data contains categorical and text  features; shipping  and \"item_condition_id\" are categorical bby nature"
      ]
    },
    {
      "cell_type": "code",
      "metadata": {
        "colab": {
          "base_uri": "https://localhost:8080/",
          "height": 293
        },
        "id": "v3sxyM1P2DQa",
        "outputId": "2337ab0d-1116-40c6-ae66-582aac42e2d8"
      },
      "source": [
        "train_data.head()"
      ],
      "execution_count": null,
      "outputs": [
        {
          "output_type": "execute_result",
          "data": {
            "text/html": [
              "<div>\n",
              "<style scoped>\n",
              "    .dataframe tbody tr th:only-of-type {\n",
              "        vertical-align: middle;\n",
              "    }\n",
              "\n",
              "    .dataframe tbody tr th {\n",
              "        vertical-align: top;\n",
              "    }\n",
              "\n",
              "    .dataframe thead th {\n",
              "        text-align: right;\n",
              "    }\n",
              "</style>\n",
              "<table border=\"1\" class=\"dataframe\">\n",
              "  <thead>\n",
              "    <tr style=\"text-align: right;\">\n",
              "      <th></th>\n",
              "      <th>train_id</th>\n",
              "      <th>name</th>\n",
              "      <th>item_condition_id</th>\n",
              "      <th>category_name</th>\n",
              "      <th>brand_name</th>\n",
              "      <th>price</th>\n",
              "      <th>shipping</th>\n",
              "      <th>item_description</th>\n",
              "    </tr>\n",
              "  </thead>\n",
              "  <tbody>\n",
              "    <tr>\n",
              "      <th>0</th>\n",
              "      <td>0</td>\n",
              "      <td>MLB Cincinnati Reds T Shirt Size XL</td>\n",
              "      <td>3</td>\n",
              "      <td>Men/Tops/T-shirts</td>\n",
              "      <td>NaN</td>\n",
              "      <td>10.0</td>\n",
              "      <td>1</td>\n",
              "      <td>No description yet</td>\n",
              "    </tr>\n",
              "    <tr>\n",
              "      <th>1</th>\n",
              "      <td>1</td>\n",
              "      <td>Razer BlackWidow Chroma Keyboard</td>\n",
              "      <td>3</td>\n",
              "      <td>Electronics/Computers &amp; Tablets/Components &amp; P...</td>\n",
              "      <td>Razer</td>\n",
              "      <td>52.0</td>\n",
              "      <td>0</td>\n",
              "      <td>This keyboard is in great condition and works ...</td>\n",
              "    </tr>\n",
              "    <tr>\n",
              "      <th>2</th>\n",
              "      <td>2</td>\n",
              "      <td>AVA-VIV Blouse</td>\n",
              "      <td>1</td>\n",
              "      <td>Women/Tops &amp; Blouses/Blouse</td>\n",
              "      <td>Target</td>\n",
              "      <td>10.0</td>\n",
              "      <td>1</td>\n",
              "      <td>Adorable top with a hint of lace and a key hol...</td>\n",
              "    </tr>\n",
              "    <tr>\n",
              "      <th>3</th>\n",
              "      <td>3</td>\n",
              "      <td>Leather Horse Statues</td>\n",
              "      <td>1</td>\n",
              "      <td>Home/Home Décor/Home Décor Accents</td>\n",
              "      <td>NaN</td>\n",
              "      <td>35.0</td>\n",
              "      <td>1</td>\n",
              "      <td>New with tags. Leather horses. Retail for [rm]...</td>\n",
              "    </tr>\n",
              "    <tr>\n",
              "      <th>4</th>\n",
              "      <td>4</td>\n",
              "      <td>24K GOLD plated rose</td>\n",
              "      <td>1</td>\n",
              "      <td>Women/Jewelry/Necklaces</td>\n",
              "      <td>NaN</td>\n",
              "      <td>44.0</td>\n",
              "      <td>0</td>\n",
              "      <td>Complete with certificate of authenticity</td>\n",
              "    </tr>\n",
              "  </tbody>\n",
              "</table>\n",
              "</div>"
            ],
            "text/plain": [
              "   train_id  ...                                   item_description\n",
              "0         0  ...                                 No description yet\n",
              "1         1  ...  This keyboard is in great condition and works ...\n",
              "2         2  ...  Adorable top with a hint of lace and a key hol...\n",
              "3         3  ...  New with tags. Leather horses. Retail for [rm]...\n",
              "4         4  ...          Complete with certificate of authenticity\n",
              "\n",
              "[5 rows x 8 columns]"
            ]
          },
          "metadata": {
            "tags": []
          },
          "execution_count": 149
        }
      ]
    },
    {
      "cell_type": "code",
      "metadata": {
        "trusted": true,
        "id": "cu6fT1S-ZLB0"
      },
      "source": [
        "train_data.drop(\"train_id\", axis=1, inplace=True)"
      ],
      "execution_count": null,
      "outputs": []
    },
    {
      "cell_type": "markdown",
      "metadata": {
        "id": "EXvIGgaPZLB4"
      },
      "source": [
        "1482535 record"
      ]
    },
    {
      "cell_type": "markdown",
      "metadata": {
        "id": "dZAd4byeZLB5"
      },
      "source": [
        "# Data exploration and EDA"
      ]
    },
    {
      "cell_type": "markdown",
      "metadata": {
        "id": "IBtB3EzCj-VL"
      },
      "source": [
        "## Explore columns"
      ]
    },
    {
      "cell_type": "code",
      "metadata": {
        "colab": {
          "base_uri": "https://localhost:8080/"
        },
        "id": "yTFSQ4puj_xq",
        "outputId": "f7952c41-e962-41a7-c1b1-17a9e5f65f66"
      },
      "source": [
        "train_data[\"price\"].describe()"
      ],
      "execution_count": null,
      "outputs": [
        {
          "output_type": "execute_result",
          "data": {
            "text/plain": [
              "count    1.482535e+06\n",
              "mean     2.673752e+01\n",
              "std      3.858607e+01\n",
              "min      0.000000e+00\n",
              "25%      1.000000e+01\n",
              "50%      1.700000e+01\n",
              "75%      2.900000e+01\n",
              "max      2.009000e+03\n",
              "Name: price, dtype: float64"
            ]
          },
          "metadata": {
            "tags": []
          },
          "execution_count": 151
        }
      ]
    },
    {
      "cell_type": "code",
      "metadata": {
        "colab": {
          "base_uri": "https://localhost:8080/",
          "height": 615
        },
        "id": "sNtQscFvk60h",
        "outputId": "0642738b-62b4-4721-f191-468cf8a72175"
      },
      "source": [
        "train_data[train_data[\"price\"]==0]"
      ],
      "execution_count": null,
      "outputs": [
        {
          "output_type": "execute_result",
          "data": {
            "text/html": [
              "<div>\n",
              "<style scoped>\n",
              "    .dataframe tbody tr th:only-of-type {\n",
              "        vertical-align: middle;\n",
              "    }\n",
              "\n",
              "    .dataframe tbody tr th {\n",
              "        vertical-align: top;\n",
              "    }\n",
              "\n",
              "    .dataframe thead th {\n",
              "        text-align: right;\n",
              "    }\n",
              "</style>\n",
              "<table border=\"1\" class=\"dataframe\">\n",
              "  <thead>\n",
              "    <tr style=\"text-align: right;\">\n",
              "      <th></th>\n",
              "      <th>name</th>\n",
              "      <th>item_condition_id</th>\n",
              "      <th>category_name</th>\n",
              "      <th>brand_name</th>\n",
              "      <th>price</th>\n",
              "      <th>shipping</th>\n",
              "      <th>item_description</th>\n",
              "    </tr>\n",
              "  </thead>\n",
              "  <tbody>\n",
              "    <tr>\n",
              "      <th>1325</th>\n",
              "      <td>Alabama Crimson Tide Quality Lanyard</td>\n",
              "      <td>1</td>\n",
              "      <td>Sports &amp; Outdoors/Fan Shop/NCAA</td>\n",
              "      <td>NaN</td>\n",
              "      <td>0.0</td>\n",
              "      <td>1</td>\n",
              "      <td>TOP QUALITY THICK LANYARD Reversible sides wit...</td>\n",
              "    </tr>\n",
              "    <tr>\n",
              "      <th>2544</th>\n",
              "      <td>Levi leggings</td>\n",
              "      <td>3</td>\n",
              "      <td>Women/Jeans/Slim, Skinny</td>\n",
              "      <td>Levi's®</td>\n",
              "      <td>0.0</td>\n",
              "      <td>0</td>\n",
              "      <td>Light wash. Hardly worn. Size 24 but fits like...</td>\n",
              "    </tr>\n",
              "    <tr>\n",
              "      <th>2712</th>\n",
              "      <td>Simple Red Lace Lingerie Top</td>\n",
              "      <td>3</td>\n",
              "      <td>Women/Underwear/G-Strings &amp; Thongs</td>\n",
              "      <td>NaN</td>\n",
              "      <td>0.0</td>\n",
              "      <td>0</td>\n",
              "      <td>Very simple but cute, a little form fitting as...</td>\n",
              "    </tr>\n",
              "    <tr>\n",
              "      <th>3576</th>\n",
              "      <td>Turquoise 15 Pc Makeup Brush Set</td>\n",
              "      <td>1</td>\n",
              "      <td>Beauty/Tools &amp; Accessories/Makeup Brushes &amp; Tools</td>\n",
              "      <td>NaN</td>\n",
              "      <td>0.0</td>\n",
              "      <td>1</td>\n",
              "      <td>1 left!</td>\n",
              "    </tr>\n",
              "    <tr>\n",
              "      <th>3761</th>\n",
              "      <td>Girls size 7/8</td>\n",
              "      <td>3</td>\n",
              "      <td>Kids/Girls (4+)/Tops &amp; T-Shirts</td>\n",
              "      <td>NaN</td>\n",
              "      <td>0.0</td>\n",
              "      <td>1</td>\n",
              "      <td>5 pair gap jean excellent used condition 3 chi...</td>\n",
              "    </tr>\n",
              "    <tr>\n",
              "      <th>...</th>\n",
              "      <td>...</td>\n",
              "      <td>...</td>\n",
              "      <td>...</td>\n",
              "      <td>...</td>\n",
              "      <td>...</td>\n",
              "      <td>...</td>\n",
              "      <td>...</td>\n",
              "    </tr>\n",
              "    <tr>\n",
              "      <th>1474172</th>\n",
              "      <td>Homecoming or Dama ivory dress</td>\n",
              "      <td>2</td>\n",
              "      <td>Women/Dresses/Above Knee, Mini</td>\n",
              "      <td>NaN</td>\n",
              "      <td>0.0</td>\n",
              "      <td>0</td>\n",
              "      <td>Ivory formal dress. I wore this dress once for...</td>\n",
              "    </tr>\n",
              "    <tr>\n",
              "      <th>1474198</th>\n",
              "      <td>Tie up flannel top</td>\n",
              "      <td>3</td>\n",
              "      <td>Women/Tops &amp; Blouses/Blouse</td>\n",
              "      <td>NaN</td>\n",
              "      <td>0.0</td>\n",
              "      <td>1</td>\n",
              "      <td>I got this last year and just didnt wear it mu...</td>\n",
              "    </tr>\n",
              "    <tr>\n",
              "      <th>1477958</th>\n",
              "      <td>Rae Dunn Measuring Pear</td>\n",
              "      <td>3</td>\n",
              "      <td>Home/Home Décor/Home Décor Accents</td>\n",
              "      <td>NaN</td>\n",
              "      <td>0.0</td>\n",
              "      <td>0</td>\n",
              "      <td>The dash lid appears it was dropped and a piec...</td>\n",
              "    </tr>\n",
              "    <tr>\n",
              "      <th>1478519</th>\n",
              "      <td>4 pairs women's wool boots socks</td>\n",
              "      <td>1</td>\n",
              "      <td>Women/Shoes/Boots</td>\n",
              "      <td>NaN</td>\n",
              "      <td>0.0</td>\n",
              "      <td>1</td>\n",
              "      <td>✔️SHARE YOUR SOCKS WITH FRIENDS AND FAMILY! ✔️...</td>\n",
              "    </tr>\n",
              "    <tr>\n",
              "      <th>1478813</th>\n",
              "      <td>New Braven HD Waterprf Wireless</td>\n",
              "      <td>1</td>\n",
              "      <td>Electronics/TV, Audio &amp; Surveillance/Home Spea...</td>\n",
              "      <td>NaN</td>\n",
              "      <td>0.0</td>\n",
              "      <td>0</td>\n",
              "      <td>The BRV-1 gives action sports and outdoor enth...</td>\n",
              "    </tr>\n",
              "  </tbody>\n",
              "</table>\n",
              "<p>874 rows × 7 columns</p>\n",
              "</div>"
            ],
            "text/plain": [
              "                                         name  ...                                   item_description\n",
              "1325     Alabama Crimson Tide Quality Lanyard  ...  TOP QUALITY THICK LANYARD Reversible sides wit...\n",
              "2544                            Levi leggings  ...  Light wash. Hardly worn. Size 24 but fits like...\n",
              "2712             Simple Red Lace Lingerie Top  ...  Very simple but cute, a little form fitting as...\n",
              "3576         Turquoise 15 Pc Makeup Brush Set  ...                                            1 left!\n",
              "3761                           Girls size 7/8  ...  5 pair gap jean excellent used condition 3 chi...\n",
              "...                                       ...  ...                                                ...\n",
              "1474172        Homecoming or Dama ivory dress  ...  Ivory formal dress. I wore this dress once for...\n",
              "1474198                    Tie up flannel top  ...  I got this last year and just didnt wear it mu...\n",
              "1477958               Rae Dunn Measuring Pear  ...  The dash lid appears it was dropped and a piec...\n",
              "1478519      4 pairs women's wool boots socks  ...  ✔️SHARE YOUR SOCKS WITH FRIENDS AND FAMILY! ✔️...\n",
              "1478813       New Braven HD Waterprf Wireless  ...  The BRV-1 gives action sports and outdoor enth...\n",
              "\n",
              "[874 rows x 7 columns]"
            ]
          },
          "metadata": {
            "tags": []
          },
          "execution_count": 152
        }
      ]
    },
    {
      "cell_type": "code",
      "metadata": {
        "id": "u-aD74GalKHY"
      },
      "source": [
        "train_data.drop(train_data[train_data[\"price\"]==0].index, inplace=True)"
      ],
      "execution_count": null,
      "outputs": []
    },
    {
      "cell_type": "code",
      "metadata": {
        "colab": {
          "base_uri": "https://localhost:8080/",
          "height": 597
        },
        "id": "YRne5DBelnnh",
        "outputId": "10825d18-f77c-4a04-805b-c84f77b6bc66"
      },
      "source": [
        "train_data"
      ],
      "execution_count": null,
      "outputs": [
        {
          "output_type": "execute_result",
          "data": {
            "text/html": [
              "<div>\n",
              "<style scoped>\n",
              "    .dataframe tbody tr th:only-of-type {\n",
              "        vertical-align: middle;\n",
              "    }\n",
              "\n",
              "    .dataframe tbody tr th {\n",
              "        vertical-align: top;\n",
              "    }\n",
              "\n",
              "    .dataframe thead th {\n",
              "        text-align: right;\n",
              "    }\n",
              "</style>\n",
              "<table border=\"1\" class=\"dataframe\">\n",
              "  <thead>\n",
              "    <tr style=\"text-align: right;\">\n",
              "      <th></th>\n",
              "      <th>name</th>\n",
              "      <th>item_condition_id</th>\n",
              "      <th>category_name</th>\n",
              "      <th>brand_name</th>\n",
              "      <th>price</th>\n",
              "      <th>shipping</th>\n",
              "      <th>item_description</th>\n",
              "    </tr>\n",
              "  </thead>\n",
              "  <tbody>\n",
              "    <tr>\n",
              "      <th>0</th>\n",
              "      <td>MLB Cincinnati Reds T Shirt Size XL</td>\n",
              "      <td>3</td>\n",
              "      <td>Men/Tops/T-shirts</td>\n",
              "      <td>NaN</td>\n",
              "      <td>10.0</td>\n",
              "      <td>1</td>\n",
              "      <td>No description yet</td>\n",
              "    </tr>\n",
              "    <tr>\n",
              "      <th>1</th>\n",
              "      <td>Razer BlackWidow Chroma Keyboard</td>\n",
              "      <td>3</td>\n",
              "      <td>Electronics/Computers &amp; Tablets/Components &amp; P...</td>\n",
              "      <td>Razer</td>\n",
              "      <td>52.0</td>\n",
              "      <td>0</td>\n",
              "      <td>This keyboard is in great condition and works ...</td>\n",
              "    </tr>\n",
              "    <tr>\n",
              "      <th>2</th>\n",
              "      <td>AVA-VIV Blouse</td>\n",
              "      <td>1</td>\n",
              "      <td>Women/Tops &amp; Blouses/Blouse</td>\n",
              "      <td>Target</td>\n",
              "      <td>10.0</td>\n",
              "      <td>1</td>\n",
              "      <td>Adorable top with a hint of lace and a key hol...</td>\n",
              "    </tr>\n",
              "    <tr>\n",
              "      <th>3</th>\n",
              "      <td>Leather Horse Statues</td>\n",
              "      <td>1</td>\n",
              "      <td>Home/Home Décor/Home Décor Accents</td>\n",
              "      <td>NaN</td>\n",
              "      <td>35.0</td>\n",
              "      <td>1</td>\n",
              "      <td>New with tags. Leather horses. Retail for [rm]...</td>\n",
              "    </tr>\n",
              "    <tr>\n",
              "      <th>4</th>\n",
              "      <td>24K GOLD plated rose</td>\n",
              "      <td>1</td>\n",
              "      <td>Women/Jewelry/Necklaces</td>\n",
              "      <td>NaN</td>\n",
              "      <td>44.0</td>\n",
              "      <td>0</td>\n",
              "      <td>Complete with certificate of authenticity</td>\n",
              "    </tr>\n",
              "    <tr>\n",
              "      <th>...</th>\n",
              "      <td>...</td>\n",
              "      <td>...</td>\n",
              "      <td>...</td>\n",
              "      <td>...</td>\n",
              "      <td>...</td>\n",
              "      <td>...</td>\n",
              "      <td>...</td>\n",
              "    </tr>\n",
              "    <tr>\n",
              "      <th>1482530</th>\n",
              "      <td>Free People Inspired Dress</td>\n",
              "      <td>2</td>\n",
              "      <td>Women/Dresses/Mid-Calf</td>\n",
              "      <td>Free People</td>\n",
              "      <td>20.0</td>\n",
              "      <td>1</td>\n",
              "      <td>Lace, says size small but fits medium perfectl...</td>\n",
              "    </tr>\n",
              "    <tr>\n",
              "      <th>1482531</th>\n",
              "      <td>Little mermaid handmade dress</td>\n",
              "      <td>2</td>\n",
              "      <td>Kids/Girls 2T-5T/Dresses</td>\n",
              "      <td>Disney</td>\n",
              "      <td>14.0</td>\n",
              "      <td>0</td>\n",
              "      <td>Little mermaid handmade dress never worn size 2t</td>\n",
              "    </tr>\n",
              "    <tr>\n",
              "      <th>1482532</th>\n",
              "      <td>21 day fix containers and eating plan</td>\n",
              "      <td>2</td>\n",
              "      <td>Sports &amp; Outdoors/Exercise/Fitness accessories</td>\n",
              "      <td>NaN</td>\n",
              "      <td>12.0</td>\n",
              "      <td>0</td>\n",
              "      <td>Used once or twice, still in great shape.</td>\n",
              "    </tr>\n",
              "    <tr>\n",
              "      <th>1482533</th>\n",
              "      <td>World markets lanterns</td>\n",
              "      <td>3</td>\n",
              "      <td>Home/Home Décor/Home Décor Accents</td>\n",
              "      <td>NaN</td>\n",
              "      <td>45.0</td>\n",
              "      <td>1</td>\n",
              "      <td>There is 2 of each one that you see! So 2 red ...</td>\n",
              "    </tr>\n",
              "    <tr>\n",
              "      <th>1482534</th>\n",
              "      <td>Brand new lux de ville wallet</td>\n",
              "      <td>1</td>\n",
              "      <td>Women/Women's Accessories/Wallets</td>\n",
              "      <td>NaN</td>\n",
              "      <td>22.0</td>\n",
              "      <td>0</td>\n",
              "      <td>New with tag, red with sparkle. Firm price, no...</td>\n",
              "    </tr>\n",
              "  </tbody>\n",
              "</table>\n",
              "<p>1481661 rows × 7 columns</p>\n",
              "</div>"
            ],
            "text/plain": [
              "                                          name  ...                                   item_description\n",
              "0          MLB Cincinnati Reds T Shirt Size XL  ...                                 No description yet\n",
              "1             Razer BlackWidow Chroma Keyboard  ...  This keyboard is in great condition and works ...\n",
              "2                               AVA-VIV Blouse  ...  Adorable top with a hint of lace and a key hol...\n",
              "3                        Leather Horse Statues  ...  New with tags. Leather horses. Retail for [rm]...\n",
              "4                         24K GOLD plated rose  ...          Complete with certificate of authenticity\n",
              "...                                        ...  ...                                                ...\n",
              "1482530             Free People Inspired Dress  ...  Lace, says size small but fits medium perfectl...\n",
              "1482531          Little mermaid handmade dress  ...   Little mermaid handmade dress never worn size 2t\n",
              "1482532  21 day fix containers and eating plan  ...          Used once or twice, still in great shape.\n",
              "1482533                 World markets lanterns  ...  There is 2 of each one that you see! So 2 red ...\n",
              "1482534          Brand new lux de ville wallet  ...  New with tag, red with sparkle. Firm price, no...\n",
              "\n",
              "[1481661 rows x 7 columns]"
            ]
          },
          "metadata": {
            "tags": []
          },
          "execution_count": 154
        }
      ]
    },
    {
      "cell_type": "markdown",
      "metadata": {
        "id": "dbw8j2LKZLB6"
      },
      "source": [
        "## Data Cleaning"
      ]
    },
    {
      "cell_type": "markdown",
      "metadata": {
        "id": "SS3hE5QfZLB7"
      },
      "source": [
        "### Duplicates"
      ]
    },
    {
      "cell_type": "markdown",
      "metadata": {
        "id": "aEcJzpN7ZLB7"
      },
      "source": [
        "Print  duplicates(always a  good  practice)"
      ]
    },
    {
      "cell_type": "code",
      "metadata": {
        "trusted": true,
        "id": "g3qPxKe_ZLB7",
        "colab": {
          "base_uri": "https://localhost:8080/",
          "height": 615
        },
        "outputId": "8b7fc1b4-f9eb-42ae-dcaa-fa553a5c3d73"
      },
      "source": [
        "train_data[train_data.duplicated(keep=False)].reset_index()"
      ],
      "execution_count": null,
      "outputs": [
        {
          "output_type": "execute_result",
          "data": {
            "text/html": [
              "<div>\n",
              "<style scoped>\n",
              "    .dataframe tbody tr th:only-of-type {\n",
              "        vertical-align: middle;\n",
              "    }\n",
              "\n",
              "    .dataframe tbody tr th {\n",
              "        vertical-align: top;\n",
              "    }\n",
              "\n",
              "    .dataframe thead th {\n",
              "        text-align: right;\n",
              "    }\n",
              "</style>\n",
              "<table border=\"1\" class=\"dataframe\">\n",
              "  <thead>\n",
              "    <tr style=\"text-align: right;\">\n",
              "      <th></th>\n",
              "      <th>index</th>\n",
              "      <th>name</th>\n",
              "      <th>item_condition_id</th>\n",
              "      <th>category_name</th>\n",
              "      <th>brand_name</th>\n",
              "      <th>price</th>\n",
              "      <th>shipping</th>\n",
              "      <th>item_description</th>\n",
              "    </tr>\n",
              "  </thead>\n",
              "  <tbody>\n",
              "    <tr>\n",
              "      <th>0</th>\n",
              "      <td>2773</td>\n",
              "      <td>100 Shipping Labels</td>\n",
              "      <td>1</td>\n",
              "      <td>Other/Office supplies/Shipping Supplies</td>\n",
              "      <td>NaN</td>\n",
              "      <td>12.0</td>\n",
              "      <td>0</td>\n",
              "      <td>Save time and say goodbye to cutting and tapin...</td>\n",
              "    </tr>\n",
              "    <tr>\n",
              "      <th>1</th>\n",
              "      <td>30744</td>\n",
              "      <td>Kanye Drake T-Shirt</td>\n",
              "      <td>1</td>\n",
              "      <td>Men/Tops/T-shirts</td>\n",
              "      <td>NaN</td>\n",
              "      <td>12.0</td>\n",
              "      <td>1</td>\n",
              "      <td>Items are priced to sell and prices are firm. ...</td>\n",
              "    </tr>\n",
              "    <tr>\n",
              "      <th>2</th>\n",
              "      <td>58040</td>\n",
              "      <td>NWT Boho Black Lace Caged Bralette Small</td>\n",
              "      <td>1</td>\n",
              "      <td>Women/Tops &amp; Blouses/Tank, Cami</td>\n",
              "      <td>NaN</td>\n",
              "      <td>14.0</td>\n",
              "      <td>1</td>\n",
              "      <td>Brand new! Size small. Straps are adjustable! ...</td>\n",
              "    </tr>\n",
              "    <tr>\n",
              "      <th>3</th>\n",
              "      <td>61315</td>\n",
              "      <td>NIB Urban Decay Ink for Eyes Eyeliner</td>\n",
              "      <td>1</td>\n",
              "      <td>Beauty/Makeup/Eyes</td>\n",
              "      <td>Urban Decay</td>\n",
              "      <td>14.0</td>\n",
              "      <td>1</td>\n",
              "      <td>New in box, never used waterproof Urban Decay ...</td>\n",
              "    </tr>\n",
              "    <tr>\n",
              "      <th>4</th>\n",
              "      <td>63859</td>\n",
              "      <td>SPECIAL!❤Brilliant Blue+Gemstone Green❤</td>\n",
              "      <td>1</td>\n",
              "      <td>Beauty/Makeup/Eyes</td>\n",
              "      <td>NaN</td>\n",
              "      <td>20.0</td>\n",
              "      <td>1</td>\n",
              "      <td>❤BUNDLE!!❤ BRILLIANT BLUE &amp; GEMSTONE GREEN 2 P...</td>\n",
              "    </tr>\n",
              "    <tr>\n",
              "      <th>...</th>\n",
              "      <td>...</td>\n",
              "      <td>...</td>\n",
              "      <td>...</td>\n",
              "      <td>...</td>\n",
              "      <td>...</td>\n",
              "      <td>...</td>\n",
              "      <td>...</td>\n",
              "      <td>...</td>\n",
              "    </tr>\n",
              "    <tr>\n",
              "      <th>93</th>\n",
              "      <td>1426457</td>\n",
              "      <td>Starbucks Verona 54ct Kcups (pack of 2)</td>\n",
              "      <td>1</td>\n",
              "      <td>Home/Kitchen &amp; Dining/Coffee &amp; Tea Accessories</td>\n",
              "      <td>Starbucks</td>\n",
              "      <td>29.0</td>\n",
              "      <td>1</td>\n",
              "      <td>TOTAL OF 108 KCUPS!! These Starbucks Verona Da...</td>\n",
              "    </tr>\n",
              "    <tr>\n",
              "      <th>94</th>\n",
              "      <td>1437295</td>\n",
              "      <td>Kanye Drake T-Shirt</td>\n",
              "      <td>1</td>\n",
              "      <td>Men/Tops/T-shirts</td>\n",
              "      <td>NaN</td>\n",
              "      <td>12.0</td>\n",
              "      <td>1</td>\n",
              "      <td>Items are priced to sell and prices are firm. ...</td>\n",
              "    </tr>\n",
              "    <tr>\n",
              "      <th>95</th>\n",
              "      <td>1437860</td>\n",
              "      <td>ESPRESSO L.A. Girl HD Pro Concealer</td>\n",
              "      <td>1</td>\n",
              "      <td>Beauty/Makeup/Face</td>\n",
              "      <td>NaN</td>\n",
              "      <td>6.0</td>\n",
              "      <td>1</td>\n",
              "      <td>L.A. Girl HD Pro Concealer [rm] for 1 [rm] for...</td>\n",
              "    </tr>\n",
              "    <tr>\n",
              "      <th>96</th>\n",
              "      <td>1439739</td>\n",
              "      <td>Organic Turmeric Curcumin BioPerine 120</td>\n",
              "      <td>1</td>\n",
              "      <td>Other/Daily &amp; Travel items/Health Care</td>\n",
              "      <td>NaN</td>\n",
              "      <td>12.0</td>\n",
              "      <td>1</td>\n",
              "      <td>✭✭✭ PRICED FOR QUICK SALE!!! ✭✭✭ ✭✭ PRICED FOR...</td>\n",
              "    </tr>\n",
              "    <tr>\n",
              "      <th>97</th>\n",
              "      <td>1475981</td>\n",
              "      <td>NWT LuLaRoe TC Leggings [rm]</td>\n",
              "      <td>1</td>\n",
              "      <td>Women/Athletic Apparel/Pants, Tights, Leggings</td>\n",
              "      <td>NaN</td>\n",
              "      <td>18.0</td>\n",
              "      <td>1</td>\n",
              "      <td>Free Shipping</td>\n",
              "    </tr>\n",
              "  </tbody>\n",
              "</table>\n",
              "<p>98 rows × 8 columns</p>\n",
              "</div>"
            ],
            "text/plain": [
              "      index  ...                                   item_description\n",
              "0      2773  ...  Save time and say goodbye to cutting and tapin...\n",
              "1     30744  ...  Items are priced to sell and prices are firm. ...\n",
              "2     58040  ...  Brand new! Size small. Straps are adjustable! ...\n",
              "3     61315  ...  New in box, never used waterproof Urban Decay ...\n",
              "4     63859  ...  ❤BUNDLE!!❤ BRILLIANT BLUE & GEMSTONE GREEN 2 P...\n",
              "..      ...  ...                                                ...\n",
              "93  1426457  ...  TOTAL OF 108 KCUPS!! These Starbucks Verona Da...\n",
              "94  1437295  ...  Items are priced to sell and prices are firm. ...\n",
              "95  1437860  ...  L.A. Girl HD Pro Concealer [rm] for 1 [rm] for...\n",
              "96  1439739  ...  ✭✭✭ PRICED FOR QUICK SALE!!! ✭✭✭ ✭✭ PRICED FOR...\n",
              "97  1475981  ...                                      Free Shipping\n",
              "\n",
              "[98 rows x 8 columns]"
            ]
          },
          "metadata": {
            "tags": []
          },
          "execution_count": 155
        }
      ]
    },
    {
      "cell_type": "code",
      "metadata": {
        "trusted": true,
        "id": "rILXIMwRZLB9"
      },
      "source": [
        "\n",
        "train_data.drop_duplicates(keep=\"first\",inplace=True)"
      ],
      "execution_count": null,
      "outputs": []
    },
    {
      "cell_type": "code",
      "metadata": {
        "trusted": true,
        "colab": {
          "base_uri": "https://localhost:8080/"
        },
        "id": "H5s8AByVZLB-",
        "outputId": "38311c60-e4cb-4b2c-dc52-2bc0cdcbafcb"
      },
      "source": [
        "train_data.shape"
      ],
      "execution_count": null,
      "outputs": [
        {
          "output_type": "execute_result",
          "data": {
            "text/plain": [
              "(1481612, 7)"
            ]
          },
          "metadata": {
            "tags": []
          },
          "execution_count": 157
        }
      ]
    },
    {
      "cell_type": "markdown",
      "metadata": {
        "id": "3qeMQylrZLB_"
      },
      "source": [
        "### Checknull values"
      ]
    },
    {
      "cell_type": "code",
      "metadata": {
        "trusted": true,
        "colab": {
          "base_uri": "https://localhost:8080/"
        },
        "id": "MaLTbWoXZLCA",
        "outputId": "3f1df450-114d-4920-d95d-9f04f5696494"
      },
      "source": [
        "train_data.isnull().sum()/1482535"
      ],
      "execution_count": null,
      "outputs": [
        {
          "output_type": "execute_result",
          "data": {
            "text/plain": [
              "name                 0.000000\n",
              "item_condition_id    0.000000\n",
              "category_name        0.004259\n",
              "brand_name           0.426496\n",
              "price                0.000000\n",
              "shipping             0.000000\n",
              "item_description     0.000003\n",
              "dtype: float64"
            ]
          },
          "metadata": {
            "tags": []
          },
          "execution_count": 158
        }
      ]
    },
    {
      "cell_type": "code",
      "metadata": {
        "trusted": true,
        "colab": {
          "base_uri": "https://localhost:8080/"
        },
        "id": "jjkonMX1ZLCB",
        "outputId": "d5e4194c-8ae8-48f3-cdfe-bbe0eef649d8"
      },
      "source": [
        "1482535*(1-0.426757)"
      ],
      "execution_count": null,
      "outputs": [
        {
          "output_type": "execute_result",
          "data": {
            "text/plain": [
              "849852.8110049999"
            ]
          },
          "metadata": {
            "tags": []
          },
          "execution_count": 159
        }
      ]
    },
    {
      "cell_type": "markdown",
      "metadata": {
        "id": "Hkpxl73uZLCC"
      },
      "source": [
        "##  Since brand   is  a critical feature   in  predicting price, I decided to  take a sample from the data(where bbrand is  not nnnull):849852rows"
      ]
    },
    {
      "cell_type": "code",
      "metadata": {
        "trusted": true,
        "id": "DkBxvGr4ZLCE"
      },
      "source": [
        "train_data.dropna(inplace =True)"
      ],
      "execution_count": null,
      "outputs": []
    },
    {
      "cell_type": "code",
      "metadata": {
        "id": "t4Poirx1rIkK"
      },
      "source": [
        ""
      ],
      "execution_count": null,
      "outputs": []
    },
    {
      "cell_type": "markdown",
      "metadata": {
        "id": "Xdnndf3nZLCD"
      },
      "source": [
        "# Better    ways  to fill null"
      ]
    },
    {
      "cell_type": "markdown",
      "metadata": {
        "id": "XuQOAM0mZLCE"
      },
      "source": [
        "Brand could be derived from the #name# column; in some products, it represents a part of the name. But we'll remain to our precious approach for now"
      ]
    },
    {
      "cell_type": "code",
      "metadata": {
        "trusted": true,
        "colab": {
          "base_uri": "https://localhost:8080/"
        },
        "id": "KFU6n_qpZLCF",
        "outputId": "c207baf2-b40c-48ec-ca6b-2efa81675e73"
      },
      "source": [
        "train_data.isnull().sum()/1482535"
      ],
      "execution_count": null,
      "outputs": [
        {
          "output_type": "execute_result",
          "data": {
            "text/plain": [
              "name                 0.0\n",
              "item_condition_id    0.0\n",
              "category_name        0.0\n",
              "brand_name           0.0\n",
              "price                0.0\n",
              "shipping             0.0\n",
              "item_description     0.0\n",
              "dtype: float64"
            ]
          },
          "metadata": {
            "tags": []
          },
          "execution_count": 161
        }
      ]
    },
    {
      "cell_type": "markdown",
      "metadata": {
        "id": "meAkLBH4ZLCG"
      },
      "source": [
        ""
      ]
    },
    {
      "cell_type": "markdown",
      "metadata": {
        "id": "0azGE9jIZLCG"
      },
      "source": [
        "# Visualize the output variable"
      ]
    },
    {
      "cell_type": "code",
      "metadata": {
        "trusted": true,
        "colab": {
          "base_uri": "https://localhost:8080/",
          "height": 313
        },
        "id": "lZYYU0HBZLCG",
        "outputId": "cd2542e7-e85a-4777-e1b1-8f5599a4dbae"
      },
      "source": [
        "\n",
        "#choosing a range of price for clearer visualization\n",
        "n,  bins,  batches=plt.hist(x= train_data[\"price\"], bins = \"auto\", color = '#0504aa',range=[0,250])\n",
        "plt.grid(axis=\"y\")\n",
        "plt.xlabel(\"Price\")\n",
        "plt.ylabel(\"count\")\n",
        "plt.title(\"price distribution\")"
      ],
      "execution_count": null,
      "outputs": [
        {
          "output_type": "execute_result",
          "data": {
            "text/plain": [
              "Text(0.5, 1.0, 'price distribution')"
            ]
          },
          "metadata": {
            "tags": []
          },
          "execution_count": 162
        },
        {
          "output_type": "display_data",
          "data": {
            "image/png": "[encoded data removed]",
            "text/plain": [
              "<Figure size 432x288 with 1 Axes>"
            ]
          },
          "metadata": {
            "tags": [],
            "needs_background": "light"
          }
        }
      ]
    },
    {
      "cell_type": "code",
      "metadata": {
        "trusted": true,
        "colab": {
          "base_uri": "https://localhost:8080/"
        },
        "id": "S6yjVkK_ZLCH",
        "outputId": "c4c645db-3a7f-4d1e-a778-8af628715c46"
      },
      "source": [
        "train_data[\"price\"].max()"
      ],
      "execution_count": null,
      "outputs": [
        {
          "output_type": "execute_result",
          "data": {
            "text/plain": [
              "2009.0"
            ]
          },
          "metadata": {
            "tags": []
          },
          "execution_count": 163
        }
      ]
    },
    {
      "cell_type": "markdown",
      "metadata": {
        "id": "qhILIvw2ZLCI"
      },
      "source": [
        "Clearly, price is right skewed>> take log(y)"
      ]
    },
    {
      "cell_type": "markdown",
      "metadata": {
        "id": "Fzt_lZjcZLCK"
      },
      "source": [
        "# Feature Extraction"
      ]
    },
    {
      "cell_type": "markdown",
      "metadata": {
        "id": "LtzfRENjZLCM"
      },
      "source": [
        "clearly,category_name is devided to:category,sub Category1,sub category2. Splitting them will help the model learn better."
      ]
    },
    {
      "cell_type": "code",
      "metadata": {
        "trusted": true,
        "id": "E_cG5HEvZLCM"
      },
      "source": [
        "#train_data[\"category_name\"][0].split(\"/\")"
      ],
      "execution_count": null,
      "outputs": []
    },
    {
      "cell_type": "code",
      "metadata": {
        "trusted": true,
        "id": "NVRIluUaZLCM"
      },
      "source": [
        "   \n",
        "def   split_cat(text):\n",
        "    try:\n",
        "        return  text.split(\"/\")\n",
        "    except:\n",
        "        return (\"No label, No label, No label\")"
      ],
      "execution_count": null,
      "outputs": []
    },
    {
      "cell_type": "code",
      "metadata": {
        "trusted": true,
        "id": "GqyMfN96ZLCN"
      },
      "source": [
        "train_data[\"general_cat\"], train_data[\"subcat_1\"],train_data[\"subcat_2\"]=\\\n",
        "zip(*train_data[\"category_name\"].apply(lambda  x: split_cat(x)))"
      ],
      "execution_count": null,
      "outputs": []
    },
    {
      "cell_type": "code",
      "metadata": {
        "trusted": true,
        "colab": {
          "base_uri": "https://localhost:8080/",
          "height": 397
        },
        "id": "9w_KQPKXZLCO",
        "outputId": "fba159a4-4ab7-4f16-b562-9c10bd61852b"
      },
      "source": [
        "train_data.head()"
      ],
      "execution_count": null,
      "outputs": [
        {
          "output_type": "execute_result",
          "data": {
            "text/html": [
              "<div>\n",
              "<style scoped>\n",
              "    .dataframe tbody tr th:only-of-type {\n",
              "        vertical-align: middle;\n",
              "    }\n",
              "\n",
              "    .dataframe tbody tr th {\n",
              "        vertical-align: top;\n",
              "    }\n",
              "\n",
              "    .dataframe thead th {\n",
              "        text-align: right;\n",
              "    }\n",
              "</style>\n",
              "<table border=\"1\" class=\"dataframe\">\n",
              "  <thead>\n",
              "    <tr style=\"text-align: right;\">\n",
              "      <th></th>\n",
              "      <th>name</th>\n",
              "      <th>item_condition_id</th>\n",
              "      <th>category_name</th>\n",
              "      <th>brand_name</th>\n",
              "      <th>price</th>\n",
              "      <th>shipping</th>\n",
              "      <th>item_description</th>\n",
              "      <th>general_cat</th>\n",
              "      <th>subcat_1</th>\n",
              "      <th>subcat_2</th>\n",
              "    </tr>\n",
              "  </thead>\n",
              "  <tbody>\n",
              "    <tr>\n",
              "      <th>1</th>\n",
              "      <td>Razer BlackWidow Chroma Keyboard</td>\n",
              "      <td>3</td>\n",
              "      <td>Electronics/Computers &amp; Tablets/Components &amp; P...</td>\n",
              "      <td>Razer</td>\n",
              "      <td>52.0</td>\n",
              "      <td>0</td>\n",
              "      <td>This keyboard is in great condition and works ...</td>\n",
              "      <td>Electronics</td>\n",
              "      <td>Computers &amp; Tablets</td>\n",
              "      <td>Components &amp; Parts</td>\n",
              "    </tr>\n",
              "    <tr>\n",
              "      <th>2</th>\n",
              "      <td>AVA-VIV Blouse</td>\n",
              "      <td>1</td>\n",
              "      <td>Women/Tops &amp; Blouses/Blouse</td>\n",
              "      <td>Target</td>\n",
              "      <td>10.0</td>\n",
              "      <td>1</td>\n",
              "      <td>Adorable top with a hint of lace and a key hol...</td>\n",
              "      <td>Women</td>\n",
              "      <td>Tops &amp; Blouses</td>\n",
              "      <td>Blouse</td>\n",
              "    </tr>\n",
              "    <tr>\n",
              "      <th>6</th>\n",
              "      <td>Acacia pacific tides santorini top</td>\n",
              "      <td>3</td>\n",
              "      <td>Women/Swimwear/Two-Piece</td>\n",
              "      <td>Acacia Swimwear</td>\n",
              "      <td>64.0</td>\n",
              "      <td>0</td>\n",
              "      <td>Size small but straps slightly shortened to fi...</td>\n",
              "      <td>Women</td>\n",
              "      <td>Swimwear</td>\n",
              "      <td>Two-Piece</td>\n",
              "    </tr>\n",
              "    <tr>\n",
              "      <th>7</th>\n",
              "      <td>Girls cheer and tumbling bundle of 7</td>\n",
              "      <td>3</td>\n",
              "      <td>Sports &amp; Outdoors/Apparel/Girls</td>\n",
              "      <td>Soffe</td>\n",
              "      <td>6.0</td>\n",
              "      <td>1</td>\n",
              "      <td>You get three pairs of Sophie cheer shorts siz...</td>\n",
              "      <td>Sports &amp; Outdoors</td>\n",
              "      <td>Apparel</td>\n",
              "      <td>Girls</td>\n",
              "    </tr>\n",
              "    <tr>\n",
              "      <th>8</th>\n",
              "      <td>Girls Nike Pro shorts</td>\n",
              "      <td>3</td>\n",
              "      <td>Sports &amp; Outdoors/Apparel/Girls</td>\n",
              "      <td>Nike</td>\n",
              "      <td>19.0</td>\n",
              "      <td>0</td>\n",
              "      <td>Girls Size small Plus green. Three shorts total.</td>\n",
              "      <td>Sports &amp; Outdoors</td>\n",
              "      <td>Apparel</td>\n",
              "      <td>Girls</td>\n",
              "    </tr>\n",
              "  </tbody>\n",
              "</table>\n",
              "</div>"
            ],
            "text/plain": [
              "                                   name  ...            subcat_2\n",
              "1      Razer BlackWidow Chroma Keyboard  ...  Components & Parts\n",
              "2                        AVA-VIV Blouse  ...              Blouse\n",
              "6    Acacia pacific tides santorini top  ...           Two-Piece\n",
              "7  Girls cheer and tumbling bundle of 7  ...               Girls\n",
              "8                 Girls Nike Pro shorts  ...               Girls\n",
              "\n",
              "[5 rows x 10 columns]"
            ]
          },
          "metadata": {
            "tags": []
          },
          "execution_count": 167
        }
      ]
    },
    {
      "cell_type": "code",
      "metadata": {
        "trusted": true,
        "id": "4NODW-41ZLCO",
        "colab": {
          "base_uri": "https://localhost:8080/"
        },
        "outputId": "a170e612-5788-4ac2-de72-838a4d6027db"
      },
      "source": [
        "train_data.isnull().sum()"
      ],
      "execution_count": null,
      "outputs": [
        {
          "output_type": "execute_result",
          "data": {
            "text/plain": [
              "name                 0\n",
              "item_condition_id    0\n",
              "category_name        0\n",
              "brand_name           0\n",
              "price                0\n",
              "shipping             0\n",
              "item_description     0\n",
              "general_cat          0\n",
              "subcat_1             0\n",
              "subcat_2             0\n",
              "dtype: int64"
            ]
          },
          "metadata": {
            "tags": []
          },
          "execution_count": 168
        }
      ]
    },
    {
      "cell_type": "code",
      "metadata": {
        "trusted": true,
        "id": "GxiDiDAWZLCQ"
      },
      "source": [
        "train_data.drop(\"category_name\", axis=1, inplace=True)"
      ],
      "execution_count": null,
      "outputs": []
    },
    {
      "cell_type": "code",
      "metadata": {
        "trusted": true,
        "id": "GAX-Tv55ZLCR"
      },
      "source": [
        "# merged_data=train_data.append(test_data)"
      ],
      "execution_count": null,
      "outputs": []
    },
    {
      "cell_type": "code",
      "metadata": {
        "id": "vXh5Y7ng4arv"
      },
      "source": [
        "# merged_data.drop([\"train_id\"],axis=1, inplace=True)\n",
        "# merged_data.drop(\"test_id\",axis=1, inplace=True)"
      ],
      "execution_count": null,
      "outputs": []
    },
    {
      "cell_type": "code",
      "metadata": {
        "trusted": true,
        "id": "rQ6CKFXmZLCR"
      },
      "source": [
        "# merged_data"
      ],
      "execution_count": null,
      "outputs": []
    },
    {
      "cell_type": "code",
      "metadata": {
        "trusted": true,
        "id": "8XFqgV69ZLCS"
      },
      "source": [
        "# merged_data.info()"
      ],
      "execution_count": null,
      "outputs": []
    },
    {
      "cell_type": "code",
      "metadata": {
        "trusted": true,
        "id": "aQptmi0kZLCT"
      },
      "source": [
        "# merged_data[\"category_name\"].value_counts()"
      ],
      "execution_count": null,
      "outputs": []
    },
    {
      "cell_type": "code",
      "metadata": {
        "trusted": true,
        "id": "wB9vVeM-ZLCT"
      },
      "source": [
        "# merged_data.describe()"
      ],
      "execution_count": null,
      "outputs": []
    },
    {
      "cell_type": "markdown",
      "metadata": {
        "id": "kmI0UCKlZLCU"
      },
      "source": [
        "Another quick way to get a feel of the type of data you are dealing with is to plot a histogram for each numerical attribute"
      ]
    },
    {
      "cell_type": "markdown",
      "metadata": {
        "id": "uzqSTYx3ZLCU"
      },
      "source": [
        "# Discover and visualize the data to gain insights"
      ]
    },
    {
      "cell_type": "markdown",
      "metadata": {
        "id": "cy-SYkd0ZLCV"
      },
      "source": [
        "So far you have only taken a quick glance at the data to get a general understanding of the kind of data you are manipulating. Now the goal is to go a little bit more in depth. First, make sure you have put the test set aside and you are only exploring the training set. Also, if the training set is very large, you may want to sample an exploration set, to make manipulations easy and fast. In our case, the set is quite small so you can just work directly on the full set. Let’s create a copy so you can play with it without harming the training set"
      ]
    },
    {
      "cell_type": "markdown",
      "metadata": {
        "id": "r-dk39pRyx-q"
      },
      "source": [
        "## Visualizing which words has the highest frequencies within each category"
      ]
    },
    {
      "cell_type": "markdown",
      "metadata": {
        "id": "eT1q7lVUzEVD"
      },
      "source": [
        "### using the package **WordCloud**"
      ]
    },
    {
      "cell_type": "markdown",
      "metadata": {
        "id": "ObGd5k-vy4mt"
      },
      "source": [
        "This was one of the most exciting things that I learned during this competition! It was inspired from this amazing kernel: https://www.kaggle.com/thykhuely/mercari-interactive-eda-topic-modelling\n"
      ]
    },
    {
      "cell_type": "code",
      "metadata": {
        "colab": {
          "base_uri": "https://localhost:8080/"
        },
        "id": "4V9t6umnzi_U",
        "outputId": "dfd5c0d4-110f-4cbe-bd64-b8d9e0ca9bc7"
      },
      "source": [
        "train_data[\"general_cat\"]"
      ],
      "execution_count": null,
      "outputs": [
        {
          "output_type": "execute_result",
          "data": {
            "text/plain": [
              "1                Electronics\n",
              "2                      Women\n",
              "6                      Women\n",
              "7          Sports & Outdoors\n",
              "8          Sports & Outdoors\n",
              "                 ...        \n",
              "1482525                Women\n",
              "1482528                Women\n",
              "1482529                  Men\n",
              "1482530                Women\n",
              "1482531                 Kids\n",
              "Name: general_cat, Length: 846453, dtype: object"
            ]
          },
          "metadata": {
            "tags": []
          },
          "execution_count": 239
        }
      ]
    },
    {
      "cell_type": "code",
      "metadata": {
        "colab": {
          "base_uri": "https://localhost:8080/"
        },
        "id": "7u6rOWzx0RvU",
        "outputId": "f03737aa-bfec-4aa2-f813-f5c5f8f367a0"
      },
      "source": [
        "import nltk\n",
        "nltk.download('punkt')"
      ],
      "execution_count": null,
      "outputs": [
        {
          "output_type": "stream",
          "text": [
            "[nltk_data] Downloading package punkt to /root/nltk_data...\n",
            "[nltk_data]   Unzipping tokenizers/punkt.zip.\n"
          ],
          "name": "stdout"
        },
        {
          "output_type": "execute_result",
          "data": {
            "text/plain": [
              "True"
            ]
          },
          "metadata": {
            "tags": []
          },
          "execution_count": 251
        }
      ]
    },
    {
      "cell_type": "code",
      "metadata": {
        "id": "3MkI_Odyz5yQ"
      },
      "source": [
        "from nltk.corpus import stopwords\n",
        "stop = set(stopwords.words('english'))\n",
        "def tokenize(text):\n",
        "    \"\"\"\n",
        "    sent_tokenize(): segment text into sentences\n",
        "    word_tokenize(): break sentences into words\n",
        "    \"\"\"\n",
        "    try: \n",
        "        regex = re.compile('[' +re.escape(string.punctuation) + '0-9\\\\r\\\\t\\\\n]')\n",
        "        text = regex.sub(\" \", text) # remove punctuation\n",
        "        \n",
        "        tokens_ = [word_tokenize(s) for s in sent_tokenize(text)]\n",
        "        tokens = []\n",
        "        for token_by_sent in tokens_:\n",
        "            tokens += token_by_sent\n",
        "        tokens = list(filter(lambda t: t.lower() not in stop, tokens))\n",
        "        filtered_tokens = [w for w in tokens if re.search('[a-zA-Z]', w)]\n",
        "        filtered_tokens = [w.lower() for w in filtered_tokens if len(w)>=3]\n",
        "        \n",
        "        return filtered_tokens\n",
        "            \n",
        "    except TypeError as e: print(text,e)"
      ],
      "execution_count": null,
      "outputs": []
    },
    {
      "cell_type": "code",
      "metadata": {
        "id": "ZoIZ0D2ny4AA"
      },
      "source": [
        "import re,string\n",
        "from nltk.tokenize import sent_tokenize, word_tokenize\n",
        "# build dictionary with key=category and values as all the descriptions related.\n",
        "cat_desc = dict()\n",
        "for cat in train_data[\"general_cat\"]: \n",
        "    text = \" \".join(train_data.loc[train_data['general_cat']==cat, 'item_description'].values)\n",
        "    cat_desc[cat] = tokenize(text)\n",
        "\n",
        "\n",
        "# find the most common words for the top 4 categories\n",
        "women100 = Counter(cat_desc['Women']).most_common(100)\n",
        "beauty100 = Counter(cat_desc['Beauty']).most_common(100)\n",
        "kids100 = Counter(cat_desc['Kids']).most_common(100)\n",
        "electronics100 = Counter(cat_desc['Electronics']).most_common(100)"
      ],
      "execution_count": null,
      "outputs": []
    },
    {
      "cell_type": "code",
      "metadata": {
        "id": "RKTGjaFs1aeR"
      },
      "source": [
        "from wordcloud import WordCloud, STOPWORDS, ImageColorGenerator\n",
        "\n",
        "\n",
        "def generate_wordcloud(tup):\n",
        "    wordcloud = WordCloud(background_color='white',\n",
        "                          max_words=50, max_font_size=40,\n",
        "                          random_state=42\n",
        "                         ).generate(str(tup))\n",
        "    return wordcloud\n",
        "\n",
        "generate_wordcloud(women100)"
      ],
      "execution_count": null,
      "outputs": []
    },
    {
      "cell_type": "code",
      "metadata": {
        "id": "5s8gKTbh03oD"
      },
      "source": [
        ""
      ],
      "execution_count": null,
      "outputs": []
    },
    {
      "cell_type": "code",
      "metadata": {
        "id": "a2Cf4R1S0VL1"
      },
      "source": [
        ""
      ],
      "execution_count": null,
      "outputs": []
    },
    {
      "cell_type": "markdown",
      "metadata": {
        "id": "0BM60k0ryzBE"
      },
      "source": [
        ""
      ]
    },
    {
      "cell_type": "code",
      "metadata": {
        "id": "e3_CVwJuyvD4"
      },
      "source": [
        ""
      ],
      "execution_count": null,
      "outputs": []
    },
    {
      "cell_type": "markdown",
      "metadata": {
        "id": "F9sRnGH9ZLCW"
      },
      "source": [
        "# Prepare the data for Machine Learning algorithms"
      ]
    },
    {
      "cell_type": "code",
      "metadata": {
        "trusted": true,
        "colab": {
          "base_uri": "https://localhost:8080/"
        },
        "id": "twRiogl2ZLCX",
        "outputId": "48afd8a4-d4e1-4786-b895-941ca40d4db2"
      },
      "source": [
        "train_data[\"item_condition_id\"].value_counts()"
      ],
      "execution_count": null,
      "outputs": [
        {
          "output_type": "execute_result",
          "data": {
            "text/plain": [
              "1    303563\n",
              "3    283419\n",
              "2    235842\n",
              "4     21938\n",
              "5      1691\n",
              "Name: item_condition_id, dtype: int64"
            ]
          },
          "metadata": {
            "tags": []
          },
          "execution_count": 176
        }
      ]
    },
    {
      "cell_type": "code",
      "metadata": {
        "trusted": true,
        "colab": {
          "base_uri": "https://localhost:8080/"
        },
        "id": "k-hD7jpxZLCX",
        "outputId": "0b0f40a8-663b-4ed7-dd09-27279a1184cd"
      },
      "source": [
        "train_data[\"shipping\"].value_counts()"
      ],
      "execution_count": null,
      "outputs": [
        {
          "output_type": "execute_result",
          "data": {
            "text/plain": [
              "0    517038\n",
              "1    329415\n",
              "Name: shipping, dtype: int64"
            ]
          },
          "metadata": {
            "tags": []
          },
          "execution_count": 177
        }
      ]
    },
    {
      "cell_type": "code",
      "metadata": {
        "trusted": true,
        "colab": {
          "base_uri": "https://localhost:8080/"
        },
        "id": "ml6xgrGIZLCY",
        "outputId": "d545ef13-af14-49f7-dc95-c578249ae0b4"
      },
      "source": [
        "len(train_data[\"brand_name\"].value_counts())\n"
      ],
      "execution_count": null,
      "outputs": [
        {
          "output_type": "execute_result",
          "data": {
            "text/plain": [
              "4789"
            ]
          },
          "metadata": {
            "tags": []
          },
          "execution_count": 178
        }
      ]
    },
    {
      "cell_type": "markdown",
      "metadata": {
        "id": "sN0tU_R4ZLCZ"
      },
      "source": [
        "brand name has 4791 unique values, 1-hot encoding it would bl"
      ]
    },
    {
      "cell_type": "code",
      "metadata": {
        "trusted": true,
        "colab": {
          "base_uri": "https://localhost:8080/"
        },
        "id": "imRvMrsWZLCZ",
        "outputId": "2c72d10c-e740-4b91-b64f-53f904b3753a"
      },
      "source": [
        "len(train_data[\"name\"].value_counts())\n"
      ],
      "execution_count": null,
      "outputs": [
        {
          "output_type": "execute_result",
          "data": {
            "text/plain": [
              "694736"
            ]
          },
          "metadata": {
            "tags": []
          },
          "execution_count": 179
        }
      ]
    },
    {
      "cell_type": "code",
      "metadata": {
        "trusted": true,
        "colab": {
          "base_uri": "https://localhost:8080/"
        },
        "id": "rqmeBwN4ZLCa",
        "outputId": "e19f6182-5f50-4e73-a976-056f4dc13ae4"
      },
      "source": [
        "len(train_data[\"subcat_1\"].value_counts())"
      ],
      "execution_count": null,
      "outputs": [
        {
          "output_type": "execute_result",
          "data": {
            "text/plain": [
              "104"
            ]
          },
          "metadata": {
            "tags": []
          },
          "execution_count": 180
        }
      ]
    },
    {
      "cell_type": "code",
      "metadata": {
        "trusted": true,
        "colab": {
          "base_uri": "https://localhost:8080/"
        },
        "id": "zAApocuiZLCa",
        "outputId": "3b304964-bdb1-4c5a-fa53-430ae0209303"
      },
      "source": [
        "len(train_data[\"subcat_2\"].value_counts())"
      ],
      "execution_count": null,
      "outputs": [
        {
          "output_type": "execute_result",
          "data": {
            "text/plain": [
              "669"
            ]
          },
          "metadata": {
            "tags": []
          },
          "execution_count": 181
        }
      ]
    },
    {
      "cell_type": "markdown",
      "metadata": {
        "id": "hD5zu7B2ZLCb"
      },
      "source": [
        "# data encodinnng"
      ]
    },
    {
      "cell_type": "markdown",
      "metadata": {
        "id": "UtM5owSaZLCc"
      },
      "source": [
        "1. name: Text>  BoW> countvectorizer\n",
        "\n",
        "2. item_description; Text>  TF-IDF\n",
        "\n",
        "3. general_cat; Text, categorical, not  ordinnal>>OHE\n",
        "\n",
        "subcat_1:Text, categorical, not  ordinnal>>OHE\n",
        "\n",
        "subcat_2:Text, categorical, not  ordinnal>>OHE\n",
        "4. brand_name; categorical, not  ordinnal>>OHE\n",
        "5. shipping; numerical, not  ordinnal>>  leave  as it is? (0's and 1's) >>   standard scaler\n",
        "\n",
        "7. item_condition_id:   numeric(categorical nature), ordinnal?   >>   standard scaler"
      ]
    },
    {
      "cell_type": "markdown",
      "metadata": {
        "id": "maq9dXt5ZLCc"
      },
      "source": [
        "**encode**  variabbles    seperately thenconcat"
      ]
    },
    {
      "cell_type": "code",
      "metadata": {
        "id": "xakSiqcWeJOg"
      },
      "source": [
        "y=np.log1p(train_data[\"price\"])"
      ],
      "execution_count": null,
      "outputs": []
    },
    {
      "cell_type": "code",
      "metadata": {
        "colab": {
          "base_uri": "https://localhost:8080/",
          "height": 293
        },
        "id": "Vy6x7KmQvULA",
        "outputId": "29f3c687-ec6a-4230-add5-b2548a237664"
      },
      "source": [
        "train_data.head()"
      ],
      "execution_count": null,
      "outputs": [
        {
          "output_type": "execute_result",
          "data": {
            "text/html": [
              "<div>\n",
              "<style scoped>\n",
              "    .dataframe tbody tr th:only-of-type {\n",
              "        vertical-align: middle;\n",
              "    }\n",
              "\n",
              "    .dataframe tbody tr th {\n",
              "        vertical-align: top;\n",
              "    }\n",
              "\n",
              "    .dataframe thead th {\n",
              "        text-align: right;\n",
              "    }\n",
              "</style>\n",
              "<table border=\"1\" class=\"dataframe\">\n",
              "  <thead>\n",
              "    <tr style=\"text-align: right;\">\n",
              "      <th></th>\n",
              "      <th>name</th>\n",
              "      <th>item_condition_id</th>\n",
              "      <th>brand_name</th>\n",
              "      <th>price</th>\n",
              "      <th>shipping</th>\n",
              "      <th>item_description</th>\n",
              "      <th>general_cat</th>\n",
              "      <th>subcat_1</th>\n",
              "      <th>subcat_2</th>\n",
              "    </tr>\n",
              "  </thead>\n",
              "  <tbody>\n",
              "    <tr>\n",
              "      <th>1</th>\n",
              "      <td>Razer BlackWidow Chroma Keyboard</td>\n",
              "      <td>3</td>\n",
              "      <td>Razer</td>\n",
              "      <td>52.0</td>\n",
              "      <td>0</td>\n",
              "      <td>This keyboard is in great condition and works ...</td>\n",
              "      <td>Electronics</td>\n",
              "      <td>Computers &amp; Tablets</td>\n",
              "      <td>Components &amp; Parts</td>\n",
              "    </tr>\n",
              "    <tr>\n",
              "      <th>2</th>\n",
              "      <td>AVA-VIV Blouse</td>\n",
              "      <td>1</td>\n",
              "      <td>Target</td>\n",
              "      <td>10.0</td>\n",
              "      <td>1</td>\n",
              "      <td>Adorable top with a hint of lace and a key hol...</td>\n",
              "      <td>Women</td>\n",
              "      <td>Tops &amp; Blouses</td>\n",
              "      <td>Blouse</td>\n",
              "    </tr>\n",
              "    <tr>\n",
              "      <th>6</th>\n",
              "      <td>Acacia pacific tides santorini top</td>\n",
              "      <td>3</td>\n",
              "      <td>Acacia Swimwear</td>\n",
              "      <td>64.0</td>\n",
              "      <td>0</td>\n",
              "      <td>Size small but straps slightly shortened to fi...</td>\n",
              "      <td>Women</td>\n",
              "      <td>Swimwear</td>\n",
              "      <td>Two-Piece</td>\n",
              "    </tr>\n",
              "    <tr>\n",
              "      <th>7</th>\n",
              "      <td>Girls cheer and tumbling bundle of 7</td>\n",
              "      <td>3</td>\n",
              "      <td>Soffe</td>\n",
              "      <td>6.0</td>\n",
              "      <td>1</td>\n",
              "      <td>You get three pairs of Sophie cheer shorts siz...</td>\n",
              "      <td>Sports &amp; Outdoors</td>\n",
              "      <td>Apparel</td>\n",
              "      <td>Girls</td>\n",
              "    </tr>\n",
              "    <tr>\n",
              "      <th>8</th>\n",
              "      <td>Girls Nike Pro shorts</td>\n",
              "      <td>3</td>\n",
              "      <td>Nike</td>\n",
              "      <td>19.0</td>\n",
              "      <td>0</td>\n",
              "      <td>Girls Size small Plus green. Three shorts total.</td>\n",
              "      <td>Sports &amp; Outdoors</td>\n",
              "      <td>Apparel</td>\n",
              "      <td>Girls</td>\n",
              "    </tr>\n",
              "  </tbody>\n",
              "</table>\n",
              "</div>"
            ],
            "text/plain": [
              "                                   name  ...            subcat_2\n",
              "1      Razer BlackWidow Chroma Keyboard  ...  Components & Parts\n",
              "2                        AVA-VIV Blouse  ...              Blouse\n",
              "6    Acacia pacific tides santorini top  ...           Two-Piece\n",
              "7  Girls cheer and tumbling bundle of 7  ...               Girls\n",
              "8                 Girls Nike Pro shorts  ...               Girls\n",
              "\n",
              "[5 rows x 9 columns]"
            ]
          },
          "metadata": {
            "tags": []
          },
          "execution_count": 183
        }
      ]
    },
    {
      "cell_type": "markdown",
      "metadata": {
        "id": "0l0Qd0O4dGcu"
      },
      "source": [
        "## 1.name column >BoW>>CountVectorizer"
      ]
    },
    {
      "cell_type": "markdown",
      "metadata": {
        "id": "MZk6mLTfzyDz"
      },
      "source": [
        "The name column consists of multiple words, so the simplest vectorization method to think of, in this case, is the BoW."
      ]
    },
    {
      "cell_type": "markdown",
      "metadata": {
        "id": "7itcjaz5t3Ar"
      },
      "source": [
        "There are multiple methods to build a BoW model, including:\n",
        "\n",
        "○ Binary: Put 1/0 if the word is present/absent in\n",
        "a name/category.\n",
        "\n",
        "○ Count: Put the number of times the word is\n",
        "mentioned in a name/category.\n",
        "\n",
        "○ Freq: Normalized counts by total words counts\n",
        "\n",
        "○ TF-IDF: Normalize by the\n",
        "\n"
      ]
    },
    {
      "cell_type": "markdown",
      "metadata": {
        "id": "6LF-OOqiujDf"
      },
      "source": [
        "The **name column** can be considered categorical, so I will try using both binary and count vectorizer and compare the results.\n",
        "\n",
        "The **item_description column**, however, consists of sentences, which makes us think about giving larger values for words that repeat alot within the description, constrained by the repitions in the entire corpus. For example, a word like \"great\" should indicate higher prices, but a word like \"the\" shouldn't affect the price at all.\n",
        "To make the model understand this, I'll use TF-IDF for that column.\n",
        "\n",
        "In the following categorical columns: **general_category, subcat_1, subcat_2, brand_name**: each value is represented by 1-2 words and the number of unique values is limited, so using 1-hot encoding makes more sense than BoW.\n",
        "\n",
        "*A question that might come to mind*: if the name column can be considered categorical, why not just use 1-hot encoding? \n",
        "\n",
        "the answer is: in OHE, each word is represented by a sparse array with a length=number of unique items in the column, which in this case equals 695132!! this will consume ALOT of memory!\n",
        "On the contrary, in the BoW model, each row is represented by a length=number of words in that row."
      ]
    },
    {
      "cell_type": "code",
      "metadata": {
        "id": "MHKc4DLDdL3a"
      },
      "source": [
        "from sklearn.feature_extraction.text import CountVectorizer, HashingVectorizer, TfidfTransformer"
      ],
      "execution_count": null,
      "outputs": []
    },
    {
      "cell_type": "markdown",
      "metadata": {
        "id": "jWjSSK2NdWeR"
      },
      "source": [
        "The CountVectorizer provides a simple way to both tokenize a collection of text documents and build a vocabulary of known words\n",
        "- punctuation is completely ignored and always treated as a token separator\n",
        "- The matrix is (CSR) (Compressed Sparse Row), which is more compact representation for matrices with many zeros. The BoW is very sparse, it's a good way to represent it. You can easily recover the array when needed using toarray()\n"
      ]
    },
    {
      "cell_type": "code",
      "metadata": {
        "colab": {
          "base_uri": "https://localhost:8080/",
          "height": 293
        },
        "id": "2Kms-9WYdkml",
        "outputId": "55d36527-a7c4-42ba-89de-ee4e99a323af"
      },
      "source": [
        "train_data.head()"
      ],
      "execution_count": null,
      "outputs": [
        {
          "output_type": "execute_result",
          "data": {
            "text/html": [
              "<div>\n",
              "<style scoped>\n",
              "    .dataframe tbody tr th:only-of-type {\n",
              "        vertical-align: middle;\n",
              "    }\n",
              "\n",
              "    .dataframe tbody tr th {\n",
              "        vertical-align: top;\n",
              "    }\n",
              "\n",
              "    .dataframe thead th {\n",
              "        text-align: right;\n",
              "    }\n",
              "</style>\n",
              "<table border=\"1\" class=\"dataframe\">\n",
              "  <thead>\n",
              "    <tr style=\"text-align: right;\">\n",
              "      <th></th>\n",
              "      <th>name</th>\n",
              "      <th>item_condition_id</th>\n",
              "      <th>brand_name</th>\n",
              "      <th>price</th>\n",
              "      <th>shipping</th>\n",
              "      <th>item_description</th>\n",
              "      <th>general_cat</th>\n",
              "      <th>subcat_1</th>\n",
              "      <th>subcat_2</th>\n",
              "    </tr>\n",
              "  </thead>\n",
              "  <tbody>\n",
              "    <tr>\n",
              "      <th>1</th>\n",
              "      <td>Razer BlackWidow Chroma Keyboard</td>\n",
              "      <td>3</td>\n",
              "      <td>Razer</td>\n",
              "      <td>52.0</td>\n",
              "      <td>0</td>\n",
              "      <td>This keyboard is in great condition and works ...</td>\n",
              "      <td>Electronics</td>\n",
              "      <td>Computers &amp; Tablets</td>\n",
              "      <td>Components &amp; Parts</td>\n",
              "    </tr>\n",
              "    <tr>\n",
              "      <th>2</th>\n",
              "      <td>AVA-VIV Blouse</td>\n",
              "      <td>1</td>\n",
              "      <td>Target</td>\n",
              "      <td>10.0</td>\n",
              "      <td>1</td>\n",
              "      <td>Adorable top with a hint of lace and a key hol...</td>\n",
              "      <td>Women</td>\n",
              "      <td>Tops &amp; Blouses</td>\n",
              "      <td>Blouse</td>\n",
              "    </tr>\n",
              "    <tr>\n",
              "      <th>6</th>\n",
              "      <td>Acacia pacific tides santorini top</td>\n",
              "      <td>3</td>\n",
              "      <td>Acacia Swimwear</td>\n",
              "      <td>64.0</td>\n",
              "      <td>0</td>\n",
              "      <td>Size small but straps slightly shortened to fi...</td>\n",
              "      <td>Women</td>\n",
              "      <td>Swimwear</td>\n",
              "      <td>Two-Piece</td>\n",
              "    </tr>\n",
              "    <tr>\n",
              "      <th>7</th>\n",
              "      <td>Girls cheer and tumbling bundle of 7</td>\n",
              "      <td>3</td>\n",
              "      <td>Soffe</td>\n",
              "      <td>6.0</td>\n",
              "      <td>1</td>\n",
              "      <td>You get three pairs of Sophie cheer shorts siz...</td>\n",
              "      <td>Sports &amp; Outdoors</td>\n",
              "      <td>Apparel</td>\n",
              "      <td>Girls</td>\n",
              "    </tr>\n",
              "    <tr>\n",
              "      <th>8</th>\n",
              "      <td>Girls Nike Pro shorts</td>\n",
              "      <td>3</td>\n",
              "      <td>Nike</td>\n",
              "      <td>19.0</td>\n",
              "      <td>0</td>\n",
              "      <td>Girls Size small Plus green. Three shorts total.</td>\n",
              "      <td>Sports &amp; Outdoors</td>\n",
              "      <td>Apparel</td>\n",
              "      <td>Girls</td>\n",
              "    </tr>\n",
              "  </tbody>\n",
              "</table>\n",
              "</div>"
            ],
            "text/plain": [
              "                                   name  ...            subcat_2\n",
              "1      Razer BlackWidow Chroma Keyboard  ...  Components & Parts\n",
              "2                        AVA-VIV Blouse  ...              Blouse\n",
              "6    Acacia pacific tides santorini top  ...           Two-Piece\n",
              "7  Girls cheer and tumbling bundle of 7  ...               Girls\n",
              "8                 Girls Nike Pro shorts  ...               Girls\n",
              "\n",
              "[5 rows x 9 columns]"
            ]
          },
          "metadata": {
            "tags": []
          },
          "execution_count": 185
        }
      ]
    },
    {
      "cell_type": "code",
      "metadata": {
        "colab": {
          "base_uri": "https://localhost:8080/"
        },
        "id": "fWqBlhSRgUaB",
        "outputId": "f8ad5260-29e3-4df6-86da-7ceac8d212c3"
      },
      "source": [
        "train_data.shape"
      ],
      "execution_count": null,
      "outputs": [
        {
          "output_type": "execute_result",
          "data": {
            "text/plain": [
              "(846453, 9)"
            ]
          },
          "metadata": {
            "tags": []
          },
          "execution_count": 186
        }
      ]
    },
    {
      "cell_type": "code",
      "metadata": {
        "id": "G_IBzYMZ7goU"
      },
      "source": [
        "bow_cv = CountVectorizer(stop_words=None)\n",
        "x_name_cv = bow_cv.fit_transform(train_data[\"name\"])"
      ],
      "execution_count": null,
      "outputs": []
    },
    {
      "cell_type": "code",
      "metadata": {
        "colab": {
          "base_uri": "https://localhost:8080/"
        },
        "id": "wtgRr_x1gMTO",
        "outputId": "7dc16242-c678-4cee-e419-838f9bec6d73"
      },
      "source": [
        "x_name_cv.shape"
      ],
      "execution_count": null,
      "outputs": [
        {
          "output_type": "execute_result",
          "data": {
            "text/plain": [
              "(846453, 63763)"
            ]
          },
          "metadata": {
            "tags": []
          },
          "execution_count": 188
        }
      ]
    },
    {
      "cell_type": "code",
      "metadata": {
        "id": "KjYyEwETdbST"
      },
      "source": [
        "# train_data[\"general_category\"].nunique()"
      ],
      "execution_count": null,
      "outputs": []
    },
    {
      "cell_type": "markdown",
      "metadata": {
        "id": "zLG678MRpcj6"
      },
      "source": [
        "##2.item_description>>BoW>>TFIDF"
      ]
    },
    {
      "cell_type": "markdown",
      "metadata": {
        "id": "3JO4GAdh7ohr"
      },
      "source": [
        "I'll use the TFIDF because in the item_description, we want the words with the highest occurance in a sentence(constrained by highest occur. across all corpus, ignoring stop words)to contribute the most to the price prediction."
      ]
    },
    {
      "cell_type": "code",
      "metadata": {
        "id": "1Y_0t74KrxTW"
      },
      "source": [
        "from sklearn.feature_extraction.text import TfidfVectorizer\n",
        "bow_tf = TfidfVectorizer(stop_words=\"english\", ngram_range=(1,1))"
      ],
      "execution_count": null,
      "outputs": []
    },
    {
      "cell_type": "markdown",
      "metadata": {
        "id": "vJPKhDjFnLrB"
      },
      "source": [
        "the  ngram_range parameter \n",
        "\n",
        "For  example,an ngram_range range =(1,2) applied to the following text\n",
        ": \"red sun, pink candy. Green flower.\"\n",
        "will produce the  following output when calling get_feature_names():\n",
        "\n",
        "['candy', 'candy green', 'green', 'green flower' , 'pink', 'pink candy', 'red', 'red sun', 'sun', 'sun pink']\n",
        "\n",
        "The default  is(1,1) but if we consider only unigrams in the given data, then the single word cannot convey the details properly. \n",
        "For example, \"size   small\"  gives more info. than size,small separaetely.\n",
        "But this increases the vocab size,so keep this trade-off in your mind.\n"
      ]
    },
    {
      "cell_type": "code",
      "metadata": {
        "id": "Q9s36jPUrx0J"
      },
      "source": [
        "#bow_tf.get_stop_words()"
      ],
      "execution_count": null,
      "outputs": []
    },
    {
      "cell_type": "code",
      "metadata": {
        "id": "_a-jiUP1pzO-"
      },
      "source": [
        "\n",
        "x_descr_tfidf = bow_tf.fit_transform(train_data[\"item_description\"])"
      ],
      "execution_count": null,
      "outputs": []
    },
    {
      "cell_type": "code",
      "metadata": {
        "colab": {
          "base_uri": "https://localhost:8080/"
        },
        "id": "nGR6Icz2nK0x",
        "outputId": "4cc62792-ee41-4bb1-a825-95b9f2321d85"
      },
      "source": [
        "x_descr_tfidf.shape"
      ],
      "execution_count": null,
      "outputs": [
        {
          "output_type": "execute_result",
          "data": {
            "text/plain": [
              "(846453, 102524)"
            ]
          },
          "metadata": {
            "tags": []
          },
          "execution_count": 193
        }
      ]
    },
    {
      "cell_type": "code",
      "metadata": {
        "id": "3jvH17vaBpjc"
      },
      "source": [
        "#x_descr_cv.shape"
      ],
      "execution_count": null,
      "outputs": []
    },
    {
      "cell_type": "code",
      "metadata": {
        "id": "-bu5HuYNqETX"
      },
      "source": [
        "# x_descr_cv.shape"
      ],
      "execution_count": null,
      "outputs": []
    },
    {
      "cell_type": "markdown",
      "metadata": {
        "id": "FZ9fYFFxEu9M"
      },
      "source": [
        "## 3.brand_name, category_>>1-hot encoding"
      ]
    },
    {
      "cell_type": "markdown",
      "metadata": {
        "id": "Yi74PWxZEtSU"
      },
      "source": [
        " The disadvantage of using sklearn's OneHotEncoder is that for high cardinality(multiple uniqe values), the feature space can really blow up quickly and you start fighting with the curse of dimensionality.This is why I'll use   LabelBinarizer.\n",
        "explanation: in OneHotEncoder, each row is represented by a matrix with length = SUM of lengths of unique items of each feature.\n",
        "You can find an example on the sklearn website: https://scikit-learn.org/stable/modules/generated/sklearn.preprocessing.OneHotEncoder.html\n",
        "\n",
        "***But  what is  a sparse matrix?***\n",
        "the output is a SciPy sparse matrix, instead of a NumPy array(it's the default in OneHotEncoder, and with sparse_output=True in LabelBinarizer).  After one\u0002hot encoding we get a matrix with thousands of columns, and the matrix is full of\n",
        "zeros except for one 1 per row. Using up tons of memory mostly to store zeros would\n",
        "be very wasteful, **so instead a sparse matrix only stores the location of the nonzero\n",
        "elements**. This is very\n",
        "useful when you have categorical attributes with thousands of categories."
      ]
    },
    {
      "cell_type": "markdown",
      "metadata": {
        "id": "zCAW2iMp61sY"
      },
      "source": [
        "what does OHE return if the input is multiple columns?"
      ]
    },
    {
      "cell_type": "code",
      "metadata": {
        "id": "QB1gF9upJHTE"
      },
      "source": [
        "from sklearn.preprocessing import LabelBinarizer,  OneHotEncoder"
      ],
      "execution_count": null,
      "outputs": []
    },
    {
      "cell_type": "code",
      "metadata": {
        "colab": {
          "base_uri": "https://localhost:8080/",
          "height": 293
        },
        "id": "x9ZwYZG-OhTu",
        "outputId": "8ba05634-a1cd-4482-ee5b-d7777b4aa433"
      },
      "source": [
        "train_data.head()"
      ],
      "execution_count": null,
      "outputs": [
        {
          "output_type": "execute_result",
          "data": {
            "text/html": [
              "<div>\n",
              "<style scoped>\n",
              "    .dataframe tbody tr th:only-of-type {\n",
              "        vertical-align: middle;\n",
              "    }\n",
              "\n",
              "    .dataframe tbody tr th {\n",
              "        vertical-align: top;\n",
              "    }\n",
              "\n",
              "    .dataframe thead th {\n",
              "        text-align: right;\n",
              "    }\n",
              "</style>\n",
              "<table border=\"1\" class=\"dataframe\">\n",
              "  <thead>\n",
              "    <tr style=\"text-align: right;\">\n",
              "      <th></th>\n",
              "      <th>name</th>\n",
              "      <th>item_condition_id</th>\n",
              "      <th>brand_name</th>\n",
              "      <th>price</th>\n",
              "      <th>shipping</th>\n",
              "      <th>item_description</th>\n",
              "      <th>general_cat</th>\n",
              "      <th>subcat_1</th>\n",
              "      <th>subcat_2</th>\n",
              "    </tr>\n",
              "  </thead>\n",
              "  <tbody>\n",
              "    <tr>\n",
              "      <th>1</th>\n",
              "      <td>Razer BlackWidow Chroma Keyboard</td>\n",
              "      <td>3</td>\n",
              "      <td>Razer</td>\n",
              "      <td>52.0</td>\n",
              "      <td>0</td>\n",
              "      <td>This keyboard is in great condition and works ...</td>\n",
              "      <td>Electronics</td>\n",
              "      <td>Computers &amp; Tablets</td>\n",
              "      <td>Components &amp; Parts</td>\n",
              "    </tr>\n",
              "    <tr>\n",
              "      <th>2</th>\n",
              "      <td>AVA-VIV Blouse</td>\n",
              "      <td>1</td>\n",
              "      <td>Target</td>\n",
              "      <td>10.0</td>\n",
              "      <td>1</td>\n",
              "      <td>Adorable top with a hint of lace and a key hol...</td>\n",
              "      <td>Women</td>\n",
              "      <td>Tops &amp; Blouses</td>\n",
              "      <td>Blouse</td>\n",
              "    </tr>\n",
              "    <tr>\n",
              "      <th>6</th>\n",
              "      <td>Acacia pacific tides santorini top</td>\n",
              "      <td>3</td>\n",
              "      <td>Acacia Swimwear</td>\n",
              "      <td>64.0</td>\n",
              "      <td>0</td>\n",
              "      <td>Size small but straps slightly shortened to fi...</td>\n",
              "      <td>Women</td>\n",
              "      <td>Swimwear</td>\n",
              "      <td>Two-Piece</td>\n",
              "    </tr>\n",
              "    <tr>\n",
              "      <th>7</th>\n",
              "      <td>Girls cheer and tumbling bundle of 7</td>\n",
              "      <td>3</td>\n",
              "      <td>Soffe</td>\n",
              "      <td>6.0</td>\n",
              "      <td>1</td>\n",
              "      <td>You get three pairs of Sophie cheer shorts siz...</td>\n",
              "      <td>Sports &amp; Outdoors</td>\n",
              "      <td>Apparel</td>\n",
              "      <td>Girls</td>\n",
              "    </tr>\n",
              "    <tr>\n",
              "      <th>8</th>\n",
              "      <td>Girls Nike Pro shorts</td>\n",
              "      <td>3</td>\n",
              "      <td>Nike</td>\n",
              "      <td>19.0</td>\n",
              "      <td>0</td>\n",
              "      <td>Girls Size small Plus green. Three shorts total.</td>\n",
              "      <td>Sports &amp; Outdoors</td>\n",
              "      <td>Apparel</td>\n",
              "      <td>Girls</td>\n",
              "    </tr>\n",
              "  </tbody>\n",
              "</table>\n",
              "</div>"
            ],
            "text/plain": [
              "                                   name  ...            subcat_2\n",
              "1      Razer BlackWidow Chroma Keyboard  ...  Components & Parts\n",
              "2                        AVA-VIV Blouse  ...              Blouse\n",
              "6    Acacia pacific tides santorini top  ...           Two-Piece\n",
              "7  Girls cheer and tumbling bundle of 7  ...               Girls\n",
              "8                 Girls Nike Pro shorts  ...               Girls\n",
              "\n",
              "[5 rows x 9 columns]"
            ]
          },
          "metadata": {
            "tags": []
          },
          "execution_count": 197
        }
      ]
    },
    {
      "cell_type": "markdown",
      "metadata": {
        "id": "FF2mYhdQSIz_"
      },
      "source": [
        "###  inspecting the difference   between LabelBinarizer and OneHotEncoder:"
      ]
    },
    {
      "cell_type": "code",
      "metadata": {
        "colab": {
          "base_uri": "https://localhost:8080/"
        },
        "id": "bpLeiJFu_r8R",
        "outputId": "c6f64e48-9356-4666-d267-2072a9073044"
      },
      "source": [
        "cat_1h =  OneHotEncoder()\n",
        "cat_1h.fit_transform(train_data[[\"general_cat\",  \"subcat_1\", \"subcat_2\"]])"
      ],
      "execution_count": null,
      "outputs": [
        {
          "output_type": "execute_result",
          "data": {
            "text/plain": [
              "<846453x783 sparse matrix of type '<class 'numpy.float64'>'\n",
              "\twith 2539359 stored elements in Compressed Sparse Row format>"
            ]
          },
          "metadata": {
            "tags": []
          },
          "execution_count": 198
        }
      ]
    },
    {
      "cell_type": "code",
      "metadata": {
        "colab": {
          "base_uri": "https://localhost:8080/"
        },
        "id": "V8_gH_AtPs14",
        "outputId": "38e548b0-c436-4c52-ae3d-0398f93a94fc"
      },
      "source": [
        "cat_1h =  LabelBinarizer(sparse_output=True)\n",
        "cat_1h.fit_transform(train_data[[\"general_cat\"]])"
      ],
      "execution_count": null,
      "outputs": [
        {
          "output_type": "execute_result",
          "data": {
            "text/plain": [
              "<846453x10 sparse matrix of type '<class 'numpy.int64'>'\n",
              "\twith 846453 stored elements in Compressed Sparse Row format>"
            ]
          },
          "metadata": {
            "tags": []
          },
          "execution_count": 199
        }
      ]
    },
    {
      "cell_type": "code",
      "metadata": {
        "colab": {
          "base_uri": "https://localhost:8080/"
        },
        "id": "-ZLtdJ36PzMZ",
        "outputId": "835749b0-d2ea-47a2-a8b1-0d7263848d3d"
      },
      "source": [
        "\n",
        "cat_1h =  LabelBinarizer(sparse_output=True)\n",
        "cat_1h.fit_transform(train_data[[\"subcat_1\"]])"
      ],
      "execution_count": null,
      "outputs": [
        {
          "output_type": "execute_result",
          "data": {
            "text/plain": [
              "<846453x104 sparse matrix of type '<class 'numpy.int64'>'\n",
              "\twith 846453 stored elements in Compressed Sparse Row format>"
            ]
          },
          "metadata": {
            "tags": []
          },
          "execution_count": 200
        }
      ]
    },
    {
      "cell_type": "code",
      "metadata": {
        "colab": {
          "base_uri": "https://localhost:8080/"
        },
        "id": "MpfAgxbKP5_C",
        "outputId": "894717c7-a844-4cc4-99ba-cfb8430cb6c5"
      },
      "source": [
        "\n",
        "cat_1h =  LabelBinarizer(sparse_output=True)\n",
        "cat_1h.fit_transform(train_data[[\"subcat_2\"]])"
      ],
      "execution_count": null,
      "outputs": [
        {
          "output_type": "execute_result",
          "data": {
            "text/plain": [
              "<846453x669 sparse matrix of type '<class 'numpy.int64'>'\n",
              "\twith 846453 stored elements in Compressed Sparse Row format>"
            ]
          },
          "metadata": {
            "tags": []
          },
          "execution_count": 201
        }
      ]
    },
    {
      "cell_type": "markdown",
      "metadata": {
        "id": "5zBBiCDwQN3x"
      },
      "source": [
        "As we can see, LabelBinarizer   stores the result  as innt64, while OneHotEncoder  stores it  as  float64.>> **using  LabelBinarizer  to save  memory**"
      ]
    },
    {
      "cell_type": "markdown",
      "metadata": {
        "id": "Tcq6NSpIa_Rr"
      },
      "source": [
        "### brand_name"
      ]
    },
    {
      "cell_type": "code",
      "metadata": {
        "id": "bK-ef85Islue"
      },
      "source": [
        "lbl = LabelBinarizer(sparse_output=True)\n",
        "#True if the returned array from transform is desired to be in sparse CSR format\n",
        "x_brand_lb=lbl.fit_transform(train_data[\"brand_name\"])"
      ],
      "execution_count": null,
      "outputs": []
    },
    {
      "cell_type": "code",
      "metadata": {
        "colab": {
          "base_uri": "https://localhost:8080/"
        },
        "id": "AqVJ8DxhJkxg",
        "outputId": "cc16464d-7a3b-4b5a-bd44-257b18480426"
      },
      "source": [
        "x_brand_lb.shape"
      ],
      "execution_count": null,
      "outputs": [
        {
          "output_type": "execute_result",
          "data": {
            "text/plain": [
              "(846453, 4789)"
            ]
          },
          "metadata": {
            "tags": []
          },
          "execution_count": 203
        }
      ]
    },
    {
      "cell_type": "markdown",
      "metadata": {
        "id": "f-5z24WYbb4G"
      },
      "source": [
        "### general_category"
      ]
    },
    {
      "cell_type": "code",
      "metadata": {
        "id": "olrx7wJybHlN"
      },
      "source": [
        "lbl = LabelBinarizer(sparse_output=True)\n",
        "#True if the returned array from transform is desired to be in sparse CSR format\n",
        "x_general_cat_lb=lbl.fit_transform(train_data[\"general_cat\"])"
      ],
      "execution_count": null,
      "outputs": []
    },
    {
      "cell_type": "code",
      "metadata": {
        "colab": {
          "base_uri": "https://localhost:8080/"
        },
        "id": "hJV8wtGUb2_m",
        "outputId": "e1b58c98-78a3-4909-d87d-852970b77b87"
      },
      "source": [
        "x_general_cat_lb.shape"
      ],
      "execution_count": null,
      "outputs": [
        {
          "output_type": "execute_result",
          "data": {
            "text/plain": [
              "(846453, 10)"
            ]
          },
          "metadata": {
            "tags": []
          },
          "execution_count": 205
        }
      ]
    },
    {
      "cell_type": "markdown",
      "metadata": {
        "id": "0_PAmpRbbvQN"
      },
      "source": [
        "### subcat_1"
      ]
    },
    {
      "cell_type": "code",
      "metadata": {
        "id": "td0ODCWDbolv"
      },
      "source": [
        "lbl = LabelBinarizer(sparse_output=True)\n",
        "#True if the returned array from transform is desired to be in sparse CSR format\n",
        "x_subcat_1_lb=lbl.fit_transform(train_data[\"subcat_1\"])"
      ],
      "execution_count": null,
      "outputs": []
    },
    {
      "cell_type": "code",
      "metadata": {
        "colab": {
          "base_uri": "https://localhost:8080/"
        },
        "id": "bzOzZscsk8nK",
        "outputId": "0c63dd87-28f5-4e6c-a550-7e934c58c09e"
      },
      "source": [
        "x_subcat_1_lb.shape"
      ],
      "execution_count": null,
      "outputs": [
        {
          "output_type": "execute_result",
          "data": {
            "text/plain": [
              "(846453, 104)"
            ]
          },
          "metadata": {
            "tags": []
          },
          "execution_count": 207
        }
      ]
    },
    {
      "cell_type": "markdown",
      "metadata": {
        "id": "phvnfBtNbxee"
      },
      "source": [
        "### subcat_2"
      ]
    },
    {
      "cell_type": "code",
      "metadata": {
        "id": "9Pt7-kaDbyPv"
      },
      "source": [
        "lbl = LabelBinarizer(sparse_output=True)\n",
        "#True if the returned array from transform is desired to be in sparse CSR format\n",
        "x_subcat_2_lb=lbl.fit_transform(train_data[\"subcat_2\"])"
      ],
      "execution_count": null,
      "outputs": []
    },
    {
      "cell_type": "code",
      "metadata": {
        "colab": {
          "base_uri": "https://localhost:8080/"
        },
        "id": "sX00FGwQlAAL",
        "outputId": "563bc498-77bc-4d79-9803-8180c16adaff"
      },
      "source": [
        "x_subcat_2_lb.shape"
      ],
      "execution_count": null,
      "outputs": [
        {
          "output_type": "execute_result",
          "data": {
            "text/plain": [
              "(846453, 669)"
            ]
          },
          "metadata": {
            "tags": []
          },
          "execution_count": 209
        }
      ]
    },
    {
      "cell_type": "markdown",
      "metadata": {
        "id": "wVT-5lWVbIQj"
      },
      "source": [
        "##  4. item_condition_id  and shipping"
      ]
    },
    {
      "cell_type": "markdown",
      "metadata": {
        "id": "-Y50PRKfeoQu"
      },
      "source": [
        "shipping is a binary,categorical variable, while item_condition_id is an ordinal, numerical variable. \n",
        "we can use StandardScaler with item_condition_id, while\n",
        "shipping should be 1 hot encoded since its also a categorical variable(1 here means \"shipped\" and 0 means \" not shipped\")"
      ]
    },
    {
      "cell_type": "code",
      "metadata": {
        "id": "8TLdCh61irYp"
      },
      "source": [
        "\n",
        "train_data[\"shipping\"] = train_data[\"shipping\"].astype(\"category\")"
      ],
      "execution_count": null,
      "outputs": []
    },
    {
      "cell_type": "code",
      "metadata": {
        "id": "HuugaZdieoip"
      },
      "source": [
        "lbl = LabelBinarizer(sparse_output=True)\n",
        "#True if the returned array from transform is desired to be in sparse CSR format\n",
        "x_shipping_lb=lbl.fit_transform(train_data[\"shipping\"])"
      ],
      "execution_count": null,
      "outputs": []
    },
    {
      "cell_type": "code",
      "metadata": {
        "colab": {
          "base_uri": "https://localhost:8080/"
        },
        "id": "e8iq67Gsk1yZ",
        "outputId": "93e77c5c-756b-4f48-dc54-69df0edaee9a"
      },
      "source": [
        "x_shipping_lb.shape"
      ],
      "execution_count": null,
      "outputs": [
        {
          "output_type": "execute_result",
          "data": {
            "text/plain": [
              "(846453, 1)"
            ]
          },
          "metadata": {
            "tags": []
          },
          "execution_count": 212
        }
      ]
    },
    {
      "cell_type": "code",
      "metadata": {
        "colab": {
          "base_uri": "https://localhost:8080/"
        },
        "id": "Y_YbhuE7euDU",
        "outputId": "34abad11-38b9-40f2-b339-4e684ca7de5d"
      },
      "source": [
        "x_shipping_lb[0]"
      ],
      "execution_count": null,
      "outputs": [
        {
          "output_type": "execute_result",
          "data": {
            "text/plain": [
              "<1x1 sparse matrix of type '<class 'numpy.int64'>'\n",
              "\twith 0 stored elements in Compressed Sparse Row format>"
            ]
          },
          "metadata": {
            "tags": []
          },
          "execution_count": 213
        }
      ]
    },
    {
      "cell_type": "code",
      "metadata": {
        "colab": {
          "base_uri": "https://localhost:8080/"
        },
        "id": "HtqDli7Uii2N",
        "outputId": "4be07ead-38ab-435c-ea4c-91960bf1879b"
      },
      "source": [
        "train_data[\"item_condition_id\"].values"
      ],
      "execution_count": null,
      "outputs": [
        {
          "output_type": "execute_result",
          "data": {
            "text/plain": [
              "array([3, 1, 3, ..., 2, 2, 2])"
            ]
          },
          "metadata": {
            "tags": []
          },
          "execution_count": 214
        }
      ]
    },
    {
      "cell_type": "code",
      "metadata": {
        "id": "9DDjI_KGlVxr"
      },
      "source": [
        " from sklearn.preprocessing import StandardScaler\n",
        " scaler = StandardScaler()\n",
        " x_item_condition_id_lb=scaler.fit_transform(train_data[\"item_condition_id\"].values.reshape(-1, 1))"
      ],
      "execution_count": null,
      "outputs": []
    },
    {
      "cell_type": "code",
      "metadata": {
        "id": "FW8jw9chg31g"
      },
      "source": [
        "# x_item_condition_id_lb_t = x_item_condition_id_lb.transpose()"
      ],
      "execution_count": null,
      "outputs": []
    },
    {
      "cell_type": "code",
      "metadata": {
        "colab": {
          "base_uri": "https://localhost:8080/"
        },
        "id": "zN4Nz2znlo_H",
        "outputId": "286aea1d-e2c6-465a-aa7b-5b712c9296da"
      },
      "source": [
        "x_item_condition_id_lb.shape"
      ],
      "execution_count": null,
      "outputs": [
        {
          "output_type": "execute_result",
          "data": {
            "text/plain": [
              "(846453, 1)"
            ]
          },
          "metadata": {
            "tags": []
          },
          "execution_count": 220
        }
      ]
    },
    {
      "cell_type": "markdown",
      "metadata": {
        "id": "vjvyG5OBkXPC"
      },
      "source": [
        "## Putting it all together"
      ]
    },
    {
      "cell_type": "code",
      "metadata": {
        "id": "t5N4I48gJdeZ"
      },
      "source": [
        "from scipy.sparse import csr_matrix, hstack"
      ],
      "execution_count": null,
      "outputs": []
    },
    {
      "cell_type": "markdown",
      "metadata": {
        "id": "Uq5SxY1MPYjW"
      },
      "source": [
        "https://www.kaggle.com/tunguz/more-effective-ridge-lgbm-script-lb-0-44823"
      ]
    },
    {
      "cell_type": "code",
      "metadata": {
        "id": "EeHGZEKmOgSY"
      },
      "source": [
        "train_data.info()"
      ],
      "execution_count": null,
      "outputs": []
    },
    {
      "cell_type": "code",
      "metadata": {
        "id": "eW7HPmqCNn_7"
      },
      "source": [
        "x=hstack(( x_item_condition_id_lb,\n",
        "          x_shipping_lb,\n",
        "          x_general_cat_lb,\n",
        "          x_subcat_1_lb,\n",
        "          x_subcat_2_lb,\n",
        "          x_brand_lb,\n",
        "          x_descr_tfidf,\n",
        "          x_name_cv\n",
        ")).tocsr()"
      ],
      "execution_count": null,
      "outputs": []
    },
    {
      "cell_type": "code",
      "metadata": {
        "colab": {
          "base_uri": "https://localhost:8080/"
        },
        "id": "_Wnx87M9niHM",
        "outputId": "a44e1427-b3d2-4792-cb7c-ad1987f38b34"
      },
      "source": [
        "x.shape"
      ],
      "execution_count": null,
      "outputs": [
        {
          "output_type": "execute_result",
          "data": {
            "text/plain": [
              "(846453, 171861)"
            ]
          },
          "metadata": {
            "tags": []
          },
          "execution_count": 228
        }
      ]
    },
    {
      "cell_type": "markdown",
      "metadata": {
        "id": "6HPzXp3anjP4"
      },
      "source": [
        ""
      ]
    },
    {
      "cell_type": "markdown",
      "metadata": {
        "id": "y-PQta0chNiO"
      },
      "source": [
        "# Model"
      ]
    },
    {
      "cell_type": "markdown",
      "metadata": {
        "id": "eQhfSBtwhOxJ"
      },
      "source": [
        "## Ridge regression"
      ]
    },
    {
      "cell_type": "markdown",
      "metadata": {
        "id": "S4AfwDMth0ky"
      },
      "source": [
        "Ridge Regression\n",
        "Ridge Regression (also called Tikhonov regularization) is a regularized version of Lin‐\n",
        "ear Regression: a regularization term \n",
        " is added to the cost function. \n",
        "This forces the learning algorithm to not only fit the data but also keep the model\n",
        "weights as small as possible. Note that the regularization term should only be added\n",
        "to the cost function during training. Once the model is trained, you want to evaluate\n",
        "the model’s performance using the unregularized performance measure.\n",
        "\n",
        "**It is important to scale the data (e.g., using a StandardScaler) \n",
        "before performing Ridge Regression, as it is sensitive to the scale of\n",
        "the input features. This is true of most regularized models.**"
      ]
    },
    {
      "cell_type": "markdown",
      "metadata": {
        "id": "dhywFJh4iDv0"
      },
      "source": [
        " The main advantage of Ridge Regression is its speed (~ 10 minutes). One notable observation is that Ridge was a lot faster than LASSO since L2 loss is much easier to optimize compared with L1 loss.\n",
        "\n"
      ]
    },
    {
      "cell_type": "code",
      "metadata": {
        "id": "ZpT1tyYPgce2"
      },
      "source": [
        "from sklearn.model_selection import train_test_split"
      ],
      "execution_count": null,
      "outputs": []
    },
    {
      "cell_type": "code",
      "metadata": {
        "id": "05mtSfMVhMim"
      },
      "source": [
        "\n",
        "x_train, x_val, y_train, y_val = train_test_split(x, y, test_size = 0.2)"
      ],
      "execution_count": null,
      "outputs": []
    },
    {
      "cell_type": "code",
      "metadata": {
        "id": "XwscSyvNmp8G"
      },
      "source": [
        "\n",
        "from sklearn.linear_model import Ridge\n",
        "from sklearn import metrics"
      ],
      "execution_count": null,
      "outputs": []
    },
    {
      "cell_type": "code",
      "metadata": {
        "id": "OB7r0w80nqZw"
      },
      "source": [
        "ridge = Ridge(solver = \"lsqr\", fit_intercept=False)\n",
        "#solver = \"lsqr\" uses the dedicated regularized least-squares routine scipy.sparse.linalg.lsqr. It is the fastest and uses an iterative procedure."
      ],
      "execution_count": null,
      "outputs": []
    },
    {
      "cell_type": "code",
      "metadata": {
        "colab": {
          "base_uri": "https://localhost:8080/"
        },
        "id": "VflIZmXTnzgY",
        "outputId": "2e99d4cc-84b2-4a33-fe88-2465591a7604"
      },
      "source": [
        "ridge.fit(x_train, y_train)"
      ],
      "execution_count": null,
      "outputs": [
        {
          "output_type": "execute_result",
          "data": {
            "text/plain": [
              "Ridge(alpha=1.0, copy_X=True, fit_intercept=False, max_iter=None,\n",
              "      normalize=False, random_state=None, solver='lsqr', tol=0.001)"
            ]
          },
          "metadata": {
            "tags": []
          },
          "execution_count": 231
        }
      ]
    },
    {
      "cell_type": "markdown",
      "metadata": {
        "id": "jZggicxPoEVy"
      },
      "source": [
        "12 seconds"
      ]
    },
    {
      "cell_type": "code",
      "metadata": {
        "id": "4MZLhikJn_w4"
      },
      "source": [
        "y_pred_ridge = ridge.predict(x_val)"
      ],
      "execution_count": null,
      "outputs": []
    },
    {
      "cell_type": "code",
      "metadata": {
        "colab": {
          "base_uri": "https://localhost:8080/"
        },
        "id": "albkA6eboJzD",
        "outputId": "ef783648-df76-45dc-c497-7cd77a29eaac"
      },
      "source": [
        "\n",
        "print('Mean Squared Error:', metrics.mean_squared_error(y_val, y_pred_ridge))"
      ],
      "execution_count": null,
      "outputs": [
        {
          "output_type": "stream",
          "text": [
            "Mean Squared Error: 0.20182403053028722\n"
          ],
          "name": "stdout"
        }
      ]
    },
    {
      "cell_type": "markdown",
      "metadata": {
        "id": "SAX5gjbCo2C6"
      },
      "source": [
        "\n",
        "## Define RMSLE Error Function\n",
        "\n",
        "This is for checking the predictions. Note that the Y and Y_pred will already be in log scale by the time this is used, so no need to log them in the function.\n",
        "\n",
        "\n"
      ]
    },
    {
      "cell_type": "code",
      "metadata": {
        "id": "Xo2-FiYko5zL"
      },
      "source": [
        "def rmsle(Y, Y_pred):\n",
        "    assert Y.shape == Y_pred.shape\n",
        "    return np.sqrt(np.mean(np.square(Y_pred - Y )))"
      ],
      "execution_count": null,
      "outputs": []
    },
    {
      "cell_type": "code",
      "metadata": {
        "colab": {
          "base_uri": "https://localhost:8080/"
        },
        "id": "mVvdqbqApBkX",
        "outputId": "147bef62-1690-4ff2-b222-78156eecb8b8"
      },
      "source": [
        "print(\"RMSLE Error:\", rmsle(y_val, y_pred_ridge))"
      ],
      "execution_count": null,
      "outputs": [
        {
          "output_type": "stream",
          "text": [
            "RMSLE Error: 0.4492482949664765\n"
          ],
          "name": "stdout"
        }
      ]
    },
    {
      "cell_type": "markdown",
      "metadata": {
        "id": "CqO_kr7WkECG"
      },
      "source": [
        "# Future   work"
      ]
    },
    {
      "cell_type": "markdown",
      "metadata": {
        "id": "UFlVOydVkGEE"
      },
      "source": [
        "-The accuracy could increase by changing the ngram in the TF-IDF to (1,3).\n",
        "\n",
        "\n",
        "-I think intercations between brand and category feature interaction is key in this competition, for example the price of \"nike\" shoes are very different than the ones for a \"nike\" tshirt. Without interaction terms that can only be captured if the difference between shirt and shoe remains the same for all brands, but this is probably not the case, e.g. the price difference is probably smaller for a cheaper brand. \n",
        "\n",
        "\n",
        "In addition, the 1st place in this competition used MLP.\n",
        "A great blog that discusses this in more details:\n",
        "https://sijunhe.github.io/blog/2018/03/02/kaggle-mercari-price-suggestion-challenge/"
      ]
    },
    {
      "cell_type": "markdown",
      "metadata": {
        "id": "D98Dr-nukHkT"
      },
      "source": [
        "# Resources"
      ]
    },
    {
      "cell_type": "markdown",
      "metadata": {
        "id": "TvvOsArnkLAC"
      },
      "source": [
        "- https://www.kaggle.com/apapiu/ridge-script\n",
        "\n",
        "- 08_end_to_end_machine_learning_project.ipynb\n",
        "from Hands On Machine Learning Book.\n",
        "\n",
        "- https://www.kaggle.com/thykhuely/mercari-interactive-eda-topic-modelling"
      ]
    }
  ]
}